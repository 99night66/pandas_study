{
 "cells": [
  {
   "cell_type": "markdown",
   "metadata": {},
   "source": [
    "# pandas 基础"
   ]
  },
  {
   "cell_type": "code",
   "execution_count": 1,
   "metadata": {},
   "outputs": [],
   "source": [
    "import pandas as pd\n",
    "import numpy as np"
   ]
  },
  {
   "cell_type": "markdown",
   "metadata": {},
   "source": [
    "## dataframe 结构"
   ]
  },
  {
   "cell_type": "code",
   "execution_count": 2,
   "metadata": {},
   "outputs": [],
   "source": [
    "pd.set_option('display.max_columns', 8, 'display.max_rows', 10)"
   ]
  },
  {
   "cell_type": "code",
   "execution_count": 3,
   "metadata": {},
   "outputs": [
    {
     "data": {
      "text/html": [
       "<div>\n",
       "<style scoped>\n",
       "    .dataframe tbody tr th:only-of-type {\n",
       "        vertical-align: middle;\n",
       "    }\n",
       "\n",
       "    .dataframe tbody tr th {\n",
       "        vertical-align: top;\n",
       "    }\n",
       "\n",
       "    .dataframe thead th {\n",
       "        text-align: right;\n",
       "    }\n",
       "</style>\n",
       "<table border=\"1\" class=\"dataframe\">\n",
       "  <thead>\n",
       "    <tr style=\"text-align: right;\">\n",
       "      <th></th>\n",
       "      <th>里程</th>\n",
       "      <th>测点位置</th>\n",
       "      <th>设计宽度（mm）左</th>\n",
       "      <th>实测宽度（mm）左</th>\n",
       "      <th>...</th>\n",
       "      <th>设计宽度（mm）右</th>\n",
       "      <th>实测宽度（mm）右</th>\n",
       "      <th>差值（mm）右</th>\n",
       "      <th>director_name</th>\n",
       "    </tr>\n",
       "  </thead>\n",
       "  <tbody>\n",
       "    <tr>\n",
       "      <th>0</th>\n",
       "      <td>63316.4</td>\n",
       "      <td>A1</td>\n",
       "      <td>-3082</td>\n",
       "      <td>-3101.0</td>\n",
       "      <td>...</td>\n",
       "      <td>3082</td>\n",
       "      <td>3116</td>\n",
       "      <td>34.19</td>\n",
       "      <td>文件名称1</td>\n",
       "    </tr>\n",
       "    <tr>\n",
       "      <th>1</th>\n",
       "      <td>63316.4</td>\n",
       "      <td>A2</td>\n",
       "      <td>-4000</td>\n",
       "      <td>-4003.0</td>\n",
       "      <td>...</td>\n",
       "      <td>4000</td>\n",
       "      <td>4035</td>\n",
       "      <td>35.03</td>\n",
       "      <td>文件名称2</td>\n",
       "    </tr>\n",
       "    <tr>\n",
       "      <th>2</th>\n",
       "      <td>63316.4</td>\n",
       "      <td>A3</td>\n",
       "      <td>-3082</td>\n",
       "      <td>-3043.0</td>\n",
       "      <td>...</td>\n",
       "      <td>3082</td>\n",
       "      <td>3092</td>\n",
       "      <td>10.50</td>\n",
       "      <td>文件名称3</td>\n",
       "    </tr>\n",
       "    <tr>\n",
       "      <th>3</th>\n",
       "      <td>63318.2</td>\n",
       "      <td>A1</td>\n",
       "      <td>-3082</td>\n",
       "      <td>-3105.0</td>\n",
       "      <td>...</td>\n",
       "      <td>3082</td>\n",
       "      <td>3120</td>\n",
       "      <td>38.11</td>\n",
       "      <td>文件名称4</td>\n",
       "    </tr>\n",
       "    <tr>\n",
       "      <th>4</th>\n",
       "      <td>63318.2</td>\n",
       "      <td>A2</td>\n",
       "      <td>-4000</td>\n",
       "      <td>-3998.0</td>\n",
       "      <td>...</td>\n",
       "      <td>4000</td>\n",
       "      <td>4039</td>\n",
       "      <td>38.46</td>\n",
       "      <td>文件名称5</td>\n",
       "    </tr>\n",
       "  </tbody>\n",
       "</table>\n",
       "<p>5 rows × 9 columns</p>\n",
       "</div>"
      ],
      "text/plain": [
       "        里程 测点位置  设计宽度（mm）左  实测宽度（mm）左  ...  设计宽度（mm）右  实测宽度（mm）右  差值（mm）右  \\\n",
       "0  63316.4   A1      -3082    -3101.0  ...       3082       3116    34.19   \n",
       "1  63316.4   A2      -4000    -4003.0  ...       4000       4035    35.03   \n",
       "2  63316.4   A3      -3082    -3043.0  ...       3082       3092    10.50   \n",
       "3  63318.2   A1      -3082    -3105.0  ...       3082       3120    38.11   \n",
       "4  63318.2   A2      -4000    -3998.0  ...       4000       4039    38.46   \n",
       "\n",
       "   director_name  \n",
       "0          文件名称1  \n",
       "1          文件名称2  \n",
       "2          文件名称3  \n",
       "3          文件名称4  \n",
       "4          文件名称5  \n",
       "\n",
       "[5 rows x 9 columns]"
      ]
     },
     "execution_count": 3,
     "metadata": {},
     "output_type": "execute_result"
    }
   ],
   "source": [
    "# ⽤read_csv()方法读取csv文件\n",
    "# head()方法可以查看前五行，head(n)可以查看前n⾏\n",
    "df_report = pd.read_csv('data.csv', encoding='gb2312')\n",
    "df_report.head()"
   ]
  },
  {
   "cell_type": "markdown",
   "metadata": {},
   "source": [
    "## 访问dataframe组件"
   ]
  },
  {
   "cell_type": "code",
   "execution_count": 4,
   "metadata": {},
   "outputs": [],
   "source": [
    "# 提取列索引\n",
    "df_columns = df_report.columns\n",
    "# 提取行索引\n",
    "df_index = df_report.index\n",
    "# 提取数据\n",
    "df_data = df_report.values"
   ]
  },
  {
   "cell_type": "code",
   "execution_count": 5,
   "metadata": {},
   "outputs": [
    {
     "data": {
      "text/plain": [
       "Index(['里程', '测点位置', '设计宽度（mm）左', '实测宽度（mm）左', '差值（mm）左', '设计宽度（mm）右',\n",
       "       '实测宽度（mm）右', '差值（mm）右', 'director_name'],\n",
       "      dtype='object')"
      ]
     },
     "execution_count": 5,
     "metadata": {},
     "output_type": "execute_result"
    }
   ],
   "source": [
    "df_columns"
   ]
  },
  {
   "cell_type": "code",
   "execution_count": 6,
   "metadata": {},
   "outputs": [
    {
     "data": {
      "text/plain": [
       "RangeIndex(start=0, stop=21, step=1)"
      ]
     },
     "execution_count": 6,
     "metadata": {},
     "output_type": "execute_result"
    }
   ],
   "source": [
    "df_index"
   ]
  },
  {
   "cell_type": "code",
   "execution_count": 7,
   "metadata": {},
   "outputs": [
    {
     "data": {
      "text/plain": [
       "array([[63316.4, 'A1', -3082, -3101.0, -18.7, 3082, 3116, 34.19, '文件名称1'],\n",
       "       [63316.4, 'A2', -4000, -4003.0, -2.6, 4000, 4035, 35.03, '文件名称2'],\n",
       "       [63316.4, 'A3', -3082, -3043.0, 38.9, 3082, 3092, 10.5, '文件名称3'],\n",
       "       [63318.2, 'A1', -3082, -3105.0, -23.2, 3082, 3120, 38.11, '文件名称4'],\n",
       "       [63318.2, 'A2', -4000, -3998.0, 2.3, 4000, 4039, 38.46, '文件名称5'],\n",
       "       [63318.2, 'A3', -3082, -3047.0, 34.7, 3082, 3066, -15.72, '文件名称6'],\n",
       "       [63320.0, 'A1', -3082, -3101.0, -19.0, 3082, 3120, 38.09, '文件名称7'],\n",
       "       [63320.0, 'A2', -4000, -3993.0, 6.8, 4000, 4029, 29.21, '文件名称8'],\n",
       "       [63320.0, 'A3', -3082, -3043.0, 38.7, 3082, 3076, -6.12, '文件名称9'],\n",
       "       [63321.8, 'A1', -3082, -3096.0, -14.3, 3082, 3114, 32.0, '文件名称10'],\n",
       "       [63321.8, 'A2', -4000, -3991.0, 9.2, 4000, 4035, 35.28, '文件名称11'],\n",
       "       [63321.8, 'A3', -3082, nan, 37.4, 3082, 3065, -16.58, '文件名称12'],\n",
       "       [63323.6, 'A1', -3082, -3096.0, -14.2, 3082, 3114, 31.8, '文件名称13'],\n",
       "       [63323.6, 'A2', -4000, -3996.0, 3.6, 4000, 4039, 38.82, '文件名称14'],\n",
       "       [63323.6, 'A3', -3082, -3047.0, 34.4, 3082, 3082, -0.01, '文件名称15'],\n",
       "       [63325.4, 'A1', -3082, -3101.0, -18.9, 3082, 3125, 43.49,\n",
       "        '文件名称16'],\n",
       "       [63325.4, 'A2', -4000, -4000.0, -0.2, 4000, 4042, 42.04, '文件名称17'],\n",
       "       [63325.4, 'A3', -3082, -3053.0, 28.9, 3082, 3078, -3.95, '文件名称18'],\n",
       "       [63327.2, 'A1', -3082, -3100.0, -18.6, 3082, 3122, 39.68,\n",
       "        '文件名称19'],\n",
       "       [63327.2, 'A2', -4000, -3995.0, 5.0, 4000, 4039, 39.42, '文件名称20'],\n",
       "       [63327.2, 'A3', -3082, -3051.0, 30.8, 3082, 3076, -6.33, '文件名称21']],\n",
       "      dtype=object)"
      ]
     },
     "execution_count": 7,
     "metadata": {},
     "output_type": "execute_result"
    }
   ],
   "source": [
    "df_data"
   ]
  },
  {
   "cell_type": "code",
   "execution_count": 8,
   "metadata": {},
   "outputs": [
    {
     "data": {
      "text/plain": [
       "pandas.core.indexes.range.RangeIndex"
      ]
     },
     "execution_count": 8,
     "metadata": {},
     "output_type": "execute_result"
    }
   ],
   "source": [
    "# index的类型\n",
    "type(df_index)"
   ]
  },
  {
   "cell_type": "code",
   "execution_count": 9,
   "metadata": {},
   "outputs": [
    {
     "data": {
      "text/plain": [
       "pandas.core.indexes.base.Index"
      ]
     },
     "execution_count": 9,
     "metadata": {},
     "output_type": "execute_result"
    }
   ],
   "source": [
    "# columns的类型\n",
    "type(df_columns)"
   ]
  },
  {
   "cell_type": "code",
   "execution_count": 10,
   "metadata": {},
   "outputs": [
    {
     "data": {
      "text/plain": [
       "numpy.ndarray"
      ]
     },
     "execution_count": 10,
     "metadata": {},
     "output_type": "execute_result"
    }
   ],
   "source": [
    "# data的类型\n",
    "type(df_data)"
   ]
  },
  {
   "cell_type": "code",
   "execution_count": 11,
   "metadata": {},
   "outputs": [
    {
     "data": {
      "text/plain": [
       "True"
      ]
     },
     "execution_count": 11,
     "metadata": {},
     "output_type": "execute_result"
    }
   ],
   "source": [
    "# 判断是不是子类型\n",
    "issubclass(pd.RangeIndex, pd.Index)  # 判断 pd.RangeIndex 是否为 pd.Index 的子类"
   ]
  },
  {
   "cell_type": "code",
   "execution_count": 12,
   "metadata": {},
   "outputs": [
    {
     "data": {
      "text/plain": [
       "array([ 0,  1,  2,  3,  4,  5,  6,  7,  8,  9, 10, 11, 12, 13, 14, 15, 16,\n",
       "       17, 18, 19, 20])"
      ]
     },
     "execution_count": 12,
     "metadata": {},
     "output_type": "execute_result"
    }
   ],
   "source": [
    "# 访问index的值\n",
    "df_index.values"
   ]
  },
  {
   "cell_type": "code",
   "execution_count": 13,
   "metadata": {},
   "outputs": [
    {
     "data": {
      "text/plain": [
       "np.int64(0)"
      ]
     },
     "execution_count": 13,
     "metadata": {},
     "output_type": "execute_result"
    }
   ],
   "source": [
    "# index的值是一个列表， 所以可以索引或者切片\n",
    "df_index.values[0]"
   ]
  },
  {
   "cell_type": "code",
   "execution_count": 14,
   "metadata": {},
   "outputs": [
    {
     "data": {
      "text/plain": [
       "array(['里程', '测点位置', '设计宽度（mm）左', '实测宽度（mm）左', '差值（mm）左', '设计宽度（mm）右',\n",
       "       '实测宽度（mm）右', '差值（mm）右', 'director_name'], dtype=object)"
      ]
     },
     "execution_count": 14,
     "metadata": {},
     "output_type": "execute_result"
    }
   ],
   "source": [
    "# 访问columns的值\n",
    "df_columns.values"
   ]
  },
  {
   "cell_type": "markdown",
   "metadata": {},
   "source": [
    "## 理解数据类型"
   ]
  },
  {
   "cell_type": "code",
   "execution_count": 15,
   "metadata": {},
   "outputs": [
    {
     "data": {
      "text/plain": [
       "里程               float64\n",
       "测点位置              object\n",
       "设计宽度（mm）左          int64\n",
       "实测宽度（mm）左        float64\n",
       "差值（mm）左          float64\n",
       "设计宽度（mm）右          int64\n",
       "实测宽度（mm）右          int64\n",
       "差值（mm）右          float64\n",
       "director_name     object\n",
       "dtype: object"
      ]
     },
     "execution_count": 15,
     "metadata": {},
     "output_type": "execute_result"
    }
   ],
   "source": [
    "#各列的类型\n",
    "df_report.dtypes"
   ]
  },
  {
   "cell_type": "code",
   "execution_count": 16,
   "metadata": {},
   "outputs": [
    {
     "data": {
      "text/plain": [
       "float64    4\n",
       "int64      3\n",
       "object     2\n",
       "Name: count, dtype: int64"
      ]
     },
     "execution_count": 16,
     "metadata": {},
     "output_type": "execute_result"
    }
   ],
   "source": [
    "# 显示各类型的数量\n",
    "df_report.dtypes.value_counts()"
   ]
  },
  {
   "cell_type": "markdown",
   "metadata": {},
   "source": [
    "## 选择一列数据作为series"
   ]
  },
  {
   "cell_type": "code",
   "execution_count": 17,
   "metadata": {},
   "outputs": [
    {
     "data": {
      "text/plain": [
       "0    -3101.0\n",
       "1    -4003.0\n",
       "2    -3043.0\n",
       "3    -3105.0\n",
       "4    -3998.0\n",
       "       ...  \n",
       "16   -4000.0\n",
       "17   -3053.0\n",
       "18   -3100.0\n",
       "19   -3995.0\n",
       "20   -3051.0\n",
       "Name: 实测宽度（mm）左, Length: 21, dtype: float64"
      ]
     },
     "execution_count": 17,
     "metadata": {},
     "output_type": "execute_result"
    }
   ],
   "source": [
    "# 选择 实测宽度（mm）左 这列\n",
    "df_report['实测宽度（mm）左']"
   ]
  },
  {
   "cell_type": "code",
   "execution_count": 18,
   "metadata": {},
   "outputs": [
    {
     "data": {
      "text/plain": [
       "0      文件名称1\n",
       "1      文件名称2\n",
       "2      文件名称3\n",
       "3      文件名称4\n",
       "4      文件名称5\n",
       "       ...  \n",
       "16    文件名称17\n",
       "17    文件名称18\n",
       "18    文件名称19\n",
       "19    文件名称20\n",
       "20    文件名称21\n",
       "Name: director_name, Length: 21, dtype: object"
      ]
     },
     "execution_count": 18,
     "metadata": {},
     "output_type": "execute_result"
    }
   ],
   "source": [
    "# 也可以通过属性的方式选取\n",
    "df_report.director_name  # df_report.director_name 这种写法，Pandas 会把 director_name 当作 df_report 这个 DataFrame 的属性名（也就是列名）去查找"
   ]
  },
  {
   "cell_type": "code",
   "execution_count": 19,
   "metadata": {},
   "outputs": [
    {
     "data": {
      "text/plain": [
       "pandas.core.series.Series"
      ]
     },
     "execution_count": 19,
     "metadata": {},
     "output_type": "execute_result"
    }
   ],
   "source": [
    "# 查看类型\n",
    "type(df_report['director_name'])"
   ]
  },
  {
   "cell_type": "code",
   "execution_count": 20,
   "metadata": {},
   "outputs": [
    {
     "data": {
      "text/plain": [
       "'director_name'"
      ]
     },
     "execution_count": 20,
     "metadata": {},
     "output_type": "execute_result"
    }
   ],
   "source": [
    "director = df_report['director_name']\n",
    "# 查看选取的列的名字\n",
    "director.name"
   ]
  },
  {
   "cell_type": "code",
   "execution_count": 21,
   "metadata": {},
   "outputs": [
    {
     "data": {
      "text/html": [
       "<div>\n",
       "<style scoped>\n",
       "    .dataframe tbody tr th:only-of-type {\n",
       "        vertical-align: middle;\n",
       "    }\n",
       "\n",
       "    .dataframe tbody tr th {\n",
       "        vertical-align: top;\n",
       "    }\n",
       "\n",
       "    .dataframe thead th {\n",
       "        text-align: right;\n",
       "    }\n",
       "</style>\n",
       "<table border=\"1\" class=\"dataframe\">\n",
       "  <thead>\n",
       "    <tr style=\"text-align: right;\">\n",
       "      <th></th>\n",
       "      <th>director_name</th>\n",
       "    </tr>\n",
       "  </thead>\n",
       "  <tbody>\n",
       "    <tr>\n",
       "      <th>0</th>\n",
       "      <td>文件名称1</td>\n",
       "    </tr>\n",
       "    <tr>\n",
       "      <th>1</th>\n",
       "      <td>文件名称2</td>\n",
       "    </tr>\n",
       "    <tr>\n",
       "      <th>2</th>\n",
       "      <td>文件名称3</td>\n",
       "    </tr>\n",
       "    <tr>\n",
       "      <th>3</th>\n",
       "      <td>文件名称4</td>\n",
       "    </tr>\n",
       "    <tr>\n",
       "      <th>4</th>\n",
       "      <td>文件名称5</td>\n",
       "    </tr>\n",
       "  </tbody>\n",
       "</table>\n",
       "</div>"
      ],
      "text/plain": [
       "  director_name\n",
       "0         文件名称1\n",
       "1         文件名称2\n",
       "2         文件名称3\n",
       "3         文件名称4\n",
       "4         文件名称5"
      ]
     },
     "execution_count": 21,
     "metadata": {},
     "output_type": "execute_result"
    }
   ],
   "source": [
    "# 单列 series 转化为 dataframe\n",
    "director.to_frame().head()"
   ]
  },
  {
   "cell_type": "markdown",
   "metadata": {},
   "source": [
    "## 调用 series 方法\n"
   ]
  },
  {
   "cell_type": "code",
   "execution_count": 22,
   "metadata": {},
   "outputs": [
    {
     "data": {
      "text/plain": [
       "{'T',\n",
       " '_AXIS_LEN',\n",
       " '_AXIS_ORDERS',\n",
       " '_AXIS_TO_AXIS_NUMBER',\n",
       " '_HANDLED_TYPES',\n",
       " '__abs__',\n",
       " '__add__',\n",
       " '__and__',\n",
       " '__annotations__',\n",
       " '__array__',\n",
       " '__array_priority__',\n",
       " '__array_ufunc__',\n",
       " '__bool__',\n",
       " '__class__',\n",
       " '__column_consortium_standard__',\n",
       " '__contains__',\n",
       " '__copy__',\n",
       " '__deepcopy__',\n",
       " '__delattr__',\n",
       " '__delitem__',\n",
       " '__dict__',\n",
       " '__dir__',\n",
       " '__divmod__',\n",
       " '__doc__',\n",
       " '__eq__',\n",
       " '__finalize__',\n",
       " '__float__',\n",
       " '__floordiv__',\n",
       " '__format__',\n",
       " '__ge__',\n",
       " '__getattr__',\n",
       " '__getattribute__',\n",
       " '__getitem__',\n",
       " '__getstate__',\n",
       " '__gt__',\n",
       " '__hash__',\n",
       " '__iadd__',\n",
       " '__iand__',\n",
       " '__ifloordiv__',\n",
       " '__imod__',\n",
       " '__imul__',\n",
       " '__init__',\n",
       " '__init_subclass__',\n",
       " '__int__',\n",
       " '__invert__',\n",
       " '__ior__',\n",
       " '__ipow__',\n",
       " '__isub__',\n",
       " '__iter__',\n",
       " '__itruediv__',\n",
       " '__ixor__',\n",
       " '__le__',\n",
       " '__len__',\n",
       " '__lt__',\n",
       " '__matmul__',\n",
       " '__mod__',\n",
       " '__module__',\n",
       " '__mul__',\n",
       " '__ne__',\n",
       " '__neg__',\n",
       " '__new__',\n",
       " '__nonzero__',\n",
       " '__or__',\n",
       " '__pandas_priority__',\n",
       " '__pos__',\n",
       " '__pow__',\n",
       " '__radd__',\n",
       " '__rand__',\n",
       " '__rdivmod__',\n",
       " '__reduce__',\n",
       " '__reduce_ex__',\n",
       " '__repr__',\n",
       " '__rfloordiv__',\n",
       " '__rmatmul__',\n",
       " '__rmod__',\n",
       " '__rmul__',\n",
       " '__ror__',\n",
       " '__round__',\n",
       " '__rpow__',\n",
       " '__rsub__',\n",
       " '__rtruediv__',\n",
       " '__rxor__',\n",
       " '__setattr__',\n",
       " '__setitem__',\n",
       " '__setstate__',\n",
       " '__sizeof__',\n",
       " '__str__',\n",
       " '__sub__',\n",
       " '__subclasshook__',\n",
       " '__truediv__',\n",
       " '__weakref__',\n",
       " '__xor__',\n",
       " '_accessors',\n",
       " '_accum_func',\n",
       " '_agg_examples_doc',\n",
       " '_agg_see_also_doc',\n",
       " '_align_for_op',\n",
       " '_align_frame',\n",
       " '_align_series',\n",
       " '_append',\n",
       " '_arith_method',\n",
       " '_as_manager',\n",
       " '_binop',\n",
       " '_can_hold_na',\n",
       " '_check_inplace_and_allows_duplicate_labels',\n",
       " '_check_is_chained_assignment_possible',\n",
       " '_check_label_or_level_ambiguity',\n",
       " '_check_setitem_copy',\n",
       " '_clear_item_cache',\n",
       " '_clip_with_one_bound',\n",
       " '_clip_with_scalar',\n",
       " '_cmp_method',\n",
       " '_consolidate',\n",
       " '_consolidate_inplace',\n",
       " '_construct_axes_dict',\n",
       " '_construct_result',\n",
       " '_constructor',\n",
       " '_constructor_expanddim',\n",
       " '_constructor_expanddim_from_mgr',\n",
       " '_constructor_from_mgr',\n",
       " '_data',\n",
       " '_deprecate_downcast',\n",
       " '_dir_additions',\n",
       " '_dir_deletions',\n",
       " '_drop_axis',\n",
       " '_drop_labels_or_levels',\n",
       " '_duplicated',\n",
       " '_find_valid_index',\n",
       " '_flex_method',\n",
       " '_from_mgr',\n",
       " '_get_axis',\n",
       " '_get_axis_name',\n",
       " '_get_axis_number',\n",
       " '_get_axis_resolvers',\n",
       " '_get_block_manager_axis',\n",
       " '_get_bool_data',\n",
       " '_get_cacher',\n",
       " '_get_cleaned_column_resolvers',\n",
       " '_get_index_resolvers',\n",
       " '_get_label_or_level_values',\n",
       " '_get_numeric_data',\n",
       " '_get_rows_with_mask',\n",
       " '_get_value',\n",
       " '_get_values_tuple',\n",
       " '_get_with',\n",
       " '_getitem_slice',\n",
       " '_gotitem',\n",
       " '_hidden_attrs',\n",
       " '_indexed_same',\n",
       " '_info_axis',\n",
       " '_info_axis_name',\n",
       " '_info_axis_number',\n",
       " '_init_dict',\n",
       " '_init_mgr',\n",
       " '_inplace_method',\n",
       " '_internal_names',\n",
       " '_internal_names_set',\n",
       " '_is_cached',\n",
       " '_is_copy',\n",
       " '_is_label_or_level_reference',\n",
       " '_is_label_reference',\n",
       " '_is_level_reference',\n",
       " '_is_mixed_type',\n",
       " '_is_view',\n",
       " '_is_view_after_cow_rules',\n",
       " '_ixs',\n",
       " '_logical_func',\n",
       " '_logical_method',\n",
       " '_map_values',\n",
       " '_maybe_update_cacher',\n",
       " '_memory_usage',\n",
       " '_metadata',\n",
       " '_min_count_stat_function',\n",
       " '_needs_reindex_multi',\n",
       " '_pad_or_backfill',\n",
       " '_protect_consolidate',\n",
       " '_reduce',\n",
       " '_references',\n",
       " '_reindex_axes',\n",
       " '_reindex_indexer',\n",
       " '_reindex_multi',\n",
       " '_reindex_with_indexers',\n",
       " '_rename',\n",
       " '_replace_single',\n",
       " '_repr_data_resource_',\n",
       " '_repr_latex_',\n",
       " '_reset_cache',\n",
       " '_reset_cacher',\n",
       " '_set_as_cached',\n",
       " '_set_axis',\n",
       " '_set_axis_name',\n",
       " '_set_axis_nocheck',\n",
       " '_set_is_copy',\n",
       " '_set_labels',\n",
       " '_set_name',\n",
       " '_set_value',\n",
       " '_set_values',\n",
       " '_set_with',\n",
       " '_set_with_engine',\n",
       " '_shift_with_freq',\n",
       " '_slice',\n",
       " '_stat_function',\n",
       " '_stat_function_ddof',\n",
       " '_take_with_is_copy',\n",
       " '_to_latex_via_styler',\n",
       " '_typ',\n",
       " '_update_inplace',\n",
       " '_validate_dtype',\n",
       " '_values',\n",
       " '_where',\n",
       " 'abs',\n",
       " 'add',\n",
       " 'add_prefix',\n",
       " 'add_suffix',\n",
       " 'agg',\n",
       " 'aggregate',\n",
       " 'align',\n",
       " 'all',\n",
       " 'any',\n",
       " 'apply',\n",
       " 'argmax',\n",
       " 'argmin',\n",
       " 'argsort',\n",
       " 'array',\n",
       " 'asfreq',\n",
       " 'asof',\n",
       " 'astype',\n",
       " 'at',\n",
       " 'at_time',\n",
       " 'attrs',\n",
       " 'autocorr',\n",
       " 'axes',\n",
       " 'backfill',\n",
       " 'between',\n",
       " 'between_time',\n",
       " 'bfill',\n",
       " 'bool',\n",
       " 'case_when',\n",
       " 'cat',\n",
       " 'clip',\n",
       " 'combine',\n",
       " 'combine_first',\n",
       " 'compare',\n",
       " 'convert_dtypes',\n",
       " 'copy',\n",
       " 'corr',\n",
       " 'count',\n",
       " 'cov',\n",
       " 'cummax',\n",
       " 'cummin',\n",
       " 'cumprod',\n",
       " 'cumsum',\n",
       " 'describe',\n",
       " 'diff',\n",
       " 'div',\n",
       " 'divide',\n",
       " 'divmod',\n",
       " 'dot',\n",
       " 'drop',\n",
       " 'drop_duplicates',\n",
       " 'droplevel',\n",
       " 'dropna',\n",
       " 'dt',\n",
       " 'dtype',\n",
       " 'dtypes',\n",
       " 'duplicated',\n",
       " 'empty',\n",
       " 'eq',\n",
       " 'equals',\n",
       " 'ewm',\n",
       " 'expanding',\n",
       " 'explode',\n",
       " 'factorize',\n",
       " 'ffill',\n",
       " 'fillna',\n",
       " 'filter',\n",
       " 'first',\n",
       " 'first_valid_index',\n",
       " 'flags',\n",
       " 'floordiv',\n",
       " 'ge',\n",
       " 'get',\n",
       " 'groupby',\n",
       " 'gt',\n",
       " 'hasnans',\n",
       " 'head',\n",
       " 'hist',\n",
       " 'iat',\n",
       " 'idxmax',\n",
       " 'idxmin',\n",
       " 'iloc',\n",
       " 'index',\n",
       " 'infer_objects',\n",
       " 'info',\n",
       " 'interpolate',\n",
       " 'is_monotonic_decreasing',\n",
       " 'is_monotonic_increasing',\n",
       " 'is_unique',\n",
       " 'isin',\n",
       " 'isna',\n",
       " 'isnull',\n",
       " 'item',\n",
       " 'items',\n",
       " 'keys',\n",
       " 'kurt',\n",
       " 'kurtosis',\n",
       " 'last',\n",
       " 'last_valid_index',\n",
       " 'le',\n",
       " 'list',\n",
       " 'loc',\n",
       " 'lt',\n",
       " 'map',\n",
       " 'mask',\n",
       " 'max',\n",
       " 'mean',\n",
       " 'median',\n",
       " 'memory_usage',\n",
       " 'min',\n",
       " 'mod',\n",
       " 'mode',\n",
       " 'mul',\n",
       " 'multiply',\n",
       " 'name',\n",
       " 'nbytes',\n",
       " 'ndim',\n",
       " 'ne',\n",
       " 'nlargest',\n",
       " 'notna',\n",
       " 'notnull',\n",
       " 'nsmallest',\n",
       " 'nunique',\n",
       " 'pad',\n",
       " 'pct_change',\n",
       " 'pipe',\n",
       " 'plot',\n",
       " 'pop',\n",
       " 'pow',\n",
       " 'prod',\n",
       " 'product',\n",
       " 'quantile',\n",
       " 'radd',\n",
       " 'rank',\n",
       " 'ravel',\n",
       " 'rdiv',\n",
       " 'rdivmod',\n",
       " 'reindex',\n",
       " 'reindex_like',\n",
       " 'rename',\n",
       " 'rename_axis',\n",
       " 'reorder_levels',\n",
       " 'repeat',\n",
       " 'replace',\n",
       " 'resample',\n",
       " 'reset_index',\n",
       " 'rfloordiv',\n",
       " 'rmod',\n",
       " 'rmul',\n",
       " 'rolling',\n",
       " 'round',\n",
       " 'rpow',\n",
       " 'rsub',\n",
       " 'rtruediv',\n",
       " 'sample',\n",
       " 'searchsorted',\n",
       " 'sem',\n",
       " 'set_axis',\n",
       " 'set_flags',\n",
       " 'shape',\n",
       " 'shift',\n",
       " 'size',\n",
       " 'skew',\n",
       " 'sort_index',\n",
       " 'sort_values',\n",
       " 'sparse',\n",
       " 'squeeze',\n",
       " 'std',\n",
       " 'str',\n",
       " 'struct',\n",
       " 'sub',\n",
       " 'subtract',\n",
       " 'sum',\n",
       " 'swapaxes',\n",
       " 'swaplevel',\n",
       " 'tail',\n",
       " 'take',\n",
       " 'to_clipboard',\n",
       " 'to_csv',\n",
       " 'to_dict',\n",
       " 'to_excel',\n",
       " 'to_frame',\n",
       " 'to_hdf',\n",
       " 'to_json',\n",
       " 'to_latex',\n",
       " 'to_list',\n",
       " 'to_markdown',\n",
       " 'to_numpy',\n",
       " 'to_period',\n",
       " 'to_pickle',\n",
       " 'to_sql',\n",
       " 'to_string',\n",
       " 'to_timestamp',\n",
       " 'to_xarray',\n",
       " 'tolist',\n",
       " 'transform',\n",
       " 'transpose',\n",
       " 'truediv',\n",
       " 'truncate',\n",
       " 'tz_convert',\n",
       " 'tz_localize',\n",
       " 'unique',\n",
       " 'unstack',\n",
       " 'update',\n",
       " 'value_counts',\n",
       " 'values',\n",
       " 'var',\n",
       " 'view',\n",
       " 'where',\n",
       " 'xs'}"
      ]
     },
     "execution_count": 22,
     "metadata": {},
     "output_type": "execute_result"
    }
   ],
   "source": [
    "# 查看series所有不重复的指令\n",
    "s_attr_methods = set(dir(pd.Series))\n",
    "s_attr_methods"
   ]
  },
  {
   "cell_type": "code",
   "execution_count": 23,
   "metadata": {},
   "outputs": [
    {
     "data": {
      "text/plain": [
       "419"
      ]
     },
     "execution_count": 23,
     "metadata": {},
     "output_type": "execute_result"
    }
   ],
   "source": [
    "len(s_attr_methods)"
   ]
  },
  {
   "cell_type": "code",
   "execution_count": 24,
   "metadata": {},
   "outputs": [
    {
     "data": {
      "text/plain": [
       "437"
      ]
     },
     "execution_count": 24,
     "metadata": {},
     "output_type": "execute_result"
    }
   ],
   "source": [
    "# 查看dataframe所有不重复的指令\n",
    "df_attr_methods =set(dir(pd.DataFrame))\n",
    "len(df_attr_methods)"
   ]
  },
  {
   "cell_type": "code",
   "execution_count": 25,
   "metadata": {},
   "outputs": [
    {
     "data": {
      "text/plain": [
       "362"
      ]
     },
     "execution_count": 25,
     "metadata": {},
     "output_type": "execute_result"
    }
   ],
   "source": [
    "# 查看dataframe 和 series 有多少共有的指令\n",
    "len(s_attr_methods & df_attr_methods)"
   ]
  },
  {
   "cell_type": "code",
   "execution_count": 26,
   "metadata": {},
   "outputs": [],
   "source": [
    "# 选择df_report中任意两列\n",
    "director = df_report['director_name']\n",
    "actual_left = df_report['实测宽度（mm）左']"
   ]
  },
  {
   "cell_type": "code",
   "execution_count": 27,
   "metadata": {},
   "outputs": [
    {
     "data": {
      "text/plain": [
       "0   -3101.0\n",
       "1   -4003.0\n",
       "2   -3043.0\n",
       "3   -3105.0\n",
       "4   -3998.0\n",
       "Name: 实测宽度（mm）左, dtype: float64"
      ]
     },
     "execution_count": 27,
     "metadata": {},
     "output_type": "execute_result"
    }
   ],
   "source": [
    "actual_left.head()"
   ]
  },
  {
   "cell_type": "code",
   "execution_count": 28,
   "metadata": {},
   "outputs": [
    {
     "data": {
      "text/plain": [
       "0    文件名称1\n",
       "1    文件名称2\n",
       "2    文件名称3\n",
       "3    文件名称4\n",
       "4    文件名称5\n",
       "Name: director_name, dtype: object"
      ]
     },
     "execution_count": 28,
     "metadata": {},
     "output_type": "execute_result"
    }
   ],
   "source": [
    "director.head()"
   ]
  },
  {
   "cell_type": "code",
   "execution_count": 29,
   "metadata": {},
   "outputs": [
    {
     "data": {
      "text/plain": [
       "实测宽度（mm）左\n",
       "-3101.0    3\n",
       "-3043.0    2\n",
       "-3047.0    2\n",
       "-3096.0    2\n",
       "          ..\n",
       "-3053.0    1\n",
       "-3100.0    1\n",
       "-3995.0    1\n",
       "-3051.0    1\n",
       "Name: count, Length: 15, dtype: int64"
      ]
     },
     "execution_count": 29,
     "metadata": {},
     "output_type": "execute_result"
    }
   ],
   "source": [
    "# 分别计数\n",
    "pd.set_option('display.max_rows', 8)\n",
    "actual_left.value_counts()"
   ]
  },
  {
   "cell_type": "code",
   "execution_count": 30,
   "metadata": {},
   "outputs": [
    {
     "data": {
      "text/plain": [
       "21"
      ]
     },
     "execution_count": 30,
     "metadata": {},
     "output_type": "execute_result"
    }
   ],
   "source": [
    "actual_left.size  # 返回对象中元素的总数"
   ]
  },
  {
   "cell_type": "code",
   "execution_count": 31,
   "metadata": {},
   "outputs": [
    {
     "data": {
      "text/plain": [
       "(21,)"
      ]
     },
     "execution_count": 31,
     "metadata": {},
     "output_type": "execute_result"
    }
   ],
   "source": [
    "actual_left.shape"
   ]
  },
  {
   "cell_type": "code",
   "execution_count": 32,
   "metadata": {},
   "outputs": [
    {
     "data": {
      "text/plain": [
       "21"
      ]
     },
     "execution_count": 32,
     "metadata": {},
     "output_type": "execute_result"
    }
   ],
   "source": [
    "len(actual_left)"
   ]
  },
  {
   "cell_type": "code",
   "execution_count": 33,
   "metadata": {},
   "outputs": [
    {
     "data": {
      "text/plain": [
       "np.int64(20)"
      ]
     },
     "execution_count": 33,
     "metadata": {},
     "output_type": "execute_result"
    }
   ],
   "source": [
    "# actual_left有多少非空值\n",
    "actual_left.count()"
   ]
  },
  {
   "cell_type": "code",
   "execution_count": 34,
   "metadata": {},
   "outputs": [
    {
     "data": {
      "text/plain": [
       "np.float64(-3101.0)"
      ]
     },
     "execution_count": 34,
     "metadata": {},
     "output_type": "execute_result"
    }
   ],
   "source": [
    "# actual_left 中位分位数\n",
    "actual_left.quantile()"
   ]
  },
  {
   "cell_type": "code",
   "execution_count": 35,
   "metadata": {},
   "outputs": [
    {
     "data": {
      "text/plain": [
       "np.float64(-4003.0)"
      ]
     },
     "execution_count": 35,
     "metadata": {},
     "output_type": "execute_result"
    }
   ],
   "source": [
    "# 最⼩值、最⼤值、平均值、中位数、标准差、总和\n",
    "actual_left.min()"
   ]
  },
  {
   "cell_type": "code",
   "execution_count": 36,
   "metadata": {},
   "outputs": [
    {
     "data": {
      "text/plain": [
       "np.float64(-3043.0)"
      ]
     },
     "execution_count": 36,
     "metadata": {},
     "output_type": "execute_result"
    }
   ],
   "source": [
    "actual_left.max()"
   ]
  },
  {
   "cell_type": "code",
   "execution_count": 37,
   "metadata": {},
   "outputs": [
    {
     "data": {
      "text/plain": [
       "np.float64(-3398.0)"
      ]
     },
     "execution_count": 37,
     "metadata": {},
     "output_type": "execute_result"
    }
   ],
   "source": [
    "actual_left.mean()"
   ]
  },
  {
   "cell_type": "code",
   "execution_count": 38,
   "metadata": {},
   "outputs": [
    {
     "data": {
      "text/plain": [
       "np.float64(-3101.0)"
      ]
     },
     "execution_count": 38,
     "metadata": {},
     "output_type": "execute_result"
    }
   ],
   "source": [
    "actual_left.median()"
   ]
  },
  {
   "cell_type": "code",
   "execution_count": 39,
   "metadata": {},
   "outputs": [
    {
     "data": {
      "text/plain": [
       "np.float64(451.17915685340273)"
      ]
     },
     "execution_count": 39,
     "metadata": {},
     "output_type": "execute_result"
    }
   ],
   "source": [
    "actual_left.std()"
   ]
  },
  {
   "cell_type": "code",
   "execution_count": 40,
   "metadata": {},
   "outputs": [
    {
     "data": {
      "text/plain": [
       "np.float64(-67960.0)"
      ]
     },
     "execution_count": 40,
     "metadata": {},
     "output_type": "execute_result"
    }
   ],
   "source": [
    "actual_left.sum()"
   ]
  },
  {
   "cell_type": "code",
   "execution_count": 41,
   "metadata": {},
   "outputs": [
    {
     "data": {
      "text/plain": [
       "count      20.000000\n",
       "mean    -3398.000000\n",
       "std       451.179157\n",
       "min     -4003.000000\n",
       "25%     -3993.500000\n",
       "50%     -3101.000000\n",
       "75%     -3052.500000\n",
       "max     -3043.000000\n",
       "Name: 实测宽度（mm）左, dtype: float64"
      ]
     },
     "execution_count": 41,
     "metadata": {},
     "output_type": "execute_result"
    }
   ],
   "source": [
    "# 显示描述信息\n",
    "actual_left.describe()"
   ]
  },
  {
   "cell_type": "code",
   "execution_count": 42,
   "metadata": {},
   "outputs": [
    {
     "data": {
      "text/plain": [
       "np.float64(-3995.2)"
      ]
     },
     "execution_count": 42,
     "metadata": {},
     "output_type": "execute_result"
    }
   ],
   "source": [
    "# 分位数是将数据按从小到大排序后，划分成若干等份的数值点\n",
    "actual_left.quantile(.2)  # 计算第 20 百分位数"
   ]
  },
  {
   "cell_type": "code",
   "execution_count": 43,
   "metadata": {},
   "outputs": [
    {
     "data": {
      "text/plain": [
       "0.1   -3998.2\n",
       "0.2   -3995.2\n",
       "0.3   -3991.6\n",
       "0.4   -3102.6\n",
       "        ...  \n",
       "0.6   -3098.4\n",
       "0.7   -3083.1\n",
       "0.8   -3050.2\n",
       "0.9   -3046.6\n",
       "Name: 实测宽度（mm）左, Length: 9, dtype: float64"
      ]
     },
     "execution_count": 43,
     "metadata": {},
     "output_type": "execute_result"
    }
   ],
   "source": [
    "# 各个十分之一分位数\n",
    "actual_left.quantile([.1, .2, .3,.4, .5, .6, .7, .8, .9])"
   ]
  },
  {
   "cell_type": "code",
   "execution_count": 44,
   "metadata": {},
   "outputs": [
    {
     "data": {
      "text/plain": [
       "0     False\n",
       "1     False\n",
       "2     False\n",
       "3     False\n",
       "      ...  \n",
       "17    False\n",
       "18    False\n",
       "19    False\n",
       "20    False\n",
       "Name: 实测宽度（mm）左, Length: 21, dtype: bool"
      ]
     },
     "execution_count": 44,
     "metadata": {},
     "output_type": "execute_result"
    }
   ],
   "source": [
    "# 非空值\n",
    "actual_left.isnull()"
   ]
  },
  {
   "cell_type": "code",
   "execution_count": 45,
   "metadata": {},
   "outputs": [
    {
     "data": {
      "text/plain": [
       "np.int64(21)"
      ]
     },
     "execution_count": 45,
     "metadata": {},
     "output_type": "execute_result"
    }
   ],
   "source": [
    "# 填充缺失值\n",
    "actual_left_filled = actual_left.fillna(0)\n",
    "actual_left_filled.count()"
   ]
  },
  {
   "cell_type": "code",
   "execution_count": 46,
   "metadata": {},
   "outputs": [
    {
     "data": {
      "text/plain": [
       "20"
      ]
     },
     "execution_count": 46,
     "metadata": {},
     "output_type": "execute_result"
    }
   ],
   "source": [
    "# 删除缺失值\n",
    "actual_left_dropped = actual_left.dropna()\n",
    "actual_left_dropped.size"
   ]
  },
  {
   "cell_type": "code",
   "execution_count": 47,
   "metadata": {},
   "outputs": [
    {
     "data": {
      "text/plain": [
       "0    -3101.0\n",
       "1    -4003.0\n",
       "2    -3043.0\n",
       "3    -3105.0\n",
       "       ...  \n",
       "17   -3053.0\n",
       "18   -3100.0\n",
       "19   -3995.0\n",
       "20   -3051.0\n",
       "Name: 实测宽度（mm）左, Length: 20, dtype: float64"
      ]
     },
     "execution_count": 47,
     "metadata": {},
     "output_type": "execute_result"
    }
   ],
   "source": [
    "actual_left_dropped"
   ]
  },
  {
   "cell_type": "code",
   "execution_count": 48,
   "metadata": {},
   "outputs": [
    {
     "data": {
      "text/plain": [
       "实测宽度（mm）左\n",
       "-3101.0    0.15\n",
       "-3043.0    0.10\n",
       "-3047.0    0.10\n",
       "-3096.0    0.10\n",
       "           ... \n",
       "-3053.0    0.05\n",
       "-3100.0    0.05\n",
       "-3995.0    0.05\n",
       "-3051.0    0.05\n",
       "Name: proportion, Length: 15, dtype: float64"
      ]
     },
     "execution_count": 48,
     "metadata": {},
     "output_type": "execute_result"
    }
   ],
   "source": [
    "# value_counts(normalize=True) 可返回频率\n",
    "actual_left.value_counts(normalize=True)"
   ]
  },
  {
   "cell_type": "code",
   "execution_count": 49,
   "metadata": {},
   "outputs": [
    {
     "data": {
      "text/plain": [
       "True"
      ]
     },
     "execution_count": 49,
     "metadata": {},
     "output_type": "execute_result"
    }
   ],
   "source": [
    "# 判断是否有缺失值\n",
    "actual_left.hasnans"
   ]
  },
  {
   "cell_type": "code",
   "execution_count": 50,
   "metadata": {},
   "outputs": [
    {
     "data": {
      "text/plain": [
       "0     True\n",
       "1     True\n",
       "2     True\n",
       "3     True\n",
       "      ... \n",
       "17    True\n",
       "18    True\n",
       "19    True\n",
       "20    True\n",
       "Name: 实测宽度（mm）左, Length: 21, dtype: bool"
      ]
     },
     "execution_count": 50,
     "metadata": {},
     "output_type": "execute_result"
    }
   ],
   "source": [
    "# 判断是否是非缺失值\n",
    "actual_left.notnull()\n"
   ]
  },
  {
   "cell_type": "markdown",
   "metadata": {},
   "source": [
    "## 在series上使用运算符"
   ]
  },
  {
   "cell_type": "code",
   "execution_count": 51,
   "metadata": {},
   "outputs": [
    {
     "data": {
      "text/plain": [
       "0    -3101.0\n",
       "1    -4003.0\n",
       "2    -3043.0\n",
       "3    -3105.0\n",
       "       ...  \n",
       "17   -3053.0\n",
       "18   -3100.0\n",
       "19   -3995.0\n",
       "20   -3051.0\n",
       "Name: 实测宽度（mm）左, Length: 21, dtype: float64"
      ]
     },
     "execution_count": 51,
     "metadata": {},
     "output_type": "execute_result"
    }
   ],
   "source": [
    "actual_left = df_report['实测宽度（mm）左']\n",
    "actual_left"
   ]
  },
  {
   "cell_type": "code",
   "execution_count": 52,
   "metadata": {},
   "outputs": [
    {
     "data": {
      "text/plain": [
       "0    -3100.0\n",
       "1    -4002.0\n",
       "2    -3042.0\n",
       "3    -3104.0\n",
       "       ...  \n",
       "17   -3052.0\n",
       "18   -3099.0\n",
       "19   -3994.0\n",
       "20   -3050.0\n",
       "Name: 实测宽度（mm）左, Length: 21, dtype: float64"
      ]
     },
     "execution_count": 52,
     "metadata": {},
     "output_type": "execute_result"
    }
   ],
   "source": [
    "# 每列值加1\n",
    "actual_left + 1"
   ]
  },
  {
   "cell_type": "code",
   "execution_count": 53,
   "metadata": {},
   "outputs": [
    {
     "data": {
      "text/plain": [
       "0    -3100.0\n",
       "1    -4002.0\n",
       "2    -3042.0\n",
       "3    -3104.0\n",
       "       ...  \n",
       "17   -3052.0\n",
       "18   -3099.0\n",
       "19   -3994.0\n",
       "20   -3050.0\n",
       "Name: 实测宽度（mm）左, Length: 21, dtype: float64"
      ]
     },
     "execution_count": 53,
     "metadata": {},
     "output_type": "execute_result"
    }
   ],
   "source": [
    "actual_left.add(1)"
   ]
  },
  {
   "cell_type": "code",
   "execution_count": 54,
   "metadata": {},
   "outputs": [
    {
     "data": {
      "text/plain": [
       "0    -3101.0\n",
       "1    -4003.0\n",
       "2    -3043.0\n",
       "3    -3105.0\n",
       "       ...  \n",
       "17   -3053.0\n",
       "18   -3100.0\n",
       "19   -3995.0\n",
       "20   -3051.0\n",
       "Name: 实测宽度（mm）左, Length: 21, dtype: float64"
      ]
     },
     "execution_count": 54,
     "metadata": {},
     "output_type": "execute_result"
    }
   ],
   "source": [
    "actual_left"
   ]
  },
  {
   "cell_type": "code",
   "execution_count": 55,
   "metadata": {},
   "outputs": [
    {
     "data": {
      "text/plain": [
       "0     -7752.5\n",
       "1    -10007.5\n",
       "2     -7607.5\n",
       "3     -7762.5\n",
       "       ...   \n",
       "17    -7632.5\n",
       "18    -7750.0\n",
       "19    -9987.5\n",
       "20    -7627.5\n",
       "Name: 实测宽度（mm）左, Length: 21, dtype: float64"
      ]
     },
     "execution_count": 55,
     "metadata": {},
     "output_type": "execute_result"
    }
   ],
   "source": [
    "# 每列值乘以2.5\n",
    "actual_left * 2.5"
   ]
  },
  {
   "cell_type": "code",
   "execution_count": 56,
   "metadata": {},
   "outputs": [
    {
     "data": {
      "text/plain": [
       "0     -7752.5\n",
       "1    -10007.5\n",
       "2     -7607.5\n",
       "3     -7762.5\n",
       "       ...   \n",
       "17    -7632.5\n",
       "18    -7750.0\n",
       "19    -9987.5\n",
       "20    -7627.5\n",
       "Name: 实测宽度（mm）左, Length: 21, dtype: float64"
      ]
     },
     "execution_count": 56,
     "metadata": {},
     "output_type": "execute_result"
    }
   ],
   "source": [
    "actual_left.mul(2.5)"
   ]
  },
  {
   "cell_type": "code",
   "execution_count": 57,
   "metadata": {},
   "outputs": [
    {
     "data": {
      "text/plain": [
       "0    -443.0\n",
       "1    -572.0\n",
       "2    -435.0\n",
       "3    -444.0\n",
       "      ...  \n",
       "17   -437.0\n",
       "18   -443.0\n",
       "19   -571.0\n",
       "20   -436.0\n",
       "Name: 实测宽度（mm）左, Length: 21, dtype: float64"
      ]
     },
     "execution_count": 57,
     "metadata": {},
     "output_type": "execute_result"
    }
   ],
   "source": [
    "# 每列值对7整除（对两个数做除法运算，然后返回商的整数部分，会舍去小数部分）\n",
    "actual_left // 7"
   ]
  },
  {
   "cell_type": "code",
   "execution_count": 58,
   "metadata": {},
   "outputs": [
    {
     "data": {
      "text/plain": [
       "0    -443.0\n",
       "1    -572.0\n",
       "2    -435.0\n",
       "3    -444.0\n",
       "      ...  \n",
       "17   -437.0\n",
       "18   -443.0\n",
       "19   -571.0\n",
       "20   -436.0\n",
       "Name: 实测宽度（mm）左, Length: 21, dtype: float64"
      ]
     },
     "execution_count": 58,
     "metadata": {},
     "output_type": "execute_result"
    }
   ],
   "source": [
    "actual_left.floordiv(7)"
   ]
  },
  {
   "cell_type": "code",
   "execution_count": 59,
   "metadata": {},
   "outputs": [
    {
     "data": {
      "text/plain": [
       "0     0.0\n",
       "1     1.0\n",
       "2     2.0\n",
       "3     3.0\n",
       "     ... \n",
       "17    6.0\n",
       "18    1.0\n",
       "19    2.0\n",
       "20    1.0\n",
       "Name: 实测宽度（mm）左, Length: 21, dtype: float64"
      ]
     },
     "execution_count": 59,
     "metadata": {},
     "output_type": "execute_result"
    }
   ],
   "source": [
    "# 取余\n",
    "actual_left % 7"
   ]
  },
  {
   "cell_type": "code",
   "execution_count": 60,
   "metadata": {},
   "outputs": [
    {
     "data": {
      "text/plain": [
       "0     0.0\n",
       "1     1.0\n",
       "2     2.0\n",
       "3     3.0\n",
       "     ... \n",
       "17    6.0\n",
       "18    1.0\n",
       "19    2.0\n",
       "20    1.0\n",
       "Name: 实测宽度（mm）左, Length: 21, dtype: float64"
      ]
     },
     "execution_count": 60,
     "metadata": {},
     "output_type": "execute_result"
    }
   ],
   "source": [
    "actual_left.mod(7)"
   ]
  },
  {
   "cell_type": "code",
   "execution_count": 61,
   "metadata": {},
   "outputs": [
    {
     "data": {
      "text/plain": [
       "0     False\n",
       "1     False\n",
       "2     False\n",
       "3     False\n",
       "      ...  \n",
       "17    False\n",
       "18    False\n",
       "19    False\n",
       "20    False\n",
       "Name: 实测宽度（mm）左, Length: 21, dtype: bool"
      ]
     },
     "execution_count": 61,
     "metadata": {},
     "output_type": "execute_result"
    }
   ],
   "source": [
    "# 判断是否大于7\n",
    "actual_left > 7"
   ]
  },
  {
   "cell_type": "code",
   "execution_count": 62,
   "metadata": {},
   "outputs": [
    {
     "data": {
      "text/plain": [
       "0     False\n",
       "1     False\n",
       "2     False\n",
       "3     False\n",
       "      ...  \n",
       "17    False\n",
       "18    False\n",
       "19    False\n",
       "20    False\n",
       "Name: 实测宽度（mm）左, Length: 21, dtype: bool"
      ]
     },
     "execution_count": 62,
     "metadata": {},
     "output_type": "execute_result"
    }
   ],
   "source": [
    "actual_left.gt(7)"
   ]
  },
  {
   "cell_type": "code",
   "execution_count": 63,
   "metadata": {},
   "outputs": [
    {
     "data": {
      "text/plain": [
       "0     False\n",
       "1     False\n",
       "2     False\n",
       "3      True\n",
       "      ...  \n",
       "17    False\n",
       "18    False\n",
       "19    False\n",
       "20    False\n",
       "Name: director_name, Length: 21, dtype: bool"
      ]
     },
     "execution_count": 63,
     "metadata": {},
     "output_type": "execute_result"
    }
   ],
   "source": [
    "# 判断是否等于字符串\n",
    "director = df_report['director_name']\n",
    "director == '文件名称4'"
   ]
  },
  {
   "cell_type": "code",
   "execution_count": 64,
   "metadata": {},
   "outputs": [
    {
     "data": {
      "text/plain": [
       "0     False\n",
       "1     False\n",
       "2     False\n",
       "3      True\n",
       "      ...  \n",
       "17    False\n",
       "18    False\n",
       "19    False\n",
       "20    False\n",
       "Name: director_name, Length: 21, dtype: bool"
      ]
     },
     "execution_count": 64,
     "metadata": {},
     "output_type": "execute_result"
    }
   ],
   "source": [
    "director.eq('文件名称4')"
   ]
  },
  {
   "cell_type": "code",
   "execution_count": 65,
   "metadata": {},
   "outputs": [
    {
     "name": "stdout",
     "output_type": "stream",
     "text": [
      "<class 'int'>\n"
     ]
    },
    {
     "data": {
      "text/plain": [
       "type"
      ]
     },
     "execution_count": 65,
     "metadata": {},
     "output_type": "execute_result"
    }
   ],
   "source": [
    "a = type(1)\n",
    "print(a)  # type(1) 返回 int，因为 1 是整数类型。\n",
    "type(a)  # type(a) 返回 type，因为 a 是一个类型对象（即 int 类型），而所有类型对象的类型都是 type。"
   ]
  },
  {
   "cell_type": "code",
   "execution_count": 66,
   "metadata": {},
   "outputs": [
    {
     "name": "stdout",
     "output_type": "stream",
     "text": [
      "<class 'pandas.core.series.Series'>\n"
     ]
    },
    {
     "data": {
      "text/plain": [
       "0    1\n",
       "1    2\n",
       "2    3\n",
       "dtype: int64"
      ]
     },
     "execution_count": 66,
     "metadata": {},
     "output_type": "execute_result"
    }
   ],
   "source": [
    "a = type(actual_left)\n",
    "print(a)\n",
    "a([1, 2, 3])  # 基于a类型创建新对象"
   ]
  },
  {
   "cell_type": "markdown",
   "metadata": {},
   "source": [
    "## 串联series方法"
   ]
  },
  {
   "cell_type": "code",
   "execution_count": 67,
   "metadata": {},
   "outputs": [
    {
     "data": {
      "text/plain": [
       "实测宽度（mm）左\n",
       "-3101.0    3\n",
       "-3043.0    2\n",
       "-3047.0    2\n",
       "Name: count, dtype: int64"
      ]
     },
     "execution_count": 67,
     "metadata": {},
     "output_type": "execute_result"
    }
   ],
   "source": [
    "# 计数，查看前三\n",
    "actual_left = df_report['实测宽度（mm）左']\n",
    "actual_left.value_counts().head(3)"
   ]
  },
  {
   "cell_type": "code",
   "execution_count": 68,
   "metadata": {},
   "outputs": [
    {
     "data": {
      "text/plain": [
       "np.int64(1)"
      ]
     },
     "execution_count": 68,
     "metadata": {},
     "output_type": "execute_result"
    }
   ],
   "source": [
    "# 统计缺失值的数量\n",
    "actual_left.isnull().sum()"
   ]
  },
  {
   "cell_type": "code",
   "execution_count": 69,
   "metadata": {},
   "outputs": [
    {
     "data": {
      "text/plain": [
       "dtype('float64')"
      ]
     },
     "execution_count": 69,
     "metadata": {},
     "output_type": "execute_result"
    }
   ],
   "source": [
    "# 查看数据类型\n",
    "actual_left.dtype\n"
   ]
  },
  {
   "cell_type": "code",
   "execution_count": 70,
   "metadata": {},
   "outputs": [
    {
     "data": {
      "text/plain": [
       "0   -3101\n",
       "1   -4003\n",
       "2   -3043\n",
       "3   -3105\n",
       "4   -3998\n",
       "Name: 实测宽度（mm）左, dtype: int64"
      ]
     },
     "execution_count": 70,
     "metadata": {},
     "output_type": "execute_result"
    }
   ],
   "source": [
    "# 缺失值填充为0，转换为整形，查看前五\n",
    "actual_left.fillna(0)\\\n",
    "           .astype(int)\\\n",
    "           .head()\n"
   ]
  },
  {
   "cell_type": "code",
   "execution_count": 71,
   "metadata": {},
   "outputs": [
    {
     "data": {
      "text/plain": [
       "np.float64(0.047619047619047616)"
      ]
     },
     "execution_count": 71,
     "metadata": {},
     "output_type": "execute_result"
    }
   ],
   "source": [
    "# 缺失值的比例\n",
    "actual_left.isnull().mean()"
   ]
  },
  {
   "cell_type": "code",
   "execution_count": 72,
   "metadata": {},
   "outputs": [
    {
     "data": {
      "text/plain": [
       "0   -3101\n",
       "1   -4003\n",
       "2   -3043\n",
       "3   -3105\n",
       "4   -3998\n",
       "Name: 实测宽度（mm）左, dtype: int64"
      ]
     },
     "execution_count": 72,
     "metadata": {},
     "output_type": "execute_result"
    }
   ],
   "source": [
    "# 使用 （） 串联\n",
    "(actual_left.fillna(0)\n",
    "            .astype(int)\n",
    "            .head())"
   ]
  },
  {
   "cell_type": "markdown",
   "metadata": {},
   "source": [
    "## 使 索引 有意义"
   ]
  },
  {
   "cell_type": "code",
   "execution_count": 73,
   "metadata": {},
   "outputs": [
    {
     "data": {
      "text/html": [
       "<div>\n",
       "<style scoped>\n",
       "    .dataframe tbody tr th:only-of-type {\n",
       "        vertical-align: middle;\n",
       "    }\n",
       "\n",
       "    .dataframe tbody tr th {\n",
       "        vertical-align: top;\n",
       "    }\n",
       "\n",
       "    .dataframe thead th {\n",
       "        text-align: right;\n",
       "    }\n",
       "</style>\n",
       "<table border=\"1\" class=\"dataframe\">\n",
       "  <thead>\n",
       "    <tr style=\"text-align: right;\">\n",
       "      <th></th>\n",
       "      <th>测点位置</th>\n",
       "      <th>设计宽度（mm）左</th>\n",
       "      <th>实测宽度（mm）左</th>\n",
       "      <th>差值（mm）左</th>\n",
       "      <th>设计宽度（mm）右</th>\n",
       "      <th>实测宽度（mm）右</th>\n",
       "      <th>差值（mm）右</th>\n",
       "      <th>director_name</th>\n",
       "    </tr>\n",
       "    <tr>\n",
       "      <th>里程</th>\n",
       "      <th></th>\n",
       "      <th></th>\n",
       "      <th></th>\n",
       "      <th></th>\n",
       "      <th></th>\n",
       "      <th></th>\n",
       "      <th></th>\n",
       "      <th></th>\n",
       "    </tr>\n",
       "  </thead>\n",
       "  <tbody>\n",
       "    <tr>\n",
       "      <th>63316.4</th>\n",
       "      <td>A1</td>\n",
       "      <td>-3082</td>\n",
       "      <td>-3101.0</td>\n",
       "      <td>-18.7</td>\n",
       "      <td>3082</td>\n",
       "      <td>3116</td>\n",
       "      <td>34.19</td>\n",
       "      <td>文件名称1</td>\n",
       "    </tr>\n",
       "    <tr>\n",
       "      <th>63316.4</th>\n",
       "      <td>A2</td>\n",
       "      <td>-4000</td>\n",
       "      <td>-4003.0</td>\n",
       "      <td>-2.6</td>\n",
       "      <td>4000</td>\n",
       "      <td>4035</td>\n",
       "      <td>35.03</td>\n",
       "      <td>文件名称2</td>\n",
       "    </tr>\n",
       "    <tr>\n",
       "      <th>63316.4</th>\n",
       "      <td>A3</td>\n",
       "      <td>-3082</td>\n",
       "      <td>-3043.0</td>\n",
       "      <td>38.9</td>\n",
       "      <td>3082</td>\n",
       "      <td>3092</td>\n",
       "      <td>10.50</td>\n",
       "      <td>文件名称3</td>\n",
       "    </tr>\n",
       "    <tr>\n",
       "      <th>63318.2</th>\n",
       "      <td>A1</td>\n",
       "      <td>-3082</td>\n",
       "      <td>-3105.0</td>\n",
       "      <td>-23.2</td>\n",
       "      <td>3082</td>\n",
       "      <td>3120</td>\n",
       "      <td>38.11</td>\n",
       "      <td>文件名称4</td>\n",
       "    </tr>\n",
       "    <tr>\n",
       "      <th>...</th>\n",
       "      <td>...</td>\n",
       "      <td>...</td>\n",
       "      <td>...</td>\n",
       "      <td>...</td>\n",
       "      <td>...</td>\n",
       "      <td>...</td>\n",
       "      <td>...</td>\n",
       "      <td>...</td>\n",
       "    </tr>\n",
       "    <tr>\n",
       "      <th>63325.4</th>\n",
       "      <td>A3</td>\n",
       "      <td>-3082</td>\n",
       "      <td>-3053.0</td>\n",
       "      <td>28.9</td>\n",
       "      <td>3082</td>\n",
       "      <td>3078</td>\n",
       "      <td>-3.95</td>\n",
       "      <td>文件名称18</td>\n",
       "    </tr>\n",
       "    <tr>\n",
       "      <th>63327.2</th>\n",
       "      <td>A1</td>\n",
       "      <td>-3082</td>\n",
       "      <td>-3100.0</td>\n",
       "      <td>-18.6</td>\n",
       "      <td>3082</td>\n",
       "      <td>3122</td>\n",
       "      <td>39.68</td>\n",
       "      <td>文件名称19</td>\n",
       "    </tr>\n",
       "    <tr>\n",
       "      <th>63327.2</th>\n",
       "      <td>A2</td>\n",
       "      <td>-4000</td>\n",
       "      <td>-3995.0</td>\n",
       "      <td>5.0</td>\n",
       "      <td>4000</td>\n",
       "      <td>4039</td>\n",
       "      <td>39.42</td>\n",
       "      <td>文件名称20</td>\n",
       "    </tr>\n",
       "    <tr>\n",
       "      <th>63327.2</th>\n",
       "      <td>A3</td>\n",
       "      <td>-3082</td>\n",
       "      <td>-3051.0</td>\n",
       "      <td>30.8</td>\n",
       "      <td>3082</td>\n",
       "      <td>3076</td>\n",
       "      <td>-6.33</td>\n",
       "      <td>文件名称21</td>\n",
       "    </tr>\n",
       "  </tbody>\n",
       "</table>\n",
       "<p>21 rows × 8 columns</p>\n",
       "</div>"
      ],
      "text/plain": [
       "        测点位置  设计宽度（mm）左  实测宽度（mm）左  差值（mm）左  设计宽度（mm）右  实测宽度（mm）右  差值（mm）右  \\\n",
       "里程                                                                           \n",
       "63316.4   A1      -3082    -3101.0    -18.7       3082       3116    34.19   \n",
       "63316.4   A2      -4000    -4003.0     -2.6       4000       4035    35.03   \n",
       "63316.4   A3      -3082    -3043.0     38.9       3082       3092    10.50   \n",
       "63318.2   A1      -3082    -3105.0    -23.2       3082       3120    38.11   \n",
       "...      ...        ...        ...      ...        ...        ...      ...   \n",
       "63325.4   A3      -3082    -3053.0     28.9       3082       3078    -3.95   \n",
       "63327.2   A1      -3082    -3100.0    -18.6       3082       3122    39.68   \n",
       "63327.2   A2      -4000    -3995.0      5.0       4000       4039    39.42   \n",
       "63327.2   A3      -3082    -3051.0     30.8       3082       3076    -6.33   \n",
       "\n",
       "        director_name  \n",
       "里程                     \n",
       "63316.4         文件名称1  \n",
       "63316.4         文件名称2  \n",
       "63316.4         文件名称3  \n",
       "63318.2         文件名称4  \n",
       "...               ...  \n",
       "63325.4        文件名称18  \n",
       "63327.2        文件名称19  \n",
       "63327.2        文件名称20  \n",
       "63327.2        文件名称21  \n",
       "\n",
       "[21 rows x 8 columns]"
      ]
     },
     "execution_count": 73,
     "metadata": {},
     "output_type": "execute_result"
    }
   ],
   "source": [
    "# set_index()给行索引命名\n",
    "df_report.shape\n",
    "\n",
    "df_report2 = df_report.set_index('里程')\n",
    "df_report2"
   ]
  },
  {
   "cell_type": "code",
   "execution_count": 74,
   "metadata": {},
   "outputs": [
    {
     "data": {
      "text/html": [
       "<div>\n",
       "<style scoped>\n",
       "    .dataframe tbody tr th:only-of-type {\n",
       "        vertical-align: middle;\n",
       "    }\n",
       "\n",
       "    .dataframe tbody tr th {\n",
       "        vertical-align: top;\n",
       "    }\n",
       "\n",
       "    .dataframe thead th {\n",
       "        text-align: right;\n",
       "    }\n",
       "</style>\n",
       "<table border=\"1\" class=\"dataframe\">\n",
       "  <thead>\n",
       "    <tr style=\"text-align: right;\">\n",
       "      <th></th>\n",
       "      <th>测点位置</th>\n",
       "      <th>设计宽度（mm）左</th>\n",
       "      <th>实测宽度（mm）左</th>\n",
       "      <th>差值（mm）左</th>\n",
       "      <th>设计宽度（mm）右</th>\n",
       "      <th>实测宽度（mm）右</th>\n",
       "      <th>差值（mm）右</th>\n",
       "      <th>director_name</th>\n",
       "    </tr>\n",
       "    <tr>\n",
       "      <th>里程</th>\n",
       "      <th></th>\n",
       "      <th></th>\n",
       "      <th></th>\n",
       "      <th></th>\n",
       "      <th></th>\n",
       "      <th></th>\n",
       "      <th></th>\n",
       "      <th></th>\n",
       "    </tr>\n",
       "  </thead>\n",
       "  <tbody>\n",
       "    <tr>\n",
       "      <th>63316.4</th>\n",
       "      <td>A1</td>\n",
       "      <td>-3082</td>\n",
       "      <td>-3101.0</td>\n",
       "      <td>-18.7</td>\n",
       "      <td>3082</td>\n",
       "      <td>3116</td>\n",
       "      <td>34.19</td>\n",
       "      <td>文件名称1</td>\n",
       "    </tr>\n",
       "    <tr>\n",
       "      <th>63316.4</th>\n",
       "      <td>A2</td>\n",
       "      <td>-4000</td>\n",
       "      <td>-4003.0</td>\n",
       "      <td>-2.6</td>\n",
       "      <td>4000</td>\n",
       "      <td>4035</td>\n",
       "      <td>35.03</td>\n",
       "      <td>文件名称2</td>\n",
       "    </tr>\n",
       "    <tr>\n",
       "      <th>63316.4</th>\n",
       "      <td>A3</td>\n",
       "      <td>-3082</td>\n",
       "      <td>-3043.0</td>\n",
       "      <td>38.9</td>\n",
       "      <td>3082</td>\n",
       "      <td>3092</td>\n",
       "      <td>10.50</td>\n",
       "      <td>文件名称3</td>\n",
       "    </tr>\n",
       "    <tr>\n",
       "      <th>63318.2</th>\n",
       "      <td>A1</td>\n",
       "      <td>-3082</td>\n",
       "      <td>-3105.0</td>\n",
       "      <td>-23.2</td>\n",
       "      <td>3082</td>\n",
       "      <td>3120</td>\n",
       "      <td>38.11</td>\n",
       "      <td>文件名称4</td>\n",
       "    </tr>\n",
       "    <tr>\n",
       "      <th>...</th>\n",
       "      <td>...</td>\n",
       "      <td>...</td>\n",
       "      <td>...</td>\n",
       "      <td>...</td>\n",
       "      <td>...</td>\n",
       "      <td>...</td>\n",
       "      <td>...</td>\n",
       "      <td>...</td>\n",
       "    </tr>\n",
       "    <tr>\n",
       "      <th>63325.4</th>\n",
       "      <td>A3</td>\n",
       "      <td>-3082</td>\n",
       "      <td>-3053.0</td>\n",
       "      <td>28.9</td>\n",
       "      <td>3082</td>\n",
       "      <td>3078</td>\n",
       "      <td>-3.95</td>\n",
       "      <td>文件名称18</td>\n",
       "    </tr>\n",
       "    <tr>\n",
       "      <th>63327.2</th>\n",
       "      <td>A1</td>\n",
       "      <td>-3082</td>\n",
       "      <td>-3100.0</td>\n",
       "      <td>-18.6</td>\n",
       "      <td>3082</td>\n",
       "      <td>3122</td>\n",
       "      <td>39.68</td>\n",
       "      <td>文件名称19</td>\n",
       "    </tr>\n",
       "    <tr>\n",
       "      <th>63327.2</th>\n",
       "      <td>A2</td>\n",
       "      <td>-4000</td>\n",
       "      <td>-3995.0</td>\n",
       "      <td>5.0</td>\n",
       "      <td>4000</td>\n",
       "      <td>4039</td>\n",
       "      <td>39.42</td>\n",
       "      <td>文件名称20</td>\n",
       "    </tr>\n",
       "    <tr>\n",
       "      <th>63327.2</th>\n",
       "      <td>A3</td>\n",
       "      <td>-3082</td>\n",
       "      <td>-3051.0</td>\n",
       "      <td>30.8</td>\n",
       "      <td>3082</td>\n",
       "      <td>3076</td>\n",
       "      <td>-6.33</td>\n",
       "      <td>文件名称21</td>\n",
       "    </tr>\n",
       "  </tbody>\n",
       "</table>\n",
       "<p>21 rows × 8 columns</p>\n",
       "</div>"
      ],
      "text/plain": [
       "        测点位置  设计宽度（mm）左  实测宽度（mm）左  差值（mm）左  设计宽度（mm）右  实测宽度（mm）右  差值（mm）右  \\\n",
       "里程                                                                           \n",
       "63316.4   A1      -3082    -3101.0    -18.7       3082       3116    34.19   \n",
       "63316.4   A2      -4000    -4003.0     -2.6       4000       4035    35.03   \n",
       "63316.4   A3      -3082    -3043.0     38.9       3082       3092    10.50   \n",
       "63318.2   A1      -3082    -3105.0    -23.2       3082       3120    38.11   \n",
       "...      ...        ...        ...      ...        ...        ...      ...   \n",
       "63325.4   A3      -3082    -3053.0     28.9       3082       3078    -3.95   \n",
       "63327.2   A1      -3082    -3100.0    -18.6       3082       3122    39.68   \n",
       "63327.2   A2      -4000    -3995.0      5.0       4000       4039    39.42   \n",
       "63327.2   A3      -3082    -3051.0     30.8       3082       3076    -6.33   \n",
       "\n",
       "        director_name  \n",
       "里程                     \n",
       "63316.4         文件名称1  \n",
       "63316.4         文件名称2  \n",
       "63316.4         文件名称3  \n",
       "63318.2         文件名称4  \n",
       "...               ...  \n",
       "63325.4        文件名称18  \n",
       "63327.2        文件名称19  \n",
       "63327.2        文件名称20  \n",
       "63327.2        文件名称21  \n",
       "\n",
       "[21 rows x 8 columns]"
      ]
     },
     "execution_count": 74,
     "metadata": {},
     "output_type": "execute_result"
    }
   ],
   "source": [
    "# 通过 index_col 参数命名\n",
    "pd.read_csv('data.csv',\n",
    "             encoding='gb2312',\n",
    "             index_col=\"里程\")"
   ]
  },
  {
   "cell_type": "code",
   "execution_count": 75,
   "metadata": {},
   "outputs": [
    {
     "data": {
      "text/html": [
       "<div>\n",
       "<style scoped>\n",
       "    .dataframe tbody tr th:only-of-type {\n",
       "        vertical-align: middle;\n",
       "    }\n",
       "\n",
       "    .dataframe tbody tr th {\n",
       "        vertical-align: top;\n",
       "    }\n",
       "\n",
       "    .dataframe thead th {\n",
       "        text-align: right;\n",
       "    }\n",
       "</style>\n",
       "<table border=\"1\" class=\"dataframe\">\n",
       "  <thead>\n",
       "    <tr style=\"text-align: right;\">\n",
       "      <th></th>\n",
       "      <th>里程</th>\n",
       "      <th>测点位置</th>\n",
       "      <th>设计宽度（mm）左</th>\n",
       "      <th>实测宽度（mm）左</th>\n",
       "      <th>...</th>\n",
       "      <th>设计宽度（mm）右</th>\n",
       "      <th>实测宽度（mm）右</th>\n",
       "      <th>差值（mm）右</th>\n",
       "      <th>director_name</th>\n",
       "    </tr>\n",
       "  </thead>\n",
       "  <tbody>\n",
       "    <tr>\n",
       "      <th>0</th>\n",
       "      <td>63316.4</td>\n",
       "      <td>A1</td>\n",
       "      <td>-3082</td>\n",
       "      <td>-3101.0</td>\n",
       "      <td>...</td>\n",
       "      <td>3082</td>\n",
       "      <td>3116</td>\n",
       "      <td>34.19</td>\n",
       "      <td>文件名称1</td>\n",
       "    </tr>\n",
       "    <tr>\n",
       "      <th>1</th>\n",
       "      <td>63316.4</td>\n",
       "      <td>A2</td>\n",
       "      <td>-4000</td>\n",
       "      <td>-4003.0</td>\n",
       "      <td>...</td>\n",
       "      <td>4000</td>\n",
       "      <td>4035</td>\n",
       "      <td>35.03</td>\n",
       "      <td>文件名称2</td>\n",
       "    </tr>\n",
       "    <tr>\n",
       "      <th>2</th>\n",
       "      <td>63316.4</td>\n",
       "      <td>A3</td>\n",
       "      <td>-3082</td>\n",
       "      <td>-3043.0</td>\n",
       "      <td>...</td>\n",
       "      <td>3082</td>\n",
       "      <td>3092</td>\n",
       "      <td>10.50</td>\n",
       "      <td>文件名称3</td>\n",
       "    </tr>\n",
       "    <tr>\n",
       "      <th>3</th>\n",
       "      <td>63318.2</td>\n",
       "      <td>A1</td>\n",
       "      <td>-3082</td>\n",
       "      <td>-3105.0</td>\n",
       "      <td>...</td>\n",
       "      <td>3082</td>\n",
       "      <td>3120</td>\n",
       "      <td>38.11</td>\n",
       "      <td>文件名称4</td>\n",
       "    </tr>\n",
       "    <tr>\n",
       "      <th>...</th>\n",
       "      <td>...</td>\n",
       "      <td>...</td>\n",
       "      <td>...</td>\n",
       "      <td>...</td>\n",
       "      <td>...</td>\n",
       "      <td>...</td>\n",
       "      <td>...</td>\n",
       "      <td>...</td>\n",
       "      <td>...</td>\n",
       "    </tr>\n",
       "    <tr>\n",
       "      <th>17</th>\n",
       "      <td>63325.4</td>\n",
       "      <td>A3</td>\n",
       "      <td>-3082</td>\n",
       "      <td>-3053.0</td>\n",
       "      <td>...</td>\n",
       "      <td>3082</td>\n",
       "      <td>3078</td>\n",
       "      <td>-3.95</td>\n",
       "      <td>文件名称18</td>\n",
       "    </tr>\n",
       "    <tr>\n",
       "      <th>18</th>\n",
       "      <td>63327.2</td>\n",
       "      <td>A1</td>\n",
       "      <td>-3082</td>\n",
       "      <td>-3100.0</td>\n",
       "      <td>...</td>\n",
       "      <td>3082</td>\n",
       "      <td>3122</td>\n",
       "      <td>39.68</td>\n",
       "      <td>文件名称19</td>\n",
       "    </tr>\n",
       "    <tr>\n",
       "      <th>19</th>\n",
       "      <td>63327.2</td>\n",
       "      <td>A2</td>\n",
       "      <td>-4000</td>\n",
       "      <td>-3995.0</td>\n",
       "      <td>...</td>\n",
       "      <td>4000</td>\n",
       "      <td>4039</td>\n",
       "      <td>39.42</td>\n",
       "      <td>文件名称20</td>\n",
       "    </tr>\n",
       "    <tr>\n",
       "      <th>20</th>\n",
       "      <td>63327.2</td>\n",
       "      <td>A3</td>\n",
       "      <td>-3082</td>\n",
       "      <td>-3051.0</td>\n",
       "      <td>...</td>\n",
       "      <td>3082</td>\n",
       "      <td>3076</td>\n",
       "      <td>-6.33</td>\n",
       "      <td>文件名称21</td>\n",
       "    </tr>\n",
       "  </tbody>\n",
       "</table>\n",
       "<p>21 rows × 9 columns</p>\n",
       "</div>"
      ],
      "text/plain": [
       "         里程 测点位置  设计宽度（mm）左  实测宽度（mm）左  ...  设计宽度（mm）右  实测宽度（mm）右  差值（mm）右  \\\n",
       "0   63316.4   A1      -3082    -3101.0  ...       3082       3116    34.19   \n",
       "1   63316.4   A2      -4000    -4003.0  ...       4000       4035    35.03   \n",
       "2   63316.4   A3      -3082    -3043.0  ...       3082       3092    10.50   \n",
       "3   63318.2   A1      -3082    -3105.0  ...       3082       3120    38.11   \n",
       "..      ...  ...        ...        ...  ...        ...        ...      ...   \n",
       "17  63325.4   A3      -3082    -3053.0  ...       3082       3078    -3.95   \n",
       "18  63327.2   A1      -3082    -3100.0  ...       3082       3122    39.68   \n",
       "19  63327.2   A2      -4000    -3995.0  ...       4000       4039    39.42   \n",
       "20  63327.2   A3      -3082    -3051.0  ...       3082       3076    -6.33   \n",
       "\n",
       "    director_name  \n",
       "0           文件名称1  \n",
       "1           文件名称2  \n",
       "2           文件名称3  \n",
       "3           文件名称4  \n",
       "..            ...  \n",
       "17         文件名称18  \n",
       "18         文件名称19  \n",
       "19         文件名称20  \n",
       "20         文件名称21  \n",
       "\n",
       "[21 rows x 9 columns]"
      ]
     },
     "execution_count": 75,
     "metadata": {},
     "output_type": "execute_result"
    }
   ],
   "source": [
    "# 复原索引\n",
    "df_report2.reset_index()"
   ]
  },
  {
   "cell_type": "markdown",
   "metadata": {},
   "source": [
    "## 重命名行名和列名"
   ]
  },
  {
   "cell_type": "code",
   "execution_count": 76,
   "metadata": {},
   "outputs": [
    {
     "data": {
      "text/html": [
       "<div>\n",
       "<style scoped>\n",
       "    .dataframe tbody tr th:only-of-type {\n",
       "        vertical-align: middle;\n",
       "    }\n",
       "\n",
       "    .dataframe tbody tr th {\n",
       "        vertical-align: top;\n",
       "    }\n",
       "\n",
       "    .dataframe thead th {\n",
       "        text-align: right;\n",
       "    }\n",
       "</style>\n",
       "<table border=\"1\" class=\"dataframe\">\n",
       "  <thead>\n",
       "    <tr style=\"text-align: right;\">\n",
       "      <th></th>\n",
       "      <th>测点位置</th>\n",
       "      <th>设计宽度（mm）左</th>\n",
       "      <th>实测宽度（mm）左</th>\n",
       "      <th>差值（mm）左</th>\n",
       "      <th>设计宽度（mm）右</th>\n",
       "      <th>实测宽度（mm）右</th>\n",
       "      <th>差值（mm）右</th>\n",
       "      <th>文件名称</th>\n",
       "    </tr>\n",
       "    <tr>\n",
       "      <th>桩号1</th>\n",
       "      <th></th>\n",
       "      <th></th>\n",
       "      <th></th>\n",
       "      <th></th>\n",
       "      <th></th>\n",
       "      <th></th>\n",
       "      <th></th>\n",
       "      <th></th>\n",
       "    </tr>\n",
       "  </thead>\n",
       "  <tbody>\n",
       "    <tr>\n",
       "      <th>63316.4-1</th>\n",
       "      <td>A1</td>\n",
       "      <td>-3082</td>\n",
       "      <td>-3101.0</td>\n",
       "      <td>-18.7</td>\n",
       "      <td>3082</td>\n",
       "      <td>3116</td>\n",
       "      <td>34.19</td>\n",
       "      <td>文件名称1</td>\n",
       "    </tr>\n",
       "    <tr>\n",
       "      <th>63316.4-1</th>\n",
       "      <td>A2</td>\n",
       "      <td>-4000</td>\n",
       "      <td>-4003.0</td>\n",
       "      <td>-2.6</td>\n",
       "      <td>4000</td>\n",
       "      <td>4035</td>\n",
       "      <td>35.03</td>\n",
       "      <td>文件名称2</td>\n",
       "    </tr>\n",
       "    <tr>\n",
       "      <th>63316.4-1</th>\n",
       "      <td>A3</td>\n",
       "      <td>-3082</td>\n",
       "      <td>-3043.0</td>\n",
       "      <td>38.9</td>\n",
       "      <td>3082</td>\n",
       "      <td>3092</td>\n",
       "      <td>10.50</td>\n",
       "      <td>文件名称3</td>\n",
       "    </tr>\n",
       "    <tr>\n",
       "      <th>63318.2-1</th>\n",
       "      <td>A1</td>\n",
       "      <td>-3082</td>\n",
       "      <td>-3105.0</td>\n",
       "      <td>-23.2</td>\n",
       "      <td>3082</td>\n",
       "      <td>3120</td>\n",
       "      <td>38.11</td>\n",
       "      <td>文件名称4</td>\n",
       "    </tr>\n",
       "    <tr>\n",
       "      <th>63318.2-1</th>\n",
       "      <td>A2</td>\n",
       "      <td>-4000</td>\n",
       "      <td>-3998.0</td>\n",
       "      <td>2.3</td>\n",
       "      <td>4000</td>\n",
       "      <td>4039</td>\n",
       "      <td>38.46</td>\n",
       "      <td>文件名称5</td>\n",
       "    </tr>\n",
       "  </tbody>\n",
       "</table>\n",
       "</div>"
      ],
      "text/plain": [
       "          测点位置  设计宽度（mm）左  实测宽度（mm）左  差值（mm）左  设计宽度（mm）右  实测宽度（mm）右  差值（mm）右  \\\n",
       "桩号1                                                                            \n",
       "63316.4-1   A1      -3082    -3101.0    -18.7       3082       3116    34.19   \n",
       "63316.4-1   A2      -4000    -4003.0     -2.6       4000       4035    35.03   \n",
       "63316.4-1   A3      -3082    -3043.0     38.9       3082       3092    10.50   \n",
       "63318.2-1   A1      -3082    -3105.0    -23.2       3082       3120    38.11   \n",
       "63318.2-1   A2      -4000    -3998.0      2.3       4000       4039    38.46   \n",
       "\n",
       "            文件名称  \n",
       "桩号1               \n",
       "63316.4-1  文件名称1  \n",
       "63316.4-1  文件名称2  \n",
       "63316.4-1  文件名称3  \n",
       "63318.2-1  文件名称4  \n",
       "63318.2-1  文件名称5  "
      ]
     },
     "execution_count": 76,
     "metadata": {},
     "output_type": "execute_result"
    }
   ],
   "source": [
    "# 通过 rename 重命名\n",
    "df_report = pd.read_csv('data.csv',\n",
    "             encoding='gb2312',\n",
    "             index_col=\"里程\")\n",
    "\n",
    "idx_rename = {63316.4: '63316.4-1', 63318.2: '63318.2-1'}\n",
    "col_rename = {'里程': '桩号', 'director_name': '文件名称'}  # 行索引无法对其重命名\n",
    "\n",
    "# 索引名称重命名\n",
    "df_report = df_report.rename_axis('桩号1')\n",
    "\n",
    "df_report2 =  df_report.rename(index=idx_rename,\n",
    "                       columns=col_rename).head()\n",
    "\n",
    "df_report2"
   ]
  },
  {
   "cell_type": "code",
   "execution_count": 77,
   "metadata": {},
   "outputs": [],
   "source": [
    "# 方法2：将index和columns属性转化为列表\n",
    "\n",
    "index = df_report.index\n",
    "columns = df_report.columns\n",
    "\n",
    "index_list = index.tolist()  # 转化为列表\n",
    "column_list = columns.tolist()"
   ]
  },
  {
   "cell_type": "code",
   "execution_count": 78,
   "metadata": {},
   "outputs": [
    {
     "data": {
      "text/plain": [
       "[63316.4,\n",
       " 63316.4,\n",
       " 63316.4,\n",
       " 63318.2,\n",
       " 63318.2,\n",
       " 63318.2,\n",
       " 63320.0,\n",
       " 63320.0,\n",
       " 63320.0,\n",
       " 63321.8,\n",
       " 63321.8,\n",
       " 63321.8,\n",
       " 63323.6,\n",
       " 63323.6,\n",
       " 63323.6,\n",
       " 63325.4,\n",
       " 63325.4,\n",
       " 63325.4,\n",
       " 63327.2,\n",
       " 63327.2,\n",
       " 63327.2]"
      ]
     },
     "execution_count": 78,
     "metadata": {},
     "output_type": "execute_result"
    }
   ],
   "source": [
    "index_list"
   ]
  },
  {
   "cell_type": "code",
   "execution_count": 79,
   "metadata": {},
   "outputs": [
    {
     "data": {
      "text/plain": [
       "['测点位置',\n",
       " '设计宽度（mm）左',\n",
       " '实测宽度（mm）左',\n",
       " '差值（mm）左',\n",
       " '设计宽度（mm）右',\n",
       " '实测宽度（mm）右',\n",
       " '差值（mm）右',\n",
       " 'director_name']"
      ]
     },
     "execution_count": 79,
     "metadata": {},
     "output_type": "execute_result"
    }
   ],
   "source": [
    "column_list"
   ]
  },
  {
   "cell_type": "code",
   "execution_count": 80,
   "metadata": {},
   "outputs": [],
   "source": [
    "index_list[0] = 'Ratava'\n",
    "index_list[2] = 'Ertceps'\n",
    "column_list[1] = 'Director Name'\n",
    "column_list[2] = 'Critical Reviews'"
   ]
  },
  {
   "cell_type": "code",
   "execution_count": 81,
   "metadata": {},
   "outputs": [
    {
     "data": {
      "text/plain": [
       "['Ratava', 63316.4, 'Ertceps', 63318.2, 63318.2]"
      ]
     },
     "execution_count": 81,
     "metadata": {},
     "output_type": "execute_result"
    }
   ],
   "source": [
    "index_list[:5]"
   ]
  },
  {
   "cell_type": "code",
   "execution_count": 82,
   "metadata": {},
   "outputs": [
    {
     "data": {
      "text/plain": [
       "['测点位置',\n",
       " 'Director Name',\n",
       " 'Critical Reviews',\n",
       " '差值（mm）左',\n",
       " '设计宽度（mm）右',\n",
       " '实测宽度（mm）右',\n",
       " '差值（mm）右',\n",
       " 'director_name']"
      ]
     },
     "execution_count": 82,
     "metadata": {},
     "output_type": "execute_result"
    }
   ],
   "source": [
    "column_list"
   ]
  },
  {
   "cell_type": "code",
   "execution_count": 83,
   "metadata": {},
   "outputs": [],
   "source": [
    "df_report.index = index_list\n",
    "df_report.columns = column_list"
   ]
  },
  {
   "cell_type": "code",
   "execution_count": 84,
   "metadata": {},
   "outputs": [
    {
     "data": {
      "text/html": [
       "<div>\n",
       "<style scoped>\n",
       "    .dataframe tbody tr th:only-of-type {\n",
       "        vertical-align: middle;\n",
       "    }\n",
       "\n",
       "    .dataframe tbody tr th {\n",
       "        vertical-align: top;\n",
       "    }\n",
       "\n",
       "    .dataframe thead th {\n",
       "        text-align: right;\n",
       "    }\n",
       "</style>\n",
       "<table border=\"1\" class=\"dataframe\">\n",
       "  <thead>\n",
       "    <tr style=\"text-align: right;\">\n",
       "      <th></th>\n",
       "      <th>测点位置</th>\n",
       "      <th>Director Name</th>\n",
       "      <th>Critical Reviews</th>\n",
       "      <th>差值（mm）左</th>\n",
       "      <th>设计宽度（mm）右</th>\n",
       "      <th>实测宽度（mm）右</th>\n",
       "      <th>差值（mm）右</th>\n",
       "      <th>director_name</th>\n",
       "    </tr>\n",
       "  </thead>\n",
       "  <tbody>\n",
       "    <tr>\n",
       "      <th>Ratava</th>\n",
       "      <td>A1</td>\n",
       "      <td>-3082</td>\n",
       "      <td>-3101.0</td>\n",
       "      <td>-18.7</td>\n",
       "      <td>3082</td>\n",
       "      <td>3116</td>\n",
       "      <td>34.19</td>\n",
       "      <td>文件名称1</td>\n",
       "    </tr>\n",
       "    <tr>\n",
       "      <th>63316.4</th>\n",
       "      <td>A2</td>\n",
       "      <td>-4000</td>\n",
       "      <td>-4003.0</td>\n",
       "      <td>-2.6</td>\n",
       "      <td>4000</td>\n",
       "      <td>4035</td>\n",
       "      <td>35.03</td>\n",
       "      <td>文件名称2</td>\n",
       "    </tr>\n",
       "    <tr>\n",
       "      <th>Ertceps</th>\n",
       "      <td>A3</td>\n",
       "      <td>-3082</td>\n",
       "      <td>-3043.0</td>\n",
       "      <td>38.9</td>\n",
       "      <td>3082</td>\n",
       "      <td>3092</td>\n",
       "      <td>10.50</td>\n",
       "      <td>文件名称3</td>\n",
       "    </tr>\n",
       "    <tr>\n",
       "      <th>63318.2</th>\n",
       "      <td>A1</td>\n",
       "      <td>-3082</td>\n",
       "      <td>-3105.0</td>\n",
       "      <td>-23.2</td>\n",
       "      <td>3082</td>\n",
       "      <td>3120</td>\n",
       "      <td>38.11</td>\n",
       "      <td>文件名称4</td>\n",
       "    </tr>\n",
       "    <tr>\n",
       "      <th>63318.2</th>\n",
       "      <td>A2</td>\n",
       "      <td>-4000</td>\n",
       "      <td>-3998.0</td>\n",
       "      <td>2.3</td>\n",
       "      <td>4000</td>\n",
       "      <td>4039</td>\n",
       "      <td>38.46</td>\n",
       "      <td>文件名称5</td>\n",
       "    </tr>\n",
       "  </tbody>\n",
       "</table>\n",
       "</div>"
      ],
      "text/plain": [
       "        测点位置  Director Name  Critical Reviews  差值（mm）左  设计宽度（mm）右  实测宽度（mm）右  \\\n",
       "Ratava    A1          -3082           -3101.0    -18.7       3082       3116   \n",
       "63316.4   A2          -4000           -4003.0     -2.6       4000       4035   \n",
       "Ertceps   A3          -3082           -3043.0     38.9       3082       3092   \n",
       "63318.2   A1          -3082           -3105.0    -23.2       3082       3120   \n",
       "63318.2   A2          -4000           -3998.0      2.3       4000       4039   \n",
       "\n",
       "         差值（mm）右 director_name  \n",
       "Ratava     34.19         文件名称1  \n",
       "63316.4    35.03         文件名称2  \n",
       "Ertceps    10.50         文件名称3  \n",
       "63318.2    38.11         文件名称4  \n",
       "63318.2    38.46         文件名称5  "
      ]
     },
     "execution_count": 84,
     "metadata": {},
     "output_type": "execute_result"
    }
   ],
   "source": [
    "df_report.head()"
   ]
  },
  {
   "cell_type": "markdown",
   "metadata": {},
   "source": [
    "## 创建、删除列"
   ]
  },
  {
   "cell_type": "code",
   "execution_count": 85,
   "metadata": {},
   "outputs": [],
   "source": [
    "df_report = pd.read_csv('data.csv',\n",
    "             encoding='gb2312')\n",
    "df_report['has_seen'] = 0"
   ]
  },
  {
   "cell_type": "code",
   "execution_count": 86,
   "metadata": {},
   "outputs": [
    {
     "data": {
      "text/plain": [
       "Index(['里程', '测点位置', '设计宽度（mm）左', '实测宽度（mm）左', '差值（mm）左', '设计宽度（mm）右',\n",
       "       '实测宽度（mm）右', '差值（mm）右', 'director_name', 'has_seen'],\n",
       "      dtype='object')"
      ]
     },
     "execution_count": 86,
     "metadata": {},
     "output_type": "execute_result"
    }
   ],
   "source": [
    "df_report.columns"
   ]
  },
  {
   "cell_type": "code",
   "execution_count": 87,
   "metadata": {},
   "outputs": [
    {
     "data": {
      "text/plain": [
       "np.int64(1)"
      ]
     },
     "execution_count": 87,
     "metadata": {},
     "output_type": "execute_result"
    }
   ],
   "source": [
    "# 给新列赋值\n",
    "df_report['水平宽度'] = abs(df_report['实测宽度（mm）左']) + df_report['实测宽度（mm）右']  # 值 + nan = nan\n",
    "df_report['水平宽度'].isnull().sum()"
   ]
  },
  {
   "cell_type": "code",
   "execution_count": 88,
   "metadata": {},
   "outputs": [
    {
     "data": {
      "text/plain": [
       "0    -3101.0\n",
       "1    -4003.0\n",
       "2    -3043.0\n",
       "3    -3105.0\n",
       "       ...  \n",
       "17   -3053.0\n",
       "18   -3100.0\n",
       "19   -3995.0\n",
       "20   -3051.0\n",
       "Name: 实测宽度（mm）左, Length: 21, dtype: float64"
      ]
     },
     "execution_count": 88,
     "metadata": {},
     "output_type": "execute_result"
    }
   ],
   "source": [
    "df_report['实测宽度（mm）左']"
   ]
  },
  {
   "cell_type": "code",
   "execution_count": 89,
   "metadata": {},
   "outputs": [
    {
     "data": {
      "text/plain": [
       "0     3116\n",
       "1     4035\n",
       "2     3092\n",
       "3     3120\n",
       "      ... \n",
       "17    3078\n",
       "18    3122\n",
       "19    4039\n",
       "20    3076\n",
       "Name: 实测宽度（mm）右, Length: 21, dtype: int64"
      ]
     },
     "execution_count": 89,
     "metadata": {},
     "output_type": "execute_result"
    }
   ],
   "source": [
    "df_report['实测宽度（mm）右']"
   ]
  },
  {
   "cell_type": "code",
   "execution_count": 90,
   "metadata": {},
   "outputs": [
    {
     "data": {
      "text/plain": [
       "0     6217.0\n",
       "1     8038.0\n",
       "2     6135.0\n",
       "3     6225.0\n",
       "       ...  \n",
       "17    6131.0\n",
       "18    6222.0\n",
       "19    8034.0\n",
       "20    6127.0\n",
       "Name: 水平宽度, Length: 21, dtype: float64"
      ]
     },
     "execution_count": 90,
     "metadata": {},
     "output_type": "execute_result"
    }
   ],
   "source": [
    "df_report['水平宽度']"
   ]
  },
  {
   "cell_type": "code",
   "execution_count": 91,
   "metadata": {},
   "outputs": [
    {
     "data": {
      "text/plain": [
       "0    -3101.0\n",
       "1    -4003.0\n",
       "2    -3043.0\n",
       "3    -3105.0\n",
       "       ...  \n",
       "17   -3053.0\n",
       "18   -3100.0\n",
       "19   -3995.0\n",
       "20   -3051.0\n",
       "Name: 实测宽度（mm）左, Length: 21, dtype: float64"
      ]
     },
     "execution_count": 91,
     "metadata": {},
     "output_type": "execute_result"
    }
   ],
   "source": [
    "# 用all()检查是否所有的布尔值都为true\n",
    "df_report['实测宽度（mm）左'] = df_report['实测宽度（mm）左'].fillna(0)\n",
    "df_report['实测宽度（mm）左']"
   ]
  },
  {
   "cell_type": "code",
   "execution_count": 92,
   "metadata": {},
   "outputs": [
    {
     "data": {
      "text/plain": [
       "0     False\n",
       "1     False\n",
       "2     False\n",
       "3     False\n",
       "      ...  \n",
       "17    False\n",
       "18    False\n",
       "19    False\n",
       "20    False\n",
       "Name: is_left_large, Length: 21, dtype: bool"
      ]
     },
     "execution_count": 92,
     "metadata": {},
     "output_type": "execute_result"
    }
   ],
   "source": [
    "df_report['is_left_large'] = (abs(df_report['实测宽度（mm）左']) >= df_report['实测宽度（mm）右'])\n",
    "df_report['is_left_large']"
   ]
  },
  {
   "cell_type": "code",
   "execution_count": 93,
   "metadata": {},
   "outputs": [
    {
     "data": {
      "text/plain": [
       "np.False_"
      ]
     },
     "execution_count": 93,
     "metadata": {},
     "output_type": "execute_result"
    }
   ],
   "source": [
    "df_report['is_left_large'].all()  # 检查 Series 里的所有元素是否都为真值(只要有一个元素为 False 就返回 False)"
   ]
  },
  {
   "cell_type": "code",
   "execution_count": 94,
   "metadata": {},
   "outputs": [
    {
     "data": {
      "text/html": [
       "<div>\n",
       "<style scoped>\n",
       "    .dataframe tbody tr th:only-of-type {\n",
       "        vertical-align: middle;\n",
       "    }\n",
       "\n",
       "    .dataframe tbody tr th {\n",
       "        vertical-align: top;\n",
       "    }\n",
       "\n",
       "    .dataframe thead th {\n",
       "        text-align: right;\n",
       "    }\n",
       "</style>\n",
       "<table border=\"1\" class=\"dataframe\">\n",
       "  <thead>\n",
       "    <tr style=\"text-align: right;\">\n",
       "      <th></th>\n",
       "      <th>里程</th>\n",
       "      <th>测点位置</th>\n",
       "      <th>设计宽度（mm）左</th>\n",
       "      <th>实测宽度（mm）左</th>\n",
       "      <th>...</th>\n",
       "      <th>director_name</th>\n",
       "      <th>has_seen</th>\n",
       "      <th>水平宽度</th>\n",
       "      <th>is_left_large</th>\n",
       "    </tr>\n",
       "  </thead>\n",
       "  <tbody>\n",
       "    <tr>\n",
       "      <th>0</th>\n",
       "      <td>63316.4</td>\n",
       "      <td>A1</td>\n",
       "      <td>-3082</td>\n",
       "      <td>-3101.0</td>\n",
       "      <td>...</td>\n",
       "      <td>文件名称1</td>\n",
       "      <td>0</td>\n",
       "      <td>6217.0</td>\n",
       "      <td>False</td>\n",
       "    </tr>\n",
       "    <tr>\n",
       "      <th>1</th>\n",
       "      <td>63316.4</td>\n",
       "      <td>A2</td>\n",
       "      <td>-4000</td>\n",
       "      <td>-4003.0</td>\n",
       "      <td>...</td>\n",
       "      <td>文件名称2</td>\n",
       "      <td>0</td>\n",
       "      <td>8038.0</td>\n",
       "      <td>False</td>\n",
       "    </tr>\n",
       "    <tr>\n",
       "      <th>2</th>\n",
       "      <td>63316.4</td>\n",
       "      <td>A3</td>\n",
       "      <td>-3082</td>\n",
       "      <td>-3043.0</td>\n",
       "      <td>...</td>\n",
       "      <td>文件名称3</td>\n",
       "      <td>0</td>\n",
       "      <td>6135.0</td>\n",
       "      <td>False</td>\n",
       "    </tr>\n",
       "    <tr>\n",
       "      <th>3</th>\n",
       "      <td>63318.2</td>\n",
       "      <td>A1</td>\n",
       "      <td>-3082</td>\n",
       "      <td>-3105.0</td>\n",
       "      <td>...</td>\n",
       "      <td>文件名称4</td>\n",
       "      <td>0</td>\n",
       "      <td>6225.0</td>\n",
       "      <td>False</td>\n",
       "    </tr>\n",
       "    <tr>\n",
       "      <th>...</th>\n",
       "      <td>...</td>\n",
       "      <td>...</td>\n",
       "      <td>...</td>\n",
       "      <td>...</td>\n",
       "      <td>...</td>\n",
       "      <td>...</td>\n",
       "      <td>...</td>\n",
       "      <td>...</td>\n",
       "      <td>...</td>\n",
       "    </tr>\n",
       "    <tr>\n",
       "      <th>17</th>\n",
       "      <td>63325.4</td>\n",
       "      <td>A3</td>\n",
       "      <td>-3082</td>\n",
       "      <td>-3053.0</td>\n",
       "      <td>...</td>\n",
       "      <td>文件名称18</td>\n",
       "      <td>0</td>\n",
       "      <td>6131.0</td>\n",
       "      <td>False</td>\n",
       "    </tr>\n",
       "    <tr>\n",
       "      <th>18</th>\n",
       "      <td>63327.2</td>\n",
       "      <td>A1</td>\n",
       "      <td>-3082</td>\n",
       "      <td>-3100.0</td>\n",
       "      <td>...</td>\n",
       "      <td>文件名称19</td>\n",
       "      <td>0</td>\n",
       "      <td>6222.0</td>\n",
       "      <td>False</td>\n",
       "    </tr>\n",
       "    <tr>\n",
       "      <th>19</th>\n",
       "      <td>63327.2</td>\n",
       "      <td>A2</td>\n",
       "      <td>-4000</td>\n",
       "      <td>-3995.0</td>\n",
       "      <td>...</td>\n",
       "      <td>文件名称20</td>\n",
       "      <td>0</td>\n",
       "      <td>8034.0</td>\n",
       "      <td>False</td>\n",
       "    </tr>\n",
       "    <tr>\n",
       "      <th>20</th>\n",
       "      <td>63327.2</td>\n",
       "      <td>A3</td>\n",
       "      <td>-3082</td>\n",
       "      <td>-3051.0</td>\n",
       "      <td>...</td>\n",
       "      <td>文件名称21</td>\n",
       "      <td>0</td>\n",
       "      <td>6127.0</td>\n",
       "      <td>False</td>\n",
       "    </tr>\n",
       "  </tbody>\n",
       "</table>\n",
       "<p>21 rows × 12 columns</p>\n",
       "</div>"
      ],
      "text/plain": [
       "         里程 测点位置  设计宽度（mm）左  实测宽度（mm）左  ...  director_name  has_seen    水平宽度  \\\n",
       "0   63316.4   A1      -3082    -3101.0  ...          文件名称1         0  6217.0   \n",
       "1   63316.4   A2      -4000    -4003.0  ...          文件名称2         0  8038.0   \n",
       "2   63316.4   A3      -3082    -3043.0  ...          文件名称3         0  6135.0   \n",
       "3   63318.2   A1      -3082    -3105.0  ...          文件名称4         0  6225.0   \n",
       "..      ...  ...        ...        ...  ...            ...       ...     ...   \n",
       "17  63325.4   A3      -3082    -3053.0  ...         文件名称18         0  6131.0   \n",
       "18  63327.2   A1      -3082    -3100.0  ...         文件名称19         0  6222.0   \n",
       "19  63327.2   A2      -4000    -3995.0  ...         文件名称20         0  8034.0   \n",
       "20  63327.2   A3      -3082    -3051.0  ...         文件名称21         0  6127.0   \n",
       "\n",
       "    is_left_large  \n",
       "0           False  \n",
       "1           False  \n",
       "2           False  \n",
       "3           False  \n",
       "..            ...  \n",
       "17          False  \n",
       "18          False  \n",
       "19          False  \n",
       "20          False  \n",
       "\n",
       "[21 rows x 12 columns]"
      ]
     },
     "execution_count": 94,
     "metadata": {},
     "output_type": "execute_result"
    }
   ],
   "source": [
    "df_report"
   ]
  },
  {
   "cell_type": "code",
   "execution_count": 95,
   "metadata": {},
   "outputs": [],
   "source": [
    "df_report = df_report.drop('is_left_large',axis='columns')  # 从 df_report DataFrame 里移除名为 is_left_large 的列，并将移除列后的新 DataFrame 重新赋值给 df_report 变量"
   ]
  },
  {
   "cell_type": "code",
   "execution_count": 96,
   "metadata": {},
   "outputs": [
    {
     "data": {
      "text/plain": [
       "0"
      ]
     },
     "execution_count": 96,
     "metadata": {},
     "output_type": "execute_result"
    }
   ],
   "source": [
    "df_report.columns.get_loc('里程')"
   ]
  },
  {
   "cell_type": "code",
   "execution_count": 97,
   "metadata": {},
   "outputs": [
    {
     "data": {
      "text/plain": [
       "8"
      ]
     },
     "execution_count": 97,
     "metadata": {},
     "output_type": "execute_result"
    }
   ],
   "source": [
    "# 用 insert() 方法原地插入列\n",
    "profit_index = df_report.columns.get_loc('差值（mm）右') + 1  # get_loc 用于获取指定标签（label）在索引中的整数位置\n",
    "profit_index"
   ]
  },
  {
   "cell_type": "code",
   "execution_count": 98,
   "metadata": {},
   "outputs": [],
   "source": [
    "df_report.insert(loc=profit_index,\n",
    "             column='差值',\n",
    "             value=df_report['差值（mm）左'] + df_report['差值（mm）右'])"
   ]
  },
  {
   "cell_type": "code",
   "execution_count": 99,
   "metadata": {},
   "outputs": [
    {
     "data": {
      "text/html": [
       "<div>\n",
       "<style scoped>\n",
       "    .dataframe tbody tr th:only-of-type {\n",
       "        vertical-align: middle;\n",
       "    }\n",
       "\n",
       "    .dataframe tbody tr th {\n",
       "        vertical-align: top;\n",
       "    }\n",
       "\n",
       "    .dataframe thead th {\n",
       "        text-align: right;\n",
       "    }\n",
       "</style>\n",
       "<table border=\"1\" class=\"dataframe\">\n",
       "  <thead>\n",
       "    <tr style=\"text-align: right;\">\n",
       "      <th></th>\n",
       "      <th>里程</th>\n",
       "      <th>测点位置</th>\n",
       "      <th>设计宽度（mm）左</th>\n",
       "      <th>实测宽度（mm）左</th>\n",
       "      <th>...</th>\n",
       "      <th>差值</th>\n",
       "      <th>director_name</th>\n",
       "      <th>has_seen</th>\n",
       "      <th>水平宽度</th>\n",
       "    </tr>\n",
       "  </thead>\n",
       "  <tbody>\n",
       "    <tr>\n",
       "      <th>0</th>\n",
       "      <td>63316.4</td>\n",
       "      <td>A1</td>\n",
       "      <td>-3082</td>\n",
       "      <td>-3101.0</td>\n",
       "      <td>...</td>\n",
       "      <td>15.49</td>\n",
       "      <td>文件名称1</td>\n",
       "      <td>0</td>\n",
       "      <td>6217.0</td>\n",
       "    </tr>\n",
       "    <tr>\n",
       "      <th>1</th>\n",
       "      <td>63316.4</td>\n",
       "      <td>A2</td>\n",
       "      <td>-4000</td>\n",
       "      <td>-4003.0</td>\n",
       "      <td>...</td>\n",
       "      <td>32.43</td>\n",
       "      <td>文件名称2</td>\n",
       "      <td>0</td>\n",
       "      <td>8038.0</td>\n",
       "    </tr>\n",
       "    <tr>\n",
       "      <th>2</th>\n",
       "      <td>63316.4</td>\n",
       "      <td>A3</td>\n",
       "      <td>-3082</td>\n",
       "      <td>-3043.0</td>\n",
       "      <td>...</td>\n",
       "      <td>49.40</td>\n",
       "      <td>文件名称3</td>\n",
       "      <td>0</td>\n",
       "      <td>6135.0</td>\n",
       "    </tr>\n",
       "    <tr>\n",
       "      <th>3</th>\n",
       "      <td>63318.2</td>\n",
       "      <td>A1</td>\n",
       "      <td>-3082</td>\n",
       "      <td>-3105.0</td>\n",
       "      <td>...</td>\n",
       "      <td>14.91</td>\n",
       "      <td>文件名称4</td>\n",
       "      <td>0</td>\n",
       "      <td>6225.0</td>\n",
       "    </tr>\n",
       "    <tr>\n",
       "      <th>4</th>\n",
       "      <td>63318.2</td>\n",
       "      <td>A2</td>\n",
       "      <td>-4000</td>\n",
       "      <td>-3998.0</td>\n",
       "      <td>...</td>\n",
       "      <td>40.76</td>\n",
       "      <td>文件名称5</td>\n",
       "      <td>0</td>\n",
       "      <td>8037.0</td>\n",
       "    </tr>\n",
       "  </tbody>\n",
       "</table>\n",
       "<p>5 rows × 12 columns</p>\n",
       "</div>"
      ],
      "text/plain": [
       "        里程 测点位置  设计宽度（mm）左  实测宽度（mm）左  ...     差值  director_name  has_seen  \\\n",
       "0  63316.4   A1      -3082    -3101.0  ...  15.49          文件名称1         0   \n",
       "1  63316.4   A2      -4000    -4003.0  ...  32.43          文件名称2         0   \n",
       "2  63316.4   A3      -3082    -3043.0  ...  49.40          文件名称3         0   \n",
       "3  63318.2   A1      -3082    -3105.0  ...  14.91          文件名称4         0   \n",
       "4  63318.2   A2      -4000    -3998.0  ...  40.76          文件名称5         0   \n",
       "\n",
       "     水平宽度  \n",
       "0  6217.0  \n",
       "1  8038.0  \n",
       "2  6135.0  \n",
       "3  6225.0  \n",
       "4  8037.0  \n",
       "\n",
       "[5 rows x 12 columns]"
      ]
     },
     "execution_count": 99,
     "metadata": {},
     "output_type": "execute_result"
    }
   ],
   "source": [
    "df_report.head()"
   ]
  }
 ],
 "metadata": {
  "kernelspec": {
   "display_name": "base",
   "language": "python",
   "name": "python3"
  },
  "language_info": {
   "codemirror_mode": {
    "name": "ipython",
    "version": 3
   },
   "file_extension": ".py",
   "mimetype": "text/x-python",
   "name": "python",
   "nbconvert_exporter": "python",
   "pygments_lexer": "ipython3",
   "version": "3.12.3"
  }
 },
 "nbformat": 4,
 "nbformat_minor": 2
}
