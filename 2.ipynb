{
 "cells": [
  {
   "cell_type": "markdown",
   "metadata": {},
   "source": [
    "# DataFrame 基本操作"
   ]
  },
  {
   "cell_type": "code",
   "execution_count": 43,
   "metadata": {},
   "outputs": [],
   "source": [
    "import pandas as pd\n",
    "import numpy as np\n",
    "pd.options.display.max_columns = 40"
   ]
  },
  {
   "cell_type": "markdown",
   "metadata": {},
   "source": [
    "## 选取多个 dataframe 列"
   ]
  },
  {
   "cell_type": "code",
   "execution_count": 44,
   "metadata": {},
   "outputs": [
    {
     "data": {
      "text/html": [
       "<div>\n",
       "<style scoped>\n",
       "    .dataframe tbody tr th:only-of-type {\n",
       "        vertical-align: middle;\n",
       "    }\n",
       "\n",
       "    .dataframe tbody tr th {\n",
       "        vertical-align: top;\n",
       "    }\n",
       "\n",
       "    .dataframe thead th {\n",
       "        text-align: right;\n",
       "    }\n",
       "</style>\n",
       "<table border=\"1\" class=\"dataframe\">\n",
       "  <thead>\n",
       "    <tr style=\"text-align: right;\">\n",
       "      <th></th>\n",
       "      <th>里程</th>\n",
       "      <th>测点位置</th>\n",
       "      <th>设计宽度（mm）左</th>\n",
       "      <th>实测宽度（mm）左</th>\n",
       "      <th>差值（mm）左</th>\n",
       "      <th>设计宽度（mm）右</th>\n",
       "      <th>实测宽度（mm）右</th>\n",
       "      <th>差值（mm）右</th>\n",
       "      <th>director_name</th>\n",
       "    </tr>\n",
       "  </thead>\n",
       "  <tbody>\n",
       "    <tr>\n",
       "      <th>0</th>\n",
       "      <td>63316.4</td>\n",
       "      <td>A1</td>\n",
       "      <td>-3082</td>\n",
       "      <td>-3101.0</td>\n",
       "      <td>-18.7</td>\n",
       "      <td>3082</td>\n",
       "      <td>3116</td>\n",
       "      <td>34.19</td>\n",
       "      <td>文件名称1</td>\n",
       "    </tr>\n",
       "    <tr>\n",
       "      <th>1</th>\n",
       "      <td>63316.4</td>\n",
       "      <td>A2</td>\n",
       "      <td>-4000</td>\n",
       "      <td>-4003.0</td>\n",
       "      <td>-2.6</td>\n",
       "      <td>4000</td>\n",
       "      <td>4035</td>\n",
       "      <td>35.03</td>\n",
       "      <td>文件名称2</td>\n",
       "    </tr>\n",
       "    <tr>\n",
       "      <th>2</th>\n",
       "      <td>63316.4</td>\n",
       "      <td>A3</td>\n",
       "      <td>-3082</td>\n",
       "      <td>-3043.0</td>\n",
       "      <td>38.9</td>\n",
       "      <td>3082</td>\n",
       "      <td>3092</td>\n",
       "      <td>10.50</td>\n",
       "      <td>文件名称3</td>\n",
       "    </tr>\n",
       "    <tr>\n",
       "      <th>3</th>\n",
       "      <td>63318.2</td>\n",
       "      <td>A1</td>\n",
       "      <td>-3082</td>\n",
       "      <td>-3105.0</td>\n",
       "      <td>-23.2</td>\n",
       "      <td>3082</td>\n",
       "      <td>3120</td>\n",
       "      <td>38.11</td>\n",
       "      <td>文件名称4</td>\n",
       "    </tr>\n",
       "    <tr>\n",
       "      <th>4</th>\n",
       "      <td>63318.2</td>\n",
       "      <td>A2</td>\n",
       "      <td>-4000</td>\n",
       "      <td>-3998.0</td>\n",
       "      <td>2.3</td>\n",
       "      <td>4000</td>\n",
       "      <td>4039</td>\n",
       "      <td>38.46</td>\n",
       "      <td>文件名称5</td>\n",
       "    </tr>\n",
       "  </tbody>\n",
       "</table>\n",
       "</div>"
      ],
      "text/plain": [
       "        里程 测点位置  设计宽度（mm）左  实测宽度（mm）左  差值（mm）左  设计宽度（mm）右  实测宽度（mm）右  差值（mm）右  \\\n",
       "0  63316.4   A1      -3082    -3101.0    -18.7       3082       3116    34.19   \n",
       "1  63316.4   A2      -4000    -4003.0     -2.6       4000       4035    35.03   \n",
       "2  63316.4   A3      -3082    -3043.0     38.9       3082       3092    10.50   \n",
       "3  63318.2   A1      -3082    -3105.0    -23.2       3082       3120    38.11   \n",
       "4  63318.2   A2      -4000    -3998.0      2.3       4000       4039    38.46   \n",
       "\n",
       "  director_name  \n",
       "0         文件名称1  \n",
       "1         文件名称2  \n",
       "2         文件名称3  \n",
       "3         文件名称4  \n",
       "4         文件名称5  "
      ]
     },
     "execution_count": 44,
     "metadata": {},
     "output_type": "execute_result"
    }
   ],
   "source": [
    "df_report = pd.read_csv('data.csv', encoding='gb2312')\n",
    "df_report.head()"
   ]
  },
  {
   "cell_type": "code",
   "execution_count": 45,
   "metadata": {},
   "outputs": [
    {
     "data": {
      "text/plain": [
       "Index(['里程', '测点位置', '设计宽度（mm）左', '实测宽度（mm）左', '差值（mm）左', '设计宽度（mm）右',\n",
       "       '实测宽度（mm）右', '差值（mm）右', 'director_name'],\n",
       "      dtype='object')"
      ]
     },
     "execution_count": 45,
     "metadata": {},
     "output_type": "execute_result"
    }
   ],
   "source": [
    "df_report.columns"
   ]
  },
  {
   "cell_type": "code",
   "execution_count": 46,
   "metadata": {},
   "outputs": [
    {
     "data": {
      "text/html": [
       "<div>\n",
       "<style scoped>\n",
       "    .dataframe tbody tr th:only-of-type {\n",
       "        vertical-align: middle;\n",
       "    }\n",
       "\n",
       "    .dataframe tbody tr th {\n",
       "        vertical-align: top;\n",
       "    }\n",
       "\n",
       "    .dataframe thead th {\n",
       "        text-align: right;\n",
       "    }\n",
       "</style>\n",
       "<table border=\"1\" class=\"dataframe\">\n",
       "  <thead>\n",
       "    <tr style=\"text-align: right;\">\n",
       "      <th></th>\n",
       "      <th>里程</th>\n",
       "      <th>测点位置</th>\n",
       "      <th>设计宽度（mm）左</th>\n",
       "      <th>实测宽度（mm）左</th>\n",
       "      <th>差值（mm）左</th>\n",
       "    </tr>\n",
       "  </thead>\n",
       "  <tbody>\n",
       "    <tr>\n",
       "      <th>0</th>\n",
       "      <td>63316.4</td>\n",
       "      <td>A1</td>\n",
       "      <td>-3082</td>\n",
       "      <td>-3101.0</td>\n",
       "      <td>-18.7</td>\n",
       "    </tr>\n",
       "    <tr>\n",
       "      <th>1</th>\n",
       "      <td>63316.4</td>\n",
       "      <td>A2</td>\n",
       "      <td>-4000</td>\n",
       "      <td>-4003.0</td>\n",
       "      <td>-2.6</td>\n",
       "    </tr>\n",
       "    <tr>\n",
       "      <th>2</th>\n",
       "      <td>63316.4</td>\n",
       "      <td>A3</td>\n",
       "      <td>-3082</td>\n",
       "      <td>-3043.0</td>\n",
       "      <td>38.9</td>\n",
       "    </tr>\n",
       "    <tr>\n",
       "      <th>3</th>\n",
       "      <td>63318.2</td>\n",
       "      <td>A1</td>\n",
       "      <td>-3082</td>\n",
       "      <td>-3105.0</td>\n",
       "      <td>-23.2</td>\n",
       "    </tr>\n",
       "    <tr>\n",
       "      <th>4</th>\n",
       "      <td>63318.2</td>\n",
       "      <td>A2</td>\n",
       "      <td>-4000</td>\n",
       "      <td>-3998.0</td>\n",
       "      <td>2.3</td>\n",
       "    </tr>\n",
       "  </tbody>\n",
       "</table>\n",
       "</div>"
      ],
      "text/plain": [
       "        里程 测点位置  设计宽度（mm）左  实测宽度（mm）左  差值（mm）左\n",
       "0  63316.4   A1      -3082    -3101.0    -18.7\n",
       "1  63316.4   A2      -4000    -4003.0     -2.6\n",
       "2  63316.4   A3      -3082    -3043.0     38.9\n",
       "3  63318.2   A1      -3082    -3105.0    -23.2\n",
       "4  63318.2   A2      -4000    -3998.0      2.3"
      ]
     },
     "execution_count": 46,
     "metadata": {},
     "output_type": "execute_result"
    }
   ],
   "source": [
    "# 用列表选取多个列\n",
    "df_report_left = df_report[['里程', '测点位置', '设计宽度（mm）左', '实测宽度（mm）左', '差值（mm）左']]\n",
    "df_report_left.head()"
   ]
  },
  {
   "cell_type": "code",
   "execution_count": 47,
   "metadata": {},
   "outputs": [
    {
     "data": {
      "text/html": [
       "<div>\n",
       "<style scoped>\n",
       "    .dataframe tbody tr th:only-of-type {\n",
       "        vertical-align: middle;\n",
       "    }\n",
       "\n",
       "    .dataframe tbody tr th {\n",
       "        vertical-align: top;\n",
       "    }\n",
       "\n",
       "    .dataframe thead th {\n",
       "        text-align: right;\n",
       "    }\n",
       "</style>\n",
       "<table border=\"1\" class=\"dataframe\">\n",
       "  <thead>\n",
       "    <tr style=\"text-align: right;\">\n",
       "      <th></th>\n",
       "      <th>设计宽度（mm）左</th>\n",
       "    </tr>\n",
       "  </thead>\n",
       "  <tbody>\n",
       "    <tr>\n",
       "      <th>0</th>\n",
       "      <td>-3082</td>\n",
       "    </tr>\n",
       "    <tr>\n",
       "      <th>1</th>\n",
       "      <td>-4000</td>\n",
       "    </tr>\n",
       "    <tr>\n",
       "      <th>2</th>\n",
       "      <td>-3082</td>\n",
       "    </tr>\n",
       "    <tr>\n",
       "      <th>3</th>\n",
       "      <td>-3082</td>\n",
       "    </tr>\n",
       "    <tr>\n",
       "      <th>4</th>\n",
       "      <td>-4000</td>\n",
       "    </tr>\n",
       "  </tbody>\n",
       "</table>\n",
       "</div>"
      ],
      "text/plain": [
       "   设计宽度（mm）左\n",
       "0      -3082\n",
       "1      -4000\n",
       "2      -3082\n",
       "3      -3082\n",
       "4      -4000"
      ]
     },
     "execution_count": 47,
     "metadata": {},
     "output_type": "execute_result"
    }
   ],
   "source": [
    "# 选取单列\n",
    "df_report[['设计宽度（mm）左']].head()"
   ]
  },
  {
   "cell_type": "code",
   "execution_count": 48,
   "metadata": {},
   "outputs": [
    {
     "data": {
      "text/html": [
       "<div>\n",
       "<style scoped>\n",
       "    .dataframe tbody tr th:only-of-type {\n",
       "        vertical-align: middle;\n",
       "    }\n",
       "\n",
       "    .dataframe tbody tr th {\n",
       "        vertical-align: top;\n",
       "    }\n",
       "\n",
       "    .dataframe thead th {\n",
       "        text-align: right;\n",
       "    }\n",
       "</style>\n",
       "<table border=\"1\" class=\"dataframe\">\n",
       "  <thead>\n",
       "    <tr style=\"text-align: right;\">\n",
       "      <th></th>\n",
       "      <th>里程</th>\n",
       "      <th>测点位置</th>\n",
       "      <th>设计宽度（mm）左</th>\n",
       "      <th>实测宽度（mm）左</th>\n",
       "      <th>差值（mm）左</th>\n",
       "    </tr>\n",
       "  </thead>\n",
       "  <tbody>\n",
       "    <tr>\n",
       "      <th>0</th>\n",
       "      <td>63316.4</td>\n",
       "      <td>A1</td>\n",
       "      <td>-3082</td>\n",
       "      <td>-3101.0</td>\n",
       "      <td>-18.7</td>\n",
       "    </tr>\n",
       "    <tr>\n",
       "      <th>1</th>\n",
       "      <td>63316.4</td>\n",
       "      <td>A2</td>\n",
       "      <td>-4000</td>\n",
       "      <td>-4003.0</td>\n",
       "      <td>-2.6</td>\n",
       "    </tr>\n",
       "    <tr>\n",
       "      <th>2</th>\n",
       "      <td>63316.4</td>\n",
       "      <td>A3</td>\n",
       "      <td>-3082</td>\n",
       "      <td>-3043.0</td>\n",
       "      <td>38.9</td>\n",
       "    </tr>\n",
       "    <tr>\n",
       "      <th>3</th>\n",
       "      <td>63318.2</td>\n",
       "      <td>A1</td>\n",
       "      <td>-3082</td>\n",
       "      <td>-3105.0</td>\n",
       "      <td>-23.2</td>\n",
       "    </tr>\n",
       "    <tr>\n",
       "      <th>4</th>\n",
       "      <td>63318.2</td>\n",
       "      <td>A2</td>\n",
       "      <td>-4000</td>\n",
       "      <td>-3998.0</td>\n",
       "      <td>2.3</td>\n",
       "    </tr>\n",
       "  </tbody>\n",
       "</table>\n",
       "</div>"
      ],
      "text/plain": [
       "        里程 测点位置  设计宽度（mm）左  实测宽度（mm）左  差值（mm）左\n",
       "0  63316.4   A1      -3082    -3101.0    -18.7\n",
       "1  63316.4   A2      -4000    -4003.0     -2.6\n",
       "2  63316.4   A3      -3082    -3043.0     38.9\n",
       "3  63318.2   A1      -3082    -3105.0    -23.2\n",
       "4  63318.2   A2      -4000    -3998.0      2.3"
      ]
     },
     "execution_count": 48,
     "metadata": {},
     "output_type": "execute_result"
    }
   ],
   "source": [
    "# 将列表赋值给一个变量，便于多选\n",
    "col = ['里程', '测点位置', '设计宽度（mm）左', '实测宽度（mm）左', '差值（mm）左']\n",
    "df_report_left = df_report[col]\n",
    "df_report_left.head()"
   ]
  },
  {
   "cell_type": "code",
   "execution_count": 49,
   "metadata": {},
   "outputs": [
    {
     "data": {
      "text/plain": [
       "float64    3\n",
       "object     1\n",
       "int64      1\n",
       "Name: count, dtype: int64"
      ]
     },
     "execution_count": 49,
     "metadata": {},
     "output_type": "execute_result"
    }
   ],
   "source": [
    "df_report_left.dtypes.value_counts()"
   ]
  },
  {
   "cell_type": "code",
   "execution_count": 50,
   "metadata": {},
   "outputs": [
    {
     "data": {
      "text/html": [
       "<div>\n",
       "<style scoped>\n",
       "    .dataframe tbody tr th:only-of-type {\n",
       "        vertical-align: middle;\n",
       "    }\n",
       "\n",
       "    .dataframe tbody tr th {\n",
       "        vertical-align: top;\n",
       "    }\n",
       "\n",
       "    .dataframe thead th {\n",
       "        text-align: right;\n",
       "    }\n",
       "</style>\n",
       "<table border=\"1\" class=\"dataframe\">\n",
       "  <thead>\n",
       "    <tr style=\"text-align: right;\">\n",
       "      <th></th>\n",
       "      <th>设计宽度（mm）左</th>\n",
       "    </tr>\n",
       "  </thead>\n",
       "  <tbody>\n",
       "    <tr>\n",
       "      <th>0</th>\n",
       "      <td>-3082</td>\n",
       "    </tr>\n",
       "    <tr>\n",
       "      <th>1</th>\n",
       "      <td>-4000</td>\n",
       "    </tr>\n",
       "    <tr>\n",
       "      <th>2</th>\n",
       "      <td>-3082</td>\n",
       "    </tr>\n",
       "    <tr>\n",
       "      <th>3</th>\n",
       "      <td>-3082</td>\n",
       "    </tr>\n",
       "    <tr>\n",
       "      <th>4</th>\n",
       "      <td>-4000</td>\n",
       "    </tr>\n",
       "  </tbody>\n",
       "</table>\n",
       "</div>"
      ],
      "text/plain": [
       "   设计宽度（mm）左\n",
       "0      -3082\n",
       "1      -4000\n",
       "2      -3082\n",
       "3      -3082\n",
       "4      -4000"
      ]
     },
     "execution_count": 50,
     "metadata": {},
     "output_type": "execute_result"
    }
   ],
   "source": [
    "# 使用 select_dtypes() 选取整数列\n",
    "df_report_left.select_dtypes(include=['int']).head()"
   ]
  },
  {
   "cell_type": "code",
   "execution_count": 51,
   "metadata": {},
   "outputs": [
    {
     "data": {
      "text/html": [
       "<div>\n",
       "<style scoped>\n",
       "    .dataframe tbody tr th:only-of-type {\n",
       "        vertical-align: middle;\n",
       "    }\n",
       "\n",
       "    .dataframe tbody tr th {\n",
       "        vertical-align: top;\n",
       "    }\n",
       "\n",
       "    .dataframe thead th {\n",
       "        text-align: right;\n",
       "    }\n",
       "</style>\n",
       "<table border=\"1\" class=\"dataframe\">\n",
       "  <thead>\n",
       "    <tr style=\"text-align: right;\">\n",
       "      <th></th>\n",
       "      <th>里程</th>\n",
       "      <th>设计宽度（mm）左</th>\n",
       "      <th>实测宽度（mm）左</th>\n",
       "      <th>差值（mm）左</th>\n",
       "    </tr>\n",
       "  </thead>\n",
       "  <tbody>\n",
       "    <tr>\n",
       "      <th>0</th>\n",
       "      <td>63316.4</td>\n",
       "      <td>-3082</td>\n",
       "      <td>-3101.0</td>\n",
       "      <td>-18.7</td>\n",
       "    </tr>\n",
       "    <tr>\n",
       "      <th>1</th>\n",
       "      <td>63316.4</td>\n",
       "      <td>-4000</td>\n",
       "      <td>-4003.0</td>\n",
       "      <td>-2.6</td>\n",
       "    </tr>\n",
       "    <tr>\n",
       "      <th>2</th>\n",
       "      <td>63316.4</td>\n",
       "      <td>-3082</td>\n",
       "      <td>-3043.0</td>\n",
       "      <td>38.9</td>\n",
       "    </tr>\n",
       "    <tr>\n",
       "      <th>3</th>\n",
       "      <td>63318.2</td>\n",
       "      <td>-3082</td>\n",
       "      <td>-3105.0</td>\n",
       "      <td>-23.2</td>\n",
       "    </tr>\n",
       "    <tr>\n",
       "      <th>4</th>\n",
       "      <td>63318.2</td>\n",
       "      <td>-4000</td>\n",
       "      <td>-3998.0</td>\n",
       "      <td>2.3</td>\n",
       "    </tr>\n",
       "  </tbody>\n",
       "</table>\n",
       "</div>"
      ],
      "text/plain": [
       "        里程  设计宽度（mm）左  实测宽度（mm）左  差值（mm）左\n",
       "0  63316.4      -3082    -3101.0    -18.7\n",
       "1  63316.4      -4000    -4003.0     -2.6\n",
       "2  63316.4      -3082    -3043.0     38.9\n",
       "3  63318.2      -3082    -3105.0    -23.2\n",
       "4  63318.2      -4000    -3998.0      2.3"
      ]
     },
     "execution_count": 51,
     "metadata": {},
     "output_type": "execute_result"
    }
   ],
   "source": [
    "# 选取所有的数值列\n",
    "df_report_left.select_dtypes(include=['number']).head()"
   ]
  },
  {
   "cell_type": "code",
   "execution_count": 52,
   "metadata": {},
   "outputs": [
    {
     "data": {
      "text/html": [
       "<div>\n",
       "<style scoped>\n",
       "    .dataframe tbody tr th:only-of-type {\n",
       "        vertical-align: middle;\n",
       "    }\n",
       "\n",
       "    .dataframe tbody tr th {\n",
       "        vertical-align: top;\n",
       "    }\n",
       "\n",
       "    .dataframe thead th {\n",
       "        text-align: right;\n",
       "    }\n",
       "</style>\n",
       "<table border=\"1\" class=\"dataframe\">\n",
       "  <thead>\n",
       "    <tr style=\"text-align: right;\">\n",
       "      <th></th>\n",
       "      <th>设计宽度（mm）左</th>\n",
       "      <th>实测宽度（mm）左</th>\n",
       "      <th>差值（mm）左</th>\n",
       "    </tr>\n",
       "  </thead>\n",
       "  <tbody>\n",
       "    <tr>\n",
       "      <th>0</th>\n",
       "      <td>-3082</td>\n",
       "      <td>-3101.0</td>\n",
       "      <td>-18.7</td>\n",
       "    </tr>\n",
       "    <tr>\n",
       "      <th>1</th>\n",
       "      <td>-4000</td>\n",
       "      <td>-4003.0</td>\n",
       "      <td>-2.6</td>\n",
       "    </tr>\n",
       "    <tr>\n",
       "      <th>2</th>\n",
       "      <td>-3082</td>\n",
       "      <td>-3043.0</td>\n",
       "      <td>38.9</td>\n",
       "    </tr>\n",
       "    <tr>\n",
       "      <th>3</th>\n",
       "      <td>-3082</td>\n",
       "      <td>-3105.0</td>\n",
       "      <td>-23.2</td>\n",
       "    </tr>\n",
       "    <tr>\n",
       "      <th>4</th>\n",
       "      <td>-4000</td>\n",
       "      <td>-3998.0</td>\n",
       "      <td>2.3</td>\n",
       "    </tr>\n",
       "  </tbody>\n",
       "</table>\n",
       "</div>"
      ],
      "text/plain": [
       "   设计宽度（mm）左  实测宽度（mm）左  差值（mm）左\n",
       "0      -3082    -3101.0    -18.7\n",
       "1      -4000    -4003.0     -2.6\n",
       "2      -3082    -3043.0     38.9\n",
       "3      -3082    -3105.0    -23.2\n",
       "4      -4000    -3998.0      2.3"
      ]
     },
     "execution_count": 52,
     "metadata": {},
     "output_type": "execute_result"
    }
   ],
   "source": [
    "# 通过 filter() 函数过滤选取多列\n",
    "df_report_left.filter(like='左').head()  # 从 df_report_left 这个 DataFrame 里筛选出列名包含 左 的列"
   ]
  },
  {
   "cell_type": "code",
   "execution_count": 53,
   "metadata": {},
   "outputs": [
    {
     "data": {
      "text/html": [
       "<div>\n",
       "<style scoped>\n",
       "    .dataframe tbody tr th:only-of-type {\n",
       "        vertical-align: middle;\n",
       "    }\n",
       "\n",
       "    .dataframe tbody tr th {\n",
       "        vertical-align: top;\n",
       "    }\n",
       "\n",
       "    .dataframe thead th {\n",
       "        text-align: right;\n",
       "    }\n",
       "</style>\n",
       "<table border=\"1\" class=\"dataframe\">\n",
       "  <thead>\n",
       "    <tr style=\"text-align: right;\">\n",
       "      <th></th>\n",
       "      <th>设计宽度（mm）左</th>\n",
       "      <th>实测宽度（mm）左</th>\n",
       "      <th>差值（mm）左</th>\n",
       "    </tr>\n",
       "  </thead>\n",
       "  <tbody>\n",
       "    <tr>\n",
       "      <th>0</th>\n",
       "      <td>-3082</td>\n",
       "      <td>-3101.0</td>\n",
       "      <td>-18.7</td>\n",
       "    </tr>\n",
       "    <tr>\n",
       "      <th>1</th>\n",
       "      <td>-4000</td>\n",
       "      <td>-4003.0</td>\n",
       "      <td>-2.6</td>\n",
       "    </tr>\n",
       "    <tr>\n",
       "      <th>2</th>\n",
       "      <td>-3082</td>\n",
       "      <td>-3043.0</td>\n",
       "      <td>38.9</td>\n",
       "    </tr>\n",
       "    <tr>\n",
       "      <th>3</th>\n",
       "      <td>-3082</td>\n",
       "      <td>-3105.0</td>\n",
       "      <td>-23.2</td>\n",
       "    </tr>\n",
       "    <tr>\n",
       "      <th>4</th>\n",
       "      <td>-4000</td>\n",
       "      <td>-3998.0</td>\n",
       "      <td>2.3</td>\n",
       "    </tr>\n",
       "  </tbody>\n",
       "</table>\n",
       "</div>"
      ],
      "text/plain": [
       "   设计宽度（mm）左  实测宽度（mm）左  差值（mm）左\n",
       "0      -3082    -3101.0    -18.7\n",
       "1      -4000    -4003.0     -2.6\n",
       "2      -3082    -3043.0     38.9\n",
       "3      -3082    -3105.0    -23.2\n",
       "4      -4000    -3998.0      2.3"
      ]
     },
     "execution_count": 53,
     "metadata": {},
     "output_type": "execute_result"
    }
   ],
   "source": [
    "# 通过正则表达式选取多列\n",
    "df_report_left.filter(regex='m').head()  # 筛选出列名中包含m的列"
   ]
  },
  {
   "cell_type": "code",
   "execution_count": 54,
   "metadata": {},
   "outputs": [
    {
     "data": {
      "text/html": [
       "<div>\n",
       "<style scoped>\n",
       "    .dataframe tbody tr th:only-of-type {\n",
       "        vertical-align: middle;\n",
       "    }\n",
       "\n",
       "    .dataframe tbody tr th {\n",
       "        vertical-align: top;\n",
       "    }\n",
       "\n",
       "    .dataframe thead th {\n",
       "        text-align: right;\n",
       "    }\n",
       "</style>\n",
       "<table border=\"1\" class=\"dataframe\">\n",
       "  <thead>\n",
       "    <tr style=\"text-align: right;\">\n",
       "      <th></th>\n",
       "      <th>设计宽度（mm）左</th>\n",
       "      <th>实测宽度（mm）左</th>\n",
       "    </tr>\n",
       "  </thead>\n",
       "  <tbody>\n",
       "    <tr>\n",
       "      <th>0</th>\n",
       "      <td>-3082</td>\n",
       "      <td>-3101.0</td>\n",
       "    </tr>\n",
       "    <tr>\n",
       "      <th>1</th>\n",
       "      <td>-4000</td>\n",
       "      <td>-4003.0</td>\n",
       "    </tr>\n",
       "    <tr>\n",
       "      <th>2</th>\n",
       "      <td>-3082</td>\n",
       "      <td>-3043.0</td>\n",
       "    </tr>\n",
       "    <tr>\n",
       "      <th>3</th>\n",
       "      <td>-3082</td>\n",
       "      <td>-3105.0</td>\n",
       "    </tr>\n",
       "    <tr>\n",
       "      <th>4</th>\n",
       "      <td>-4000</td>\n",
       "      <td>-3998.0</td>\n",
       "    </tr>\n",
       "  </tbody>\n",
       "</table>\n",
       "</div>"
      ],
      "text/plain": [
       "   设计宽度（mm）左  实测宽度（mm）左\n",
       "0      -3082    -3101.0\n",
       "1      -4000    -4003.0\n",
       "2      -3082    -3043.0\n",
       "3      -3082    -3105.0\n",
       "4      -4000    -3998.0"
      ]
     },
     "execution_count": 54,
     "metadata": {},
     "output_type": "execute_result"
    }
   ],
   "source": [
    "# filter()函数，传递列表到参数items，选取多列\n",
    "df_report_left.filter(items=['设计宽度（mm）左','实测宽度（mm）左']).head()"
   ]
  },
  {
   "cell_type": "markdown",
   "metadata": {},
   "source": [
    "## 对列名进行排序"
   ]
  },
  {
   "cell_type": "code",
   "execution_count": 55,
   "metadata": {},
   "outputs": [
    {
     "data": {
      "text/html": [
       "<div>\n",
       "<style scoped>\n",
       "    .dataframe tbody tr th:only-of-type {\n",
       "        vertical-align: middle;\n",
       "    }\n",
       "\n",
       "    .dataframe tbody tr th {\n",
       "        vertical-align: top;\n",
       "    }\n",
       "\n",
       "    .dataframe thead th {\n",
       "        text-align: right;\n",
       "    }\n",
       "</style>\n",
       "<table border=\"1\" class=\"dataframe\">\n",
       "  <thead>\n",
       "    <tr style=\"text-align: right;\">\n",
       "      <th></th>\n",
       "      <th>里程</th>\n",
       "      <th>测点位置</th>\n",
       "      <th>设计宽度（mm）左</th>\n",
       "      <th>实测宽度（mm）左</th>\n",
       "      <th>差值（mm）左</th>\n",
       "      <th>设计宽度（mm）右</th>\n",
       "      <th>实测宽度（mm）右</th>\n",
       "      <th>差值（mm）右</th>\n",
       "      <th>director_name</th>\n",
       "    </tr>\n",
       "  </thead>\n",
       "  <tbody>\n",
       "    <tr>\n",
       "      <th>0</th>\n",
       "      <td>63316.4</td>\n",
       "      <td>A1</td>\n",
       "      <td>-3082</td>\n",
       "      <td>-3101.0</td>\n",
       "      <td>-18.7</td>\n",
       "      <td>3082</td>\n",
       "      <td>3116</td>\n",
       "      <td>34.19</td>\n",
       "      <td>文件名称1</td>\n",
       "    </tr>\n",
       "    <tr>\n",
       "      <th>1</th>\n",
       "      <td>63316.4</td>\n",
       "      <td>A2</td>\n",
       "      <td>-4000</td>\n",
       "      <td>-4003.0</td>\n",
       "      <td>-2.6</td>\n",
       "      <td>4000</td>\n",
       "      <td>4035</td>\n",
       "      <td>35.03</td>\n",
       "      <td>文件名称2</td>\n",
       "    </tr>\n",
       "    <tr>\n",
       "      <th>2</th>\n",
       "      <td>63316.4</td>\n",
       "      <td>A3</td>\n",
       "      <td>-3082</td>\n",
       "      <td>-3043.0</td>\n",
       "      <td>38.9</td>\n",
       "      <td>3082</td>\n",
       "      <td>3092</td>\n",
       "      <td>10.50</td>\n",
       "      <td>文件名称3</td>\n",
       "    </tr>\n",
       "    <tr>\n",
       "      <th>3</th>\n",
       "      <td>63318.2</td>\n",
       "      <td>A1</td>\n",
       "      <td>-3082</td>\n",
       "      <td>-3105.0</td>\n",
       "      <td>-23.2</td>\n",
       "      <td>3082</td>\n",
       "      <td>3120</td>\n",
       "      <td>38.11</td>\n",
       "      <td>文件名称4</td>\n",
       "    </tr>\n",
       "    <tr>\n",
       "      <th>4</th>\n",
       "      <td>63318.2</td>\n",
       "      <td>A2</td>\n",
       "      <td>-4000</td>\n",
       "      <td>-3998.0</td>\n",
       "      <td>2.3</td>\n",
       "      <td>4000</td>\n",
       "      <td>4039</td>\n",
       "      <td>38.46</td>\n",
       "      <td>文件名称5</td>\n",
       "    </tr>\n",
       "  </tbody>\n",
       "</table>\n",
       "</div>"
      ],
      "text/plain": [
       "        里程 测点位置  设计宽度（mm）左  实测宽度（mm）左  差值（mm）左  设计宽度（mm）右  实测宽度（mm）右  差值（mm）右  \\\n",
       "0  63316.4   A1      -3082    -3101.0    -18.7       3082       3116    34.19   \n",
       "1  63316.4   A2      -4000    -4003.0     -2.6       4000       4035    35.03   \n",
       "2  63316.4   A3      -3082    -3043.0     38.9       3082       3092    10.50   \n",
       "3  63318.2   A1      -3082    -3105.0    -23.2       3082       3120    38.11   \n",
       "4  63318.2   A2      -4000    -3998.0      2.3       4000       4039    38.46   \n",
       "\n",
       "  director_name  \n",
       "0         文件名称1  \n",
       "1         文件名称2  \n",
       "2         文件名称3  \n",
       "3         文件名称4  \n",
       "4         文件名称5  "
      ]
     },
     "execution_count": 55,
     "metadata": {},
     "output_type": "execute_result"
    }
   ],
   "source": [
    "import pandas as pd\n",
    "import numpy as np\n",
    "\n",
    "df_report = pd.read_csv('data.csv', encoding='gb2312')\n",
    "df_report.head()"
   ]
  },
  {
   "cell_type": "code",
   "execution_count": 56,
   "metadata": {},
   "outputs": [
    {
     "data": {
      "text/plain": [
       "Index(['里程', '测点位置', '设计宽度（mm）左', '实测宽度（mm）左', '差值（mm）左', '设计宽度（mm）右',\n",
       "       '实测宽度（mm）右', '差值（mm）右', 'director_name'],\n",
       "      dtype='object')"
      ]
     },
     "execution_count": 56,
     "metadata": {},
     "output_type": "execute_result"
    }
   ],
   "source": [
    "df_report.columns"
   ]
  },
  {
   "cell_type": "code",
   "execution_count": 57,
   "metadata": {},
   "outputs": [],
   "source": [
    "# 将列索引按照指定的顺序排列\n",
    "disc_core = ['里程', '测点位置', 'director_name']\n",
    "disc_left = ['设计宽度（mm）左', '实测宽度（mm）左', '差值（mm）左']\n",
    "disc_right = ['设计宽度（mm）右', '实测宽度（mm）右', '差值（mm）右']\n",
    "\n",
    "new_col_order = disc_core + disc_left + disc_right"
   ]
  },
  {
   "cell_type": "code",
   "execution_count": 58,
   "metadata": {},
   "outputs": [
    {
     "data": {
      "text/plain": [
       "True"
      ]
     },
     "execution_count": 58,
     "metadata": {},
     "output_type": "execute_result"
    }
   ],
   "source": [
    "set(df_report.columns) == set(new_col_order)"
   ]
  },
  {
   "cell_type": "code",
   "execution_count": 59,
   "metadata": {},
   "outputs": [
    {
     "data": {
      "text/html": [
       "<div>\n",
       "<style scoped>\n",
       "    .dataframe tbody tr th:only-of-type {\n",
       "        vertical-align: middle;\n",
       "    }\n",
       "\n",
       "    .dataframe tbody tr th {\n",
       "        vertical-align: top;\n",
       "    }\n",
       "\n",
       "    .dataframe thead th {\n",
       "        text-align: right;\n",
       "    }\n",
       "</style>\n",
       "<table border=\"1\" class=\"dataframe\">\n",
       "  <thead>\n",
       "    <tr style=\"text-align: right;\">\n",
       "      <th></th>\n",
       "      <th>里程</th>\n",
       "      <th>测点位置</th>\n",
       "      <th>director_name</th>\n",
       "      <th>设计宽度（mm）左</th>\n",
       "      <th>实测宽度（mm）左</th>\n",
       "      <th>差值（mm）左</th>\n",
       "      <th>设计宽度（mm）右</th>\n",
       "      <th>实测宽度（mm）右</th>\n",
       "      <th>差值（mm）右</th>\n",
       "    </tr>\n",
       "  </thead>\n",
       "  <tbody>\n",
       "    <tr>\n",
       "      <th>0</th>\n",
       "      <td>63316.4</td>\n",
       "      <td>A1</td>\n",
       "      <td>文件名称1</td>\n",
       "      <td>-3082</td>\n",
       "      <td>-3101.0</td>\n",
       "      <td>-18.7</td>\n",
       "      <td>3082</td>\n",
       "      <td>3116</td>\n",
       "      <td>34.19</td>\n",
       "    </tr>\n",
       "    <tr>\n",
       "      <th>1</th>\n",
       "      <td>63316.4</td>\n",
       "      <td>A2</td>\n",
       "      <td>文件名称2</td>\n",
       "      <td>-4000</td>\n",
       "      <td>-4003.0</td>\n",
       "      <td>-2.6</td>\n",
       "      <td>4000</td>\n",
       "      <td>4035</td>\n",
       "      <td>35.03</td>\n",
       "    </tr>\n",
       "    <tr>\n",
       "      <th>2</th>\n",
       "      <td>63316.4</td>\n",
       "      <td>A3</td>\n",
       "      <td>文件名称3</td>\n",
       "      <td>-3082</td>\n",
       "      <td>-3043.0</td>\n",
       "      <td>38.9</td>\n",
       "      <td>3082</td>\n",
       "      <td>3092</td>\n",
       "      <td>10.50</td>\n",
       "    </tr>\n",
       "    <tr>\n",
       "      <th>3</th>\n",
       "      <td>63318.2</td>\n",
       "      <td>A1</td>\n",
       "      <td>文件名称4</td>\n",
       "      <td>-3082</td>\n",
       "      <td>-3105.0</td>\n",
       "      <td>-23.2</td>\n",
       "      <td>3082</td>\n",
       "      <td>3120</td>\n",
       "      <td>38.11</td>\n",
       "    </tr>\n",
       "    <tr>\n",
       "      <th>4</th>\n",
       "      <td>63318.2</td>\n",
       "      <td>A2</td>\n",
       "      <td>文件名称5</td>\n",
       "      <td>-4000</td>\n",
       "      <td>-3998.0</td>\n",
       "      <td>2.3</td>\n",
       "      <td>4000</td>\n",
       "      <td>4039</td>\n",
       "      <td>38.46</td>\n",
       "    </tr>\n",
       "  </tbody>\n",
       "</table>\n",
       "</div>"
      ],
      "text/plain": [
       "        里程 测点位置 director_name  设计宽度（mm）左  实测宽度（mm）左  差值（mm）左  设计宽度（mm）右  \\\n",
       "0  63316.4   A1         文件名称1      -3082    -3101.0    -18.7       3082   \n",
       "1  63316.4   A2         文件名称2      -4000    -4003.0     -2.6       4000   \n",
       "2  63316.4   A3         文件名称3      -3082    -3043.0     38.9       3082   \n",
       "3  63318.2   A1         文件名称4      -3082    -3105.0    -23.2       3082   \n",
       "4  63318.2   A2         文件名称5      -4000    -3998.0      2.3       4000   \n",
       "\n",
       "   实测宽度（mm）右  差值（mm）右  \n",
       "0       3116    34.19  \n",
       "1       4035    35.03  \n",
       "2       3092    10.50  \n",
       "3       3120    38.11  \n",
       "4       4039    38.46  "
      ]
     },
     "execution_count": 59,
     "metadata": {},
     "output_type": "execute_result"
    }
   ],
   "source": [
    "df_report2 = df_report[new_col_order]\n",
    "df_report2.head()"
   ]
  },
  {
   "cell_type": "markdown",
   "metadata": {},
   "source": [
    "## 在整个 dataframe 上操作"
   ]
  },
  {
   "cell_type": "code",
   "execution_count": 60,
   "metadata": {},
   "outputs": [],
   "source": [
    "pd.options.display.max_rows = 8"
   ]
  },
  {
   "cell_type": "code",
   "execution_count": 61,
   "metadata": {},
   "outputs": [
    {
     "data": {
      "text/plain": [
       "(21, 9)"
      ]
     },
     "execution_count": 61,
     "metadata": {},
     "output_type": "execute_result"
    }
   ],
   "source": [
    "# 打印行数和列数\n",
    "df_report.shape"
   ]
  },
  {
   "cell_type": "code",
   "execution_count": 62,
   "metadata": {},
   "outputs": [
    {
     "data": {
      "text/plain": [
       "189"
      ]
     },
     "execution_count": 62,
     "metadata": {},
     "output_type": "execute_result"
    }
   ],
   "source": [
    "# 打印数据的个数\n",
    "df_report.size"
   ]
  },
  {
   "cell_type": "code",
   "execution_count": 63,
   "metadata": {},
   "outputs": [
    {
     "data": {
      "text/plain": [
       "2"
      ]
     },
     "execution_count": 63,
     "metadata": {},
     "output_type": "execute_result"
    }
   ],
   "source": [
    "# 打印数据集的维度\n",
    "df_report.ndim\n"
   ]
  },
  {
   "cell_type": "code",
   "execution_count": 64,
   "metadata": {},
   "outputs": [
    {
     "data": {
      "text/plain": [
       "21"
      ]
     },
     "execution_count": 64,
     "metadata": {},
     "output_type": "execute_result"
    }
   ],
   "source": [
    "# 打印该数据集的长度\n",
    "len(df_report)"
   ]
  },
  {
   "cell_type": "code",
   "execution_count": 65,
   "metadata": {},
   "outputs": [
    {
     "data": {
      "text/plain": [
       "里程               21\n",
       "测点位置             21\n",
       "设计宽度（mm）左        21\n",
       "实测宽度（mm）左        20\n",
       "                 ..\n",
       "设计宽度（mm）右        21\n",
       "实测宽度（mm）右        21\n",
       "差值（mm）右          21\n",
       "director_name    21\n",
       "Length: 9, dtype: int64"
      ]
     },
     "execution_count": 65,
     "metadata": {},
     "output_type": "execute_result"
    }
   ],
   "source": [
    "# 打印各列值的个数\n",
    "df_report.count()"
   ]
  },
  {
   "cell_type": "code",
   "execution_count": 66,
   "metadata": {},
   "outputs": [
    {
     "data": {
      "text/plain": [
       "里程               63316.4\n",
       "测点位置                  A1\n",
       "设计宽度（mm）左          -4000\n",
       "实测宽度（mm）左        -4003.0\n",
       "                  ...   \n",
       "设计宽度（mm）右           3082\n",
       "实测宽度（mm）右           3065\n",
       "差值（mm）右           -16.58\n",
       "director_name      文件名称1\n",
       "Length: 9, dtype: object"
      ]
     },
     "execution_count": 66,
     "metadata": {},
     "output_type": "execute_result"
    }
   ],
   "source": [
    "# 打印各列的最小值\n",
    "df_report.min()"
   ]
  },
  {
   "cell_type": "code",
   "execution_count": 67,
   "metadata": {},
   "outputs": [
    {
     "data": {
      "text/html": [
       "<div>\n",
       "<style scoped>\n",
       "    .dataframe tbody tr th:only-of-type {\n",
       "        vertical-align: middle;\n",
       "    }\n",
       "\n",
       "    .dataframe tbody tr th {\n",
       "        vertical-align: top;\n",
       "    }\n",
       "\n",
       "    .dataframe thead th {\n",
       "        text-align: right;\n",
       "    }\n",
       "</style>\n",
       "<table border=\"1\" class=\"dataframe\">\n",
       "  <thead>\n",
       "    <tr style=\"text-align: right;\">\n",
       "      <th></th>\n",
       "      <th>里程</th>\n",
       "      <th>设计宽度（mm）左</th>\n",
       "      <th>实测宽度（mm）左</th>\n",
       "      <th>差值（mm）左</th>\n",
       "      <th>设计宽度（mm）右</th>\n",
       "      <th>实测宽度（mm）右</th>\n",
       "      <th>差值（mm）右</th>\n",
       "    </tr>\n",
       "  </thead>\n",
       "  <tbody>\n",
       "    <tr>\n",
       "      <th>count</th>\n",
       "      <td>21.000000</td>\n",
       "      <td>21.000000</td>\n",
       "      <td>20.000000</td>\n",
       "      <td>21.000000</td>\n",
       "      <td>21.000000</td>\n",
       "      <td>21.000000</td>\n",
       "      <td>21.000000</td>\n",
       "    </tr>\n",
       "    <tr>\n",
       "      <th>mean</th>\n",
       "      <td>63321.800000</td>\n",
       "      <td>-3388.000000</td>\n",
       "      <td>-3398.000000</td>\n",
       "      <td>6.714286</td>\n",
       "      <td>3388.000000</td>\n",
       "      <td>3410.666667</td>\n",
       "      <td>22.733810</td>\n",
       "    </tr>\n",
       "    <tr>\n",
       "      <th>std</th>\n",
       "      <td>3.688902</td>\n",
       "      <td>443.436128</td>\n",
       "      <td>451.179157</td>\n",
       "      <td>22.553720</td>\n",
       "      <td>443.436128</td>\n",
       "      <td>454.102999</td>\n",
       "      <td>21.304702</td>\n",
       "    </tr>\n",
       "    <tr>\n",
       "      <th>min</th>\n",
       "      <td>63316.400000</td>\n",
       "      <td>-4000.000000</td>\n",
       "      <td>-4003.000000</td>\n",
       "      <td>-23.200000</td>\n",
       "      <td>3082.000000</td>\n",
       "      <td>3065.000000</td>\n",
       "      <td>-16.580000</td>\n",
       "    </tr>\n",
       "    <tr>\n",
       "      <th>25%</th>\n",
       "      <td>63318.200000</td>\n",
       "      <td>-4000.000000</td>\n",
       "      <td>-3993.500000</td>\n",
       "      <td>-14.300000</td>\n",
       "      <td>3082.000000</td>\n",
       "      <td>3082.000000</td>\n",
       "      <td>-0.010000</td>\n",
       "    </tr>\n",
       "    <tr>\n",
       "      <th>50%</th>\n",
       "      <td>63321.800000</td>\n",
       "      <td>-3082.000000</td>\n",
       "      <td>-3101.000000</td>\n",
       "      <td>3.600000</td>\n",
       "      <td>3082.000000</td>\n",
       "      <td>3120.000000</td>\n",
       "      <td>34.190000</td>\n",
       "    </tr>\n",
       "    <tr>\n",
       "      <th>75%</th>\n",
       "      <td>63325.400000</td>\n",
       "      <td>-3082.000000</td>\n",
       "      <td>-3052.500000</td>\n",
       "      <td>30.800000</td>\n",
       "      <td>4000.000000</td>\n",
       "      <td>4035.000000</td>\n",
       "      <td>38.460000</td>\n",
       "    </tr>\n",
       "    <tr>\n",
       "      <th>max</th>\n",
       "      <td>63327.200000</td>\n",
       "      <td>-3082.000000</td>\n",
       "      <td>-3043.000000</td>\n",
       "      <td>38.900000</td>\n",
       "      <td>4000.000000</td>\n",
       "      <td>4042.000000</td>\n",
       "      <td>43.490000</td>\n",
       "    </tr>\n",
       "  </tbody>\n",
       "</table>\n",
       "</div>"
      ],
      "text/plain": [
       "                 里程    设计宽度（mm）左    实测宽度（mm）左    差值（mm）左    设计宽度（mm）右  \\\n",
       "count     21.000000    21.000000    20.000000  21.000000    21.000000   \n",
       "mean   63321.800000 -3388.000000 -3398.000000   6.714286  3388.000000   \n",
       "std        3.688902   443.436128   451.179157  22.553720   443.436128   \n",
       "min    63316.400000 -4000.000000 -4003.000000 -23.200000  3082.000000   \n",
       "25%    63318.200000 -4000.000000 -3993.500000 -14.300000  3082.000000   \n",
       "50%    63321.800000 -3082.000000 -3101.000000   3.600000  3082.000000   \n",
       "75%    63325.400000 -3082.000000 -3052.500000  30.800000  4000.000000   \n",
       "max    63327.200000 -3082.000000 -3043.000000  38.900000  4000.000000   \n",
       "\n",
       "         实测宽度（mm）右    差值（mm）右  \n",
       "count    21.000000  21.000000  \n",
       "mean   3410.666667  22.733810  \n",
       "std     454.102999  21.304702  \n",
       "min    3065.000000 -16.580000  \n",
       "25%    3082.000000  -0.010000  \n",
       "50%    3120.000000  34.190000  \n",
       "75%    4035.000000  38.460000  \n",
       "max    4042.000000  43.490000  "
      ]
     },
     "execution_count": 67,
     "metadata": {},
     "output_type": "execute_result"
    }
   ],
   "source": [
    "# 打印描述信息\n",
    "df_report.describe()"
   ]
  },
  {
   "cell_type": "code",
   "execution_count": 68,
   "metadata": {},
   "outputs": [
    {
     "data": {
      "text/html": [
       "<div>\n",
       "<style scoped>\n",
       "    .dataframe tbody tr th:only-of-type {\n",
       "        vertical-align: middle;\n",
       "    }\n",
       "\n",
       "    .dataframe tbody tr th {\n",
       "        vertical-align: top;\n",
       "    }\n",
       "\n",
       "    .dataframe thead th {\n",
       "        text-align: right;\n",
       "    }\n",
       "</style>\n",
       "<table border=\"1\" class=\"dataframe\">\n",
       "  <thead>\n",
       "    <tr style=\"text-align: right;\">\n",
       "      <th></th>\n",
       "      <th>里程</th>\n",
       "      <th>设计宽度（mm）左</th>\n",
       "      <th>实测宽度（mm）左</th>\n",
       "      <th>差值（mm）左</th>\n",
       "      <th>设计宽度（mm）右</th>\n",
       "      <th>实测宽度（mm）右</th>\n",
       "      <th>差值（mm）右</th>\n",
       "    </tr>\n",
       "  </thead>\n",
       "  <tbody>\n",
       "    <tr>\n",
       "      <th>count</th>\n",
       "      <td>21.000000</td>\n",
       "      <td>21.000000</td>\n",
       "      <td>20.000000</td>\n",
       "      <td>21.000000</td>\n",
       "      <td>21.000000</td>\n",
       "      <td>21.000000</td>\n",
       "      <td>21.000000</td>\n",
       "    </tr>\n",
       "    <tr>\n",
       "      <th>mean</th>\n",
       "      <td>63321.800000</td>\n",
       "      <td>-3388.000000</td>\n",
       "      <td>-3398.000000</td>\n",
       "      <td>6.714286</td>\n",
       "      <td>3388.000000</td>\n",
       "      <td>3410.666667</td>\n",
       "      <td>22.733810</td>\n",
       "    </tr>\n",
       "    <tr>\n",
       "      <th>std</th>\n",
       "      <td>3.688902</td>\n",
       "      <td>443.436128</td>\n",
       "      <td>451.179157</td>\n",
       "      <td>22.553720</td>\n",
       "      <td>443.436128</td>\n",
       "      <td>454.102999</td>\n",
       "      <td>21.304702</td>\n",
       "    </tr>\n",
       "    <tr>\n",
       "      <th>min</th>\n",
       "      <td>63316.400000</td>\n",
       "      <td>-4000.000000</td>\n",
       "      <td>-4003.000000</td>\n",
       "      <td>-23.200000</td>\n",
       "      <td>3082.000000</td>\n",
       "      <td>3065.000000</td>\n",
       "      <td>-16.580000</td>\n",
       "    </tr>\n",
       "    <tr>\n",
       "      <th>...</th>\n",
       "      <td>...</td>\n",
       "      <td>...</td>\n",
       "      <td>...</td>\n",
       "      <td>...</td>\n",
       "      <td>...</td>\n",
       "      <td>...</td>\n",
       "      <td>...</td>\n",
       "    </tr>\n",
       "    <tr>\n",
       "      <th>30%</th>\n",
       "      <td>63320.000000</td>\n",
       "      <td>-4000.000000</td>\n",
       "      <td>-3991.600000</td>\n",
       "      <td>-14.200000</td>\n",
       "      <td>3082.000000</td>\n",
       "      <td>3092.000000</td>\n",
       "      <td>10.500000</td>\n",
       "    </tr>\n",
       "    <tr>\n",
       "      <th>50%</th>\n",
       "      <td>63321.800000</td>\n",
       "      <td>-3082.000000</td>\n",
       "      <td>-3101.000000</td>\n",
       "      <td>3.600000</td>\n",
       "      <td>3082.000000</td>\n",
       "      <td>3120.000000</td>\n",
       "      <td>34.190000</td>\n",
       "    </tr>\n",
       "    <tr>\n",
       "      <th>99%</th>\n",
       "      <td>63327.200000</td>\n",
       "      <td>-3082.000000</td>\n",
       "      <td>-3043.000000</td>\n",
       "      <td>38.860000</td>\n",
       "      <td>4000.000000</td>\n",
       "      <td>4041.400000</td>\n",
       "      <td>43.200000</td>\n",
       "    </tr>\n",
       "    <tr>\n",
       "      <th>max</th>\n",
       "      <td>63327.200000</td>\n",
       "      <td>-3082.000000</td>\n",
       "      <td>-3043.000000</td>\n",
       "      <td>38.900000</td>\n",
       "      <td>4000.000000</td>\n",
       "      <td>4042.000000</td>\n",
       "      <td>43.490000</td>\n",
       "    </tr>\n",
       "  </tbody>\n",
       "</table>\n",
       "<p>9 rows × 7 columns</p>\n",
       "</div>"
      ],
      "text/plain": [
       "                 里程    设计宽度（mm）左    实测宽度（mm）左    差值（mm）左    设计宽度（mm）右  \\\n",
       "count     21.000000    21.000000    20.000000  21.000000    21.000000   \n",
       "mean   63321.800000 -3388.000000 -3398.000000   6.714286  3388.000000   \n",
       "std        3.688902   443.436128   451.179157  22.553720   443.436128   \n",
       "min    63316.400000 -4000.000000 -4003.000000 -23.200000  3082.000000   \n",
       "...             ...          ...          ...        ...          ...   \n",
       "30%    63320.000000 -4000.000000 -3991.600000 -14.200000  3082.000000   \n",
       "50%    63321.800000 -3082.000000 -3101.000000   3.600000  3082.000000   \n",
       "99%    63327.200000 -3082.000000 -3043.000000  38.860000  4000.000000   \n",
       "max    63327.200000 -3082.000000 -3043.000000  38.900000  4000.000000   \n",
       "\n",
       "         实测宽度（mm）右    差值（mm）右  \n",
       "count    21.000000  21.000000  \n",
       "mean   3410.666667  22.733810  \n",
       "std     454.102999  21.304702  \n",
       "min    3065.000000 -16.580000  \n",
       "...            ...        ...  \n",
       "30%    3092.000000  10.500000  \n",
       "50%    3120.000000  34.190000  \n",
       "99%    4041.400000  43.200000  \n",
       "max    4042.000000  43.490000  \n",
       "\n",
       "[9 rows x 7 columns]"
      ]
     },
     "execution_count": 68,
     "metadata": {},
     "output_type": "execute_result"
    }
   ],
   "source": [
    "# 使用 percentiles() 方法计算分位数\n",
    "df_report.describe(percentiles=[.01, .3, .99])"
   ]
  },
  {
   "cell_type": "code",
   "execution_count": 69,
   "metadata": {},
   "outputs": [
    {
     "data": {
      "text/plain": [
       "里程               0\n",
       "测点位置             0\n",
       "设计宽度（mm）左        0\n",
       "实测宽度（mm）左        1\n",
       "                ..\n",
       "设计宽度（mm）右        0\n",
       "实测宽度（mm）右        0\n",
       "差值（mm）右          0\n",
       "director_name    0\n",
       "Length: 9, dtype: int64"
      ]
     },
     "execution_count": 69,
     "metadata": {},
     "output_type": "execute_result"
    }
   ],
   "source": [
    "# 打印各列空值的个数\n",
    "df_report.isnull().sum()"
   ]
  },
  {
   "cell_type": "code",
   "execution_count": 70,
   "metadata": {},
   "outputs": [
    {
     "data": {
      "text/plain": [
       "里程               63316.4\n",
       "测点位置                  A1\n",
       "设计宽度（mm）左          -4000\n",
       "实测宽度（mm）左            NaN\n",
       "                  ...   \n",
       "设计宽度（mm）右           3082\n",
       "实测宽度（mm）右           3065\n",
       "差值（mm）右           -16.58\n",
       "director_name      文件名称1\n",
       "Length: 9, dtype: object"
      ]
     },
     "execution_count": 70,
     "metadata": {},
     "output_type": "execute_result"
    }
   ],
   "source": [
    "# 设定skipna参数为False，没有缺失值的数值列才会计算结果\n",
    "df_report.min(skipna=False)"
   ]
  },
  {
   "cell_type": "markdown",
   "metadata": {},
   "source": [
    "## 串联 dataframe 方法"
   ]
  },
  {
   "cell_type": "code",
   "execution_count": 71,
   "metadata": {},
   "outputs": [
    {
     "data": {
      "text/html": [
       "<div>\n",
       "<style scoped>\n",
       "    .dataframe tbody tr th:only-of-type {\n",
       "        vertical-align: middle;\n",
       "    }\n",
       "\n",
       "    .dataframe tbody tr th {\n",
       "        vertical-align: top;\n",
       "    }\n",
       "\n",
       "    .dataframe thead th {\n",
       "        text-align: right;\n",
       "    }\n",
       "</style>\n",
       "<table border=\"1\" class=\"dataframe\">\n",
       "  <thead>\n",
       "    <tr style=\"text-align: right;\">\n",
       "      <th></th>\n",
       "      <th>里程</th>\n",
       "      <th>测点位置</th>\n",
       "      <th>设计宽度（mm）左</th>\n",
       "      <th>实测宽度（mm）左</th>\n",
       "      <th>差值（mm）左</th>\n",
       "      <th>设计宽度（mm）右</th>\n",
       "      <th>实测宽度（mm）右</th>\n",
       "      <th>差值（mm）右</th>\n",
       "      <th>director_name</th>\n",
       "    </tr>\n",
       "  </thead>\n",
       "  <tbody>\n",
       "    <tr>\n",
       "      <th>0</th>\n",
       "      <td>False</td>\n",
       "      <td>False</td>\n",
       "      <td>False</td>\n",
       "      <td>False</td>\n",
       "      <td>False</td>\n",
       "      <td>False</td>\n",
       "      <td>False</td>\n",
       "      <td>False</td>\n",
       "      <td>False</td>\n",
       "    </tr>\n",
       "    <tr>\n",
       "      <th>1</th>\n",
       "      <td>False</td>\n",
       "      <td>False</td>\n",
       "      <td>False</td>\n",
       "      <td>False</td>\n",
       "      <td>False</td>\n",
       "      <td>False</td>\n",
       "      <td>False</td>\n",
       "      <td>False</td>\n",
       "      <td>False</td>\n",
       "    </tr>\n",
       "    <tr>\n",
       "      <th>2</th>\n",
       "      <td>False</td>\n",
       "      <td>False</td>\n",
       "      <td>False</td>\n",
       "      <td>False</td>\n",
       "      <td>False</td>\n",
       "      <td>False</td>\n",
       "      <td>False</td>\n",
       "      <td>False</td>\n",
       "      <td>False</td>\n",
       "    </tr>\n",
       "    <tr>\n",
       "      <th>3</th>\n",
       "      <td>False</td>\n",
       "      <td>False</td>\n",
       "      <td>False</td>\n",
       "      <td>False</td>\n",
       "      <td>False</td>\n",
       "      <td>False</td>\n",
       "      <td>False</td>\n",
       "      <td>False</td>\n",
       "      <td>False</td>\n",
       "    </tr>\n",
       "    <tr>\n",
       "      <th>...</th>\n",
       "      <td>...</td>\n",
       "      <td>...</td>\n",
       "      <td>...</td>\n",
       "      <td>...</td>\n",
       "      <td>...</td>\n",
       "      <td>...</td>\n",
       "      <td>...</td>\n",
       "      <td>...</td>\n",
       "      <td>...</td>\n",
       "    </tr>\n",
       "    <tr>\n",
       "      <th>17</th>\n",
       "      <td>False</td>\n",
       "      <td>False</td>\n",
       "      <td>False</td>\n",
       "      <td>False</td>\n",
       "      <td>False</td>\n",
       "      <td>False</td>\n",
       "      <td>False</td>\n",
       "      <td>False</td>\n",
       "      <td>False</td>\n",
       "    </tr>\n",
       "    <tr>\n",
       "      <th>18</th>\n",
       "      <td>False</td>\n",
       "      <td>False</td>\n",
       "      <td>False</td>\n",
       "      <td>False</td>\n",
       "      <td>False</td>\n",
       "      <td>False</td>\n",
       "      <td>False</td>\n",
       "      <td>False</td>\n",
       "      <td>False</td>\n",
       "    </tr>\n",
       "    <tr>\n",
       "      <th>19</th>\n",
       "      <td>False</td>\n",
       "      <td>False</td>\n",
       "      <td>False</td>\n",
       "      <td>False</td>\n",
       "      <td>False</td>\n",
       "      <td>False</td>\n",
       "      <td>False</td>\n",
       "      <td>False</td>\n",
       "      <td>False</td>\n",
       "    </tr>\n",
       "    <tr>\n",
       "      <th>20</th>\n",
       "      <td>False</td>\n",
       "      <td>False</td>\n",
       "      <td>False</td>\n",
       "      <td>False</td>\n",
       "      <td>False</td>\n",
       "      <td>False</td>\n",
       "      <td>False</td>\n",
       "      <td>False</td>\n",
       "      <td>False</td>\n",
       "    </tr>\n",
       "  </tbody>\n",
       "</table>\n",
       "<p>21 rows × 9 columns</p>\n",
       "</div>"
      ],
      "text/plain": [
       "       里程   测点位置  设计宽度（mm）左  实测宽度（mm）左  差值（mm）左  设计宽度（mm）右  实测宽度（mm）右  \\\n",
       "0   False  False      False      False    False      False      False   \n",
       "1   False  False      False      False    False      False      False   \n",
       "2   False  False      False      False    False      False      False   \n",
       "3   False  False      False      False    False      False      False   \n",
       "..    ...    ...        ...        ...      ...        ...        ...   \n",
       "17  False  False      False      False    False      False      False   \n",
       "18  False  False      False      False    False      False      False   \n",
       "19  False  False      False      False    False      False      False   \n",
       "20  False  False      False      False    False      False      False   \n",
       "\n",
       "    差值（mm）右  director_name  \n",
       "0     False          False  \n",
       "1     False          False  \n",
       "2     False          False  \n",
       "3     False          False  \n",
       "..      ...            ...  \n",
       "17    False          False  \n",
       "18    False          False  \n",
       "19    False          False  \n",
       "20    False          False  \n",
       "\n",
       "[21 rows x 9 columns]"
      ]
     },
     "execution_count": 71,
     "metadata": {},
     "output_type": "execute_result"
    }
   ],
   "source": [
    "# 使用 isnull 方法将每个值转变为布尔值\n",
    "df_report.isnull()"
   ]
  },
  {
   "cell_type": "code",
   "execution_count": 72,
   "metadata": {},
   "outputs": [
    {
     "data": {
      "text/plain": [
       "里程           0\n",
       "测点位置         0\n",
       "设计宽度（mm）左    0\n",
       "实测宽度（mm）左    1\n",
       "差值（mm）左      0\n",
       "dtype: int64"
      ]
     },
     "execution_count": 72,
     "metadata": {},
     "output_type": "execute_result"
    }
   ],
   "source": [
    "# 使用 sum 统计布尔值，返回的是 series\n",
    "df_report.isnull().sum().head()"
   ]
  },
  {
   "cell_type": "code",
   "execution_count": 73,
   "metadata": {},
   "outputs": [
    {
     "data": {
      "text/plain": [
       "np.int64(1)"
      ]
     },
     "execution_count": 73,
     "metadata": {},
     "output_type": "execute_result"
    }
   ],
   "source": [
    "# 对这个 series 在使用 sum ，返回整个 dataframe 的缺失值个数，返回值是个标量\n",
    "df_report.isnull().sum().sum()"
   ]
  },
  {
   "cell_type": "code",
   "execution_count": 74,
   "metadata": {},
   "outputs": [
    {
     "data": {
      "text/plain": [
       "np.True_"
      ]
     },
     "execution_count": 74,
     "metadata": {},
     "output_type": "execute_result"
    }
   ],
   "source": [
    "# 判断整个 dataframe 有没有缺失值，方法是连着使用两个 any\n",
    "df_report.isnull().any().any()"
   ]
  },
  {
   "cell_type": "code",
   "execution_count": 75,
   "metadata": {},
   "outputs": [
    {
     "data": {
      "text/plain": [
       "bool    9\n",
       "Name: count, dtype: int64"
      ]
     },
     "execution_count": 75,
     "metadata": {},
     "output_type": "execute_result"
    }
   ],
   "source": [
    "# isnull 返回同样大小的 dataframe ，但所有的值变为布尔值\n",
    "df_report.isnull().dtypes.value_counts()"
   ]
  },
  {
   "cell_type": "code",
   "execution_count": 76,
   "metadata": {},
   "outputs": [
    {
     "data": {
      "text/plain": [
       "实测宽度（mm）左   -67960.0\n",
       "dtype: float64"
      ]
     },
     "execution_count": 76,
     "metadata": {},
     "output_type": "execute_result"
    }
   ],
   "source": [
    "# df_report 数据集的对象数据包含缺失值。默认条件下，聚合方法 min、max、sum，默认会跳过缺失值\n",
    "df_report[['实测宽度（mm）左']].sum()"
   ]
  },
  {
   "cell_type": "code",
   "execution_count": 77,
   "metadata": {},
   "outputs": [
    {
     "data": {
      "text/plain": [
       "实测宽度（mm）左   -3043.0\n",
       "dtype: float64"
      ]
     },
     "execution_count": 77,
     "metadata": {},
     "output_type": "execute_result"
    }
   ],
   "source": [
    "df_report[['实测宽度（mm）左']].max()"
   ]
  },
  {
   "cell_type": "code",
   "execution_count": 78,
   "metadata": {},
   "outputs": [
    {
     "data": {
      "text/html": [
       "<div>\n",
       "<style scoped>\n",
       "    .dataframe tbody tr th:only-of-type {\n",
       "        vertical-align: middle;\n",
       "    }\n",
       "\n",
       "    .dataframe tbody tr th {\n",
       "        vertical-align: top;\n",
       "    }\n",
       "\n",
       "    .dataframe thead th {\n",
       "        text-align: right;\n",
       "    }\n",
       "</style>\n",
       "<table border=\"1\" class=\"dataframe\">\n",
       "  <thead>\n",
       "    <tr style=\"text-align: right;\">\n",
       "      <th></th>\n",
       "      <th>里程</th>\n",
       "      <th>实测宽度（mm）左</th>\n",
       "      <th>差值（mm）左</th>\n",
       "      <th>差值（mm）右</th>\n",
       "    </tr>\n",
       "  </thead>\n",
       "  <tbody>\n",
       "    <tr>\n",
       "      <th>0</th>\n",
       "      <td>63316.4</td>\n",
       "      <td>-3101.0</td>\n",
       "      <td>-18.7</td>\n",
       "      <td>34.19</td>\n",
       "    </tr>\n",
       "    <tr>\n",
       "      <th>1</th>\n",
       "      <td>63316.4</td>\n",
       "      <td>-4003.0</td>\n",
       "      <td>-2.6</td>\n",
       "      <td>35.03</td>\n",
       "    </tr>\n",
       "    <tr>\n",
       "      <th>2</th>\n",
       "      <td>63316.4</td>\n",
       "      <td>-3043.0</td>\n",
       "      <td>38.9</td>\n",
       "      <td>10.50</td>\n",
       "    </tr>\n",
       "    <tr>\n",
       "      <th>3</th>\n",
       "      <td>63318.2</td>\n",
       "      <td>-3105.0</td>\n",
       "      <td>-23.2</td>\n",
       "      <td>38.11</td>\n",
       "    </tr>\n",
       "    <tr>\n",
       "      <th>...</th>\n",
       "      <td>...</td>\n",
       "      <td>...</td>\n",
       "      <td>...</td>\n",
       "      <td>...</td>\n",
       "    </tr>\n",
       "    <tr>\n",
       "      <th>17</th>\n",
       "      <td>63325.4</td>\n",
       "      <td>-3053.0</td>\n",
       "      <td>28.9</td>\n",
       "      <td>-3.95</td>\n",
       "    </tr>\n",
       "    <tr>\n",
       "      <th>18</th>\n",
       "      <td>63327.2</td>\n",
       "      <td>-3100.0</td>\n",
       "      <td>-18.6</td>\n",
       "      <td>39.68</td>\n",
       "    </tr>\n",
       "    <tr>\n",
       "      <th>19</th>\n",
       "      <td>63327.2</td>\n",
       "      <td>-3995.0</td>\n",
       "      <td>5.0</td>\n",
       "      <td>39.42</td>\n",
       "    </tr>\n",
       "    <tr>\n",
       "      <th>20</th>\n",
       "      <td>63327.2</td>\n",
       "      <td>-3051.0</td>\n",
       "      <td>30.8</td>\n",
       "      <td>-6.33</td>\n",
       "    </tr>\n",
       "  </tbody>\n",
       "</table>\n",
       "<p>21 rows × 4 columns</p>\n",
       "</div>"
      ],
      "text/plain": [
       "         里程  实测宽度（mm）左  差值（mm）左  差值（mm）右\n",
       "0   63316.4    -3101.0    -18.7    34.19\n",
       "1   63316.4    -4003.0     -2.6    35.03\n",
       "2   63316.4    -3043.0     38.9    10.50\n",
       "3   63318.2    -3105.0    -23.2    38.11\n",
       "..      ...        ...      ...      ...\n",
       "17  63325.4    -3053.0     28.9    -3.95\n",
       "18  63327.2    -3100.0    -18.6    39.68\n",
       "19  63327.2    -3995.0      5.0    39.42\n",
       "20  63327.2    -3051.0     30.8    -6.33\n",
       "\n",
       "[21 rows x 4 columns]"
      ]
     },
     "execution_count": 78,
     "metadata": {},
     "output_type": "execute_result"
    }
   ],
   "source": [
    "df_report.select_dtypes(['float64'])"
   ]
  },
  {
   "cell_type": "code",
   "execution_count": 79,
   "metadata": {},
   "outputs": [
    {
     "data": {
      "text/plain": [
       "里程           63327.20\n",
       "实测宽度（mm）左    -3043.00\n",
       "差值（mm）左         38.90\n",
       "差值（mm）右         43.49\n",
       "dtype: float64"
      ]
     },
     "execution_count": 79,
     "metadata": {},
     "output_type": "execute_result"
    }
   ],
   "source": [
    "df_report.select_dtypes(['float64']).fillna(np.nan).max()"
   ]
  },
  {
   "cell_type": "code",
   "execution_count": 80,
   "metadata": {},
   "outputs": [
    {
     "name": "stderr",
     "output_type": "stream",
     "text": [
      "C:\\Users\\Administrator\\AppData\\Local\\Temp\\ipykernel_26804\\1184245695.py:1: FutureWarning: ChainedAssignmentError: behaviour will change in pandas 3.0!\n",
      "You are setting values through chained assignment. Currently this works in certain cases, but when using Copy-on-Write (which will become the default behaviour in pandas 3.0) this will never work to update the original DataFrame or Series, because the intermediate object on which we are setting values will behave as a copy.\n",
      "A typical example is when you are setting values in a column of a DataFrame, like:\n",
      "\n",
      "df[\"col\"][row_indexer] = value\n",
      "\n",
      "Use `df.loc[row_indexer, \"col\"] = values` instead, to perform the assignment in a single step and ensure this keeps updating the original `df`.\n",
      "\n",
      "See the caveats in the documentation: https://pandas.pydata.org/pandas-docs/stable/user_guide/indexing.html#returning-a-view-versus-a-copy\n",
      "\n",
      "  df_report['director_name'][5] = None\n",
      "C:\\Users\\Administrator\\AppData\\Local\\Temp\\ipykernel_26804\\1184245695.py:1: SettingWithCopyWarning: \n",
      "A value is trying to be set on a copy of a slice from a DataFrame\n",
      "\n",
      "See the caveats in the documentation: https://pandas.pydata.org/pandas-docs/stable/user_guide/indexing.html#returning-a-view-versus-a-copy\n",
      "  df_report['director_name'][5] = None\n",
      "C:\\Users\\Administrator\\AppData\\Local\\Temp\\ipykernel_26804\\1184245695.py:2: FutureWarning: ChainedAssignmentError: behaviour will change in pandas 3.0!\n",
      "You are setting values through chained assignment. Currently this works in certain cases, but when using Copy-on-Write (which will become the default behaviour in pandas 3.0) this will never work to update the original DataFrame or Series, because the intermediate object on which we are setting values will behave as a copy.\n",
      "A typical example is when you are setting values in a column of a DataFrame, like:\n",
      "\n",
      "df[\"col\"][row_indexer] = value\n",
      "\n",
      "Use `df.loc[row_indexer, \"col\"] = values` instead, to perform the assignment in a single step and ensure this keeps updating the original `df`.\n",
      "\n",
      "See the caveats in the documentation: https://pandas.pydata.org/pandas-docs/stable/user_guide/indexing.html#returning-a-view-versus-a-copy\n",
      "\n",
      "  df_report['实测宽度（mm）左'][10] = None\n",
      "C:\\Users\\Administrator\\AppData\\Local\\Temp\\ipykernel_26804\\1184245695.py:2: SettingWithCopyWarning: \n",
      "A value is trying to be set on a copy of a slice from a DataFrame\n",
      "\n",
      "See the caveats in the documentation: https://pandas.pydata.org/pandas-docs/stable/user_guide/indexing.html#returning-a-view-versus-a-copy\n",
      "  df_report['实测宽度（mm）左'][10] = None\n"
     ]
    }
   ],
   "source": [
    "df_report['director_name'][5] = None\n",
    "df_report['实测宽度（mm）左'][10] = None"
   ]
  },
  {
   "cell_type": "code",
   "execution_count": 81,
   "metadata": {},
   "outputs": [],
   "source": [
    "# 忽略上面 warning，可用下面这种赋值方法\n",
    "'''\n",
    "loc：基于标签（label）进行索引，这里的标签可以是行和列的名称。\n",
    "iloc：基于整数位置（integer position）进行索引，索引从 0 开始计数。\n",
    "'''\n",
    "\n",
    "df_report.loc[5, 'director_name'] = None\n",
    "df_report.loc[10, '实测宽度（mm）左'] = None\n",
    "\n"
   ]
  },
  {
   "cell_type": "code",
   "execution_count": 82,
   "metadata": {},
   "outputs": [],
   "source": [
    "col_index1 = df_report.columns.get_loc('director_name')  # col_index1 = 8\n",
    "col_index2 = df_report.columns.get_loc('实测宽度（mm）左')  # col_index2 = 3\n",
    "\n",
    "df_report.iloc[5, col_index1] = None\n",
    "df_report.iloc[10, col_index2] = None"
   ]
  },
  {
   "cell_type": "code",
   "execution_count": 83,
   "metadata": {},
   "outputs": [
    {
     "data": {
      "text/plain": [
       "3"
      ]
     },
     "execution_count": 83,
     "metadata": {},
     "output_type": "execute_result"
    }
   ],
   "source": [
    "col_index2"
   ]
  },
  {
   "cell_type": "code",
   "execution_count": 84,
   "metadata": {},
   "outputs": [
    {
     "ename": "TypeError",
     "evalue": "'>=' not supported between instances of 'str' and 'float'",
     "output_type": "error",
     "traceback": [
      "\u001b[1;31m---------------------------------------------------------------------------\u001b[0m",
      "\u001b[1;31mTypeError\u001b[0m                                 Traceback (most recent call last)",
      "Cell \u001b[1;32mIn[84], line 1\u001b[0m\n\u001b[1;32m----> 1\u001b[0m \u001b[43mdf_report\u001b[49m\u001b[38;5;241;43m.\u001b[39;49m\u001b[43mselect_dtypes\u001b[49m\u001b[43m(\u001b[49m\u001b[43m[\u001b[49m\u001b[38;5;124;43m'\u001b[39;49m\u001b[38;5;124;43mobject\u001b[39;49m\u001b[38;5;124;43m'\u001b[39;49m\u001b[43m]\u001b[49m\u001b[43m)\u001b[49m\u001b[38;5;241;43m.\u001b[39;49m\u001b[43mmax\u001b[49m\u001b[43m(\u001b[49m\u001b[43m)\u001b[49m\n",
      "File \u001b[1;32md:\\miniconda3\\Lib\\site-packages\\pandas\\core\\frame.py:11656\u001b[0m, in \u001b[0;36mDataFrame.max\u001b[1;34m(self, axis, skipna, numeric_only, **kwargs)\u001b[0m\n\u001b[0;32m  11648\u001b[0m \u001b[38;5;129m@doc\u001b[39m(make_doc(\u001b[38;5;124m\"\u001b[39m\u001b[38;5;124mmax\u001b[39m\u001b[38;5;124m\"\u001b[39m, ndim\u001b[38;5;241m=\u001b[39m\u001b[38;5;241m2\u001b[39m))\n\u001b[0;32m  11649\u001b[0m \u001b[38;5;28;01mdef\u001b[39;00m \u001b[38;5;21mmax\u001b[39m(\n\u001b[0;32m  11650\u001b[0m     \u001b[38;5;28mself\u001b[39m,\n\u001b[1;32m   (...)\u001b[0m\n\u001b[0;32m  11654\u001b[0m     \u001b[38;5;241m*\u001b[39m\u001b[38;5;241m*\u001b[39mkwargs,\n\u001b[0;32m  11655\u001b[0m ):\n\u001b[1;32m> 11656\u001b[0m     result \u001b[38;5;241m=\u001b[39m \u001b[38;5;28;43msuper\u001b[39;49m\u001b[43m(\u001b[49m\u001b[43m)\u001b[49m\u001b[38;5;241;43m.\u001b[39;49m\u001b[43mmax\u001b[49m\u001b[43m(\u001b[49m\u001b[43maxis\u001b[49m\u001b[43m,\u001b[49m\u001b[43m \u001b[49m\u001b[43mskipna\u001b[49m\u001b[43m,\u001b[49m\u001b[43m \u001b[49m\u001b[43mnumeric_only\u001b[49m\u001b[43m,\u001b[49m\u001b[43m \u001b[49m\u001b[38;5;241;43m*\u001b[39;49m\u001b[38;5;241;43m*\u001b[39;49m\u001b[43mkwargs\u001b[49m\u001b[43m)\u001b[49m\n\u001b[0;32m  11657\u001b[0m     \u001b[38;5;28;01mif\u001b[39;00m \u001b[38;5;28misinstance\u001b[39m(result, Series):\n\u001b[0;32m  11658\u001b[0m         result \u001b[38;5;241m=\u001b[39m result\u001b[38;5;241m.\u001b[39m__finalize__(\u001b[38;5;28mself\u001b[39m, method\u001b[38;5;241m=\u001b[39m\u001b[38;5;124m\"\u001b[39m\u001b[38;5;124mmax\u001b[39m\u001b[38;5;124m\"\u001b[39m)\n",
      "File \u001b[1;32md:\\miniconda3\\Lib\\site-packages\\pandas\\core\\generic.py:12404\u001b[0m, in \u001b[0;36mNDFrame.max\u001b[1;34m(self, axis, skipna, numeric_only, **kwargs)\u001b[0m\n\u001b[0;32m  12397\u001b[0m \u001b[38;5;28;01mdef\u001b[39;00m \u001b[38;5;21mmax\u001b[39m(\n\u001b[0;32m  12398\u001b[0m     \u001b[38;5;28mself\u001b[39m,\n\u001b[0;32m  12399\u001b[0m     axis: Axis \u001b[38;5;241m|\u001b[39m \u001b[38;5;28;01mNone\u001b[39;00m \u001b[38;5;241m=\u001b[39m \u001b[38;5;241m0\u001b[39m,\n\u001b[1;32m   (...)\u001b[0m\n\u001b[0;32m  12402\u001b[0m     \u001b[38;5;241m*\u001b[39m\u001b[38;5;241m*\u001b[39mkwargs,\n\u001b[0;32m  12403\u001b[0m ):\n\u001b[1;32m> 12404\u001b[0m     \u001b[38;5;28;01mreturn\u001b[39;00m \u001b[38;5;28;43mself\u001b[39;49m\u001b[38;5;241;43m.\u001b[39;49m\u001b[43m_stat_function\u001b[49m\u001b[43m(\u001b[49m\n\u001b[0;32m  12405\u001b[0m \u001b[43m        \u001b[49m\u001b[38;5;124;43m\"\u001b[39;49m\u001b[38;5;124;43mmax\u001b[39;49m\u001b[38;5;124;43m\"\u001b[39;49m\u001b[43m,\u001b[49m\n\u001b[0;32m  12406\u001b[0m \u001b[43m        \u001b[49m\u001b[43mnanops\u001b[49m\u001b[38;5;241;43m.\u001b[39;49m\u001b[43mnanmax\u001b[49m\u001b[43m,\u001b[49m\n\u001b[0;32m  12407\u001b[0m \u001b[43m        \u001b[49m\u001b[43maxis\u001b[49m\u001b[43m,\u001b[49m\n\u001b[0;32m  12408\u001b[0m \u001b[43m        \u001b[49m\u001b[43mskipna\u001b[49m\u001b[43m,\u001b[49m\n\u001b[0;32m  12409\u001b[0m \u001b[43m        \u001b[49m\u001b[43mnumeric_only\u001b[49m\u001b[43m,\u001b[49m\n\u001b[0;32m  12410\u001b[0m \u001b[43m        \u001b[49m\u001b[38;5;241;43m*\u001b[39;49m\u001b[38;5;241;43m*\u001b[39;49m\u001b[43mkwargs\u001b[49m\u001b[43m,\u001b[49m\n\u001b[0;32m  12411\u001b[0m \u001b[43m    \u001b[49m\u001b[43m)\u001b[49m\n",
      "File \u001b[1;32md:\\miniconda3\\Lib\\site-packages\\pandas\\core\\generic.py:12377\u001b[0m, in \u001b[0;36mNDFrame._stat_function\u001b[1;34m(self, name, func, axis, skipna, numeric_only, **kwargs)\u001b[0m\n\u001b[0;32m  12373\u001b[0m nv\u001b[38;5;241m.\u001b[39mvalidate_func(name, (), kwargs)\n\u001b[0;32m  12375\u001b[0m validate_bool_kwarg(skipna, \u001b[38;5;124m\"\u001b[39m\u001b[38;5;124mskipna\u001b[39m\u001b[38;5;124m\"\u001b[39m, none_allowed\u001b[38;5;241m=\u001b[39m\u001b[38;5;28;01mFalse\u001b[39;00m)\n\u001b[1;32m> 12377\u001b[0m \u001b[38;5;28;01mreturn\u001b[39;00m \u001b[38;5;28;43mself\u001b[39;49m\u001b[38;5;241;43m.\u001b[39;49m\u001b[43m_reduce\u001b[49m\u001b[43m(\u001b[49m\n\u001b[0;32m  12378\u001b[0m \u001b[43m    \u001b[49m\u001b[43mfunc\u001b[49m\u001b[43m,\u001b[49m\u001b[43m \u001b[49m\u001b[43mname\u001b[49m\u001b[38;5;241;43m=\u001b[39;49m\u001b[43mname\u001b[49m\u001b[43m,\u001b[49m\u001b[43m \u001b[49m\u001b[43maxis\u001b[49m\u001b[38;5;241;43m=\u001b[39;49m\u001b[43maxis\u001b[49m\u001b[43m,\u001b[49m\u001b[43m \u001b[49m\u001b[43mskipna\u001b[49m\u001b[38;5;241;43m=\u001b[39;49m\u001b[43mskipna\u001b[49m\u001b[43m,\u001b[49m\u001b[43m \u001b[49m\u001b[43mnumeric_only\u001b[49m\u001b[38;5;241;43m=\u001b[39;49m\u001b[43mnumeric_only\u001b[49m\n\u001b[0;32m  12379\u001b[0m \u001b[43m\u001b[49m\u001b[43m)\u001b[49m\n",
      "File \u001b[1;32md:\\miniconda3\\Lib\\site-packages\\pandas\\core\\frame.py:11562\u001b[0m, in \u001b[0;36mDataFrame._reduce\u001b[1;34m(self, op, name, axis, skipna, numeric_only, filter_type, **kwds)\u001b[0m\n\u001b[0;32m  11558\u001b[0m     df \u001b[38;5;241m=\u001b[39m df\u001b[38;5;241m.\u001b[39mT\n\u001b[0;32m  11560\u001b[0m \u001b[38;5;66;03m# After possibly _get_data and transposing, we are now in the\u001b[39;00m\n\u001b[0;32m  11561\u001b[0m \u001b[38;5;66;03m#  simple case where we can use BlockManager.reduce\u001b[39;00m\n\u001b[1;32m> 11562\u001b[0m res \u001b[38;5;241m=\u001b[39m \u001b[43mdf\u001b[49m\u001b[38;5;241;43m.\u001b[39;49m\u001b[43m_mgr\u001b[49m\u001b[38;5;241;43m.\u001b[39;49m\u001b[43mreduce\u001b[49m\u001b[43m(\u001b[49m\u001b[43mblk_func\u001b[49m\u001b[43m)\u001b[49m\n\u001b[0;32m  11563\u001b[0m out \u001b[38;5;241m=\u001b[39m df\u001b[38;5;241m.\u001b[39m_constructor_from_mgr(res, axes\u001b[38;5;241m=\u001b[39mres\u001b[38;5;241m.\u001b[39maxes)\u001b[38;5;241m.\u001b[39miloc[\u001b[38;5;241m0\u001b[39m]\n\u001b[0;32m  11564\u001b[0m \u001b[38;5;28;01mif\u001b[39;00m out_dtype \u001b[38;5;129;01mis\u001b[39;00m \u001b[38;5;129;01mnot\u001b[39;00m \u001b[38;5;28;01mNone\u001b[39;00m \u001b[38;5;129;01mand\u001b[39;00m out\u001b[38;5;241m.\u001b[39mdtype \u001b[38;5;241m!=\u001b[39m \u001b[38;5;124m\"\u001b[39m\u001b[38;5;124mboolean\u001b[39m\u001b[38;5;124m\"\u001b[39m:\n",
      "File \u001b[1;32md:\\miniconda3\\Lib\\site-packages\\pandas\\core\\internals\\managers.py:1500\u001b[0m, in \u001b[0;36mBlockManager.reduce\u001b[1;34m(self, func)\u001b[0m\n\u001b[0;32m   1498\u001b[0m res_blocks: \u001b[38;5;28mlist\u001b[39m[Block] \u001b[38;5;241m=\u001b[39m []\n\u001b[0;32m   1499\u001b[0m \u001b[38;5;28;01mfor\u001b[39;00m blk \u001b[38;5;129;01min\u001b[39;00m \u001b[38;5;28mself\u001b[39m\u001b[38;5;241m.\u001b[39mblocks:\n\u001b[1;32m-> 1500\u001b[0m     nbs \u001b[38;5;241m=\u001b[39m \u001b[43mblk\u001b[49m\u001b[38;5;241;43m.\u001b[39;49m\u001b[43mreduce\u001b[49m\u001b[43m(\u001b[49m\u001b[43mfunc\u001b[49m\u001b[43m)\u001b[49m\n\u001b[0;32m   1501\u001b[0m     res_blocks\u001b[38;5;241m.\u001b[39mextend(nbs)\n\u001b[0;32m   1503\u001b[0m index \u001b[38;5;241m=\u001b[39m Index([\u001b[38;5;28;01mNone\u001b[39;00m])  \u001b[38;5;66;03m# placeholder\u001b[39;00m\n",
      "File \u001b[1;32md:\\miniconda3\\Lib\\site-packages\\pandas\\core\\internals\\blocks.py:404\u001b[0m, in \u001b[0;36mBlock.reduce\u001b[1;34m(self, func)\u001b[0m\n\u001b[0;32m    398\u001b[0m \u001b[38;5;129m@final\u001b[39m\n\u001b[0;32m    399\u001b[0m \u001b[38;5;28;01mdef\u001b[39;00m \u001b[38;5;21mreduce\u001b[39m(\u001b[38;5;28mself\u001b[39m, func) \u001b[38;5;241m-\u001b[39m\u001b[38;5;241m>\u001b[39m \u001b[38;5;28mlist\u001b[39m[Block]:\n\u001b[0;32m    400\u001b[0m     \u001b[38;5;66;03m# We will apply the function and reshape the result into a single-row\u001b[39;00m\n\u001b[0;32m    401\u001b[0m     \u001b[38;5;66;03m#  Block with the same mgr_locs; squeezing will be done at a higher level\u001b[39;00m\n\u001b[0;32m    402\u001b[0m     \u001b[38;5;28;01massert\u001b[39;00m \u001b[38;5;28mself\u001b[39m\u001b[38;5;241m.\u001b[39mndim \u001b[38;5;241m==\u001b[39m \u001b[38;5;241m2\u001b[39m\n\u001b[1;32m--> 404\u001b[0m     result \u001b[38;5;241m=\u001b[39m \u001b[43mfunc\u001b[49m\u001b[43m(\u001b[49m\u001b[38;5;28;43mself\u001b[39;49m\u001b[38;5;241;43m.\u001b[39;49m\u001b[43mvalues\u001b[49m\u001b[43m)\u001b[49m\n\u001b[0;32m    406\u001b[0m     \u001b[38;5;28;01mif\u001b[39;00m \u001b[38;5;28mself\u001b[39m\u001b[38;5;241m.\u001b[39mvalues\u001b[38;5;241m.\u001b[39mndim \u001b[38;5;241m==\u001b[39m \u001b[38;5;241m1\u001b[39m:\n\u001b[0;32m    407\u001b[0m         res_values \u001b[38;5;241m=\u001b[39m result\n",
      "File \u001b[1;32md:\\miniconda3\\Lib\\site-packages\\pandas\\core\\frame.py:11481\u001b[0m, in \u001b[0;36mDataFrame._reduce.<locals>.blk_func\u001b[1;34m(values, axis)\u001b[0m\n\u001b[0;32m  11479\u001b[0m         \u001b[38;5;28;01mreturn\u001b[39;00m np\u001b[38;5;241m.\u001b[39marray([result])\n\u001b[0;32m  11480\u001b[0m \u001b[38;5;28;01melse\u001b[39;00m:\n\u001b[1;32m> 11481\u001b[0m     \u001b[38;5;28;01mreturn\u001b[39;00m \u001b[43mop\u001b[49m\u001b[43m(\u001b[49m\u001b[43mvalues\u001b[49m\u001b[43m,\u001b[49m\u001b[43m \u001b[49m\u001b[43maxis\u001b[49m\u001b[38;5;241;43m=\u001b[39;49m\u001b[43maxis\u001b[49m\u001b[43m,\u001b[49m\u001b[43m \u001b[49m\u001b[43mskipna\u001b[49m\u001b[38;5;241;43m=\u001b[39;49m\u001b[43mskipna\u001b[49m\u001b[43m,\u001b[49m\u001b[43m \u001b[49m\u001b[38;5;241;43m*\u001b[39;49m\u001b[38;5;241;43m*\u001b[39;49m\u001b[43mkwds\u001b[49m\u001b[43m)\u001b[49m\n",
      "File \u001b[1;32md:\\miniconda3\\Lib\\site-packages\\pandas\\core\\nanops.py:147\u001b[0m, in \u001b[0;36mbottleneck_switch.__call__.<locals>.f\u001b[1;34m(values, axis, skipna, **kwds)\u001b[0m\n\u001b[0;32m    145\u001b[0m         result \u001b[38;5;241m=\u001b[39m alt(values, axis\u001b[38;5;241m=\u001b[39maxis, skipna\u001b[38;5;241m=\u001b[39mskipna, \u001b[38;5;241m*\u001b[39m\u001b[38;5;241m*\u001b[39mkwds)\n\u001b[0;32m    146\u001b[0m \u001b[38;5;28;01melse\u001b[39;00m:\n\u001b[1;32m--> 147\u001b[0m     result \u001b[38;5;241m=\u001b[39m \u001b[43malt\u001b[49m\u001b[43m(\u001b[49m\u001b[43mvalues\u001b[49m\u001b[43m,\u001b[49m\u001b[43m \u001b[49m\u001b[43maxis\u001b[49m\u001b[38;5;241;43m=\u001b[39;49m\u001b[43maxis\u001b[49m\u001b[43m,\u001b[49m\u001b[43m \u001b[49m\u001b[43mskipna\u001b[49m\u001b[38;5;241;43m=\u001b[39;49m\u001b[43mskipna\u001b[49m\u001b[43m,\u001b[49m\u001b[43m \u001b[49m\u001b[38;5;241;43m*\u001b[39;49m\u001b[38;5;241;43m*\u001b[39;49m\u001b[43mkwds\u001b[49m\u001b[43m)\u001b[49m\n\u001b[0;32m    149\u001b[0m \u001b[38;5;28;01mreturn\u001b[39;00m result\n",
      "File \u001b[1;32md:\\miniconda3\\Lib\\site-packages\\pandas\\core\\nanops.py:404\u001b[0m, in \u001b[0;36m_datetimelike_compat.<locals>.new_func\u001b[1;34m(values, axis, skipna, mask, **kwargs)\u001b[0m\n\u001b[0;32m    401\u001b[0m \u001b[38;5;28;01mif\u001b[39;00m datetimelike \u001b[38;5;129;01mand\u001b[39;00m mask \u001b[38;5;129;01mis\u001b[39;00m \u001b[38;5;28;01mNone\u001b[39;00m:\n\u001b[0;32m    402\u001b[0m     mask \u001b[38;5;241m=\u001b[39m isna(values)\n\u001b[1;32m--> 404\u001b[0m result \u001b[38;5;241m=\u001b[39m \u001b[43mfunc\u001b[49m\u001b[43m(\u001b[49m\u001b[43mvalues\u001b[49m\u001b[43m,\u001b[49m\u001b[43m \u001b[49m\u001b[43maxis\u001b[49m\u001b[38;5;241;43m=\u001b[39;49m\u001b[43maxis\u001b[49m\u001b[43m,\u001b[49m\u001b[43m \u001b[49m\u001b[43mskipna\u001b[49m\u001b[38;5;241;43m=\u001b[39;49m\u001b[43mskipna\u001b[49m\u001b[43m,\u001b[49m\u001b[43m \u001b[49m\u001b[43mmask\u001b[49m\u001b[38;5;241;43m=\u001b[39;49m\u001b[43mmask\u001b[49m\u001b[43m,\u001b[49m\u001b[43m \u001b[49m\u001b[38;5;241;43m*\u001b[39;49m\u001b[38;5;241;43m*\u001b[39;49m\u001b[43mkwargs\u001b[49m\u001b[43m)\u001b[49m\n\u001b[0;32m    406\u001b[0m \u001b[38;5;28;01mif\u001b[39;00m datetimelike:\n\u001b[0;32m    407\u001b[0m     result \u001b[38;5;241m=\u001b[39m _wrap_results(result, orig_values\u001b[38;5;241m.\u001b[39mdtype, fill_value\u001b[38;5;241m=\u001b[39miNaT)\n",
      "File \u001b[1;32md:\\miniconda3\\Lib\\site-packages\\pandas\\core\\nanops.py:1098\u001b[0m, in \u001b[0;36m_nanminmax.<locals>.reduction\u001b[1;34m(values, axis, skipna, mask)\u001b[0m\n\u001b[0;32m   1093\u001b[0m     \u001b[38;5;28;01mreturn\u001b[39;00m _na_for_min_count(values, axis)\n\u001b[0;32m   1095\u001b[0m values, mask \u001b[38;5;241m=\u001b[39m _get_values(\n\u001b[0;32m   1096\u001b[0m     values, skipna, fill_value_typ\u001b[38;5;241m=\u001b[39mfill_value_typ, mask\u001b[38;5;241m=\u001b[39mmask\n\u001b[0;32m   1097\u001b[0m )\n\u001b[1;32m-> 1098\u001b[0m result \u001b[38;5;241m=\u001b[39m \u001b[38;5;28;43mgetattr\u001b[39;49m\u001b[43m(\u001b[49m\u001b[43mvalues\u001b[49m\u001b[43m,\u001b[49m\u001b[43m \u001b[49m\u001b[43mmeth\u001b[49m\u001b[43m)\u001b[49m\u001b[43m(\u001b[49m\u001b[43maxis\u001b[49m\u001b[43m)\u001b[49m\n\u001b[0;32m   1099\u001b[0m result \u001b[38;5;241m=\u001b[39m _maybe_null_out(result, axis, mask, values\u001b[38;5;241m.\u001b[39mshape)\n\u001b[0;32m   1100\u001b[0m \u001b[38;5;28;01mreturn\u001b[39;00m result\n",
      "File \u001b[1;32md:\\miniconda3\\Lib\\site-packages\\numpy\\_core\\_methods.py:45\u001b[0m, in \u001b[0;36m_amax\u001b[1;34m(a, axis, out, keepdims, initial, where)\u001b[0m\n\u001b[0;32m     43\u001b[0m \u001b[38;5;28;01mdef\u001b[39;00m \u001b[38;5;21m_amax\u001b[39m(a, axis\u001b[38;5;241m=\u001b[39m\u001b[38;5;28;01mNone\u001b[39;00m, out\u001b[38;5;241m=\u001b[39m\u001b[38;5;28;01mNone\u001b[39;00m, keepdims\u001b[38;5;241m=\u001b[39m\u001b[38;5;28;01mFalse\u001b[39;00m,\n\u001b[0;32m     44\u001b[0m           initial\u001b[38;5;241m=\u001b[39m_NoValue, where\u001b[38;5;241m=\u001b[39m\u001b[38;5;28;01mTrue\u001b[39;00m):\n\u001b[1;32m---> 45\u001b[0m     \u001b[38;5;28;01mreturn\u001b[39;00m \u001b[43mumr_maximum\u001b[49m\u001b[43m(\u001b[49m\u001b[43ma\u001b[49m\u001b[43m,\u001b[49m\u001b[43m \u001b[49m\u001b[43maxis\u001b[49m\u001b[43m,\u001b[49m\u001b[43m \u001b[49m\u001b[38;5;28;43;01mNone\u001b[39;49;00m\u001b[43m,\u001b[49m\u001b[43m \u001b[49m\u001b[43mout\u001b[49m\u001b[43m,\u001b[49m\u001b[43m \u001b[49m\u001b[43mkeepdims\u001b[49m\u001b[43m,\u001b[49m\u001b[43m \u001b[49m\u001b[43minitial\u001b[49m\u001b[43m,\u001b[49m\u001b[43m \u001b[49m\u001b[43mwhere\u001b[49m\u001b[43m)\u001b[49m\n",
      "\u001b[1;31mTypeError\u001b[0m: '>=' not supported between instances of 'str' and 'float'"
     ]
    }
   ],
   "source": [
    "df_report.select_dtypes(['object']).max()"
   ]
  },
  {
   "cell_type": "code",
   "execution_count": 85,
   "metadata": {},
   "outputs": [
    {
     "data": {
      "text/plain": [
       "测点位置                A3\n",
       "director_name    文件名称9\n",
       "dtype: object"
      ]
     },
     "execution_count": 85,
     "metadata": {},
     "output_type": "execute_result"
    }
   ],
   "source": [
    "# 要让pandas强行返回每列的值，必须填入缺失值\n",
    "df_report.select_dtypes(['object']).fillna('').max()"
   ]
  },
  {
   "cell_type": "code",
   "execution_count": 86,
   "metadata": {},
   "outputs": [
    {
     "data": {
      "text/plain": [
       "里程           63327.20\n",
       "实测宽度（mm）左    -3043.00\n",
       "差值（mm）左         38.90\n",
       "差值（mm）右         43.49\n",
       "dtype: float64"
      ]
     },
     "execution_count": 86,
     "metadata": {},
     "output_type": "execute_result"
    }
   ],
   "source": [
    "df_report.select_dtypes(['float64']).max()"
   ]
  },
  {
   "cell_type": "code",
   "execution_count": 87,
   "metadata": {},
   "outputs": [
    {
     "data": {
      "text/plain": [
       "里程           63327.20\n",
       "实测宽度（mm）左    -3043.00\n",
       "差值（mm）左         38.90\n",
       "差值（mm）右         43.49\n",
       "dtype: float64"
      ]
     },
     "execution_count": 87,
     "metadata": {},
     "output_type": "execute_result"
    }
   ],
   "source": [
    "df_report.select_dtypes(['float64']).fillna(np.nan).max()"
   ]
  },
  {
   "cell_type": "markdown",
   "metadata": {},
   "source": [
    "## 在 dataframe 上使用运算符"
   ]
  },
  {
   "cell_type": "code",
   "execution_count": 88,
   "metadata": {},
   "outputs": [
    {
     "ename": "TypeError",
     "evalue": "can only concatenate str (not \"int\") to str",
     "output_type": "error",
     "traceback": [
      "\u001b[1;31m---------------------------------------------------------------------------\u001b[0m",
      "\u001b[1;31mTypeError\u001b[0m                                 Traceback (most recent call last)",
      "File \u001b[1;32md:\\miniconda3\\Lib\\site-packages\\pandas\\core\\ops\\array_ops.py:218\u001b[0m, in \u001b[0;36m_na_arithmetic_op\u001b[1;34m(left, right, op, is_cmp)\u001b[0m\n\u001b[0;32m    217\u001b[0m \u001b[38;5;28;01mtry\u001b[39;00m:\n\u001b[1;32m--> 218\u001b[0m     result \u001b[38;5;241m=\u001b[39m \u001b[43mfunc\u001b[49m\u001b[43m(\u001b[49m\u001b[43mleft\u001b[49m\u001b[43m,\u001b[49m\u001b[43m \u001b[49m\u001b[43mright\u001b[49m\u001b[43m)\u001b[49m\n\u001b[0;32m    219\u001b[0m \u001b[38;5;28;01mexcept\u001b[39;00m \u001b[38;5;167;01mTypeError\u001b[39;00m:\n",
      "File \u001b[1;32md:\\miniconda3\\Lib\\site-packages\\pandas\\core\\computation\\expressions.py:242\u001b[0m, in \u001b[0;36mevaluate\u001b[1;34m(op, a, b, use_numexpr)\u001b[0m\n\u001b[0;32m    240\u001b[0m     \u001b[38;5;28;01mif\u001b[39;00m use_numexpr:\n\u001b[0;32m    241\u001b[0m         \u001b[38;5;66;03m# error: \"None\" not callable\u001b[39;00m\n\u001b[1;32m--> 242\u001b[0m         \u001b[38;5;28;01mreturn\u001b[39;00m \u001b[43m_evaluate\u001b[49m\u001b[43m(\u001b[49m\u001b[43mop\u001b[49m\u001b[43m,\u001b[49m\u001b[43m \u001b[49m\u001b[43mop_str\u001b[49m\u001b[43m,\u001b[49m\u001b[43m \u001b[49m\u001b[43ma\u001b[49m\u001b[43m,\u001b[49m\u001b[43m \u001b[49m\u001b[43mb\u001b[49m\u001b[43m)\u001b[49m  \u001b[38;5;66;03m# type: ignore[misc]\u001b[39;00m\n\u001b[0;32m    243\u001b[0m \u001b[38;5;28;01mreturn\u001b[39;00m _evaluate_standard(op, op_str, a, b)\n",
      "File \u001b[1;32md:\\miniconda3\\Lib\\site-packages\\pandas\\core\\computation\\expressions.py:73\u001b[0m, in \u001b[0;36m_evaluate_standard\u001b[1;34m(op, op_str, a, b)\u001b[0m\n\u001b[0;32m     72\u001b[0m     _store_test_result(\u001b[38;5;28;01mFalse\u001b[39;00m)\n\u001b[1;32m---> 73\u001b[0m \u001b[38;5;28;01mreturn\u001b[39;00m \u001b[43mop\u001b[49m\u001b[43m(\u001b[49m\u001b[43ma\u001b[49m\u001b[43m,\u001b[49m\u001b[43m \u001b[49m\u001b[43mb\u001b[49m\u001b[43m)\u001b[49m\n",
      "\u001b[1;31mTypeError\u001b[0m: can only concatenate str (not \"int\") to str",
      "\nDuring handling of the above exception, another exception occurred:\n",
      "\u001b[1;31mTypeError\u001b[0m                                 Traceback (most recent call last)",
      "Cell \u001b[1;32mIn[88], line 2\u001b[0m\n\u001b[0;32m      1\u001b[0m \u001b[38;5;66;03m# 数据集既有数字也有对象，不能直接相加\u001b[39;00m\n\u001b[1;32m----> 2\u001b[0m \u001b[43mdf_report\u001b[49m\u001b[43m \u001b[49m\u001b[38;5;241;43m+\u001b[39;49m\u001b[43m \u001b[49m\u001b[38;5;241;43m5\u001b[39;49m\n",
      "File \u001b[1;32md:\\miniconda3\\Lib\\site-packages\\pandas\\core\\ops\\common.py:76\u001b[0m, in \u001b[0;36m_unpack_zerodim_and_defer.<locals>.new_method\u001b[1;34m(self, other)\u001b[0m\n\u001b[0;32m     72\u001b[0m             \u001b[38;5;28;01mreturn\u001b[39;00m \u001b[38;5;28mNotImplemented\u001b[39m\n\u001b[0;32m     74\u001b[0m other \u001b[38;5;241m=\u001b[39m item_from_zerodim(other)\n\u001b[1;32m---> 76\u001b[0m \u001b[38;5;28;01mreturn\u001b[39;00m \u001b[43mmethod\u001b[49m\u001b[43m(\u001b[49m\u001b[38;5;28;43mself\u001b[39;49m\u001b[43m,\u001b[49m\u001b[43m \u001b[49m\u001b[43mother\u001b[49m\u001b[43m)\u001b[49m\n",
      "File \u001b[1;32md:\\miniconda3\\Lib\\site-packages\\pandas\\core\\arraylike.py:186\u001b[0m, in \u001b[0;36mOpsMixin.__add__\u001b[1;34m(self, other)\u001b[0m\n\u001b[0;32m     98\u001b[0m \u001b[38;5;129m@unpack_zerodim_and_defer\u001b[39m(\u001b[38;5;124m\"\u001b[39m\u001b[38;5;124m__add__\u001b[39m\u001b[38;5;124m\"\u001b[39m)\n\u001b[0;32m     99\u001b[0m \u001b[38;5;28;01mdef\u001b[39;00m \u001b[38;5;21m__add__\u001b[39m(\u001b[38;5;28mself\u001b[39m, other):\n\u001b[0;32m    100\u001b[0m \u001b[38;5;250m    \u001b[39m\u001b[38;5;124;03m\"\"\"\u001b[39;00m\n\u001b[0;32m    101\u001b[0m \u001b[38;5;124;03m    Get Addition of DataFrame and other, column-wise.\u001b[39;00m\n\u001b[0;32m    102\u001b[0m \n\u001b[1;32m   (...)\u001b[0m\n\u001b[0;32m    184\u001b[0m \u001b[38;5;124;03m    moose     3.0     NaN\u001b[39;00m\n\u001b[0;32m    185\u001b[0m \u001b[38;5;124;03m    \"\"\"\u001b[39;00m\n\u001b[1;32m--> 186\u001b[0m     \u001b[38;5;28;01mreturn\u001b[39;00m \u001b[38;5;28;43mself\u001b[39;49m\u001b[38;5;241;43m.\u001b[39;49m\u001b[43m_arith_method\u001b[49m\u001b[43m(\u001b[49m\u001b[43mother\u001b[49m\u001b[43m,\u001b[49m\u001b[43m \u001b[49m\u001b[43moperator\u001b[49m\u001b[38;5;241;43m.\u001b[39;49m\u001b[43madd\u001b[49m\u001b[43m)\u001b[49m\n",
      "File \u001b[1;32md:\\miniconda3\\Lib\\site-packages\\pandas\\core\\frame.py:7913\u001b[0m, in \u001b[0;36mDataFrame._arith_method\u001b[1;34m(self, other, op)\u001b[0m\n\u001b[0;32m   7910\u001b[0m \u001b[38;5;28mself\u001b[39m, other \u001b[38;5;241m=\u001b[39m \u001b[38;5;28mself\u001b[39m\u001b[38;5;241m.\u001b[39m_align_for_op(other, axis, flex\u001b[38;5;241m=\u001b[39m\u001b[38;5;28;01mTrue\u001b[39;00m, level\u001b[38;5;241m=\u001b[39m\u001b[38;5;28;01mNone\u001b[39;00m)\n\u001b[0;32m   7912\u001b[0m \u001b[38;5;28;01mwith\u001b[39;00m np\u001b[38;5;241m.\u001b[39merrstate(\u001b[38;5;28mall\u001b[39m\u001b[38;5;241m=\u001b[39m\u001b[38;5;124m\"\u001b[39m\u001b[38;5;124mignore\u001b[39m\u001b[38;5;124m\"\u001b[39m):\n\u001b[1;32m-> 7913\u001b[0m     new_data \u001b[38;5;241m=\u001b[39m \u001b[38;5;28;43mself\u001b[39;49m\u001b[38;5;241;43m.\u001b[39;49m\u001b[43m_dispatch_frame_op\u001b[49m\u001b[43m(\u001b[49m\u001b[43mother\u001b[49m\u001b[43m,\u001b[49m\u001b[43m \u001b[49m\u001b[43mop\u001b[49m\u001b[43m,\u001b[49m\u001b[43m \u001b[49m\u001b[43maxis\u001b[49m\u001b[38;5;241;43m=\u001b[39;49m\u001b[43maxis\u001b[49m\u001b[43m)\u001b[49m\n\u001b[0;32m   7914\u001b[0m \u001b[38;5;28;01mreturn\u001b[39;00m \u001b[38;5;28mself\u001b[39m\u001b[38;5;241m.\u001b[39m_construct_result(new_data)\n",
      "File \u001b[1;32md:\\miniconda3\\Lib\\site-packages\\pandas\\core\\frame.py:7945\u001b[0m, in \u001b[0;36mDataFrame._dispatch_frame_op\u001b[1;34m(self, right, func, axis)\u001b[0m\n\u001b[0;32m   7942\u001b[0m right \u001b[38;5;241m=\u001b[39m lib\u001b[38;5;241m.\u001b[39mitem_from_zerodim(right)\n\u001b[0;32m   7943\u001b[0m \u001b[38;5;28;01mif\u001b[39;00m \u001b[38;5;129;01mnot\u001b[39;00m is_list_like(right):\n\u001b[0;32m   7944\u001b[0m     \u001b[38;5;66;03m# i.e. scalar, faster than checking np.ndim(right) == 0\u001b[39;00m\n\u001b[1;32m-> 7945\u001b[0m     bm \u001b[38;5;241m=\u001b[39m \u001b[38;5;28;43mself\u001b[39;49m\u001b[38;5;241;43m.\u001b[39;49m\u001b[43m_mgr\u001b[49m\u001b[38;5;241;43m.\u001b[39;49m\u001b[43mapply\u001b[49m\u001b[43m(\u001b[49m\u001b[43marray_op\u001b[49m\u001b[43m,\u001b[49m\u001b[43m \u001b[49m\u001b[43mright\u001b[49m\u001b[38;5;241;43m=\u001b[39;49m\u001b[43mright\u001b[49m\u001b[43m)\u001b[49m\n\u001b[0;32m   7946\u001b[0m     \u001b[38;5;28;01mreturn\u001b[39;00m \u001b[38;5;28mself\u001b[39m\u001b[38;5;241m.\u001b[39m_constructor_from_mgr(bm, axes\u001b[38;5;241m=\u001b[39mbm\u001b[38;5;241m.\u001b[39maxes)\n\u001b[0;32m   7948\u001b[0m \u001b[38;5;28;01melif\u001b[39;00m \u001b[38;5;28misinstance\u001b[39m(right, DataFrame):\n",
      "File \u001b[1;32md:\\miniconda3\\Lib\\site-packages\\pandas\\core\\internals\\managers.py:361\u001b[0m, in \u001b[0;36mBaseBlockManager.apply\u001b[1;34m(self, f, align_keys, **kwargs)\u001b[0m\n\u001b[0;32m    358\u001b[0m             kwargs[k] \u001b[38;5;241m=\u001b[39m obj[b\u001b[38;5;241m.\u001b[39mmgr_locs\u001b[38;5;241m.\u001b[39mindexer]\n\u001b[0;32m    360\u001b[0m \u001b[38;5;28;01mif\u001b[39;00m \u001b[38;5;28mcallable\u001b[39m(f):\n\u001b[1;32m--> 361\u001b[0m     applied \u001b[38;5;241m=\u001b[39m \u001b[43mb\u001b[49m\u001b[38;5;241;43m.\u001b[39;49m\u001b[43mapply\u001b[49m\u001b[43m(\u001b[49m\u001b[43mf\u001b[49m\u001b[43m,\u001b[49m\u001b[43m \u001b[49m\u001b[38;5;241;43m*\u001b[39;49m\u001b[38;5;241;43m*\u001b[39;49m\u001b[43mkwargs\u001b[49m\u001b[43m)\u001b[49m\n\u001b[0;32m    362\u001b[0m \u001b[38;5;28;01melse\u001b[39;00m:\n\u001b[0;32m    363\u001b[0m     applied \u001b[38;5;241m=\u001b[39m \u001b[38;5;28mgetattr\u001b[39m(b, f)(\u001b[38;5;241m*\u001b[39m\u001b[38;5;241m*\u001b[39mkwargs)\n",
      "File \u001b[1;32md:\\miniconda3\\Lib\\site-packages\\pandas\\core\\internals\\blocks.py:393\u001b[0m, in \u001b[0;36mBlock.apply\u001b[1;34m(self, func, **kwargs)\u001b[0m\n\u001b[0;32m    387\u001b[0m \u001b[38;5;129m@final\u001b[39m\n\u001b[0;32m    388\u001b[0m \u001b[38;5;28;01mdef\u001b[39;00m \u001b[38;5;21mapply\u001b[39m(\u001b[38;5;28mself\u001b[39m, func, \u001b[38;5;241m*\u001b[39m\u001b[38;5;241m*\u001b[39mkwargs) \u001b[38;5;241m-\u001b[39m\u001b[38;5;241m>\u001b[39m \u001b[38;5;28mlist\u001b[39m[Block]:\n\u001b[0;32m    389\u001b[0m \u001b[38;5;250m    \u001b[39m\u001b[38;5;124;03m\"\"\"\u001b[39;00m\n\u001b[0;32m    390\u001b[0m \u001b[38;5;124;03m    apply the function to my values; return a block if we are not\u001b[39;00m\n\u001b[0;32m    391\u001b[0m \u001b[38;5;124;03m    one\u001b[39;00m\n\u001b[0;32m    392\u001b[0m \u001b[38;5;124;03m    \"\"\"\u001b[39;00m\n\u001b[1;32m--> 393\u001b[0m     result \u001b[38;5;241m=\u001b[39m \u001b[43mfunc\u001b[49m\u001b[43m(\u001b[49m\u001b[38;5;28;43mself\u001b[39;49m\u001b[38;5;241;43m.\u001b[39;49m\u001b[43mvalues\u001b[49m\u001b[43m,\u001b[49m\u001b[43m \u001b[49m\u001b[38;5;241;43m*\u001b[39;49m\u001b[38;5;241;43m*\u001b[39;49m\u001b[43mkwargs\u001b[49m\u001b[43m)\u001b[49m\n\u001b[0;32m    395\u001b[0m     result \u001b[38;5;241m=\u001b[39m maybe_coerce_values(result)\n\u001b[0;32m    396\u001b[0m     \u001b[38;5;28;01mreturn\u001b[39;00m \u001b[38;5;28mself\u001b[39m\u001b[38;5;241m.\u001b[39m_split_op_result(result)\n",
      "File \u001b[1;32md:\\miniconda3\\Lib\\site-packages\\pandas\\core\\ops\\array_ops.py:283\u001b[0m, in \u001b[0;36marithmetic_op\u001b[1;34m(left, right, op)\u001b[0m\n\u001b[0;32m    279\u001b[0m     _bool_arith_check(op, left, right)  \u001b[38;5;66;03m# type: ignore[arg-type]\u001b[39;00m\n\u001b[0;32m    281\u001b[0m     \u001b[38;5;66;03m# error: Argument 1 to \"_na_arithmetic_op\" has incompatible type\u001b[39;00m\n\u001b[0;32m    282\u001b[0m     \u001b[38;5;66;03m# \"Union[ExtensionArray, ndarray[Any, Any]]\"; expected \"ndarray[Any, Any]\"\u001b[39;00m\n\u001b[1;32m--> 283\u001b[0m     res_values \u001b[38;5;241m=\u001b[39m \u001b[43m_na_arithmetic_op\u001b[49m\u001b[43m(\u001b[49m\u001b[43mleft\u001b[49m\u001b[43m,\u001b[49m\u001b[43m \u001b[49m\u001b[43mright\u001b[49m\u001b[43m,\u001b[49m\u001b[43m \u001b[49m\u001b[43mop\u001b[49m\u001b[43m)\u001b[49m  \u001b[38;5;66;03m# type: ignore[arg-type]\u001b[39;00m\n\u001b[0;32m    285\u001b[0m \u001b[38;5;28;01mreturn\u001b[39;00m res_values\n",
      "File \u001b[1;32md:\\miniconda3\\Lib\\site-packages\\pandas\\core\\ops\\array_ops.py:227\u001b[0m, in \u001b[0;36m_na_arithmetic_op\u001b[1;34m(left, right, op, is_cmp)\u001b[0m\n\u001b[0;32m    219\u001b[0m \u001b[38;5;28;01mexcept\u001b[39;00m \u001b[38;5;167;01mTypeError\u001b[39;00m:\n\u001b[0;32m    220\u001b[0m     \u001b[38;5;28;01mif\u001b[39;00m \u001b[38;5;129;01mnot\u001b[39;00m is_cmp \u001b[38;5;129;01mand\u001b[39;00m (\n\u001b[0;32m    221\u001b[0m         left\u001b[38;5;241m.\u001b[39mdtype \u001b[38;5;241m==\u001b[39m \u001b[38;5;28mobject\u001b[39m \u001b[38;5;129;01mor\u001b[39;00m \u001b[38;5;28mgetattr\u001b[39m(right, \u001b[38;5;124m\"\u001b[39m\u001b[38;5;124mdtype\u001b[39m\u001b[38;5;124m\"\u001b[39m, \u001b[38;5;28;01mNone\u001b[39;00m) \u001b[38;5;241m==\u001b[39m \u001b[38;5;28mobject\u001b[39m\n\u001b[0;32m    222\u001b[0m     ):\n\u001b[1;32m   (...)\u001b[0m\n\u001b[0;32m    225\u001b[0m         \u001b[38;5;66;03m# Don't do this for comparisons, as that will handle complex numbers\u001b[39;00m\n\u001b[0;32m    226\u001b[0m         \u001b[38;5;66;03m#  incorrectly, see GH#32047\u001b[39;00m\n\u001b[1;32m--> 227\u001b[0m         result \u001b[38;5;241m=\u001b[39m \u001b[43m_masked_arith_op\u001b[49m\u001b[43m(\u001b[49m\u001b[43mleft\u001b[49m\u001b[43m,\u001b[49m\u001b[43m \u001b[49m\u001b[43mright\u001b[49m\u001b[43m,\u001b[49m\u001b[43m \u001b[49m\u001b[43mop\u001b[49m\u001b[43m)\u001b[49m\n\u001b[0;32m    228\u001b[0m     \u001b[38;5;28;01melse\u001b[39;00m:\n\u001b[0;32m    229\u001b[0m         \u001b[38;5;28;01mraise\u001b[39;00m\n",
      "File \u001b[1;32md:\\miniconda3\\Lib\\site-packages\\pandas\\core\\ops\\array_ops.py:182\u001b[0m, in \u001b[0;36m_masked_arith_op\u001b[1;34m(x, y, op)\u001b[0m\n\u001b[0;32m    179\u001b[0m         mask \u001b[38;5;241m=\u001b[39m np\u001b[38;5;241m.\u001b[39mwhere(y \u001b[38;5;241m==\u001b[39m \u001b[38;5;241m1\u001b[39m, \u001b[38;5;28;01mFalse\u001b[39;00m, mask)\n\u001b[0;32m    181\u001b[0m     \u001b[38;5;28;01mif\u001b[39;00m mask\u001b[38;5;241m.\u001b[39many():\n\u001b[1;32m--> 182\u001b[0m         result[mask] \u001b[38;5;241m=\u001b[39m \u001b[43mop\u001b[49m\u001b[43m(\u001b[49m\u001b[43mxrav\u001b[49m\u001b[43m[\u001b[49m\u001b[43mmask\u001b[49m\u001b[43m]\u001b[49m\u001b[43m,\u001b[49m\u001b[43m \u001b[49m\u001b[43my\u001b[49m\u001b[43m)\u001b[49m\n\u001b[0;32m    184\u001b[0m np\u001b[38;5;241m.\u001b[39mputmask(result, \u001b[38;5;241m~\u001b[39mmask, np\u001b[38;5;241m.\u001b[39mnan)\n\u001b[0;32m    185\u001b[0m result \u001b[38;5;241m=\u001b[39m result\u001b[38;5;241m.\u001b[39mreshape(x\u001b[38;5;241m.\u001b[39mshape)  \u001b[38;5;66;03m# 2D compat\u001b[39;00m\n",
      "\u001b[1;31mTypeError\u001b[0m: can only concatenate str (not \"int\") to str"
     ]
    }
   ],
   "source": [
    "# 数据集既有数字也有对象，不能直接相加\n",
    "df_report + 5"
   ]
  },
  {
   "cell_type": "code",
   "execution_count": 89,
   "metadata": {},
   "outputs": [
    {
     "data": {
      "text/html": [
       "<div>\n",
       "<style scoped>\n",
       "    .dataframe tbody tr th:only-of-type {\n",
       "        vertical-align: middle;\n",
       "    }\n",
       "\n",
       "    .dataframe tbody tr th {\n",
       "        vertical-align: top;\n",
       "    }\n",
       "\n",
       "    .dataframe thead th {\n",
       "        text-align: right;\n",
       "    }\n",
       "</style>\n",
       "<table border=\"1\" class=\"dataframe\">\n",
       "  <thead>\n",
       "    <tr style=\"text-align: right;\">\n",
       "      <th></th>\n",
       "      <th>设计宽度（mm）左</th>\n",
       "      <th>实测宽度（mm）左</th>\n",
       "      <th>差值（mm）左</th>\n",
       "      <th>设计宽度（mm）右</th>\n",
       "      <th>实测宽度（mm）右</th>\n",
       "      <th>差值（mm）右</th>\n",
       "    </tr>\n",
       "  </thead>\n",
       "  <tbody>\n",
       "    <tr>\n",
       "      <th>0</th>\n",
       "      <td>-3082</td>\n",
       "      <td>-3101.0</td>\n",
       "      <td>-18.7</td>\n",
       "      <td>3082</td>\n",
       "      <td>3116</td>\n",
       "      <td>34.19</td>\n",
       "    </tr>\n",
       "    <tr>\n",
       "      <th>1</th>\n",
       "      <td>-4000</td>\n",
       "      <td>-4003.0</td>\n",
       "      <td>-2.6</td>\n",
       "      <td>4000</td>\n",
       "      <td>4035</td>\n",
       "      <td>35.03</td>\n",
       "    </tr>\n",
       "    <tr>\n",
       "      <th>2</th>\n",
       "      <td>-3082</td>\n",
       "      <td>-3043.0</td>\n",
       "      <td>38.9</td>\n",
       "      <td>3082</td>\n",
       "      <td>3092</td>\n",
       "      <td>10.50</td>\n",
       "    </tr>\n",
       "    <tr>\n",
       "      <th>3</th>\n",
       "      <td>-3082</td>\n",
       "      <td>-3105.0</td>\n",
       "      <td>-23.2</td>\n",
       "      <td>3082</td>\n",
       "      <td>3120</td>\n",
       "      <td>38.11</td>\n",
       "    </tr>\n",
       "    <tr>\n",
       "      <th>...</th>\n",
       "      <td>...</td>\n",
       "      <td>...</td>\n",
       "      <td>...</td>\n",
       "      <td>...</td>\n",
       "      <td>...</td>\n",
       "      <td>...</td>\n",
       "    </tr>\n",
       "    <tr>\n",
       "      <th>17</th>\n",
       "      <td>-3082</td>\n",
       "      <td>-3053.0</td>\n",
       "      <td>28.9</td>\n",
       "      <td>3082</td>\n",
       "      <td>3078</td>\n",
       "      <td>-3.95</td>\n",
       "    </tr>\n",
       "    <tr>\n",
       "      <th>18</th>\n",
       "      <td>-3082</td>\n",
       "      <td>-3100.0</td>\n",
       "      <td>-18.6</td>\n",
       "      <td>3082</td>\n",
       "      <td>3122</td>\n",
       "      <td>39.68</td>\n",
       "    </tr>\n",
       "    <tr>\n",
       "      <th>19</th>\n",
       "      <td>-4000</td>\n",
       "      <td>-3995.0</td>\n",
       "      <td>5.0</td>\n",
       "      <td>4000</td>\n",
       "      <td>4039</td>\n",
       "      <td>39.42</td>\n",
       "    </tr>\n",
       "    <tr>\n",
       "      <th>20</th>\n",
       "      <td>-3082</td>\n",
       "      <td>-3051.0</td>\n",
       "      <td>30.8</td>\n",
       "      <td>3082</td>\n",
       "      <td>3076</td>\n",
       "      <td>-6.33</td>\n",
       "    </tr>\n",
       "  </tbody>\n",
       "</table>\n",
       "<p>21 rows × 6 columns</p>\n",
       "</div>"
      ],
      "text/plain": [
       "    设计宽度（mm）左  实测宽度（mm）左  差值（mm）左  设计宽度（mm）右  实测宽度（mm）右  差值（mm）右\n",
       "0       -3082    -3101.0    -18.7       3082       3116    34.19\n",
       "1       -4000    -4003.0     -2.6       4000       4035    35.03\n",
       "2       -3082    -3043.0     38.9       3082       3092    10.50\n",
       "3       -3082    -3105.0    -23.2       3082       3120    38.11\n",
       "..        ...        ...      ...        ...        ...      ...\n",
       "17      -3082    -3053.0     28.9       3082       3078    -3.95\n",
       "18      -3082    -3100.0    -18.6       3082       3122    39.68\n",
       "19      -4000    -3995.0      5.0       4000       4039    39.42\n",
       "20      -3082    -3051.0     30.8       3082       3076    -6.33\n",
       "\n",
       "[21 rows x 6 columns]"
      ]
     },
     "execution_count": 89,
     "metadata": {},
     "output_type": "execute_result"
    }
   ],
   "source": [
    "df_report_num = df_report.filter(like='mm')\n",
    "df_report_num"
   ]
  },
  {
   "cell_type": "code",
   "execution_count": 90,
   "metadata": {},
   "outputs": [
    {
     "data": {
      "text/html": [
       "<div>\n",
       "<style scoped>\n",
       "    .dataframe tbody tr th:only-of-type {\n",
       "        vertical-align: middle;\n",
       "    }\n",
       "\n",
       "    .dataframe tbody tr th {\n",
       "        vertical-align: top;\n",
       "    }\n",
       "\n",
       "    .dataframe thead th {\n",
       "        text-align: right;\n",
       "    }\n",
       "</style>\n",
       "<table border=\"1\" class=\"dataframe\">\n",
       "  <thead>\n",
       "    <tr style=\"text-align: right;\">\n",
       "      <th></th>\n",
       "      <th>设计宽度（mm）左</th>\n",
       "      <th>实测宽度（mm）左</th>\n",
       "      <th>差值（mm）左</th>\n",
       "      <th>设计宽度（mm）右</th>\n",
       "      <th>实测宽度（mm）右</th>\n",
       "      <th>差值（mm）右</th>\n",
       "    </tr>\n",
       "  </thead>\n",
       "  <tbody>\n",
       "    <tr>\n",
       "      <th>0</th>\n",
       "      <td>-3077</td>\n",
       "      <td>-3096.0</td>\n",
       "      <td>-13.7</td>\n",
       "      <td>3087</td>\n",
       "      <td>3121</td>\n",
       "      <td>39.19</td>\n",
       "    </tr>\n",
       "    <tr>\n",
       "      <th>1</th>\n",
       "      <td>-3995</td>\n",
       "      <td>-3998.0</td>\n",
       "      <td>2.4</td>\n",
       "      <td>4005</td>\n",
       "      <td>4040</td>\n",
       "      <td>40.03</td>\n",
       "    </tr>\n",
       "    <tr>\n",
       "      <th>2</th>\n",
       "      <td>-3077</td>\n",
       "      <td>-3038.0</td>\n",
       "      <td>43.9</td>\n",
       "      <td>3087</td>\n",
       "      <td>3097</td>\n",
       "      <td>15.50</td>\n",
       "    </tr>\n",
       "    <tr>\n",
       "      <th>3</th>\n",
       "      <td>-3077</td>\n",
       "      <td>-3100.0</td>\n",
       "      <td>-18.2</td>\n",
       "      <td>3087</td>\n",
       "      <td>3125</td>\n",
       "      <td>43.11</td>\n",
       "    </tr>\n",
       "    <tr>\n",
       "      <th>...</th>\n",
       "      <td>...</td>\n",
       "      <td>...</td>\n",
       "      <td>...</td>\n",
       "      <td>...</td>\n",
       "      <td>...</td>\n",
       "      <td>...</td>\n",
       "    </tr>\n",
       "    <tr>\n",
       "      <th>17</th>\n",
       "      <td>-3077</td>\n",
       "      <td>-3048.0</td>\n",
       "      <td>33.9</td>\n",
       "      <td>3087</td>\n",
       "      <td>3083</td>\n",
       "      <td>1.05</td>\n",
       "    </tr>\n",
       "    <tr>\n",
       "      <th>18</th>\n",
       "      <td>-3077</td>\n",
       "      <td>-3095.0</td>\n",
       "      <td>-13.6</td>\n",
       "      <td>3087</td>\n",
       "      <td>3127</td>\n",
       "      <td>44.68</td>\n",
       "    </tr>\n",
       "    <tr>\n",
       "      <th>19</th>\n",
       "      <td>-3995</td>\n",
       "      <td>-3990.0</td>\n",
       "      <td>10.0</td>\n",
       "      <td>4005</td>\n",
       "      <td>4044</td>\n",
       "      <td>44.42</td>\n",
       "    </tr>\n",
       "    <tr>\n",
       "      <th>20</th>\n",
       "      <td>-3077</td>\n",
       "      <td>-3046.0</td>\n",
       "      <td>35.8</td>\n",
       "      <td>3087</td>\n",
       "      <td>3081</td>\n",
       "      <td>-1.33</td>\n",
       "    </tr>\n",
       "  </tbody>\n",
       "</table>\n",
       "<p>21 rows × 6 columns</p>\n",
       "</div>"
      ],
      "text/plain": [
       "    设计宽度（mm）左  实测宽度（mm）左  差值（mm）左  设计宽度（mm）右  实测宽度（mm）右  差值（mm）右\n",
       "0       -3077    -3096.0    -13.7       3087       3121    39.19\n",
       "1       -3995    -3998.0      2.4       4005       4040    40.03\n",
       "2       -3077    -3038.0     43.9       3087       3097    15.50\n",
       "3       -3077    -3100.0    -18.2       3087       3125    43.11\n",
       "..        ...        ...      ...        ...        ...      ...\n",
       "17      -3077    -3048.0     33.9       3087       3083     1.05\n",
       "18      -3077    -3095.0    -13.6       3087       3127    44.68\n",
       "19      -3995    -3990.0     10.0       4005       4044    44.42\n",
       "20      -3077    -3046.0     35.8       3087       3081    -1.33\n",
       "\n",
       "[21 rows x 6 columns]"
      ]
     },
     "execution_count": 90,
     "metadata": {},
     "output_type": "execute_result"
    }
   ],
   "source": [
    "# 筛选只有数字，可以相加\n",
    "df_report_num + 5"
   ]
  },
  {
   "cell_type": "code",
   "execution_count": 91,
   "metadata": {},
   "outputs": [
    {
     "data": {
      "text/html": [
       "<div>\n",
       "<style scoped>\n",
       "    .dataframe tbody tr th:only-of-type {\n",
       "        vertical-align: middle;\n",
       "    }\n",
       "\n",
       "    .dataframe tbody tr th {\n",
       "        vertical-align: top;\n",
       "    }\n",
       "\n",
       "    .dataframe thead th {\n",
       "        text-align: right;\n",
       "    }\n",
       "</style>\n",
       "<table border=\"1\" class=\"dataframe\">\n",
       "  <thead>\n",
       "    <tr style=\"text-align: right;\">\n",
       "      <th></th>\n",
       "      <th>设计宽度（mm）左</th>\n",
       "      <th>实测宽度（mm）左</th>\n",
       "      <th>差值（mm）左</th>\n",
       "      <th>设计宽度（mm）右</th>\n",
       "      <th>实测宽度（mm）右</th>\n",
       "      <th>差值（mm）右</th>\n",
       "    </tr>\n",
       "  </thead>\n",
       "  <tbody>\n",
       "    <tr>\n",
       "      <th>0</th>\n",
       "      <td>-0.04</td>\n",
       "      <td>-0.04</td>\n",
       "      <td>-0.01</td>\n",
       "      <td>0.03</td>\n",
       "      <td>0.03</td>\n",
       "      <td>0.0</td>\n",
       "    </tr>\n",
       "    <tr>\n",
       "      <th>1</th>\n",
       "      <td>-0.04</td>\n",
       "      <td>-0.05</td>\n",
       "      <td>-0.01</td>\n",
       "      <td>0.04</td>\n",
       "      <td>0.04</td>\n",
       "      <td>0.0</td>\n",
       "    </tr>\n",
       "    <tr>\n",
       "      <th>2</th>\n",
       "      <td>-0.04</td>\n",
       "      <td>-0.04</td>\n",
       "      <td>0.00</td>\n",
       "      <td>0.03</td>\n",
       "      <td>0.03</td>\n",
       "      <td>0.0</td>\n",
       "    </tr>\n",
       "    <tr>\n",
       "      <th>3</th>\n",
       "      <td>-0.04</td>\n",
       "      <td>-0.04</td>\n",
       "      <td>-0.01</td>\n",
       "      <td>0.03</td>\n",
       "      <td>0.03</td>\n",
       "      <td>0.0</td>\n",
       "    </tr>\n",
       "    <tr>\n",
       "      <th>4</th>\n",
       "      <td>-0.04</td>\n",
       "      <td>-0.04</td>\n",
       "      <td>0.00</td>\n",
       "      <td>0.04</td>\n",
       "      <td>0.04</td>\n",
       "      <td>0.0</td>\n",
       "    </tr>\n",
       "  </tbody>\n",
       "</table>\n",
       "</div>"
      ],
      "text/plain": [
       "   设计宽度（mm）左  实测宽度（mm）左  差值（mm）左  设计宽度（mm）右  实测宽度（mm）右  差值（mm）右\n",
       "0      -0.04      -0.04    -0.01       0.03       0.03      0.0\n",
       "1      -0.04      -0.05    -0.01       0.04       0.04      0.0\n",
       "2      -0.04      -0.04     0.00       0.03       0.03      0.0\n",
       "3      -0.04      -0.04    -0.01       0.03       0.03      0.0\n",
       "4      -0.04      -0.04     0.00       0.04       0.04      0.0"
      ]
     },
     "execution_count": 91,
     "metadata": {},
     "output_type": "execute_result"
    }
   ],
   "source": [
    "# 用底除计算百分比分数\n",
    "df_report_test = df_report_num.head() / 100000\n",
    "df_report_test = df_report_test // 0.01 / 100\n",
    "df_report_test"
   ]
  },
  {
   "cell_type": "code",
   "execution_count": 92,
   "metadata": {},
   "outputs": [
    {
     "data": {
      "text/html": [
       "<div>\n",
       "<style scoped>\n",
       "    .dataframe tbody tr th:only-of-type {\n",
       "        vertical-align: middle;\n",
       "    }\n",
       "\n",
       "    .dataframe tbody tr th {\n",
       "        vertical-align: top;\n",
       "    }\n",
       "\n",
       "    .dataframe thead th {\n",
       "        text-align: right;\n",
       "    }\n",
       "</style>\n",
       "<table border=\"1\" class=\"dataframe\">\n",
       "  <thead>\n",
       "    <tr style=\"text-align: right;\">\n",
       "      <th></th>\n",
       "      <th>设计宽度（mm）左</th>\n",
       "      <th>实测宽度（mm）左</th>\n",
       "      <th>差值（mm）左</th>\n",
       "      <th>设计宽度（mm）右</th>\n",
       "      <th>实测宽度（mm）右</th>\n",
       "      <th>差值（mm）右</th>\n",
       "    </tr>\n",
       "  </thead>\n",
       "  <tbody>\n",
       "    <tr>\n",
       "      <th>0</th>\n",
       "      <td>-0.04</td>\n",
       "      <td>-0.04</td>\n",
       "      <td>-0.01</td>\n",
       "      <td>0.03</td>\n",
       "      <td>0.03</td>\n",
       "      <td>0.0</td>\n",
       "    </tr>\n",
       "    <tr>\n",
       "      <th>1</th>\n",
       "      <td>-0.04</td>\n",
       "      <td>-0.05</td>\n",
       "      <td>-0.01</td>\n",
       "      <td>0.04</td>\n",
       "      <td>0.04</td>\n",
       "      <td>0.0</td>\n",
       "    </tr>\n",
       "    <tr>\n",
       "      <th>2</th>\n",
       "      <td>-0.04</td>\n",
       "      <td>-0.04</td>\n",
       "      <td>0.00</td>\n",
       "      <td>0.03</td>\n",
       "      <td>0.03</td>\n",
       "      <td>0.0</td>\n",
       "    </tr>\n",
       "    <tr>\n",
       "      <th>3</th>\n",
       "      <td>-0.04</td>\n",
       "      <td>-0.04</td>\n",
       "      <td>-0.01</td>\n",
       "      <td>0.03</td>\n",
       "      <td>0.03</td>\n",
       "      <td>0.0</td>\n",
       "    </tr>\n",
       "    <tr>\n",
       "      <th>4</th>\n",
       "      <td>-0.04</td>\n",
       "      <td>-0.04</td>\n",
       "      <td>0.00</td>\n",
       "      <td>0.04</td>\n",
       "      <td>0.04</td>\n",
       "      <td>0.0</td>\n",
       "    </tr>\n",
       "  </tbody>\n",
       "</table>\n",
       "</div>"
      ],
      "text/plain": [
       "   设计宽度（mm）左  实测宽度（mm）左  差值（mm）左  设计宽度（mm）右  实测宽度（mm）右  差值（mm）右\n",
       "0      -0.04      -0.04    -0.01       0.03       0.03      0.0\n",
       "1      -0.04      -0.05    -0.01       0.04       0.04      0.0\n",
       "2      -0.04      -0.04     0.00       0.03       0.03      0.0\n",
       "3      -0.04      -0.04    -0.01       0.03       0.03      0.0\n",
       "4      -0.04      -0.04     0.00       0.04       0.04      0.0"
      ]
     },
     "execution_count": 92,
     "metadata": {},
     "output_type": "execute_result"
    }
   ],
   "source": [
    "# 保留两位小数\n",
    "df_report_test_round = (df_report_test + 0.0001).round(2)\n",
    "df_report_test_round"
   ]
  },
  {
   "cell_type": "code",
   "execution_count": 93,
   "metadata": {},
   "outputs": [
    {
     "data": {
      "text/plain": [
       "0.049999999999999996"
      ]
     },
     "execution_count": 93,
     "metadata": {},
     "output_type": "execute_result"
    }
   ],
   "source": [
    ".045 + .005\n"
   ]
  },
  {
   "cell_type": "code",
   "execution_count": 94,
   "metadata": {},
   "outputs": [
    {
     "data": {
      "text/plain": [
       "True"
      ]
     },
     "execution_count": 94,
     "metadata": {},
     "output_type": "execute_result"
    }
   ],
   "source": [
    "# 比较两个 DataFrame 对象是否完全相等\n",
    "df_report_test.equals(df_report_test_round)"
   ]
  },
  {
   "cell_type": "code",
   "execution_count": 95,
   "metadata": {},
   "outputs": [
    {
     "data": {
      "text/html": [
       "<div>\n",
       "<style scoped>\n",
       "    .dataframe tbody tr th:only-of-type {\n",
       "        vertical-align: middle;\n",
       "    }\n",
       "\n",
       "    .dataframe tbody tr th {\n",
       "        vertical-align: top;\n",
       "    }\n",
       "\n",
       "    .dataframe thead th {\n",
       "        text-align: right;\n",
       "    }\n",
       "</style>\n",
       "<table border=\"1\" class=\"dataframe\">\n",
       "  <thead>\n",
       "    <tr style=\"text-align: right;\">\n",
       "      <th></th>\n",
       "      <th>设计宽度（mm）左</th>\n",
       "      <th>实测宽度（mm）左</th>\n",
       "      <th>差值（mm）左</th>\n",
       "      <th>设计宽度（mm）右</th>\n",
       "      <th>实测宽度（mm）右</th>\n",
       "      <th>差值（mm）右</th>\n",
       "    </tr>\n",
       "  </thead>\n",
       "  <tbody>\n",
       "    <tr>\n",
       "      <th>0</th>\n",
       "      <td>-0.04</td>\n",
       "      <td>-0.04</td>\n",
       "      <td>-0.01</td>\n",
       "      <td>0.03</td>\n",
       "      <td>0.03</td>\n",
       "      <td>0.00</td>\n",
       "    </tr>\n",
       "    <tr>\n",
       "      <th>1</th>\n",
       "      <td>-0.04</td>\n",
       "      <td>-0.04</td>\n",
       "      <td>0.00</td>\n",
       "      <td>0.04</td>\n",
       "      <td>0.04</td>\n",
       "      <td>0.00</td>\n",
       "    </tr>\n",
       "    <tr>\n",
       "      <th>2</th>\n",
       "      <td>-0.04</td>\n",
       "      <td>-0.04</td>\n",
       "      <td>0.00</td>\n",
       "      <td>0.03</td>\n",
       "      <td>0.03</td>\n",
       "      <td>0.00</td>\n",
       "    </tr>\n",
       "    <tr>\n",
       "      <th>3</th>\n",
       "      <td>-0.04</td>\n",
       "      <td>-0.04</td>\n",
       "      <td>-0.01</td>\n",
       "      <td>0.03</td>\n",
       "      <td>0.03</td>\n",
       "      <td>0.00</td>\n",
       "    </tr>\n",
       "    <tr>\n",
       "      <th>...</th>\n",
       "      <td>...</td>\n",
       "      <td>...</td>\n",
       "      <td>...</td>\n",
       "      <td>...</td>\n",
       "      <td>...</td>\n",
       "      <td>...</td>\n",
       "    </tr>\n",
       "    <tr>\n",
       "      <th>17</th>\n",
       "      <td>-0.04</td>\n",
       "      <td>-0.04</td>\n",
       "      <td>0.00</td>\n",
       "      <td>0.03</td>\n",
       "      <td>0.03</td>\n",
       "      <td>0.00</td>\n",
       "    </tr>\n",
       "    <tr>\n",
       "      <th>18</th>\n",
       "      <td>-0.04</td>\n",
       "      <td>-0.04</td>\n",
       "      <td>-0.01</td>\n",
       "      <td>0.03</td>\n",
       "      <td>0.03</td>\n",
       "      <td>0.00</td>\n",
       "    </tr>\n",
       "    <tr>\n",
       "      <th>19</th>\n",
       "      <td>-0.04</td>\n",
       "      <td>-0.04</td>\n",
       "      <td>0.00</td>\n",
       "      <td>0.04</td>\n",
       "      <td>0.04</td>\n",
       "      <td>0.00</td>\n",
       "    </tr>\n",
       "    <tr>\n",
       "      <th>20</th>\n",
       "      <td>-0.04</td>\n",
       "      <td>-0.04</td>\n",
       "      <td>0.00</td>\n",
       "      <td>0.03</td>\n",
       "      <td>0.03</td>\n",
       "      <td>-0.01</td>\n",
       "    </tr>\n",
       "  </tbody>\n",
       "</table>\n",
       "<p>21 rows × 6 columns</p>\n",
       "</div>"
      ],
      "text/plain": [
       "    设计宽度（mm）左  实测宽度（mm）左  差值（mm）左  设计宽度（mm）右  实测宽度（mm）右  差值（mm）右\n",
       "0       -0.04      -0.04    -0.01       0.03       0.03     0.00\n",
       "1       -0.04      -0.04     0.00       0.04       0.04     0.00\n",
       "2       -0.04      -0.04     0.00       0.03       0.03     0.00\n",
       "3       -0.04      -0.04    -0.01       0.03       0.03     0.00\n",
       "..        ...        ...      ...        ...        ...      ...\n",
       "17      -0.04      -0.04     0.00       0.03       0.03     0.00\n",
       "18      -0.04      -0.04    -0.01       0.03       0.03     0.00\n",
       "19      -0.04      -0.04     0.00       0.04       0.04     0.00\n",
       "20      -0.04      -0.04     0.00       0.03       0.03    -0.01\n",
       "\n",
       "[21 rows x 6 columns]"
      ]
     },
     "execution_count": 95,
     "metadata": {},
     "output_type": "execute_result"
    }
   ],
   "source": [
    "# dataframe 的通用函数也可以实现上述方法\n",
    "\n",
    "df_report_num.add(5).div(100000).floordiv(.01).div(100)"
   ]
  },
  {
   "cell_type": "markdown",
   "metadata": {},
   "source": [
    "## 比较缺失值\n"
   ]
  },
  {
   "cell_type": "code",
   "execution_count": 96,
   "metadata": {},
   "outputs": [
    {
     "data": {
      "text/plain": [
       "False"
      ]
     },
     "execution_count": 96,
     "metadata": {},
     "output_type": "execute_result"
    }
   ],
   "source": [
    "import numpy as np\n",
    "import pandas as pd\n",
    "\n",
    "# pandas 用 np.nan 表示缺失值，这是一个不等于自身的特殊对象\n",
    "np.nan == np.nan"
   ]
  },
  {
   "cell_type": "code",
   "execution_count": 97,
   "metadata": {},
   "outputs": [
    {
     "data": {
      "text/plain": [
       "True"
      ]
     },
     "execution_count": 97,
     "metadata": {},
     "output_type": "execute_result"
    }
   ],
   "source": [
    "# python 的 none 对象是等于自身的\n",
    "None == None"
   ]
  },
  {
   "cell_type": "code",
   "execution_count": 98,
   "metadata": {},
   "outputs": [
    {
     "data": {
      "text/plain": [
       "False"
      ]
     },
     "execution_count": 98,
     "metadata": {},
     "output_type": "execute_result"
    }
   ],
   "source": [
    "# 所有和 哪np.nan 的比较都返回 False，除了不等于\n",
    "5 > np.nan"
   ]
  },
  {
   "cell_type": "code",
   "execution_count": 99,
   "metadata": {},
   "outputs": [
    {
     "data": {
      "text/plain": [
       "False"
      ]
     },
     "execution_count": 99,
     "metadata": {},
     "output_type": "execute_result"
    }
   ],
   "source": [
    "np.nan > 5"
   ]
  },
  {
   "cell_type": "code",
   "execution_count": 100,
   "metadata": {},
   "outputs": [
    {
     "data": {
      "text/plain": [
       "True"
      ]
     },
     "execution_count": 100,
     "metadata": {},
     "output_type": "execute_result"
    }
   ],
   "source": [
    "5 != np.nan"
   ]
  },
  {
   "cell_type": "code",
   "execution_count": 101,
   "metadata": {},
   "outputs": [
    {
     "data": {
      "text/html": [
       "<div>\n",
       "<style scoped>\n",
       "    .dataframe tbody tr th:only-of-type {\n",
       "        vertical-align: middle;\n",
       "    }\n",
       "\n",
       "    .dataframe tbody tr th {\n",
       "        vertical-align: top;\n",
       "    }\n",
       "\n",
       "    .dataframe thead th {\n",
       "        text-align: right;\n",
       "    }\n",
       "</style>\n",
       "<table border=\"1\" class=\"dataframe\">\n",
       "  <thead>\n",
       "    <tr style=\"text-align: right;\">\n",
       "      <th></th>\n",
       "      <th>设计宽度（mm）左</th>\n",
       "      <th>实测宽度（mm）左</th>\n",
       "      <th>差值（mm）左</th>\n",
       "      <th>设计宽度（mm）右</th>\n",
       "      <th>实测宽度（mm）右</th>\n",
       "      <th>差值（mm）右</th>\n",
       "    </tr>\n",
       "  </thead>\n",
       "  <tbody>\n",
       "    <tr>\n",
       "      <th>0</th>\n",
       "      <td>-3082</td>\n",
       "      <td>-3101.0</td>\n",
       "      <td>-18.7</td>\n",
       "      <td>3082</td>\n",
       "      <td>3116</td>\n",
       "      <td>34.19</td>\n",
       "    </tr>\n",
       "    <tr>\n",
       "      <th>1</th>\n",
       "      <td>-4000</td>\n",
       "      <td>-4003.0</td>\n",
       "      <td>-2.6</td>\n",
       "      <td>4000</td>\n",
       "      <td>4035</td>\n",
       "      <td>35.03</td>\n",
       "    </tr>\n",
       "    <tr>\n",
       "      <th>2</th>\n",
       "      <td>-3082</td>\n",
       "      <td>-3043.0</td>\n",
       "      <td>38.9</td>\n",
       "      <td>3082</td>\n",
       "      <td>3092</td>\n",
       "      <td>10.50</td>\n",
       "    </tr>\n",
       "    <tr>\n",
       "      <th>3</th>\n",
       "      <td>-3082</td>\n",
       "      <td>-3105.0</td>\n",
       "      <td>-23.2</td>\n",
       "      <td>3082</td>\n",
       "      <td>3120</td>\n",
       "      <td>38.11</td>\n",
       "    </tr>\n",
       "    <tr>\n",
       "      <th>4</th>\n",
       "      <td>-4000</td>\n",
       "      <td>-3998.0</td>\n",
       "      <td>2.3</td>\n",
       "      <td>4000</td>\n",
       "      <td>4039</td>\n",
       "      <td>38.46</td>\n",
       "    </tr>\n",
       "  </tbody>\n",
       "</table>\n",
       "</div>"
      ],
      "text/plain": [
       "   设计宽度（mm）左  实测宽度（mm）左  差值（mm）左  设计宽度（mm）右  实测宽度（mm）右  差值（mm）右\n",
       "0      -3082    -3101.0    -18.7       3082       3116    34.19\n",
       "1      -4000    -4003.0     -2.6       4000       4035    35.03\n",
       "2      -3082    -3043.0     38.9       3082       3092    10.50\n",
       "3      -3082    -3105.0    -23.2       3082       3120    38.11\n",
       "4      -4000    -3998.0      2.3       4000       4039    38.46"
      ]
     },
     "execution_count": 101,
     "metadata": {},
     "output_type": "execute_result"
    }
   ],
   "source": [
    "df_report_num = df_report.filter(like='mm')\n",
    "df_report_num.head()"
   ]
  },
  {
   "cell_type": "code",
   "execution_count": 102,
   "metadata": {},
   "outputs": [
    {
     "data": {
      "text/html": [
       "<div>\n",
       "<style scoped>\n",
       "    .dataframe tbody tr th:only-of-type {\n",
       "        vertical-align: middle;\n",
       "    }\n",
       "\n",
       "    .dataframe tbody tr th {\n",
       "        vertical-align: top;\n",
       "    }\n",
       "\n",
       "    .dataframe thead th {\n",
       "        text-align: right;\n",
       "    }\n",
       "</style>\n",
       "<table border=\"1\" class=\"dataframe\">\n",
       "  <thead>\n",
       "    <tr style=\"text-align: right;\">\n",
       "      <th></th>\n",
       "      <th>设计宽度（mm）左</th>\n",
       "      <th>实测宽度（mm）左</th>\n",
       "      <th>差值（mm）左</th>\n",
       "      <th>设计宽度（mm）右</th>\n",
       "      <th>实测宽度（mm）右</th>\n",
       "      <th>差值（mm）右</th>\n",
       "    </tr>\n",
       "  </thead>\n",
       "  <tbody>\n",
       "    <tr>\n",
       "      <th>0</th>\n",
       "      <td>False</td>\n",
       "      <td>False</td>\n",
       "      <td>True</td>\n",
       "      <td>False</td>\n",
       "      <td>False</td>\n",
       "      <td>False</td>\n",
       "    </tr>\n",
       "    <tr>\n",
       "      <th>1</th>\n",
       "      <td>False</td>\n",
       "      <td>False</td>\n",
       "      <td>False</td>\n",
       "      <td>False</td>\n",
       "      <td>False</td>\n",
       "      <td>False</td>\n",
       "    </tr>\n",
       "    <tr>\n",
       "      <th>2</th>\n",
       "      <td>False</td>\n",
       "      <td>False</td>\n",
       "      <td>False</td>\n",
       "      <td>False</td>\n",
       "      <td>False</td>\n",
       "      <td>False</td>\n",
       "    </tr>\n",
       "    <tr>\n",
       "      <th>3</th>\n",
       "      <td>False</td>\n",
       "      <td>False</td>\n",
       "      <td>False</td>\n",
       "      <td>False</td>\n",
       "      <td>False</td>\n",
       "      <td>False</td>\n",
       "    </tr>\n",
       "    <tr>\n",
       "      <th>4</th>\n",
       "      <td>False</td>\n",
       "      <td>False</td>\n",
       "      <td>False</td>\n",
       "      <td>False</td>\n",
       "      <td>False</td>\n",
       "      <td>False</td>\n",
       "    </tr>\n",
       "  </tbody>\n",
       "</table>\n",
       "</div>"
      ],
      "text/plain": [
       "   设计宽度（mm）左  实测宽度（mm）左  差值（mm）左  设计宽度（mm）右  实测宽度（mm）右  差值（mm）右\n",
       "0      False      False     True      False      False    False\n",
       "1      False      False    False      False      False    False\n",
       "2      False      False    False      False      False    False\n",
       "3      False      False    False      False      False    False\n",
       "4      False      False    False      False      False    False"
      ]
     },
     "execution_count": 102,
     "metadata": {},
     "output_type": "execute_result"
    }
   ],
   "source": [
    "# 两个值比较，返回布尔值 dataframe\n",
    "df_report_num.head() == -18.7"
   ]
  },
  {
   "cell_type": "code",
   "execution_count": 103,
   "metadata": {},
   "outputs": [
    {
     "data": {
      "text/html": [
       "<div>\n",
       "<style scoped>\n",
       "    .dataframe tbody tr th:only-of-type {\n",
       "        vertical-align: middle;\n",
       "    }\n",
       "\n",
       "    .dataframe tbody tr th {\n",
       "        vertical-align: top;\n",
       "    }\n",
       "\n",
       "    .dataframe thead th {\n",
       "        text-align: right;\n",
       "    }\n",
       "</style>\n",
       "<table border=\"1\" class=\"dataframe\">\n",
       "  <thead>\n",
       "    <tr style=\"text-align: right;\">\n",
       "      <th></th>\n",
       "      <th>设计宽度（mm）左</th>\n",
       "      <th>实测宽度（mm）左</th>\n",
       "      <th>差值（mm）左</th>\n",
       "      <th>设计宽度（mm）右</th>\n",
       "      <th>实测宽度（mm）右</th>\n",
       "      <th>差值（mm）右</th>\n",
       "    </tr>\n",
       "  </thead>\n",
       "  <tbody>\n",
       "    <tr>\n",
       "      <th>0</th>\n",
       "      <td>True</td>\n",
       "      <td>True</td>\n",
       "      <td>True</td>\n",
       "      <td>True</td>\n",
       "      <td>True</td>\n",
       "      <td>True</td>\n",
       "    </tr>\n",
       "    <tr>\n",
       "      <th>1</th>\n",
       "      <td>True</td>\n",
       "      <td>True</td>\n",
       "      <td>True</td>\n",
       "      <td>True</td>\n",
       "      <td>True</td>\n",
       "      <td>True</td>\n",
       "    </tr>\n",
       "    <tr>\n",
       "      <th>2</th>\n",
       "      <td>True</td>\n",
       "      <td>True</td>\n",
       "      <td>True</td>\n",
       "      <td>True</td>\n",
       "      <td>True</td>\n",
       "      <td>True</td>\n",
       "    </tr>\n",
       "    <tr>\n",
       "      <th>3</th>\n",
       "      <td>True</td>\n",
       "      <td>True</td>\n",
       "      <td>True</td>\n",
       "      <td>True</td>\n",
       "      <td>True</td>\n",
       "      <td>True</td>\n",
       "    </tr>\n",
       "    <tr>\n",
       "      <th>4</th>\n",
       "      <td>True</td>\n",
       "      <td>True</td>\n",
       "      <td>True</td>\n",
       "      <td>True</td>\n",
       "      <td>True</td>\n",
       "      <td>True</td>\n",
       "    </tr>\n",
       "  </tbody>\n",
       "</table>\n",
       "</div>"
      ],
      "text/plain": [
       "   设计宽度（mm）左  实测宽度（mm）左  差值（mm）左  设计宽度（mm）右  实测宽度（mm）右  差值（mm）右\n",
       "0       True       True     True       True       True     True\n",
       "1       True       True     True       True       True     True\n",
       "2       True       True     True       True       True     True\n",
       "3       True       True     True       True       True     True\n",
       "4       True       True     True       True       True     True"
      ]
     },
     "execution_count": 103,
     "metadata": {},
     "output_type": "execute_result"
    }
   ],
   "source": [
    "# dataframe 和 dataframe 比较\n",
    "df_report_cpmpare = df_report_num == df_report_num\n",
    "df_report_cpmpare.head()"
   ]
  },
  {
   "cell_type": "code",
   "execution_count": 104,
   "metadata": {},
   "outputs": [
    {
     "data": {
      "text/plain": [
       "设计宽度（mm）左     True\n",
       "实测宽度（mm）左    False\n",
       "差值（mm）左       True\n",
       "设计宽度（mm）右     True\n",
       "实测宽度（mm）右     True\n",
       "差值（mm）右       True\n",
       "dtype: bool"
      ]
     },
     "execution_count": 104,
     "metadata": {},
     "output_type": "execute_result"
    }
   ],
   "source": [
    "# 用 all 检查是否所有值都是 true，这是因为缺失值不互相等于\n",
    "df_report_cpmpare.all()"
   ]
  },
  {
   "cell_type": "code",
   "execution_count": 105,
   "metadata": {},
   "outputs": [
    {
     "data": {
      "text/plain": [
       "0    -3101.0\n",
       "1    -4003.0\n",
       "2    -3043.0\n",
       "3    -3105.0\n",
       "       ...  \n",
       "17   -3053.0\n",
       "18   -3100.0\n",
       "19   -3995.0\n",
       "20   -3051.0\n",
       "Name: 实测宽度（mm）左, Length: 21, dtype: float64"
      ]
     },
     "execution_count": 105,
     "metadata": {},
     "output_type": "execute_result"
    }
   ],
   "source": [
    "df_report_num['实测宽度（mm）左']"
   ]
  },
  {
   "cell_type": "code",
   "execution_count": 106,
   "metadata": {},
   "outputs": [
    {
     "data": {
      "text/plain": [
       "设计宽度（mm）左    0\n",
       "实测宽度（mm）左    0\n",
       "差值（mm）左      0\n",
       "设计宽度（mm）右    0\n",
       "实测宽度（mm）右    0\n",
       "差值（mm）右      0\n",
       "dtype: int64"
      ]
     },
     "execution_count": 106,
     "metadata": {},
     "output_type": "execute_result"
    }
   ],
   "source": [
    "# 不可以用 == 判断然后求和\n",
    "(df_report_num == np.nan).sum()"
   ]
  },
  {
   "cell_type": "code",
   "execution_count": 107,
   "metadata": {},
   "outputs": [
    {
     "data": {
      "text/plain": [
       "设计宽度（mm）左    0\n",
       "实测宽度（mm）左    2\n",
       "差值（mm）左      0\n",
       "设计宽度（mm）右    0\n",
       "实测宽度（mm）右    0\n",
       "差值（mm）右      0\n",
       "dtype: int64"
      ]
     },
     "execution_count": 107,
     "metadata": {},
     "output_type": "execute_result"
    }
   ],
   "source": [
    "# 统计缺失值的最好方法是使用 isnull() \n",
    "df_report_num.isnull().sum()"
   ]
  },
  {
   "cell_type": "code",
   "execution_count": 108,
   "metadata": {},
   "outputs": [],
   "source": [
    "# 比较两个 dataframe 最直接的方法是 equals() 方法\n",
    "from pandas.testing import assert_frame_equal\n",
    "assert_frame_equal(df_report_num, df_report_num) # 相等不会返回任何值，不等会抛出 AssertionError 异常"
   ]
  },
  {
   "cell_type": "code",
   "execution_count": 109,
   "metadata": {},
   "outputs": [
    {
     "ename": "AssertionError",
     "evalue": "DataFrame are different\n\nDataFrame shape mismatch\n[left]:  (21, 6)\n[right]: (21, 9)",
     "output_type": "error",
     "traceback": [
      "\u001b[1;31m---------------------------------------------------------------------------\u001b[0m",
      "\u001b[1;31mAssertionError\u001b[0m                            Traceback (most recent call last)",
      "Cell \u001b[1;32mIn[109], line 1\u001b[0m\n\u001b[1;32m----> 1\u001b[0m \u001b[43massert_frame_equal\u001b[49m\u001b[43m(\u001b[49m\u001b[43mdf_report_num\u001b[49m\u001b[43m,\u001b[49m\u001b[43m \u001b[49m\u001b[43mdf_report\u001b[49m\u001b[43m)\u001b[49m\n",
      "    \u001b[1;31m[... skipping hidden 1 frame]\u001b[0m\n",
      "File \u001b[1;32md:\\miniconda3\\Lib\\site-packages\\pandas\\_testing\\asserters.py:614\u001b[0m, in \u001b[0;36mraise_assert_detail\u001b[1;34m(obj, message, left, right, diff, first_diff, index_values)\u001b[0m\n\u001b[0;32m    611\u001b[0m \u001b[38;5;28;01mif\u001b[39;00m first_diff \u001b[38;5;129;01mis\u001b[39;00m \u001b[38;5;129;01mnot\u001b[39;00m \u001b[38;5;28;01mNone\u001b[39;00m:\n\u001b[0;32m    612\u001b[0m     msg \u001b[38;5;241m+\u001b[39m\u001b[38;5;241m=\u001b[39m \u001b[38;5;124mf\u001b[39m\u001b[38;5;124m\"\u001b[39m\u001b[38;5;130;01m\\n\u001b[39;00m\u001b[38;5;132;01m{\u001b[39;00mfirst_diff\u001b[38;5;132;01m}\u001b[39;00m\u001b[38;5;124m\"\u001b[39m\n\u001b[1;32m--> 614\u001b[0m \u001b[38;5;28;01mraise\u001b[39;00m \u001b[38;5;167;01mAssertionError\u001b[39;00m(msg)\n",
      "\u001b[1;31mAssertionError\u001b[0m: DataFrame are different\n\nDataFrame shape mismatch\n[left]:  (21, 6)\n[right]: (21, 9)"
     ]
    }
   ],
   "source": [
    "assert_frame_equal(df_report_num, df_report)"
   ]
  },
  {
   "cell_type": "code",
   "execution_count": 110,
   "metadata": {},
   "outputs": [
    {
     "data": {
      "text/html": [
       "<div>\n",
       "<style scoped>\n",
       "    .dataframe tbody tr th:only-of-type {\n",
       "        vertical-align: middle;\n",
       "    }\n",
       "\n",
       "    .dataframe tbody tr th {\n",
       "        vertical-align: top;\n",
       "    }\n",
       "\n",
       "    .dataframe thead th {\n",
       "        text-align: right;\n",
       "    }\n",
       "</style>\n",
       "<table border=\"1\" class=\"dataframe\">\n",
       "  <thead>\n",
       "    <tr style=\"text-align: right;\">\n",
       "      <th></th>\n",
       "      <th>设计宽度（mm）左</th>\n",
       "      <th>实测宽度（mm）左</th>\n",
       "      <th>差值（mm）左</th>\n",
       "      <th>设计宽度（mm）右</th>\n",
       "      <th>实测宽度（mm）右</th>\n",
       "      <th>差值（mm）右</th>\n",
       "    </tr>\n",
       "  </thead>\n",
       "  <tbody>\n",
       "    <tr>\n",
       "      <th>0</th>\n",
       "      <td>False</td>\n",
       "      <td>False</td>\n",
       "      <td>True</td>\n",
       "      <td>False</td>\n",
       "      <td>False</td>\n",
       "      <td>False</td>\n",
       "    </tr>\n",
       "    <tr>\n",
       "      <th>1</th>\n",
       "      <td>False</td>\n",
       "      <td>False</td>\n",
       "      <td>False</td>\n",
       "      <td>False</td>\n",
       "      <td>False</td>\n",
       "      <td>False</td>\n",
       "    </tr>\n",
       "    <tr>\n",
       "      <th>2</th>\n",
       "      <td>False</td>\n",
       "      <td>False</td>\n",
       "      <td>False</td>\n",
       "      <td>False</td>\n",
       "      <td>False</td>\n",
       "      <td>False</td>\n",
       "    </tr>\n",
       "    <tr>\n",
       "      <th>3</th>\n",
       "      <td>False</td>\n",
       "      <td>False</td>\n",
       "      <td>False</td>\n",
       "      <td>False</td>\n",
       "      <td>False</td>\n",
       "      <td>False</td>\n",
       "    </tr>\n",
       "    <tr>\n",
       "      <th>4</th>\n",
       "      <td>False</td>\n",
       "      <td>False</td>\n",
       "      <td>False</td>\n",
       "      <td>False</td>\n",
       "      <td>False</td>\n",
       "      <td>False</td>\n",
       "    </tr>\n",
       "  </tbody>\n",
       "</table>\n",
       "</div>"
      ],
      "text/plain": [
       "   设计宽度（mm）左  实测宽度（mm）左  差值（mm）左  设计宽度（mm）右  实测宽度（mm）右  差值（mm）右\n",
       "0      False      False     True      False      False    False\n",
       "1      False      False    False      False      False    False\n",
       "2      False      False    False      False      False    False\n",
       "3      False      False    False      False      False    False\n",
       "4      False      False    False      False      False    False"
      ]
     },
     "execution_count": 110,
     "metadata": {},
     "output_type": "execute_result"
    }
   ],
   "source": [
    "# eq() 方法类似于 == 和前面 equals() 不同\n",
    "df_report_num.eq(-18.7).head()"
   ]
  },
  {
   "cell_type": "markdown",
   "metadata": {},
   "source": [
    "## 矩阵的转置"
   ]
  },
  {
   "cell_type": "code",
   "execution_count": 111,
   "metadata": {},
   "outputs": [
    {
     "data": {
      "text/html": [
       "<div>\n",
       "<style scoped>\n",
       "    .dataframe tbody tr th:only-of-type {\n",
       "        vertical-align: middle;\n",
       "    }\n",
       "\n",
       "    .dataframe tbody tr th {\n",
       "        vertical-align: top;\n",
       "    }\n",
       "\n",
       "    .dataframe thead th {\n",
       "        text-align: right;\n",
       "    }\n",
       "</style>\n",
       "<table border=\"1\" class=\"dataframe\">\n",
       "  <thead>\n",
       "    <tr style=\"text-align: right;\">\n",
       "      <th></th>\n",
       "      <th>0</th>\n",
       "      <th>1</th>\n",
       "      <th>2</th>\n",
       "      <th>3</th>\n",
       "      <th>4</th>\n",
       "      <th>5</th>\n",
       "      <th>6</th>\n",
       "      <th>7</th>\n",
       "      <th>8</th>\n",
       "      <th>9</th>\n",
       "      <th>10</th>\n",
       "      <th>11</th>\n",
       "      <th>12</th>\n",
       "      <th>13</th>\n",
       "      <th>14</th>\n",
       "      <th>15</th>\n",
       "      <th>16</th>\n",
       "      <th>17</th>\n",
       "      <th>18</th>\n",
       "      <th>19</th>\n",
       "      <th>20</th>\n",
       "    </tr>\n",
       "  </thead>\n",
       "  <tbody>\n",
       "    <tr>\n",
       "      <th>设计宽度（mm）左</th>\n",
       "      <td>-3082.00</td>\n",
       "      <td>-4000.00</td>\n",
       "      <td>-3082.0</td>\n",
       "      <td>-3082.00</td>\n",
       "      <td>-4000.00</td>\n",
       "      <td>-3082.00</td>\n",
       "      <td>-3082.00</td>\n",
       "      <td>-4000.00</td>\n",
       "      <td>-3082.00</td>\n",
       "      <td>-3082.0</td>\n",
       "      <td>-4000.00</td>\n",
       "      <td>-3082.00</td>\n",
       "      <td>-3082.0</td>\n",
       "      <td>-4000.00</td>\n",
       "      <td>-3082.00</td>\n",
       "      <td>-3082.00</td>\n",
       "      <td>-4000.00</td>\n",
       "      <td>-3082.00</td>\n",
       "      <td>-3082.00</td>\n",
       "      <td>-4000.00</td>\n",
       "      <td>-3082.00</td>\n",
       "    </tr>\n",
       "    <tr>\n",
       "      <th>实测宽度（mm）左</th>\n",
       "      <td>-3101.00</td>\n",
       "      <td>-4003.00</td>\n",
       "      <td>-3043.0</td>\n",
       "      <td>-3105.00</td>\n",
       "      <td>-3998.00</td>\n",
       "      <td>-3047.00</td>\n",
       "      <td>-3101.00</td>\n",
       "      <td>-3993.00</td>\n",
       "      <td>-3043.00</td>\n",
       "      <td>-3096.0</td>\n",
       "      <td>NaN</td>\n",
       "      <td>NaN</td>\n",
       "      <td>-3096.0</td>\n",
       "      <td>-3996.00</td>\n",
       "      <td>-3047.00</td>\n",
       "      <td>-3101.00</td>\n",
       "      <td>-4000.00</td>\n",
       "      <td>-3053.00</td>\n",
       "      <td>-3100.00</td>\n",
       "      <td>-3995.00</td>\n",
       "      <td>-3051.00</td>\n",
       "    </tr>\n",
       "    <tr>\n",
       "      <th>差值（mm）左</th>\n",
       "      <td>-18.70</td>\n",
       "      <td>-2.60</td>\n",
       "      <td>38.9</td>\n",
       "      <td>-23.20</td>\n",
       "      <td>2.30</td>\n",
       "      <td>34.70</td>\n",
       "      <td>-19.00</td>\n",
       "      <td>6.80</td>\n",
       "      <td>38.70</td>\n",
       "      <td>-14.3</td>\n",
       "      <td>9.20</td>\n",
       "      <td>37.40</td>\n",
       "      <td>-14.2</td>\n",
       "      <td>3.60</td>\n",
       "      <td>34.40</td>\n",
       "      <td>-18.90</td>\n",
       "      <td>-0.20</td>\n",
       "      <td>28.90</td>\n",
       "      <td>-18.60</td>\n",
       "      <td>5.00</td>\n",
       "      <td>30.80</td>\n",
       "    </tr>\n",
       "    <tr>\n",
       "      <th>设计宽度（mm）右</th>\n",
       "      <td>3082.00</td>\n",
       "      <td>4000.00</td>\n",
       "      <td>3082.0</td>\n",
       "      <td>3082.00</td>\n",
       "      <td>4000.00</td>\n",
       "      <td>3082.00</td>\n",
       "      <td>3082.00</td>\n",
       "      <td>4000.00</td>\n",
       "      <td>3082.00</td>\n",
       "      <td>3082.0</td>\n",
       "      <td>4000.00</td>\n",
       "      <td>3082.00</td>\n",
       "      <td>3082.0</td>\n",
       "      <td>4000.00</td>\n",
       "      <td>3082.00</td>\n",
       "      <td>3082.00</td>\n",
       "      <td>4000.00</td>\n",
       "      <td>3082.00</td>\n",
       "      <td>3082.00</td>\n",
       "      <td>4000.00</td>\n",
       "      <td>3082.00</td>\n",
       "    </tr>\n",
       "    <tr>\n",
       "      <th>实测宽度（mm）右</th>\n",
       "      <td>3116.00</td>\n",
       "      <td>4035.00</td>\n",
       "      <td>3092.0</td>\n",
       "      <td>3120.00</td>\n",
       "      <td>4039.00</td>\n",
       "      <td>3066.00</td>\n",
       "      <td>3120.00</td>\n",
       "      <td>4029.00</td>\n",
       "      <td>3076.00</td>\n",
       "      <td>3114.0</td>\n",
       "      <td>4035.00</td>\n",
       "      <td>3065.00</td>\n",
       "      <td>3114.0</td>\n",
       "      <td>4039.00</td>\n",
       "      <td>3082.00</td>\n",
       "      <td>3125.00</td>\n",
       "      <td>4042.00</td>\n",
       "      <td>3078.00</td>\n",
       "      <td>3122.00</td>\n",
       "      <td>4039.00</td>\n",
       "      <td>3076.00</td>\n",
       "    </tr>\n",
       "    <tr>\n",
       "      <th>差值（mm）右</th>\n",
       "      <td>34.19</td>\n",
       "      <td>35.03</td>\n",
       "      <td>10.5</td>\n",
       "      <td>38.11</td>\n",
       "      <td>38.46</td>\n",
       "      <td>-15.72</td>\n",
       "      <td>38.09</td>\n",
       "      <td>29.21</td>\n",
       "      <td>-6.12</td>\n",
       "      <td>32.0</td>\n",
       "      <td>35.28</td>\n",
       "      <td>-16.58</td>\n",
       "      <td>31.8</td>\n",
       "      <td>38.82</td>\n",
       "      <td>-0.01</td>\n",
       "      <td>43.49</td>\n",
       "      <td>42.04</td>\n",
       "      <td>-3.95</td>\n",
       "      <td>39.68</td>\n",
       "      <td>39.42</td>\n",
       "      <td>-6.33</td>\n",
       "    </tr>\n",
       "  </tbody>\n",
       "</table>\n",
       "</div>"
      ],
      "text/plain": [
       "                0        1       2        3        4        5        6   \\\n",
       "设计宽度（mm）左 -3082.00 -4000.00 -3082.0 -3082.00 -4000.00 -3082.00 -3082.00   \n",
       "实测宽度（mm）左 -3101.00 -4003.00 -3043.0 -3105.00 -3998.00 -3047.00 -3101.00   \n",
       "差值（mm）左     -18.70    -2.60    38.9   -23.20     2.30    34.70   -19.00   \n",
       "设计宽度（mm）右  3082.00  4000.00  3082.0  3082.00  4000.00  3082.00  3082.00   \n",
       "实测宽度（mm）右  3116.00  4035.00  3092.0  3120.00  4039.00  3066.00  3120.00   \n",
       "差值（mm）右      34.19    35.03    10.5    38.11    38.46   -15.72    38.09   \n",
       "\n",
       "                7        8       9        10       11      12       13  \\\n",
       "设计宽度（mm）左 -4000.00 -3082.00 -3082.0 -4000.00 -3082.00 -3082.0 -4000.00   \n",
       "实测宽度（mm）左 -3993.00 -3043.00 -3096.0      NaN      NaN -3096.0 -3996.00   \n",
       "差值（mm）左       6.80    38.70   -14.3     9.20    37.40   -14.2     3.60   \n",
       "设计宽度（mm）右  4000.00  3082.00  3082.0  4000.00  3082.00  3082.0  4000.00   \n",
       "实测宽度（mm）右  4029.00  3076.00  3114.0  4035.00  3065.00  3114.0  4039.00   \n",
       "差值（mm）右      29.21    -6.12    32.0    35.28   -16.58    31.8    38.82   \n",
       "\n",
       "                14       15       16       17       18       19       20  \n",
       "设计宽度（mm）左 -3082.00 -3082.00 -4000.00 -3082.00 -3082.00 -4000.00 -3082.00  \n",
       "实测宽度（mm）左 -3047.00 -3101.00 -4000.00 -3053.00 -3100.00 -3995.00 -3051.00  \n",
       "差值（mm）左      34.40   -18.90    -0.20    28.90   -18.60     5.00    30.80  \n",
       "设计宽度（mm）右  3082.00  3082.00  4000.00  3082.00  3082.00  4000.00  3082.00  \n",
       "实测宽度（mm）右  3082.00  3125.00  4042.00  3078.00  3122.00  4039.00  3076.00  \n",
       "差值（mm）右      -0.01    43.49    42.04    -3.95    39.68    39.42    -6.33  "
      ]
     },
     "execution_count": 111,
     "metadata": {},
     "output_type": "execute_result"
    }
   ],
   "source": [
    "transposed_df_report_num  = df_report_num.T\n",
    "transposed_df_report_num\n"
   ]
  },
  {
   "cell_type": "code",
   "execution_count": 112,
   "metadata": {},
   "outputs": [
    {
     "data": {
      "text/html": [
       "<div>\n",
       "<style scoped>\n",
       "    .dataframe tbody tr th:only-of-type {\n",
       "        vertical-align: middle;\n",
       "    }\n",
       "\n",
       "    .dataframe tbody tr th {\n",
       "        vertical-align: top;\n",
       "    }\n",
       "\n",
       "    .dataframe thead th {\n",
       "        text-align: right;\n",
       "    }\n",
       "</style>\n",
       "<table border=\"1\" class=\"dataframe\">\n",
       "  <thead>\n",
       "    <tr style=\"text-align: right;\">\n",
       "      <th></th>\n",
       "      <th>0</th>\n",
       "      <th>1</th>\n",
       "      <th>2</th>\n",
       "      <th>3</th>\n",
       "      <th>4</th>\n",
       "      <th>5</th>\n",
       "      <th>6</th>\n",
       "      <th>7</th>\n",
       "      <th>8</th>\n",
       "      <th>9</th>\n",
       "      <th>10</th>\n",
       "      <th>11</th>\n",
       "      <th>12</th>\n",
       "      <th>13</th>\n",
       "      <th>14</th>\n",
       "      <th>15</th>\n",
       "      <th>16</th>\n",
       "      <th>17</th>\n",
       "      <th>18</th>\n",
       "      <th>19</th>\n",
       "      <th>20</th>\n",
       "    </tr>\n",
       "  </thead>\n",
       "  <tbody>\n",
       "    <tr>\n",
       "      <th>设计宽度（mm）左</th>\n",
       "      <td>-3082.00</td>\n",
       "      <td>-4000.00</td>\n",
       "      <td>-3082.0</td>\n",
       "      <td>-3082.00</td>\n",
       "      <td>-4000.00</td>\n",
       "      <td>-3082.00</td>\n",
       "      <td>-3082.00</td>\n",
       "      <td>-4000.00</td>\n",
       "      <td>-3082.00</td>\n",
       "      <td>-3082.0</td>\n",
       "      <td>-4000.00</td>\n",
       "      <td>-3082.00</td>\n",
       "      <td>-3082.0</td>\n",
       "      <td>-4000.00</td>\n",
       "      <td>-3082.00</td>\n",
       "      <td>-3082.00</td>\n",
       "      <td>-4000.00</td>\n",
       "      <td>-3082.00</td>\n",
       "      <td>-3082.00</td>\n",
       "      <td>-4000.00</td>\n",
       "      <td>-3082.00</td>\n",
       "    </tr>\n",
       "    <tr>\n",
       "      <th>实测宽度（mm）左</th>\n",
       "      <td>-3101.00</td>\n",
       "      <td>-4003.00</td>\n",
       "      <td>-3043.0</td>\n",
       "      <td>-3105.00</td>\n",
       "      <td>-3998.00</td>\n",
       "      <td>-3047.00</td>\n",
       "      <td>-3101.00</td>\n",
       "      <td>-3993.00</td>\n",
       "      <td>-3043.00</td>\n",
       "      <td>-3096.0</td>\n",
       "      <td>NaN</td>\n",
       "      <td>NaN</td>\n",
       "      <td>-3096.0</td>\n",
       "      <td>-3996.00</td>\n",
       "      <td>-3047.00</td>\n",
       "      <td>-3101.00</td>\n",
       "      <td>-4000.00</td>\n",
       "      <td>-3053.00</td>\n",
       "      <td>-3100.00</td>\n",
       "      <td>-3995.00</td>\n",
       "      <td>-3051.00</td>\n",
       "    </tr>\n",
       "    <tr>\n",
       "      <th>差值（mm）左</th>\n",
       "      <td>-18.70</td>\n",
       "      <td>-2.60</td>\n",
       "      <td>38.9</td>\n",
       "      <td>-23.20</td>\n",
       "      <td>2.30</td>\n",
       "      <td>34.70</td>\n",
       "      <td>-19.00</td>\n",
       "      <td>6.80</td>\n",
       "      <td>38.70</td>\n",
       "      <td>-14.3</td>\n",
       "      <td>9.20</td>\n",
       "      <td>37.40</td>\n",
       "      <td>-14.2</td>\n",
       "      <td>3.60</td>\n",
       "      <td>34.40</td>\n",
       "      <td>-18.90</td>\n",
       "      <td>-0.20</td>\n",
       "      <td>28.90</td>\n",
       "      <td>-18.60</td>\n",
       "      <td>5.00</td>\n",
       "      <td>30.80</td>\n",
       "    </tr>\n",
       "    <tr>\n",
       "      <th>设计宽度（mm）右</th>\n",
       "      <td>3082.00</td>\n",
       "      <td>4000.00</td>\n",
       "      <td>3082.0</td>\n",
       "      <td>3082.00</td>\n",
       "      <td>4000.00</td>\n",
       "      <td>3082.00</td>\n",
       "      <td>3082.00</td>\n",
       "      <td>4000.00</td>\n",
       "      <td>3082.00</td>\n",
       "      <td>3082.0</td>\n",
       "      <td>4000.00</td>\n",
       "      <td>3082.00</td>\n",
       "      <td>3082.0</td>\n",
       "      <td>4000.00</td>\n",
       "      <td>3082.00</td>\n",
       "      <td>3082.00</td>\n",
       "      <td>4000.00</td>\n",
       "      <td>3082.00</td>\n",
       "      <td>3082.00</td>\n",
       "      <td>4000.00</td>\n",
       "      <td>3082.00</td>\n",
       "    </tr>\n",
       "    <tr>\n",
       "      <th>实测宽度（mm）右</th>\n",
       "      <td>3116.00</td>\n",
       "      <td>4035.00</td>\n",
       "      <td>3092.0</td>\n",
       "      <td>3120.00</td>\n",
       "      <td>4039.00</td>\n",
       "      <td>3066.00</td>\n",
       "      <td>3120.00</td>\n",
       "      <td>4029.00</td>\n",
       "      <td>3076.00</td>\n",
       "      <td>3114.0</td>\n",
       "      <td>4035.00</td>\n",
       "      <td>3065.00</td>\n",
       "      <td>3114.0</td>\n",
       "      <td>4039.00</td>\n",
       "      <td>3082.00</td>\n",
       "      <td>3125.00</td>\n",
       "      <td>4042.00</td>\n",
       "      <td>3078.00</td>\n",
       "      <td>3122.00</td>\n",
       "      <td>4039.00</td>\n",
       "      <td>3076.00</td>\n",
       "    </tr>\n",
       "    <tr>\n",
       "      <th>差值（mm）右</th>\n",
       "      <td>34.19</td>\n",
       "      <td>35.03</td>\n",
       "      <td>10.5</td>\n",
       "      <td>38.11</td>\n",
       "      <td>38.46</td>\n",
       "      <td>-15.72</td>\n",
       "      <td>38.09</td>\n",
       "      <td>29.21</td>\n",
       "      <td>-6.12</td>\n",
       "      <td>32.0</td>\n",
       "      <td>35.28</td>\n",
       "      <td>-16.58</td>\n",
       "      <td>31.8</td>\n",
       "      <td>38.82</td>\n",
       "      <td>-0.01</td>\n",
       "      <td>43.49</td>\n",
       "      <td>42.04</td>\n",
       "      <td>-3.95</td>\n",
       "      <td>39.68</td>\n",
       "      <td>39.42</td>\n",
       "      <td>-6.33</td>\n",
       "    </tr>\n",
       "  </tbody>\n",
       "</table>\n",
       "</div>"
      ],
      "text/plain": [
       "                0        1       2        3        4        5        6   \\\n",
       "设计宽度（mm）左 -3082.00 -4000.00 -3082.0 -3082.00 -4000.00 -3082.00 -3082.00   \n",
       "实测宽度（mm）左 -3101.00 -4003.00 -3043.0 -3105.00 -3998.00 -3047.00 -3101.00   \n",
       "差值（mm）左     -18.70    -2.60    38.9   -23.20     2.30    34.70   -19.00   \n",
       "设计宽度（mm）右  3082.00  4000.00  3082.0  3082.00  4000.00  3082.00  3082.00   \n",
       "实测宽度（mm）右  3116.00  4035.00  3092.0  3120.00  4039.00  3066.00  3120.00   \n",
       "差值（mm）右      34.19    35.03    10.5    38.11    38.46   -15.72    38.09   \n",
       "\n",
       "                7        8       9        10       11      12       13  \\\n",
       "设计宽度（mm）左 -4000.00 -3082.00 -3082.0 -4000.00 -3082.00 -3082.0 -4000.00   \n",
       "实测宽度（mm）左 -3993.00 -3043.00 -3096.0      NaN      NaN -3096.0 -3996.00   \n",
       "差值（mm）左       6.80    38.70   -14.3     9.20    37.40   -14.2     3.60   \n",
       "设计宽度（mm）右  4000.00  3082.00  3082.0  4000.00  3082.00  3082.0  4000.00   \n",
       "实测宽度（mm）右  4029.00  3076.00  3114.0  4035.00  3065.00  3114.0  4039.00   \n",
       "差值（mm）右      29.21    -6.12    32.0    35.28   -16.58    31.8    38.82   \n",
       "\n",
       "                14       15       16       17       18       19       20  \n",
       "设计宽度（mm）左 -3082.00 -3082.00 -4000.00 -3082.00 -3082.00 -4000.00 -3082.00  \n",
       "实测宽度（mm）左 -3047.00 -3101.00 -4000.00 -3053.00 -3100.00 -3995.00 -3051.00  \n",
       "差值（mm）左      34.40   -18.90    -0.20    28.90   -18.60     5.00    30.80  \n",
       "设计宽度（mm）右  3082.00  3082.00  4000.00  3082.00  3082.00  4000.00  3082.00  \n",
       "实测宽度（mm）右  3082.00  3125.00  4042.00  3078.00  3122.00  4039.00  3076.00  \n",
       "差值（mm）右      -0.01    43.49    42.04    -3.95    39.68    39.42    -6.33  "
      ]
     },
     "execution_count": 112,
     "metadata": {},
     "output_type": "execute_result"
    }
   ],
   "source": [
    "transposed_df_report_num  = df_report_num.transpose()\n",
    "transposed_df_report_num"
   ]
  },
  {
   "cell_type": "code",
   "execution_count": 113,
   "metadata": {},
   "outputs": [
    {
     "data": {
      "text/plain": [
       "设计宽度（mm）左    21\n",
       "实测宽度（mm）左    19\n",
       "差值（mm）左      21\n",
       "设计宽度（mm）右    21\n",
       "实测宽度（mm）右    21\n",
       "差值（mm）右      21\n",
       "dtype: int64"
      ]
     },
     "execution_count": 113,
     "metadata": {},
     "output_type": "execute_result"
    }
   ],
   "source": [
    "# 返回非缺失值的个数\n",
    "df_report_num.count()"
   ]
  },
  {
   "cell_type": "code",
   "execution_count": 114,
   "metadata": {},
   "outputs": [
    {
     "data": {
      "text/plain": [
       "设计宽度（mm）左    21\n",
       "实测宽度（mm）左    19\n",
       "差值（mm）左      21\n",
       "设计宽度（mm）右    21\n",
       "实测宽度（mm）右    21\n",
       "差值（mm）右      21\n",
       "dtype: int64"
      ]
     },
     "execution_count": 114,
     "metadata": {},
     "output_type": "execute_result"
    }
   ],
   "source": [
    "# axis 默认设置为0\n",
    "'''\n",
    "axis=0 或 axis='index'：表示按列统计，即对每列中的非缺失值进行计数。这是 count 方法的默认值。\n",
    "axis=1 或 axis='columns'：表示按行统计，即对每行中的非缺失值进行计数。\n",
    "'''\n",
    "df_report_num.count(axis=0)"
   ]
  },
  {
   "cell_type": "code",
   "execution_count": 115,
   "metadata": {},
   "outputs": [
    {
     "data": {
      "text/plain": [
       "0    6\n",
       "1    6\n",
       "2    6\n",
       "3    6\n",
       "4    6\n",
       "dtype: int64"
      ]
     },
     "execution_count": 115,
     "metadata": {},
     "output_type": "execute_result"
    }
   ],
   "source": [
    "df_report_num.count(axis='columns').head()"
   ]
  },
  {
   "cell_type": "code",
   "execution_count": 116,
   "metadata": {},
   "outputs": [
    {
     "data": {
      "text/plain": [
       "0    30.49\n",
       "1    64.43\n",
       "2    98.40\n",
       "3    29.91\n",
       "4    81.76\n",
       "dtype: float64"
      ]
     },
     "execution_count": 116,
     "metadata": {},
     "output_type": "execute_result"
    }
   ],
   "source": [
    "# 除了统计每行的非缺失值个数，也可以求和\n",
    "df_report_num.sum(axis='columns').head()"
   ]
  },
  {
   "cell_type": "code",
   "execution_count": 117,
   "metadata": {},
   "outputs": [
    {
     "data": {
      "text/plain": [
       "设计宽度（mm）左   -3082.00\n",
       "实测宽度（mm）左   -3101.00\n",
       "差值（mm）左         3.60\n",
       "设计宽度（mm）右    3082.00\n",
       "实测宽度（mm）右    3120.00\n",
       "差值（mm）右        34.19\n",
       "dtype: float64"
      ]
     },
     "execution_count": 117,
     "metadata": {},
     "output_type": "execute_result"
    }
   ],
   "source": [
    "# 查看每列的中位数\n",
    "df_report_num.median(axis='index')"
   ]
  },
  {
   "cell_type": "code",
   "execution_count": 118,
   "metadata": {},
   "outputs": [
    {
     "data": {
      "text/html": [
       "<div>\n",
       "<style scoped>\n",
       "    .dataframe tbody tr th:only-of-type {\n",
       "        vertical-align: middle;\n",
       "    }\n",
       "\n",
       "    .dataframe tbody tr th {\n",
       "        vertical-align: top;\n",
       "    }\n",
       "\n",
       "    .dataframe thead th {\n",
       "        text-align: right;\n",
       "    }\n",
       "</style>\n",
       "<table border=\"1\" class=\"dataframe\">\n",
       "  <thead>\n",
       "    <tr style=\"text-align: right;\">\n",
       "      <th></th>\n",
       "      <th>设计宽度（mm）左</th>\n",
       "      <th>实测宽度（mm）左</th>\n",
       "      <th>差值（mm）左</th>\n",
       "      <th>设计宽度（mm）右</th>\n",
       "      <th>实测宽度（mm）右</th>\n",
       "      <th>差值（mm）右</th>\n",
       "    </tr>\n",
       "  </thead>\n",
       "  <tbody>\n",
       "    <tr>\n",
       "      <th>0</th>\n",
       "      <td>-3082</td>\n",
       "      <td>-3101.0</td>\n",
       "      <td>-18.7</td>\n",
       "      <td>3082</td>\n",
       "      <td>3116</td>\n",
       "      <td>34.19</td>\n",
       "    </tr>\n",
       "    <tr>\n",
       "      <th>1</th>\n",
       "      <td>-7082</td>\n",
       "      <td>-7104.0</td>\n",
       "      <td>-21.3</td>\n",
       "      <td>7082</td>\n",
       "      <td>7151</td>\n",
       "      <td>69.22</td>\n",
       "    </tr>\n",
       "    <tr>\n",
       "      <th>2</th>\n",
       "      <td>-10164</td>\n",
       "      <td>-10147.0</td>\n",
       "      <td>17.6</td>\n",
       "      <td>10164</td>\n",
       "      <td>10243</td>\n",
       "      <td>79.72</td>\n",
       "    </tr>\n",
       "    <tr>\n",
       "      <th>3</th>\n",
       "      <td>-13246</td>\n",
       "      <td>-13252.0</td>\n",
       "      <td>-5.6</td>\n",
       "      <td>13246</td>\n",
       "      <td>13363</td>\n",
       "      <td>117.83</td>\n",
       "    </tr>\n",
       "    <tr>\n",
       "      <th>4</th>\n",
       "      <td>-17246</td>\n",
       "      <td>-17250.0</td>\n",
       "      <td>-3.3</td>\n",
       "      <td>17246</td>\n",
       "      <td>17402</td>\n",
       "      <td>156.29</td>\n",
       "    </tr>\n",
       "  </tbody>\n",
       "</table>\n",
       "</div>"
      ],
      "text/plain": [
       "   设计宽度（mm）左  实测宽度（mm）左  差值（mm）左  设计宽度（mm）右  实测宽度（mm）右  差值（mm）右\n",
       "0      -3082    -3101.0    -18.7       3082       3116    34.19\n",
       "1      -7082    -7104.0    -21.3       7082       7151    69.22\n",
       "2     -10164   -10147.0     17.6      10164      10243    79.72\n",
       "3     -13246   -13252.0     -5.6      13246      13363   117.83\n",
       "4     -17246   -17250.0     -3.3      17246      17402   156.29"
      ]
     },
     "execution_count": 118,
     "metadata": {},
     "output_type": "execute_result"
    }
   ],
   "source": [
    "# 使用 cumsum() 累计求和\n",
    "df_report_num.cumsum(axis='index').head()"
   ]
  },
  {
   "cell_type": "code",
   "execution_count": 119,
   "metadata": {},
   "outputs": [
    {
     "data": {
      "text/html": [
       "<div>\n",
       "<style scoped>\n",
       "    .dataframe tbody tr th:only-of-type {\n",
       "        vertical-align: middle;\n",
       "    }\n",
       "\n",
       "    .dataframe tbody tr th {\n",
       "        vertical-align: top;\n",
       "    }\n",
       "\n",
       "    .dataframe thead th {\n",
       "        text-align: right;\n",
       "    }\n",
       "</style>\n",
       "<table border=\"1\" class=\"dataframe\">\n",
       "  <thead>\n",
       "    <tr style=\"text-align: right;\">\n",
       "      <th></th>\n",
       "      <th>设计宽度（mm）左</th>\n",
       "      <th>实测宽度（mm）左</th>\n",
       "      <th>差值（mm）左</th>\n",
       "      <th>设计宽度（mm）右</th>\n",
       "      <th>实测宽度（mm）右</th>\n",
       "      <th>差值（mm）右</th>\n",
       "    </tr>\n",
       "  </thead>\n",
       "  <tbody>\n",
       "    <tr>\n",
       "      <th>2</th>\n",
       "      <td>-3082</td>\n",
       "      <td>-3043.0</td>\n",
       "      <td>38.9</td>\n",
       "      <td>3082</td>\n",
       "      <td>3092</td>\n",
       "      <td>10.50</td>\n",
       "    </tr>\n",
       "    <tr>\n",
       "      <th>8</th>\n",
       "      <td>-3082</td>\n",
       "      <td>-3043.0</td>\n",
       "      <td>38.7</td>\n",
       "      <td>3082</td>\n",
       "      <td>3076</td>\n",
       "      <td>-6.12</td>\n",
       "    </tr>\n",
       "    <tr>\n",
       "      <th>11</th>\n",
       "      <td>-3082</td>\n",
       "      <td>NaN</td>\n",
       "      <td>37.4</td>\n",
       "      <td>3082</td>\n",
       "      <td>3065</td>\n",
       "      <td>-16.58</td>\n",
       "    </tr>\n",
       "    <tr>\n",
       "      <th>5</th>\n",
       "      <td>-3082</td>\n",
       "      <td>-3047.0</td>\n",
       "      <td>34.7</td>\n",
       "      <td>3082</td>\n",
       "      <td>3066</td>\n",
       "      <td>-15.72</td>\n",
       "    </tr>\n",
       "    <tr>\n",
       "      <th>14</th>\n",
       "      <td>-3082</td>\n",
       "      <td>-3047.0</td>\n",
       "      <td>34.4</td>\n",
       "      <td>3082</td>\n",
       "      <td>3082</td>\n",
       "      <td>-0.01</td>\n",
       "    </tr>\n",
       "  </tbody>\n",
       "</table>\n",
       "</div>"
      ],
      "text/plain": [
       "    设计宽度（mm）左  实测宽度（mm）左  差值（mm）左  设计宽度（mm）右  实测宽度（mm）右  差值（mm）右\n",
       "2       -3082    -3043.0     38.9       3082       3092    10.50\n",
       "8       -3082    -3043.0     38.7       3082       3076    -6.12\n",
       "11      -3082        NaN     37.4       3082       3065   -16.58\n",
       "5       -3082    -3047.0     34.7       3082       3066   -15.72\n",
       "14      -3082    -3047.0     34.4       3082       3082    -0.01"
      ]
     },
     "execution_count": 119,
     "metadata": {},
     "output_type": "execute_result"
    }
   ],
   "source": [
    "# 降序排列\n",
    "df_report_num.sort_values(by='差值（mm）左', ascending=False).head()  # False 降序 True 升序"
   ]
  },
  {
   "cell_type": "code",
   "execution_count": 120,
   "metadata": {},
   "outputs": [
    {
     "name": "stderr",
     "output_type": "stream",
     "text": [
      "C:\\Users\\Administrator\\AppData\\Local\\Temp\\ipykernel_26804\\2571737580.py:1: SettingWithCopyWarning: \n",
      "A value is trying to be set on a copy of a slice from a DataFrame.\n",
      "Try using .loc[row_indexer,col_indexer] = value instead\n",
      "\n",
      "See the caveats in the documentation: https://pandas.pydata.org/pandas-docs/stable/user_guide/indexing.html#returning-a-view-versus-a-copy\n",
      "  df_report_num['new_col'] = np.nan\n",
      "C:\\Users\\Administrator\\AppData\\Local\\Temp\\ipykernel_26804\\2571737580.py:4: SettingWithCopyWarning: \n",
      "A value is trying to be set on a copy of a slice from a DataFrame\n",
      "\n",
      "See the caveats in the documentation: https://pandas.pydata.org/pandas-docs/stable/user_guide/indexing.html#returning-a-view-versus-a-copy\n",
      "  df_report_num.loc[new_index] = np.nan\n"
     ]
    },
    {
     "data": {
      "text/html": [
       "<div>\n",
       "<style scoped>\n",
       "    .dataframe tbody tr th:only-of-type {\n",
       "        vertical-align: middle;\n",
       "    }\n",
       "\n",
       "    .dataframe tbody tr th {\n",
       "        vertical-align: top;\n",
       "    }\n",
       "\n",
       "    .dataframe thead th {\n",
       "        text-align: right;\n",
       "    }\n",
       "</style>\n",
       "<table border=\"1\" class=\"dataframe\">\n",
       "  <thead>\n",
       "    <tr style=\"text-align: right;\">\n",
       "      <th></th>\n",
       "      <th>设计宽度（mm）左</th>\n",
       "      <th>实测宽度（mm）左</th>\n",
       "      <th>差值（mm）左</th>\n",
       "      <th>设计宽度（mm）右</th>\n",
       "      <th>实测宽度（mm）右</th>\n",
       "      <th>差值（mm）右</th>\n",
       "      <th>new_col</th>\n",
       "    </tr>\n",
       "  </thead>\n",
       "  <tbody>\n",
       "    <tr>\n",
       "      <th>0</th>\n",
       "      <td>-3082.0</td>\n",
       "      <td>-3101.0</td>\n",
       "      <td>-18.7</td>\n",
       "      <td>3082.0</td>\n",
       "      <td>3116.0</td>\n",
       "      <td>34.19</td>\n",
       "      <td>NaN</td>\n",
       "    </tr>\n",
       "    <tr>\n",
       "      <th>1</th>\n",
       "      <td>-4000.0</td>\n",
       "      <td>-4003.0</td>\n",
       "      <td>-2.6</td>\n",
       "      <td>4000.0</td>\n",
       "      <td>4035.0</td>\n",
       "      <td>35.03</td>\n",
       "      <td>NaN</td>\n",
       "    </tr>\n",
       "    <tr>\n",
       "      <th>2</th>\n",
       "      <td>-3082.0</td>\n",
       "      <td>-3043.0</td>\n",
       "      <td>38.9</td>\n",
       "      <td>3082.0</td>\n",
       "      <td>3092.0</td>\n",
       "      <td>10.50</td>\n",
       "      <td>NaN</td>\n",
       "    </tr>\n",
       "    <tr>\n",
       "      <th>3</th>\n",
       "      <td>-3082.0</td>\n",
       "      <td>-3105.0</td>\n",
       "      <td>-23.2</td>\n",
       "      <td>3082.0</td>\n",
       "      <td>3120.0</td>\n",
       "      <td>38.11</td>\n",
       "      <td>NaN</td>\n",
       "    </tr>\n",
       "    <tr>\n",
       "      <th>...</th>\n",
       "      <td>...</td>\n",
       "      <td>...</td>\n",
       "      <td>...</td>\n",
       "      <td>...</td>\n",
       "      <td>...</td>\n",
       "      <td>...</td>\n",
       "      <td>...</td>\n",
       "    </tr>\n",
       "    <tr>\n",
       "      <th>18</th>\n",
       "      <td>-3082.0</td>\n",
       "      <td>-3100.0</td>\n",
       "      <td>-18.6</td>\n",
       "      <td>3082.0</td>\n",
       "      <td>3122.0</td>\n",
       "      <td>39.68</td>\n",
       "      <td>NaN</td>\n",
       "    </tr>\n",
       "    <tr>\n",
       "      <th>19</th>\n",
       "      <td>-4000.0</td>\n",
       "      <td>-3995.0</td>\n",
       "      <td>5.0</td>\n",
       "      <td>4000.0</td>\n",
       "      <td>4039.0</td>\n",
       "      <td>39.42</td>\n",
       "      <td>NaN</td>\n",
       "    </tr>\n",
       "    <tr>\n",
       "      <th>20</th>\n",
       "      <td>-3082.0</td>\n",
       "      <td>-3051.0</td>\n",
       "      <td>30.8</td>\n",
       "      <td>3082.0</td>\n",
       "      <td>3076.0</td>\n",
       "      <td>-6.33</td>\n",
       "      <td>NaN</td>\n",
       "    </tr>\n",
       "    <tr>\n",
       "      <th>21</th>\n",
       "      <td>NaN</td>\n",
       "      <td>NaN</td>\n",
       "      <td>NaN</td>\n",
       "      <td>NaN</td>\n",
       "      <td>NaN</td>\n",
       "      <td>NaN</td>\n",
       "      <td>NaN</td>\n",
       "    </tr>\n",
       "  </tbody>\n",
       "</table>\n",
       "<p>22 rows × 7 columns</p>\n",
       "</div>"
      ],
      "text/plain": [
       "    设计宽度（mm）左  实测宽度（mm）左  差值（mm）左  设计宽度（mm）右  实测宽度（mm）右  差值（mm）右  new_col\n",
       "0     -3082.0    -3101.0    -18.7     3082.0     3116.0    34.19      NaN\n",
       "1     -4000.0    -4003.0     -2.6     4000.0     4035.0    35.03      NaN\n",
       "2     -3082.0    -3043.0     38.9     3082.0     3092.0    10.50      NaN\n",
       "3     -3082.0    -3105.0    -23.2     3082.0     3120.0    38.11      NaN\n",
       "..        ...        ...      ...        ...        ...      ...      ...\n",
       "18    -3082.0    -3100.0    -18.6     3082.0     3122.0    39.68      NaN\n",
       "19    -4000.0    -3995.0      5.0     4000.0     4039.0    39.42      NaN\n",
       "20    -3082.0    -3051.0     30.8     3082.0     3076.0    -6.33      NaN\n",
       "21        NaN        NaN      NaN        NaN        NaN      NaN      NaN\n",
       "\n",
       "[22 rows x 7 columns]"
      ]
     },
     "execution_count": 120,
     "metadata": {},
     "output_type": "execute_result"
    }
   ],
   "source": [
    "df_report_num['new_col'] = np.nan\n",
    "\n",
    "new_index = len(df_report_num)\n",
    "df_report_num.loc[new_index] = np.nan\n",
    "\n",
    "df_report_num"
   ]
  },
  {
   "cell_type": "code",
   "execution_count": 121,
   "metadata": {},
   "outputs": [
    {
     "name": "stderr",
     "output_type": "stream",
     "text": [
      "C:\\Users\\Administrator\\AppData\\Local\\Temp\\ipykernel_26804\\1632316984.py:2: SettingWithCopyWarning: \n",
      "A value is trying to be set on a copy of a slice from a DataFrame\n",
      "\n",
      "See the caveats in the documentation: https://pandas.pydata.org/pandas-docs/stable/user_guide/indexing.html#returning-a-view-versus-a-copy\n",
      "  df_report_num.dropna(how='all', inplace=True)  # inplace=True 表示直接在原 DataFrame df_report_num 上进行修改\n"
     ]
    },
    {
     "data": {
      "text/html": [
       "<div>\n",
       "<style scoped>\n",
       "    .dataframe tbody tr th:only-of-type {\n",
       "        vertical-align: middle;\n",
       "    }\n",
       "\n",
       "    .dataframe tbody tr th {\n",
       "        vertical-align: top;\n",
       "    }\n",
       "\n",
       "    .dataframe thead th {\n",
       "        text-align: right;\n",
       "    }\n",
       "</style>\n",
       "<table border=\"1\" class=\"dataframe\">\n",
       "  <thead>\n",
       "    <tr style=\"text-align: right;\">\n",
       "      <th></th>\n",
       "      <th>设计宽度（mm）左</th>\n",
       "      <th>实测宽度（mm）左</th>\n",
       "      <th>差值（mm）左</th>\n",
       "      <th>设计宽度（mm）右</th>\n",
       "      <th>实测宽度（mm）右</th>\n",
       "      <th>差值（mm）右</th>\n",
       "      <th>new_col</th>\n",
       "    </tr>\n",
       "  </thead>\n",
       "  <tbody>\n",
       "    <tr>\n",
       "      <th>0</th>\n",
       "      <td>-3082.0</td>\n",
       "      <td>-3101.0</td>\n",
       "      <td>-18.7</td>\n",
       "      <td>3082.0</td>\n",
       "      <td>3116.0</td>\n",
       "      <td>34.19</td>\n",
       "      <td>NaN</td>\n",
       "    </tr>\n",
       "    <tr>\n",
       "      <th>1</th>\n",
       "      <td>-4000.0</td>\n",
       "      <td>-4003.0</td>\n",
       "      <td>-2.6</td>\n",
       "      <td>4000.0</td>\n",
       "      <td>4035.0</td>\n",
       "      <td>35.03</td>\n",
       "      <td>NaN</td>\n",
       "    </tr>\n",
       "    <tr>\n",
       "      <th>2</th>\n",
       "      <td>-3082.0</td>\n",
       "      <td>-3043.0</td>\n",
       "      <td>38.9</td>\n",
       "      <td>3082.0</td>\n",
       "      <td>3092.0</td>\n",
       "      <td>10.50</td>\n",
       "      <td>NaN</td>\n",
       "    </tr>\n",
       "    <tr>\n",
       "      <th>3</th>\n",
       "      <td>-3082.0</td>\n",
       "      <td>-3105.0</td>\n",
       "      <td>-23.2</td>\n",
       "      <td>3082.0</td>\n",
       "      <td>3120.0</td>\n",
       "      <td>38.11</td>\n",
       "      <td>NaN</td>\n",
       "    </tr>\n",
       "    <tr>\n",
       "      <th>...</th>\n",
       "      <td>...</td>\n",
       "      <td>...</td>\n",
       "      <td>...</td>\n",
       "      <td>...</td>\n",
       "      <td>...</td>\n",
       "      <td>...</td>\n",
       "      <td>...</td>\n",
       "    </tr>\n",
       "    <tr>\n",
       "      <th>17</th>\n",
       "      <td>-3082.0</td>\n",
       "      <td>-3053.0</td>\n",
       "      <td>28.9</td>\n",
       "      <td>3082.0</td>\n",
       "      <td>3078.0</td>\n",
       "      <td>-3.95</td>\n",
       "      <td>NaN</td>\n",
       "    </tr>\n",
       "    <tr>\n",
       "      <th>18</th>\n",
       "      <td>-3082.0</td>\n",
       "      <td>-3100.0</td>\n",
       "      <td>-18.6</td>\n",
       "      <td>3082.0</td>\n",
       "      <td>3122.0</td>\n",
       "      <td>39.68</td>\n",
       "      <td>NaN</td>\n",
       "    </tr>\n",
       "    <tr>\n",
       "      <th>19</th>\n",
       "      <td>-4000.0</td>\n",
       "      <td>-3995.0</td>\n",
       "      <td>5.0</td>\n",
       "      <td>4000.0</td>\n",
       "      <td>4039.0</td>\n",
       "      <td>39.42</td>\n",
       "      <td>NaN</td>\n",
       "    </tr>\n",
       "    <tr>\n",
       "      <th>20</th>\n",
       "      <td>-3082.0</td>\n",
       "      <td>-3051.0</td>\n",
       "      <td>30.8</td>\n",
       "      <td>3082.0</td>\n",
       "      <td>3076.0</td>\n",
       "      <td>-6.33</td>\n",
       "      <td>NaN</td>\n",
       "    </tr>\n",
       "  </tbody>\n",
       "</table>\n",
       "<p>21 rows × 7 columns</p>\n",
       "</div>"
      ],
      "text/plain": [
       "    设计宽度（mm）左  实测宽度（mm）左  差值（mm）左  设计宽度（mm）右  实测宽度（mm）右  差值（mm）右  new_col\n",
       "0     -3082.0    -3101.0    -18.7     3082.0     3116.0    34.19      NaN\n",
       "1     -4000.0    -4003.0     -2.6     4000.0     4035.0    35.03      NaN\n",
       "2     -3082.0    -3043.0     38.9     3082.0     3092.0    10.50      NaN\n",
       "3     -3082.0    -3105.0    -23.2     3082.0     3120.0    38.11      NaN\n",
       "..        ...        ...      ...        ...        ...      ...      ...\n",
       "17    -3082.0    -3053.0     28.9     3082.0     3078.0    -3.95      NaN\n",
       "18    -3082.0    -3100.0    -18.6     3082.0     3122.0    39.68      NaN\n",
       "19    -4000.0    -3995.0      5.0     4000.0     4039.0    39.42      NaN\n",
       "20    -3082.0    -3051.0     30.8     3082.0     3076.0    -6.33      NaN\n",
       "\n",
       "[21 rows x 7 columns]"
      ]
     },
     "execution_count": 121,
     "metadata": {},
     "output_type": "execute_result"
    }
   ],
   "source": [
    "# 如果所有行都是缺失值，则将其去除\n",
    "df_report_num.dropna(how='all', inplace=True)  # inplace=True 表示直接在原 DataFrame df_report_num 上进行修改\n",
    "df_report_num"
   ]
  },
  {
   "cell_type": "code",
   "execution_count": 122,
   "metadata": {},
   "outputs": [
    {
     "data": {
      "text/plain": [
       "设计宽度（mm）左     0\n",
       "实测宽度（mm）左     2\n",
       "差值（mm）左       0\n",
       "设计宽度（mm）右     0\n",
       "实测宽度（mm）右     0\n",
       "差值（mm）右       0\n",
       "new_col      21\n",
       "dtype: int64"
      ]
     },
     "execution_count": 122,
     "metadata": {},
     "output_type": "execute_result"
    }
   ],
   "source": [
    "df_report_num.isnull().sum()"
   ]
  },
  {
   "cell_type": "code",
   "execution_count": 123,
   "metadata": {},
   "outputs": [
    {
     "data": {
      "text/html": [
       "<div>\n",
       "<style scoped>\n",
       "    .dataframe tbody tr th:only-of-type {\n",
       "        vertical-align: middle;\n",
       "    }\n",
       "\n",
       "    .dataframe tbody tr th {\n",
       "        vertical-align: top;\n",
       "    }\n",
       "\n",
       "    .dataframe thead th {\n",
       "        text-align: right;\n",
       "    }\n",
       "</style>\n",
       "<table border=\"1\" class=\"dataframe\">\n",
       "  <thead>\n",
       "    <tr style=\"text-align: right;\">\n",
       "      <th></th>\n",
       "      <th>设计宽度（mm）左</th>\n",
       "      <th>实测宽度（mm）左</th>\n",
       "      <th>差值（mm）左</th>\n",
       "      <th>设计宽度（mm）右</th>\n",
       "      <th>实测宽度（mm）右</th>\n",
       "      <th>差值（mm）右</th>\n",
       "      <th>new_col</th>\n",
       "    </tr>\n",
       "  </thead>\n",
       "  <tbody>\n",
       "    <tr>\n",
       "      <th>0</th>\n",
       "      <td>False</td>\n",
       "      <td>False</td>\n",
       "      <td>False</td>\n",
       "      <td>True</td>\n",
       "      <td>True</td>\n",
       "      <td>False</td>\n",
       "      <td>False</td>\n",
       "    </tr>\n",
       "    <tr>\n",
       "      <th>1</th>\n",
       "      <td>False</td>\n",
       "      <td>False</td>\n",
       "      <td>False</td>\n",
       "      <td>True</td>\n",
       "      <td>True</td>\n",
       "      <td>False</td>\n",
       "      <td>False</td>\n",
       "    </tr>\n",
       "    <tr>\n",
       "      <th>2</th>\n",
       "      <td>False</td>\n",
       "      <td>False</td>\n",
       "      <td>True</td>\n",
       "      <td>True</td>\n",
       "      <td>True</td>\n",
       "      <td>False</td>\n",
       "      <td>False</td>\n",
       "    </tr>\n",
       "    <tr>\n",
       "      <th>3</th>\n",
       "      <td>False</td>\n",
       "      <td>False</td>\n",
       "      <td>False</td>\n",
       "      <td>True</td>\n",
       "      <td>True</td>\n",
       "      <td>False</td>\n",
       "      <td>False</td>\n",
       "    </tr>\n",
       "    <tr>\n",
       "      <th>4</th>\n",
       "      <td>False</td>\n",
       "      <td>False</td>\n",
       "      <td>False</td>\n",
       "      <td>True</td>\n",
       "      <td>True</td>\n",
       "      <td>False</td>\n",
       "      <td>False</td>\n",
       "    </tr>\n",
       "  </tbody>\n",
       "</table>\n",
       "</div>"
      ],
      "text/plain": [
       "   设计宽度（mm）左  实测宽度（mm）左  差值（mm）左  设计宽度（mm）右  实测宽度（mm）右  差值（mm）右  new_col\n",
       "0      False      False    False       True       True    False    False\n",
       "1      False      False    False       True       True    False    False\n",
       "2      False      False     True       True       True    False    False\n",
       "3      False      False    False       True       True    False    False\n",
       "4      False      False    False       True       True    False    False"
      ]
     },
     "execution_count": 123,
     "metadata": {},
     "output_type": "execute_result"
    }
   ],
   "source": [
    "# 用大于或者等于的方法ge(), 将dataframe 变为 bool 矩阵\n",
    "df_report_num.ge(38.7).head()  # 找到大于等于38.7的数据"
   ]
  },
  {
   "cell_type": "code",
   "execution_count": 124,
   "metadata": {},
   "outputs": [
    {
     "data": {
      "text/plain": [
       "0    2\n",
       "1    2\n",
       "2    3\n",
       "3    2\n",
       "4    2\n",
       "dtype: int64"
      ]
     },
     "execution_count": 124,
     "metadata": {},
     "output_type": "execute_result"
    }
   ],
   "source": [
    "# 对所有 true 值求和\n",
    "df_report_num_387 = df_report_num.ge(38.7).sum(axis='columns')\n",
    "df_report_num_387.head()"
   ]
  },
  {
   "cell_type": "code",
   "execution_count": 125,
   "metadata": {},
   "outputs": [
    {
     "data": {
      "text/plain": [
       "2    14\n",
       "3     7\n",
       "Name: count, dtype: int64"
      ]
     },
     "execution_count": 125,
     "metadata": {},
     "output_type": "execute_result"
    }
   ],
   "source": [
    "df_report_num_387.value_counts()"
   ]
  },
  {
   "cell_type": "code",
   "execution_count": 126,
   "metadata": {},
   "outputs": [
    {
     "data": {
      "text/html": [
       "<div>\n",
       "<style scoped>\n",
       "    .dataframe tbody tr th:only-of-type {\n",
       "        vertical-align: middle;\n",
       "    }\n",
       "\n",
       "    .dataframe tbody tr th {\n",
       "        vertical-align: top;\n",
       "    }\n",
       "\n",
       "    .dataframe thead th {\n",
       "        text-align: right;\n",
       "    }\n",
       "</style>\n",
       "<table border=\"1\" class=\"dataframe\">\n",
       "  <thead>\n",
       "    <tr style=\"text-align: right;\">\n",
       "      <th></th>\n",
       "      <th>设计宽度（mm）左</th>\n",
       "      <th>实测宽度（mm）左</th>\n",
       "      <th>差值（mm）左</th>\n",
       "      <th>设计宽度（mm）右</th>\n",
       "      <th>实测宽度（mm）右</th>\n",
       "      <th>差值（mm）右</th>\n",
       "      <th>new_col</th>\n",
       "    </tr>\n",
       "  </thead>\n",
       "  <tbody>\n",
       "    <tr>\n",
       "      <th>0</th>\n",
       "      <td>-3082.0</td>\n",
       "      <td>-3101.0</td>\n",
       "      <td>-18.7</td>\n",
       "      <td>3082.0</td>\n",
       "      <td>3116.0</td>\n",
       "      <td>34.19</td>\n",
       "      <td>NaN</td>\n",
       "    </tr>\n",
       "    <tr>\n",
       "      <th>1</th>\n",
       "      <td>-4000.0</td>\n",
       "      <td>-4003.0</td>\n",
       "      <td>-2.6</td>\n",
       "      <td>4000.0</td>\n",
       "      <td>4035.0</td>\n",
       "      <td>35.03</td>\n",
       "      <td>NaN</td>\n",
       "    </tr>\n",
       "    <tr>\n",
       "      <th>2</th>\n",
       "      <td>-3082.0</td>\n",
       "      <td>-3043.0</td>\n",
       "      <td>38.9</td>\n",
       "      <td>3082.0</td>\n",
       "      <td>3092.0</td>\n",
       "      <td>10.50</td>\n",
       "      <td>NaN</td>\n",
       "    </tr>\n",
       "    <tr>\n",
       "      <th>3</th>\n",
       "      <td>-3082.0</td>\n",
       "      <td>-3105.0</td>\n",
       "      <td>-23.2</td>\n",
       "      <td>3082.0</td>\n",
       "      <td>3120.0</td>\n",
       "      <td>38.11</td>\n",
       "      <td>NaN</td>\n",
       "    </tr>\n",
       "    <tr>\n",
       "      <th>...</th>\n",
       "      <td>...</td>\n",
       "      <td>...</td>\n",
       "      <td>...</td>\n",
       "      <td>...</td>\n",
       "      <td>...</td>\n",
       "      <td>...</td>\n",
       "      <td>...</td>\n",
       "    </tr>\n",
       "    <tr>\n",
       "      <th>17</th>\n",
       "      <td>-3082.0</td>\n",
       "      <td>-3053.0</td>\n",
       "      <td>28.9</td>\n",
       "      <td>3082.0</td>\n",
       "      <td>3078.0</td>\n",
       "      <td>-3.95</td>\n",
       "      <td>NaN</td>\n",
       "    </tr>\n",
       "    <tr>\n",
       "      <th>18</th>\n",
       "      <td>-3082.0</td>\n",
       "      <td>-3100.0</td>\n",
       "      <td>-18.6</td>\n",
       "      <td>3082.0</td>\n",
       "      <td>3122.0</td>\n",
       "      <td>39.68</td>\n",
       "      <td>NaN</td>\n",
       "    </tr>\n",
       "    <tr>\n",
       "      <th>19</th>\n",
       "      <td>-4000.0</td>\n",
       "      <td>-3995.0</td>\n",
       "      <td>5.0</td>\n",
       "      <td>4000.0</td>\n",
       "      <td>4039.0</td>\n",
       "      <td>39.42</td>\n",
       "      <td>NaN</td>\n",
       "    </tr>\n",
       "    <tr>\n",
       "      <th>20</th>\n",
       "      <td>-3082.0</td>\n",
       "      <td>-3051.0</td>\n",
       "      <td>30.8</td>\n",
       "      <td>3082.0</td>\n",
       "      <td>3076.0</td>\n",
       "      <td>-6.33</td>\n",
       "      <td>NaN</td>\n",
       "    </tr>\n",
       "  </tbody>\n",
       "</table>\n",
       "<p>21 rows × 7 columns</p>\n",
       "</div>"
      ],
      "text/plain": [
       "    设计宽度（mm）左  实测宽度（mm）左  差值（mm）左  设计宽度（mm）右  实测宽度（mm）右  差值（mm）右  new_col\n",
       "0     -3082.0    -3101.0    -18.7     3082.0     3116.0    34.19      NaN\n",
       "1     -4000.0    -4003.0     -2.6     4000.0     4035.0    35.03      NaN\n",
       "2     -3082.0    -3043.0     38.9     3082.0     3092.0    10.50      NaN\n",
       "3     -3082.0    -3105.0    -23.2     3082.0     3120.0    38.11      NaN\n",
       "..        ...        ...      ...        ...        ...      ...      ...\n",
       "17    -3082.0    -3053.0     28.9     3082.0     3078.0    -3.95      NaN\n",
       "18    -3082.0    -3100.0    -18.6     3082.0     3122.0    39.68      NaN\n",
       "19    -4000.0    -3995.0      5.0     4000.0     4039.0    39.42      NaN\n",
       "20    -3082.0    -3051.0     30.8     3082.0     3076.0    -6.33      NaN\n",
       "\n",
       "[21 rows x 7 columns]"
      ]
     },
     "execution_count": 126,
     "metadata": {},
     "output_type": "execute_result"
    }
   ],
   "source": [
    "df_report_num"
   ]
  },
  {
   "cell_type": "code",
   "execution_count": 127,
   "metadata": {},
   "outputs": [
    {
     "data": {
      "text/plain": [
       "Series([], Name: count, dtype: int64)"
      ]
     },
     "execution_count": 127,
     "metadata": {},
     "output_type": "execute_result"
    }
   ],
   "source": [
    "# 使用 value_counts() 查看分布情况\n",
    "df_report_num.value_counts()  # 若 DataFrame 里所有行都包含 NaN 值，value_counts() 就会返回空值"
   ]
  },
  {
   "cell_type": "code",
   "execution_count": 128,
   "metadata": {},
   "outputs": [
    {
     "data": {
      "text/plain": [
       "设计宽度（mm）左  实测宽度（mm）左  差值（mm）左  设计宽度（mm）右  实测宽度（mm）右  差值（mm）右  new_col\n",
       "-4000.0    -4003.0    -2.6     4000.0     4035.0      35.03   NaN        1\n",
       "           -4000.0    -0.2     4000.0     4042.0      42.04   NaN        1\n",
       "           -3998.0     2.3     4000.0     4039.0      38.46   NaN        1\n",
       "           -3996.0     3.6     4000.0     4039.0      38.82   NaN        1\n",
       "                                                                        ..\n",
       "-3082.0    -3047.0     34.7    3082.0     3066.0     -15.72   NaN        1\n",
       "           -3043.0     38.7    3082.0     3076.0     -6.12    NaN        1\n",
       "                       38.9    3082.0     3092.0      10.50   NaN        1\n",
       "            NaN        37.4    3082.0     3065.0     -16.58   NaN        1\n",
       "Name: count, Length: 21, dtype: int64"
      ]
     },
     "execution_count": 128,
     "metadata": {},
     "output_type": "execute_result"
    }
   ],
   "source": [
    "df_report_num.value_counts(dropna=False)  # # 使用 value_counts 方法统计每行出现的频次，包含 NaN 行"
   ]
  },
  {
   "cell_type": "code",
   "execution_count": 129,
   "metadata": {},
   "outputs": [
    {
     "data": {
      "text/plain": [
       "2     3\n",
       "19    3\n",
       "15    3\n",
       "16    3\n",
       "8     3\n",
       "18    3\n",
       "13    3\n",
       "1     2\n",
       "dtype: int64"
      ]
     },
     "execution_count": 129,
     "metadata": {},
     "output_type": "execute_result"
    }
   ],
   "source": [
    "df_report_num_387.sort_values(ascending=False).head(8)"
   ]
  },
  {
   "cell_type": "code",
   "execution_count": 130,
   "metadata": {},
   "outputs": [
    {
     "data": {
      "text/html": [
       "<div>\n",
       "<style scoped>\n",
       "    .dataframe tbody tr th:only-of-type {\n",
       "        vertical-align: middle;\n",
       "    }\n",
       "\n",
       "    .dataframe tbody tr th {\n",
       "        vertical-align: top;\n",
       "    }\n",
       "\n",
       "    .dataframe thead th {\n",
       "        text-align: right;\n",
       "    }\n",
       "</style>\n",
       "<table border=\"1\" class=\"dataframe\">\n",
       "  <thead>\n",
       "    <tr style=\"text-align: right;\">\n",
       "      <th></th>\n",
       "      <th>设计宽度（mm）左</th>\n",
       "      <th>实测宽度（mm）左</th>\n",
       "      <th>差值（mm）左</th>\n",
       "      <th>设计宽度（mm）右</th>\n",
       "      <th>实测宽度（mm）右</th>\n",
       "      <th>差值（mm）右</th>\n",
       "      <th>new_col</th>\n",
       "    </tr>\n",
       "  </thead>\n",
       "  <tbody>\n",
       "    <tr>\n",
       "      <th>2</th>\n",
       "      <td>-3082.0</td>\n",
       "      <td>-3043.0</td>\n",
       "      <td>38.9</td>\n",
       "      <td>3082.0</td>\n",
       "      <td>3092.0</td>\n",
       "      <td>10.50</td>\n",
       "      <td>NaN</td>\n",
       "    </tr>\n",
       "    <tr>\n",
       "      <th>19</th>\n",
       "      <td>-4000.0</td>\n",
       "      <td>-3995.0</td>\n",
       "      <td>5.0</td>\n",
       "      <td>4000.0</td>\n",
       "      <td>4039.0</td>\n",
       "      <td>39.42</td>\n",
       "      <td>NaN</td>\n",
       "    </tr>\n",
       "    <tr>\n",
       "      <th>15</th>\n",
       "      <td>-3082.0</td>\n",
       "      <td>-3101.0</td>\n",
       "      <td>-18.9</td>\n",
       "      <td>3082.0</td>\n",
       "      <td>3125.0</td>\n",
       "      <td>43.49</td>\n",
       "      <td>NaN</td>\n",
       "    </tr>\n",
       "    <tr>\n",
       "      <th>16</th>\n",
       "      <td>-4000.0</td>\n",
       "      <td>-4000.0</td>\n",
       "      <td>-0.2</td>\n",
       "      <td>4000.0</td>\n",
       "      <td>4042.0</td>\n",
       "      <td>42.04</td>\n",
       "      <td>NaN</td>\n",
       "    </tr>\n",
       "  </tbody>\n",
       "</table>\n",
       "</div>"
      ],
      "text/plain": [
       "    设计宽度（mm）左  实测宽度（mm）左  差值（mm）左  设计宽度（mm）右  实测宽度（mm）右  差值（mm）右  new_col\n",
       "2     -3082.0    -3043.0     38.9     3082.0     3092.0    10.50      NaN\n",
       "19    -4000.0    -3995.0      5.0     4000.0     4039.0    39.42      NaN\n",
       "15    -3082.0    -3101.0    -18.9     3082.0     3125.0    43.49      NaN\n",
       "16    -4000.0    -4000.0     -0.2     4000.0     4042.0    42.04      NaN"
      ]
     },
     "execution_count": 130,
     "metadata": {},
     "output_type": "execute_result"
    }
   ],
   "source": [
    "df_report_num.loc[[2, 19, 15, 16]]"
   ]
  },
  {
   "cell_type": "code",
   "execution_count": 131,
   "metadata": {},
   "outputs": [
    {
     "data": {
      "text/html": [
       "<div>\n",
       "<style scoped>\n",
       "    .dataframe tbody tr th:only-of-type {\n",
       "        vertical-align: middle;\n",
       "    }\n",
       "\n",
       "    .dataframe tbody tr th {\n",
       "        vertical-align: top;\n",
       "    }\n",
       "\n",
       "    .dataframe thead th {\n",
       "        text-align: right;\n",
       "    }\n",
       "</style>\n",
       "<table border=\"1\" class=\"dataframe\">\n",
       "  <thead>\n",
       "    <tr style=\"text-align: right;\">\n",
       "      <th></th>\n",
       "      <th>设计宽度（mm）左</th>\n",
       "      <th>实测宽度（mm）左</th>\n",
       "      <th>差值（mm）左</th>\n",
       "      <th>设计宽度（mm）右</th>\n",
       "      <th>实测宽度（mm）右</th>\n",
       "      <th>差值（mm）右</th>\n",
       "      <th>new_col</th>\n",
       "    </tr>\n",
       "  </thead>\n",
       "  <tbody>\n",
       "    <tr>\n",
       "      <th>0</th>\n",
       "      <td>-3082.0</td>\n",
       "      <td>-3101.0</td>\n",
       "      <td>-18.7</td>\n",
       "      <td>3082.0</td>\n",
       "      <td>3116.0</td>\n",
       "      <td>34.19</td>\n",
       "      <td>NaN</td>\n",
       "    </tr>\n",
       "    <tr>\n",
       "      <th>1</th>\n",
       "      <td>-4000.0</td>\n",
       "      <td>-4003.0</td>\n",
       "      <td>-2.6</td>\n",
       "      <td>4000.0</td>\n",
       "      <td>4035.0</td>\n",
       "      <td>35.03</td>\n",
       "      <td>NaN</td>\n",
       "    </tr>\n",
       "    <tr>\n",
       "      <th>2</th>\n",
       "      <td>-3082.0</td>\n",
       "      <td>-3043.0</td>\n",
       "      <td>38.9</td>\n",
       "      <td>3082.0</td>\n",
       "      <td>3092.0</td>\n",
       "      <td>10.50</td>\n",
       "      <td>NaN</td>\n",
       "    </tr>\n",
       "    <tr>\n",
       "      <th>3</th>\n",
       "      <td>-3082.0</td>\n",
       "      <td>-3105.0</td>\n",
       "      <td>-23.2</td>\n",
       "      <td>3082.0</td>\n",
       "      <td>3120.0</td>\n",
       "      <td>38.11</td>\n",
       "      <td>NaN</td>\n",
       "    </tr>\n",
       "    <tr>\n",
       "      <th>...</th>\n",
       "      <td>...</td>\n",
       "      <td>...</td>\n",
       "      <td>...</td>\n",
       "      <td>...</td>\n",
       "      <td>...</td>\n",
       "      <td>...</td>\n",
       "      <td>...</td>\n",
       "    </tr>\n",
       "    <tr>\n",
       "      <th>17</th>\n",
       "      <td>-3082.0</td>\n",
       "      <td>-3053.0</td>\n",
       "      <td>28.9</td>\n",
       "      <td>3082.0</td>\n",
       "      <td>3078.0</td>\n",
       "      <td>-3.95</td>\n",
       "      <td>NaN</td>\n",
       "    </tr>\n",
       "    <tr>\n",
       "      <th>18</th>\n",
       "      <td>-3082.0</td>\n",
       "      <td>-3100.0</td>\n",
       "      <td>-18.6</td>\n",
       "      <td>3082.0</td>\n",
       "      <td>3122.0</td>\n",
       "      <td>39.68</td>\n",
       "      <td>NaN</td>\n",
       "    </tr>\n",
       "    <tr>\n",
       "      <th>19</th>\n",
       "      <td>-4000.0</td>\n",
       "      <td>-3995.0</td>\n",
       "      <td>5.0</td>\n",
       "      <td>4000.0</td>\n",
       "      <td>4039.0</td>\n",
       "      <td>39.42</td>\n",
       "      <td>NaN</td>\n",
       "    </tr>\n",
       "    <tr>\n",
       "      <th>20</th>\n",
       "      <td>-3082.0</td>\n",
       "      <td>-3051.0</td>\n",
       "      <td>30.8</td>\n",
       "      <td>3082.0</td>\n",
       "      <td>3076.0</td>\n",
       "      <td>-6.33</td>\n",
       "      <td>NaN</td>\n",
       "    </tr>\n",
       "  </tbody>\n",
       "</table>\n",
       "<p>21 rows × 7 columns</p>\n",
       "</div>"
      ],
      "text/plain": [
       "    设计宽度（mm）左  实测宽度（mm）左  差值（mm）左  设计宽度（mm）右  实测宽度（mm）右  差值（mm）右  new_col\n",
       "0     -3082.0    -3101.0    -18.7     3082.0     3116.0    34.19      NaN\n",
       "1     -4000.0    -4003.0     -2.6     4000.0     4035.0    35.03      NaN\n",
       "2     -3082.0    -3043.0     38.9     3082.0     3092.0    10.50      NaN\n",
       "3     -3082.0    -3105.0    -23.2     3082.0     3120.0    38.11      NaN\n",
       "..        ...        ...      ...        ...        ...      ...      ...\n",
       "17    -3082.0    -3053.0     28.9     3082.0     3078.0    -3.95      NaN\n",
       "18    -3082.0    -3100.0    -18.6     3082.0     3122.0    39.68      NaN\n",
       "19    -4000.0    -3995.0      5.0     4000.0     4039.0    39.42      NaN\n",
       "20    -3082.0    -3051.0     30.8     3082.0     3076.0    -6.33      NaN\n",
       "\n",
       "[21 rows x 7 columns]"
      ]
     },
     "execution_count": 131,
     "metadata": {},
     "output_type": "execute_result"
    }
   ],
   "source": [
    "df_report_num"
   ]
  },
  {
   "cell_type": "code",
   "execution_count": 132,
   "metadata": {},
   "outputs": [
    {
     "data": {
      "text/plain": [
       "16    4042.0\n",
       "13    4039.0\n",
       "19    4039.0\n",
       "4     4039.0\n",
       "1     4035.0\n",
       "dtype: float64"
      ]
     },
     "execution_count": 132,
     "metadata": {},
     "output_type": "execute_result"
    }
   ],
   "source": [
    "df_report_num.max(axis=1).sort_values(ascending=False).head()"
   ]
  },
  {
   "cell_type": "code",
   "execution_count": 133,
   "metadata": {},
   "outputs": [
    {
     "data": {
      "text/plain": [
       "设计宽度（mm）左   -4000.00\n",
       "实测宽度（mm）左   -4000.00\n",
       "差值（mm）左        -0.20\n",
       "设计宽度（mm）右    4000.00\n",
       "实测宽度（mm）右    4042.00\n",
       "差值（mm）右        42.04\n",
       "new_col          NaN\n",
       "Name: 16, dtype: float64"
      ]
     },
     "execution_count": 133,
     "metadata": {},
     "output_type": "execute_result"
    }
   ],
   "source": [
    "df_report_num.loc[16]\n"
   ]
  }
 ],
 "metadata": {
  "kernelspec": {
   "display_name": "base",
   "language": "python",
   "name": "python3"
  },
  "language_info": {
   "codemirror_mode": {
    "name": "ipython",
    "version": 3
   },
   "file_extension": ".py",
   "mimetype": "text/x-python",
   "name": "python",
   "nbconvert_exporter": "python",
   "pygments_lexer": "ipython3",
   "version": "3.12.3"
  }
 },
 "nbformat": 4,
 "nbformat_minor": 2
}
