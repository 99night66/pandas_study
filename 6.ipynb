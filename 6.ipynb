{
 "cells": [
  {
   "cell_type": "markdown",
   "id": "d5ee221f",
   "metadata": {},
   "source": [
    "# 索引对齐"
   ]
  },
  {
   "cell_type": "markdown",
   "id": "69c1909a",
   "metadata": {},
   "source": [
    "## 检查索引"
   ]
  },
  {
   "cell_type": "code",
   "execution_count": 2,
   "id": "345d64f5",
   "metadata": {},
   "outputs": [],
   "source": [
    "import pandas as pd \n",
    "import numpy as np \n"
   ]
  },
  {
   "cell_type": "code",
   "execution_count": null,
   "id": "ffcd5b38",
   "metadata": {},
   "outputs": [
    {
     "data": {
      "text/plain": [
       "Index(['instnm', 'city', 'stabbr', 'hbcu', 'menonly', 'womenonly', 'relaffil',\n",
       "       'satvrmid', 'satmtmid', 'distanceonly', 'ugds', 'ugds_white',\n",
       "       'ugds_black', 'ugds_hisp', 'ugds_asian', 'ugds_aian', 'ugds_nhpi',\n",
       "       'ugds_2mor', 'ugds_nra', 'ugds_unkn', 'pptug_ef', 'curroper', 'pctpell',\n",
       "       'pctfloan', 'ug25abv', 'md_earn_wne_p10', 'grad_debt_mdn_supp'],\n",
       "      dtype='object')"
      ]
     },
     "execution_count": 3,
     "metadata": {},
     "output_type": "execute_result"
    }
   ],
   "source": [
    "# 提取所有列\n",
    "college = pd.read_csv(\"college.csv\")\n",
    "columns = college.columns\n",
    "columns"
   ]
  },
  {
   "cell_type": "code",
   "execution_count": null,
   "id": "30d4df37",
   "metadata": {},
   "outputs": [
    {
     "data": {
      "text/plain": [
       "array(['instnm', 'city', 'stabbr', 'hbcu', 'menonly', 'womenonly',\n",
       "       'relaffil', 'satvrmid', 'satmtmid', 'distanceonly', 'ugds',\n",
       "       'ugds_white', 'ugds_black', 'ugds_hisp', 'ugds_asian', 'ugds_aian',\n",
       "       'ugds_nhpi', 'ugds_2mor', 'ugds_nra', 'ugds_unkn', 'pptug_ef',\n",
       "       'curroper', 'pctpell', 'pctfloan', 'ug25abv', 'md_earn_wne_p10',\n",
       "       'grad_debt_mdn_supp'], dtype=object)"
      ]
     },
     "execution_count": 5,
     "metadata": {},
     "output_type": "execute_result"
    }
   ],
   "source": [
    "# 用 values 属性，访问底层的numpy数组\n",
    "columns.values"
   ]
  },
  {
   "cell_type": "code",
   "execution_count": 6,
   "id": "f3c68164",
   "metadata": {},
   "outputs": [
    {
     "data": {
      "text/plain": [
       "'womenonly'"
      ]
     },
     "execution_count": 6,
     "metadata": {},
     "output_type": "execute_result"
    }
   ],
   "source": [
    "# 取出该数组的第六个值\n",
    "columns[5]"
   ]
  },
  {
   "cell_type": "code",
   "execution_count": 7,
   "id": "7859a9fe",
   "metadata": {},
   "outputs": [
    {
     "data": {
      "text/plain": [
       "Index(['city', 'satmtmid', 'ugds'], dtype='object')"
      ]
     },
     "execution_count": 7,
     "metadata": {},
     "output_type": "execute_result"
    }
   ],
   "source": [
    "# 取出该数组的第2/9/11\n",
    "columns[[1, 8, 10]]"
   ]
  },
  {
   "cell_type": "code",
   "execution_count": 8,
   "id": "22811d87",
   "metadata": {},
   "outputs": [
    {
     "data": {
      "text/plain": [
       "Index(['pptug_ef', 'curroper', 'pctpell'], dtype='object')"
      ]
     },
     "execution_count": 8,
     "metadata": {},
     "output_type": "execute_result"
    }
   ],
   "source": [
    "# 逆序切片选取\n",
    "columns[-7:-4]"
   ]
  },
  {
   "cell_type": "code",
   "execution_count": 9,
   "id": "feb74f89",
   "metadata": {},
   "outputs": [
    {
     "data": {
      "text/plain": [
       "('city', 'womenonly', 0)"
      ]
     },
     "execution_count": 9,
     "metadata": {},
     "output_type": "execute_result"
    }
   ],
   "source": [
    "# 索引有许多和series 和dataframe相同的方法\n",
    "columns.min(), columns.max(), columns.isnull().sum()"
   ]
  },
  {
   "cell_type": "code",
   "execution_count": 10,
   "id": "d9e058bf",
   "metadata": {},
   "outputs": [
    {
     "data": {
      "text/plain": [
       "Index(['instnmA', 'cityA', 'stabbrA', 'hbcuA', 'menonlyA', 'womenonlyA',\n",
       "       'relaffilA', 'satvrmidA', 'satmtmidA', 'distanceonlyA', 'ugdsA',\n",
       "       'ugds_whiteA', 'ugds_blackA', 'ugds_hispA', 'ugds_asianA', 'ugds_aianA',\n",
       "       'ugds_nhpiA', 'ugds_2morA', 'ugds_nraA', 'ugds_unknA', 'pptug_efA',\n",
       "       'curroperA', 'pctpellA', 'pctfloanA', 'ug25abvA', 'md_earn_wne_p10A',\n",
       "       'grad_debt_mdn_suppA'],\n",
       "      dtype='object')"
      ]
     },
     "execution_count": 10,
     "metadata": {},
     "output_type": "execute_result"
    }
   ],
   "source": [
    "# 索引对象可以直接通过字符串修改\n",
    "columns + 'A'"
   ]
  },
  {
   "cell_type": "code",
   "execution_count": 11,
   "id": "e36be9b9",
   "metadata": {},
   "outputs": [
    {
     "data": {
      "text/plain": [
       "array([ True,  True,  True,  True,  True,  True,  True,  True,  True,\n",
       "        True,  True,  True,  True,  True,  True,  True,  True,  True,\n",
       "        True,  True,  True,  True,  True,  True,  True,  True,  True])"
      ]
     },
     "execution_count": 11,
     "metadata": {},
     "output_type": "execute_result"
    }
   ],
   "source": [
    "# 索引对象也可以通过比较运算符，得到布尔索引\n",
    "columns > 'G'"
   ]
  },
  {
   "cell_type": "code",
   "execution_count": 13,
   "id": "a0a86a77",
   "metadata": {},
   "outputs": [
    {
     "ename": "TypeError",
     "evalue": "Index does not support mutable operations",
     "output_type": "error",
     "traceback": [
      "\u001b[1;31m---------------------------------------------------------------------------\u001b[0m",
      "\u001b[1;31mTypeError\u001b[0m                                 Traceback (most recent call last)",
      "\u001b[1;32m~\\AppData\\Local\\Temp/ipykernel_16096/2666337291.py\u001b[0m in \u001b[0;36m<module>\u001b[1;34m\u001b[0m\n\u001b[0;32m      1\u001b[0m \u001b[1;31m# 尝试用赋值的方法，修改索引对象的一个值，会导致类型错误，因为索引对象是不可变类型\u001b[0m\u001b[1;33m\u001b[0m\u001b[1;33m\u001b[0m\u001b[0m\n\u001b[1;32m----> 2\u001b[1;33m \u001b[0mcolumns\u001b[0m\u001b[1;33m[\u001b[0m\u001b[1;36m1\u001b[0m\u001b[1;33m]\u001b[0m \u001b[1;33m=\u001b[0m \u001b[1;34m'A'\u001b[0m\u001b[1;33m\u001b[0m\u001b[1;33m\u001b[0m\u001b[0m\n\u001b[0m",
      "\u001b[1;32md:\\Anaconda3\\lib\\site-packages\\pandas\\core\\indexes\\base.py\u001b[0m in \u001b[0;36m__setitem__\u001b[1;34m(self, key, value)\u001b[0m\n\u001b[0;32m   4583\u001b[0m     \u001b[1;33m@\u001b[0m\u001b[0mfinal\u001b[0m\u001b[1;33m\u001b[0m\u001b[1;33m\u001b[0m\u001b[0m\n\u001b[0;32m   4584\u001b[0m     \u001b[1;32mdef\u001b[0m \u001b[0m__setitem__\u001b[0m\u001b[1;33m(\u001b[0m\u001b[0mself\u001b[0m\u001b[1;33m,\u001b[0m \u001b[0mkey\u001b[0m\u001b[1;33m,\u001b[0m \u001b[0mvalue\u001b[0m\u001b[1;33m)\u001b[0m\u001b[1;33m:\u001b[0m\u001b[1;33m\u001b[0m\u001b[1;33m\u001b[0m\u001b[0m\n\u001b[1;32m-> 4585\u001b[1;33m         \u001b[1;32mraise\u001b[0m \u001b[0mTypeError\u001b[0m\u001b[1;33m(\u001b[0m\u001b[1;34m\"Index does not support mutable operations\"\u001b[0m\u001b[1;33m)\u001b[0m\u001b[1;33m\u001b[0m\u001b[1;33m\u001b[0m\u001b[0m\n\u001b[0m\u001b[0;32m   4586\u001b[0m \u001b[1;33m\u001b[0m\u001b[0m\n\u001b[0;32m   4587\u001b[0m     \u001b[1;32mdef\u001b[0m \u001b[0m__getitem__\u001b[0m\u001b[1;33m(\u001b[0m\u001b[0mself\u001b[0m\u001b[1;33m,\u001b[0m \u001b[0mkey\u001b[0m\u001b[1;33m)\u001b[0m\u001b[1;33m:\u001b[0m\u001b[1;33m\u001b[0m\u001b[1;33m\u001b[0m\u001b[0m\n",
      "\u001b[1;31mTypeError\u001b[0m: Index does not support mutable operations"
     ]
    }
   ],
   "source": [
    "# 尝试用赋值的方法，修改索引对象的一个值，会导致类型错误，因为索引对象是不可变类型\n",
    "columns[1] = 'A'"
   ]
  },
  {
   "cell_type": "code",
   "execution_count": 18,
   "id": "27cd3258",
   "metadata": {},
   "outputs": [
    {
     "data": {
      "text/plain": [
       "Index(['instnm', 'city', 'stabbr', 'hbcu'], dtype='object')"
      ]
     },
     "execution_count": 18,
     "metadata": {},
     "output_type": "execute_result"
    }
   ],
   "source": [
    "# 切片\n",
    "c1 = columns[:4]\n",
    "c1"
   ]
  },
  {
   "cell_type": "code",
   "execution_count": 19,
   "id": "3948f28e",
   "metadata": {},
   "outputs": [
    {
     "data": {
      "text/plain": [
       "Index(['stabbr', 'hbcu', 'menonly'], dtype='object')"
      ]
     },
     "execution_count": 19,
     "metadata": {},
     "output_type": "execute_result"
    }
   ],
   "source": [
    "c2 = columns[2:5]\n",
    "c2"
   ]
  },
  {
   "cell_type": "code",
   "execution_count": 20,
   "id": "54249681",
   "metadata": {},
   "outputs": [
    {
     "data": {
      "text/plain": [
       "Index(['city', 'hbcu', 'instnm', 'menonly', 'stabbr'], dtype='object')"
      ]
     },
     "execution_count": 20,
     "metadata": {},
     "output_type": "execute_result"
    }
   ],
   "source": [
    "# 联合\n",
    "c1.union(c2)"
   ]
  },
  {
   "cell_type": "code",
   "execution_count": 21,
   "id": "ec30ca7c",
   "metadata": {},
   "outputs": [
    {
     "name": "stderr",
     "output_type": "stream",
     "text": [
      "C:\\Users\\赵清钦\\AppData\\Local\\Temp/ipykernel_16096/3003421919.py:1: FutureWarning: Index.__or__ operating as a set operation is deprecated, in the future this will be a logical operation matching Series.__or__.  Use index.union(other) instead\n",
      "  c1 | c2\n"
     ]
    },
    {
     "data": {
      "text/plain": [
       "Index(['city', 'hbcu', 'instnm', 'menonly', 'stabbr'], dtype='object')"
      ]
     },
     "execution_count": 21,
     "metadata": {},
     "output_type": "execute_result"
    }
   ],
   "source": [
    "c1 | c2"
   ]
  },
  {
   "cell_type": "code",
   "execution_count": 22,
   "id": "aafa555d",
   "metadata": {},
   "outputs": [
    {
     "data": {
      "text/plain": [
       "Index(['city', 'instnm', 'menonly'], dtype='object')"
      ]
     },
     "execution_count": 22,
     "metadata": {},
     "output_type": "execute_result"
    }
   ],
   "source": [
    "# 对称差\n",
    "c1.symmetric_difference(c2)"
   ]
  },
  {
   "cell_type": "code",
   "execution_count": 23,
   "id": "66747eab",
   "metadata": {},
   "outputs": [
    {
     "name": "stderr",
     "output_type": "stream",
     "text": [
      "C:\\Users\\赵清钦\\AppData\\Local\\Temp/ipykernel_16096/3548041386.py:1: FutureWarning: Index.__xor__ operating as a set operation is deprecated, in the future this will be a logical operation matching Series.__xor__.  Use index.symmetric_difference(other) instead\n",
      "  c1 ^ c2\n"
     ]
    },
    {
     "data": {
      "text/plain": [
       "Index(['city', 'instnm', 'menonly'], dtype='object')"
      ]
     },
     "execution_count": 23,
     "metadata": {},
     "output_type": "execute_result"
    }
   ],
   "source": [
    "c1 ^ c2"
   ]
  },
  {
   "cell_type": "markdown",
   "id": "c4d1cb6c",
   "metadata": {},
   "source": [
    "## 求笛卡尔积\n",
    "- 笛卡尔积：两个集合中所有可能的有序对组合"
   ]
  },
  {
   "cell_type": "code",
   "execution_count": 28,
   "id": "9b6da8fe",
   "metadata": {},
   "outputs": [
    {
     "name": "stdout",
     "output_type": "stream",
     "text": [
      "range(0, 4)\n",
      "[0 1 2 3]\n"
     ]
    },
    {
     "data": {
      "text/plain": [
       "a    0\n",
       "a    1\n",
       "a    2\n",
       "b    3\n",
       "dtype: int32"
      ]
     },
     "execution_count": 28,
     "metadata": {},
     "output_type": "execute_result"
    }
   ],
   "source": [
    "''' \n",
    "- range(4) 返回一个 range 对象，它是一个迭代器，表示一个包含从 0 到 3 的整数的序列，但并没有立即创建一个列表，只有在迭代时才会生成这些值。\n",
    "- np.arange(4) 返回一个 NumPy 数组，这意味着它会创建一个实际的数组对象，可以直接操作、切片、进行数学运算等。\n",
    "'''\n",
    "print(range(4))\n",
    "print(np.arange(4))\n",
    "s1 = pd.Series(index=list('aaab'), data=np.arange(4))\n",
    "s1"
   ]
  },
  {
   "cell_type": "code",
   "execution_count": 29,
   "id": "99ba90b8",
   "metadata": {},
   "outputs": [
    {
     "data": {
      "text/plain": [
       "a    0\n",
       "a    1\n",
       "a    2\n",
       "b    3\n",
       "dtype: int32"
      ]
     },
     "execution_count": 29,
     "metadata": {},
     "output_type": "execute_result"
    }
   ],
   "source": [
    "# 创建两个有不同索引，但包含一些相同值的series\n",
    "s1 = pd.Series(index=list('aaab'), data=np.arange(4))\n",
    "s1"
   ]
  },
  {
   "cell_type": "code",
   "execution_count": 30,
   "id": "06cbb063",
   "metadata": {},
   "outputs": [
    {
     "data": {
      "text/plain": [
       "c    0\n",
       "a    1\n",
       "b    2\n",
       "a    3\n",
       "b    4\n",
       "b    5\n",
       "dtype: int32"
      ]
     },
     "execution_count": 30,
     "metadata": {},
     "output_type": "execute_result"
    }
   ],
   "source": [
    "s2 = pd.Series(index=list('cababb'), data=np.arange(6))\n",
    "s2"
   ]
  },
  {
   "cell_type": "code",
   "execution_count": null,
   "id": "2f02f724",
   "metadata": {},
   "outputs": [
    {
     "data": {
      "text/plain": [
       "a    1.0\n",
       "a    3.0\n",
       "a    2.0\n",
       "a    4.0\n",
       "a    3.0\n",
       "a    5.0\n",
       "b    5.0\n",
       "b    7.0\n",
       "b    8.0\n",
       "c    NaN\n",
       "dtype: float64"
      ]
     },
     "execution_count": 31,
     "metadata": {},
     "output_type": "execute_result"
    }
   ],
   "source": [
    "# 两者相加，以产生一个笛卡尔积\n",
    "''' \n",
    "s1 + s2 的行为是根据索引对齐相加的：\n",
    "\n",
    "- Pandas 会根据索引名称匹配对应的元素做相加\n",
    "- 如果某个索引在其中一个 Series 中不存在，对应结果为 NaN\n",
    "- 因为索引里有重复的标签，Pandas 会尝试把带有相同标签的所有元素两两对应相加，产生一种“笛卡尔积”式的对齐。\n",
    "\n",
    "举例：\n",
    "\n",
    "s1 中标签 'a' 有三个值 [0,1,2]\n",
    "s2 中标签 'a' 有两个值 [1,3]\n",
    "对这两个标签 'a'，s1 + s2 会做所有可能的配对相加（3个 × 2个 = 6 个结果）\n",
    "\n",
    "类似的标签 'b' 有 1 个和 3 个值，对应会产生 3 个结果\n",
    "\n",
    "标签 'c' 只在 s2 中有，在 s1 中没有对应，结果是 NaN\n",
    "'''\n",
    "s1 + s2"
   ]
  },
  {
   "cell_type": "code",
   "execution_count": 32,
   "id": "33565a66",
   "metadata": {},
   "outputs": [
    {
     "data": {
      "text/plain": [
       "a    0\n",
       "a    2\n",
       "a    4\n",
       "b    6\n",
       "b    8\n",
       "dtype: int32"
      ]
     },
     "execution_count": 32,
     "metadata": {},
     "output_type": "execute_result"
    }
   ],
   "source": [
    "# 当两组索引元素完全相同，顺序也相同时，不会生成笛卡尔积，索引会按照他们的位置对齐\n",
    "s1 = pd.Series(index=list('aaabb'), data=np.arange(5))\n",
    "s2 = pd.Series(index=list('aaabb'), data=np.arange(5))\n",
    "s1 + s2"
   ]
  },
  {
   "cell_type": "code",
   "execution_count": 33,
   "id": "3637f6b8",
   "metadata": {},
   "outputs": [
    {
     "data": {
      "text/plain": [
       "a    2\n",
       "a    3\n",
       "a    4\n",
       "a    3\n",
       "a    4\n",
       "a    5\n",
       "a    4\n",
       "a    5\n",
       "a    6\n",
       "b    3\n",
       "b    4\n",
       "b    4\n",
       "b    5\n",
       "dtype: int32"
      ]
     },
     "execution_count": 33,
     "metadata": {},
     "output_type": "execute_result"
    }
   ],
   "source": [
    "# 如果索引元素相同，但顺序不同，是能产生笛卡尔积的\n",
    "s1 = pd.Series(index=list('aaabb'), data=np.arange(5))\n",
    "s2 = pd.Series(index=list('bbaaa'), data=np.arange(5))\n",
    "s1 + s2"
   ]
  },
  {
   "cell_type": "markdown",
   "id": "701b6e83",
   "metadata": {},
   "source": [
    "## 索引爆炸"
   ]
  },
  {
   "cell_type": "code",
   "execution_count": 35,
   "id": "283dc901",
   "metadata": {},
   "outputs": [
    {
     "data": {
      "text/html": [
       "<div>\n",
       "<style scoped>\n",
       "    .dataframe tbody tr th:only-of-type {\n",
       "        vertical-align: middle;\n",
       "    }\n",
       "\n",
       "    .dataframe tbody tr th {\n",
       "        vertical-align: top;\n",
       "    }\n",
       "\n",
       "    .dataframe thead th {\n",
       "        text-align: right;\n",
       "    }\n",
       "</style>\n",
       "<table border=\"1\" class=\"dataframe\">\n",
       "  <thead>\n",
       "    <tr style=\"text-align: right;\">\n",
       "      <th></th>\n",
       "      <th>dept</th>\n",
       "      <th>title</th>\n",
       "      <th>hire_date</th>\n",
       "      <th>salary</th>\n",
       "      <th>sex</th>\n",
       "    </tr>\n",
       "    <tr>\n",
       "      <th>race</th>\n",
       "      <th></th>\n",
       "      <th></th>\n",
       "      <th></th>\n",
       "      <th></th>\n",
       "      <th></th>\n",
       "    </tr>\n",
       "  </thead>\n",
       "  <tbody>\n",
       "    <tr>\n",
       "      <th>White</th>\n",
       "      <td>Police</td>\n",
       "      <td>POLICE SERGEANT</td>\n",
       "      <td>2001-12-03</td>\n",
       "      <td>87545.38</td>\n",
       "      <td>Male</td>\n",
       "    </tr>\n",
       "    <tr>\n",
       "      <th>Hispanic</th>\n",
       "      <td>Other</td>\n",
       "      <td>ASSISTANT CITY ATTORNEY II</td>\n",
       "      <td>2010-11-15</td>\n",
       "      <td>82182.00</td>\n",
       "      <td>Male</td>\n",
       "    </tr>\n",
       "    <tr>\n",
       "      <th>Black</th>\n",
       "      <td>Houston Public Works</td>\n",
       "      <td>SENIOR SLUDGE PROCESSOR</td>\n",
       "      <td>2006-01-09</td>\n",
       "      <td>49275.00</td>\n",
       "      <td>Male</td>\n",
       "    </tr>\n",
       "    <tr>\n",
       "      <th>Hispanic</th>\n",
       "      <td>Police</td>\n",
       "      <td>SENIOR POLICE OFFICER</td>\n",
       "      <td>1997-05-27</td>\n",
       "      <td>75942.10</td>\n",
       "      <td>Male</td>\n",
       "    </tr>\n",
       "    <tr>\n",
       "      <th>White</th>\n",
       "      <td>Police</td>\n",
       "      <td>SENIOR POLICE OFFICER</td>\n",
       "      <td>2006-01-23</td>\n",
       "      <td>69355.26</td>\n",
       "      <td>Male</td>\n",
       "    </tr>\n",
       "  </tbody>\n",
       "</table>\n",
       "</div>"
      ],
      "text/plain": [
       "                          dept                       title   hire_date  \\\n",
       "race                                                                     \n",
       "White                   Police             POLICE SERGEANT  2001-12-03   \n",
       "Hispanic                 Other  ASSISTANT CITY ATTORNEY II  2010-11-15   \n",
       "Black     Houston Public Works     SENIOR SLUDGE PROCESSOR  2006-01-09   \n",
       "Hispanic                Police       SENIOR POLICE OFFICER  1997-05-27   \n",
       "White                   Police       SENIOR POLICE OFFICER  2006-01-23   \n",
       "\n",
       "            salary   sex  \n",
       "race                      \n",
       "White     87545.38  Male  \n",
       "Hispanic  82182.00  Male  \n",
       "Black     49275.00  Male  \n",
       "Hispanic  75942.10  Male  \n",
       "White     69355.26  Male  "
      ]
     },
     "execution_count": 35,
     "metadata": {},
     "output_type": "execute_result"
    }
   ],
   "source": [
    "employee = pd.read_csv('employee.csv', index_col='race')\n",
    "employee.head()"
   ]
  }
 ],
 "metadata": {
  "kernelspec": {
   "display_name": "base",
   "language": "python",
   "name": "python3"
  },
  "language_info": {
   "codemirror_mode": {
    "name": "ipython",
    "version": 3
   },
   "file_extension": ".py",
   "mimetype": "text/x-python",
   "name": "python",
   "nbconvert_exporter": "python",
   "pygments_lexer": "ipython3",
   "version": "3.9.7"
  }
 },
 "nbformat": 4,
 "nbformat_minor": 5
}
