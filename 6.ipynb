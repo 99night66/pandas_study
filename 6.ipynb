{
 "cells": [
  {
   "cell_type": "markdown",
   "id": "d5ee221f",
   "metadata": {},
   "source": [
    "# 索引对齐"
   ]
  },
  {
   "cell_type": "markdown",
   "id": "69c1909a",
   "metadata": {},
   "source": [
    "## 检查索引"
   ]
  },
  {
   "cell_type": "code",
   "execution_count": 1,
   "id": "345d64f5",
   "metadata": {},
   "outputs": [],
   "source": [
    "import pandas as pd \n",
    "import numpy as np \n"
   ]
  },
  {
   "cell_type": "code",
   "execution_count": null,
   "id": "ffcd5b38",
   "metadata": {},
   "outputs": [
    {
     "data": {
      "text/plain": [
       "Index(['instnm', 'city', 'stabbr', 'hbcu', 'menonly', 'womenonly', 'relaffil',\n",
       "       'satvrmid', 'satmtmid', 'distanceonly', 'ugds', 'ugds_white',\n",
       "       'ugds_black', 'ugds_hisp', 'ugds_asian', 'ugds_aian', 'ugds_nhpi',\n",
       "       'ugds_2mor', 'ugds_nra', 'ugds_unkn', 'pptug_ef', 'curroper', 'pctpell',\n",
       "       'pctfloan', 'ug25abv', 'md_earn_wne_p10', 'grad_debt_mdn_supp'],\n",
       "      dtype='object')"
      ]
     },
     "execution_count": 3,
     "metadata": {},
     "output_type": "execute_result"
    }
   ],
   "source": [
    "# 提取所有列\n",
    "college = pd.read_csv(\"college.csv\")\n",
    "columns = college.columns\n",
    "columns"
   ]
  },
  {
   "cell_type": "code",
   "execution_count": null,
   "id": "30d4df37",
   "metadata": {},
   "outputs": [
    {
     "data": {
      "text/plain": [
       "array(['instnm', 'city', 'stabbr', 'hbcu', 'menonly', 'womenonly',\n",
       "       'relaffil', 'satvrmid', 'satmtmid', 'distanceonly', 'ugds',\n",
       "       'ugds_white', 'ugds_black', 'ugds_hisp', 'ugds_asian', 'ugds_aian',\n",
       "       'ugds_nhpi', 'ugds_2mor', 'ugds_nra', 'ugds_unkn', 'pptug_ef',\n",
       "       'curroper', 'pctpell', 'pctfloan', 'ug25abv', 'md_earn_wne_p10',\n",
       "       'grad_debt_mdn_supp'], dtype=object)"
      ]
     },
     "execution_count": 5,
     "metadata": {},
     "output_type": "execute_result"
    }
   ],
   "source": [
    "# 用 values 属性，访问底层的numpy数组\n",
    "columns.values"
   ]
  },
  {
   "cell_type": "code",
   "execution_count": 6,
   "id": "f3c68164",
   "metadata": {},
   "outputs": [
    {
     "data": {
      "text/plain": [
       "'womenonly'"
      ]
     },
     "execution_count": 6,
     "metadata": {},
     "output_type": "execute_result"
    }
   ],
   "source": [
    "# 取出该数组的第六个值\n",
    "columns[5]"
   ]
  },
  {
   "cell_type": "code",
   "execution_count": 7,
   "id": "7859a9fe",
   "metadata": {},
   "outputs": [
    {
     "data": {
      "text/plain": [
       "Index(['city', 'satmtmid', 'ugds'], dtype='object')"
      ]
     },
     "execution_count": 7,
     "metadata": {},
     "output_type": "execute_result"
    }
   ],
   "source": [
    "# 取出该数组的第2/9/11\n",
    "columns[[1, 8, 10]]"
   ]
  },
  {
   "cell_type": "code",
   "execution_count": 8,
   "id": "22811d87",
   "metadata": {},
   "outputs": [
    {
     "data": {
      "text/plain": [
       "Index(['pptug_ef', 'curroper', 'pctpell'], dtype='object')"
      ]
     },
     "execution_count": 8,
     "metadata": {},
     "output_type": "execute_result"
    }
   ],
   "source": [
    "# 逆序切片选取\n",
    "columns[-7:-4]"
   ]
  },
  {
   "cell_type": "code",
   "execution_count": 9,
   "id": "feb74f89",
   "metadata": {},
   "outputs": [
    {
     "data": {
      "text/plain": [
       "('city', 'womenonly', 0)"
      ]
     },
     "execution_count": 9,
     "metadata": {},
     "output_type": "execute_result"
    }
   ],
   "source": [
    "# 索引有许多和series 和dataframe相同的方法\n",
    "columns.min(), columns.max(), columns.isnull().sum()"
   ]
  },
  {
   "cell_type": "code",
   "execution_count": 10,
   "id": "d9e058bf",
   "metadata": {},
   "outputs": [
    {
     "data": {
      "text/plain": [
       "Index(['instnmA', 'cityA', 'stabbrA', 'hbcuA', 'menonlyA', 'womenonlyA',\n",
       "       'relaffilA', 'satvrmidA', 'satmtmidA', 'distanceonlyA', 'ugdsA',\n",
       "       'ugds_whiteA', 'ugds_blackA', 'ugds_hispA', 'ugds_asianA', 'ugds_aianA',\n",
       "       'ugds_nhpiA', 'ugds_2morA', 'ugds_nraA', 'ugds_unknA', 'pptug_efA',\n",
       "       'curroperA', 'pctpellA', 'pctfloanA', 'ug25abvA', 'md_earn_wne_p10A',\n",
       "       'grad_debt_mdn_suppA'],\n",
       "      dtype='object')"
      ]
     },
     "execution_count": 10,
     "metadata": {},
     "output_type": "execute_result"
    }
   ],
   "source": [
    "# 索引对象可以直接通过字符串修改\n",
    "columns + 'A'"
   ]
  },
  {
   "cell_type": "code",
   "execution_count": 11,
   "id": "e36be9b9",
   "metadata": {},
   "outputs": [
    {
     "data": {
      "text/plain": [
       "array([ True,  True,  True,  True,  True,  True,  True,  True,  True,\n",
       "        True,  True,  True,  True,  True,  True,  True,  True,  True,\n",
       "        True,  True,  True,  True,  True,  True,  True,  True,  True])"
      ]
     },
     "execution_count": 11,
     "metadata": {},
     "output_type": "execute_result"
    }
   ],
   "source": [
    "# 索引对象也可以通过比较运算符，得到布尔索引\n",
    "columns > 'G'"
   ]
  },
  {
   "cell_type": "code",
   "execution_count": 13,
   "id": "a0a86a77",
   "metadata": {},
   "outputs": [
    {
     "ename": "TypeError",
     "evalue": "Index does not support mutable operations",
     "output_type": "error",
     "traceback": [
      "\u001b[1;31m---------------------------------------------------------------------------\u001b[0m",
      "\u001b[1;31mTypeError\u001b[0m                                 Traceback (most recent call last)",
      "\u001b[1;32m~\\AppData\\Local\\Temp/ipykernel_16096/2666337291.py\u001b[0m in \u001b[0;36m<module>\u001b[1;34m\u001b[0m\n\u001b[0;32m      1\u001b[0m \u001b[1;31m# 尝试用赋值的方法，修改索引对象的一个值，会导致类型错误，因为索引对象是不可变类型\u001b[0m\u001b[1;33m\u001b[0m\u001b[1;33m\u001b[0m\u001b[0m\n\u001b[1;32m----> 2\u001b[1;33m \u001b[0mcolumns\u001b[0m\u001b[1;33m[\u001b[0m\u001b[1;36m1\u001b[0m\u001b[1;33m]\u001b[0m \u001b[1;33m=\u001b[0m \u001b[1;34m'A'\u001b[0m\u001b[1;33m\u001b[0m\u001b[1;33m\u001b[0m\u001b[0m\n\u001b[0m",
      "\u001b[1;32md:\\Anaconda3\\lib\\site-packages\\pandas\\core\\indexes\\base.py\u001b[0m in \u001b[0;36m__setitem__\u001b[1;34m(self, key, value)\u001b[0m\n\u001b[0;32m   4583\u001b[0m     \u001b[1;33m@\u001b[0m\u001b[0mfinal\u001b[0m\u001b[1;33m\u001b[0m\u001b[1;33m\u001b[0m\u001b[0m\n\u001b[0;32m   4584\u001b[0m     \u001b[1;32mdef\u001b[0m \u001b[0m__setitem__\u001b[0m\u001b[1;33m(\u001b[0m\u001b[0mself\u001b[0m\u001b[1;33m,\u001b[0m \u001b[0mkey\u001b[0m\u001b[1;33m,\u001b[0m \u001b[0mvalue\u001b[0m\u001b[1;33m)\u001b[0m\u001b[1;33m:\u001b[0m\u001b[1;33m\u001b[0m\u001b[1;33m\u001b[0m\u001b[0m\n\u001b[1;32m-> 4585\u001b[1;33m         \u001b[1;32mraise\u001b[0m \u001b[0mTypeError\u001b[0m\u001b[1;33m(\u001b[0m\u001b[1;34m\"Index does not support mutable operations\"\u001b[0m\u001b[1;33m)\u001b[0m\u001b[1;33m\u001b[0m\u001b[1;33m\u001b[0m\u001b[0m\n\u001b[0m\u001b[0;32m   4586\u001b[0m \u001b[1;33m\u001b[0m\u001b[0m\n\u001b[0;32m   4587\u001b[0m     \u001b[1;32mdef\u001b[0m \u001b[0m__getitem__\u001b[0m\u001b[1;33m(\u001b[0m\u001b[0mself\u001b[0m\u001b[1;33m,\u001b[0m \u001b[0mkey\u001b[0m\u001b[1;33m)\u001b[0m\u001b[1;33m:\u001b[0m\u001b[1;33m\u001b[0m\u001b[1;33m\u001b[0m\u001b[0m\n",
      "\u001b[1;31mTypeError\u001b[0m: Index does not support mutable operations"
     ]
    }
   ],
   "source": [
    "# 尝试用赋值的方法，修改索引对象的一个值，会导致类型错误，因为索引对象是不可变类型\n",
    "columns[1] = 'A'"
   ]
  },
  {
   "cell_type": "code",
   "execution_count": 18,
   "id": "27cd3258",
   "metadata": {},
   "outputs": [
    {
     "data": {
      "text/plain": [
       "Index(['instnm', 'city', 'stabbr', 'hbcu'], dtype='object')"
      ]
     },
     "execution_count": 18,
     "metadata": {},
     "output_type": "execute_result"
    }
   ],
   "source": [
    "# 切片\n",
    "c1 = columns[:4]\n",
    "c1"
   ]
  },
  {
   "cell_type": "code",
   "execution_count": 19,
   "id": "3948f28e",
   "metadata": {},
   "outputs": [
    {
     "data": {
      "text/plain": [
       "Index(['stabbr', 'hbcu', 'menonly'], dtype='object')"
      ]
     },
     "execution_count": 19,
     "metadata": {},
     "output_type": "execute_result"
    }
   ],
   "source": [
    "c2 = columns[2:5]\n",
    "c2"
   ]
  },
  {
   "cell_type": "code",
   "execution_count": 20,
   "id": "54249681",
   "metadata": {},
   "outputs": [
    {
     "data": {
      "text/plain": [
       "Index(['city', 'hbcu', 'instnm', 'menonly', 'stabbr'], dtype='object')"
      ]
     },
     "execution_count": 20,
     "metadata": {},
     "output_type": "execute_result"
    }
   ],
   "source": [
    "# 联合\n",
    "c1.union(c2)"
   ]
  },
  {
   "cell_type": "code",
   "execution_count": 21,
   "id": "ec30ca7c",
   "metadata": {},
   "outputs": [
    {
     "name": "stderr",
     "output_type": "stream",
     "text": [
      "C:\\Users\\赵清钦\\AppData\\Local\\Temp/ipykernel_16096/3003421919.py:1: FutureWarning: Index.__or__ operating as a set operation is deprecated, in the future this will be a logical operation matching Series.__or__.  Use index.union(other) instead\n",
      "  c1 | c2\n"
     ]
    },
    {
     "data": {
      "text/plain": [
       "Index(['city', 'hbcu', 'instnm', 'menonly', 'stabbr'], dtype='object')"
      ]
     },
     "execution_count": 21,
     "metadata": {},
     "output_type": "execute_result"
    }
   ],
   "source": [
    "c1 | c2"
   ]
  },
  {
   "cell_type": "code",
   "execution_count": 22,
   "id": "aafa555d",
   "metadata": {},
   "outputs": [
    {
     "data": {
      "text/plain": [
       "Index(['city', 'instnm', 'menonly'], dtype='object')"
      ]
     },
     "execution_count": 22,
     "metadata": {},
     "output_type": "execute_result"
    }
   ],
   "source": [
    "# 对称差\n",
    "c1.symmetric_difference(c2)"
   ]
  },
  {
   "cell_type": "code",
   "execution_count": 23,
   "id": "66747eab",
   "metadata": {},
   "outputs": [
    {
     "name": "stderr",
     "output_type": "stream",
     "text": [
      "C:\\Users\\赵清钦\\AppData\\Local\\Temp/ipykernel_16096/3548041386.py:1: FutureWarning: Index.__xor__ operating as a set operation is deprecated, in the future this will be a logical operation matching Series.__xor__.  Use index.symmetric_difference(other) instead\n",
      "  c1 ^ c2\n"
     ]
    },
    {
     "data": {
      "text/plain": [
       "Index(['city', 'instnm', 'menonly'], dtype='object')"
      ]
     },
     "execution_count": 23,
     "metadata": {},
     "output_type": "execute_result"
    }
   ],
   "source": [
    "c1 ^ c2"
   ]
  },
  {
   "cell_type": "markdown",
   "id": "c4d1cb6c",
   "metadata": {},
   "source": [
    "## 求笛卡尔积\n",
    "- 笛卡尔积：两个集合中所有可能的有序对组合"
   ]
  },
  {
   "cell_type": "code",
   "execution_count": 28,
   "id": "9b6da8fe",
   "metadata": {},
   "outputs": [
    {
     "name": "stdout",
     "output_type": "stream",
     "text": [
      "range(0, 4)\n",
      "[0 1 2 3]\n"
     ]
    },
    {
     "data": {
      "text/plain": [
       "a    0\n",
       "a    1\n",
       "a    2\n",
       "b    3\n",
       "dtype: int32"
      ]
     },
     "execution_count": 28,
     "metadata": {},
     "output_type": "execute_result"
    }
   ],
   "source": [
    "''' \n",
    "- range(4) 返回一个 range 对象，它是一个迭代器，表示一个包含从 0 到 3 的整数的序列，但并没有立即创建一个列表，只有在迭代时才会生成这些值。\n",
    "- np.arange(4) 返回一个 NumPy 数组，这意味着它会创建一个实际的数组对象，可以直接操作、切片、进行数学运算等。\n",
    "'''\n",
    "print(range(4))\n",
    "print(np.arange(4))\n",
    "s1 = pd.Series(index=list('aaab'), data=np.arange(4))\n",
    "s1"
   ]
  },
  {
   "cell_type": "code",
   "execution_count": 29,
   "id": "99ba90b8",
   "metadata": {},
   "outputs": [
    {
     "data": {
      "text/plain": [
       "a    0\n",
       "a    1\n",
       "a    2\n",
       "b    3\n",
       "dtype: int32"
      ]
     },
     "execution_count": 29,
     "metadata": {},
     "output_type": "execute_result"
    }
   ],
   "source": [
    "# 创建两个有不同索引，但包含一些相同值的series\n",
    "s1 = pd.Series(index=list('aaab'), data=np.arange(4))\n",
    "s1"
   ]
  },
  {
   "cell_type": "code",
   "execution_count": 30,
   "id": "06cbb063",
   "metadata": {},
   "outputs": [
    {
     "data": {
      "text/plain": [
       "c    0\n",
       "a    1\n",
       "b    2\n",
       "a    3\n",
       "b    4\n",
       "b    5\n",
       "dtype: int32"
      ]
     },
     "execution_count": 30,
     "metadata": {},
     "output_type": "execute_result"
    }
   ],
   "source": [
    "s2 = pd.Series(index=list('cababb'), data=np.arange(6))\n",
    "s2"
   ]
  },
  {
   "cell_type": "code",
   "execution_count": null,
   "id": "2f02f724",
   "metadata": {},
   "outputs": [
    {
     "data": {
      "text/plain": [
       "a    1.0\n",
       "a    3.0\n",
       "a    2.0\n",
       "a    4.0\n",
       "a    3.0\n",
       "a    5.0\n",
       "b    5.0\n",
       "b    7.0\n",
       "b    8.0\n",
       "c    NaN\n",
       "dtype: float64"
      ]
     },
     "execution_count": 31,
     "metadata": {},
     "output_type": "execute_result"
    }
   ],
   "source": [
    "# 两者相加，以产生一个笛卡尔积\n",
    "''' \n",
    "s1 + s2 的行为是根据索引对齐相加的：\n",
    "\n",
    "- Pandas 会根据索引名称匹配对应的元素做相加\n",
    "- 如果某个索引在其中一个 Series 中不存在，对应结果为 NaN\n",
    "- 因为索引里有重复的标签，Pandas 会尝试把带有相同标签的所有元素两两对应相加，产生一种“笛卡尔积”式的对齐。\n",
    "\n",
    "举例：\n",
    "\n",
    "s1 中标签 'a' 有三个值 [0,1,2]\n",
    "s2 中标签 'a' 有两个值 [1,3]\n",
    "对这两个标签 'a'，s1 + s2 会做所有可能的配对相加（3个 × 2个 = 6 个结果）\n",
    "\n",
    "类似的标签 'b' 有 1 个和 3 个值，对应会产生 3 个结果\n",
    "\n",
    "标签 'c' 只在 s2 中有，在 s1 中没有对应，结果是 NaN\n",
    "'''\n",
    "s1 + s2"
   ]
  },
  {
   "cell_type": "code",
   "execution_count": 32,
   "id": "33565a66",
   "metadata": {},
   "outputs": [
    {
     "data": {
      "text/plain": [
       "a    0\n",
       "a    2\n",
       "a    4\n",
       "b    6\n",
       "b    8\n",
       "dtype: int32"
      ]
     },
     "execution_count": 32,
     "metadata": {},
     "output_type": "execute_result"
    }
   ],
   "source": [
    "# 当两组索引元素完全相同，顺序也相同时，不会生成笛卡尔积，索引会按照他们的位置对齐\n",
    "s1 = pd.Series(index=list('aaabb'), data=np.arange(5))\n",
    "s2 = pd.Series(index=list('aaabb'), data=np.arange(5))\n",
    "s1 + s2"
   ]
  },
  {
   "cell_type": "code",
   "execution_count": 33,
   "id": "3637f6b8",
   "metadata": {},
   "outputs": [
    {
     "data": {
      "text/plain": [
       "a    2\n",
       "a    3\n",
       "a    4\n",
       "a    3\n",
       "a    4\n",
       "a    5\n",
       "a    4\n",
       "a    5\n",
       "a    6\n",
       "b    3\n",
       "b    4\n",
       "b    4\n",
       "b    5\n",
       "dtype: int32"
      ]
     },
     "execution_count": 33,
     "metadata": {},
     "output_type": "execute_result"
    }
   ],
   "source": [
    "# 如果索引元素相同，但顺序不同，是能产生笛卡尔积的\n",
    "s1 = pd.Series(index=list('aaabb'), data=np.arange(5))\n",
    "s2 = pd.Series(index=list('bbaaa'), data=np.arange(5))\n",
    "s1 + s2"
   ]
  },
  {
   "cell_type": "markdown",
   "id": "701b6e83",
   "metadata": {},
   "source": [
    "## 索引爆炸"
   ]
  },
  {
   "cell_type": "code",
   "execution_count": 2,
   "id": "283dc901",
   "metadata": {},
   "outputs": [
    {
     "data": {
      "text/html": [
       "<div>\n",
       "<style scoped>\n",
       "    .dataframe tbody tr th:only-of-type {\n",
       "        vertical-align: middle;\n",
       "    }\n",
       "\n",
       "    .dataframe tbody tr th {\n",
       "        vertical-align: top;\n",
       "    }\n",
       "\n",
       "    .dataframe thead th {\n",
       "        text-align: right;\n",
       "    }\n",
       "</style>\n",
       "<table border=\"1\" class=\"dataframe\">\n",
       "  <thead>\n",
       "    <tr style=\"text-align: right;\">\n",
       "      <th></th>\n",
       "      <th>dept</th>\n",
       "      <th>title</th>\n",
       "      <th>hire_date</th>\n",
       "      <th>salary</th>\n",
       "      <th>sex</th>\n",
       "    </tr>\n",
       "    <tr>\n",
       "      <th>race</th>\n",
       "      <th></th>\n",
       "      <th></th>\n",
       "      <th></th>\n",
       "      <th></th>\n",
       "      <th></th>\n",
       "    </tr>\n",
       "  </thead>\n",
       "  <tbody>\n",
       "    <tr>\n",
       "      <th>White</th>\n",
       "      <td>Police</td>\n",
       "      <td>POLICE SERGEANT</td>\n",
       "      <td>2001-12-03</td>\n",
       "      <td>87545.38</td>\n",
       "      <td>Male</td>\n",
       "    </tr>\n",
       "    <tr>\n",
       "      <th>Hispanic</th>\n",
       "      <td>Other</td>\n",
       "      <td>ASSISTANT CITY ATTORNEY II</td>\n",
       "      <td>2010-11-15</td>\n",
       "      <td>82182.00</td>\n",
       "      <td>Male</td>\n",
       "    </tr>\n",
       "    <tr>\n",
       "      <th>Black</th>\n",
       "      <td>Houston Public Works</td>\n",
       "      <td>SENIOR SLUDGE PROCESSOR</td>\n",
       "      <td>2006-01-09</td>\n",
       "      <td>49275.00</td>\n",
       "      <td>Male</td>\n",
       "    </tr>\n",
       "    <tr>\n",
       "      <th>Hispanic</th>\n",
       "      <td>Police</td>\n",
       "      <td>SENIOR POLICE OFFICER</td>\n",
       "      <td>1997-05-27</td>\n",
       "      <td>75942.10</td>\n",
       "      <td>Male</td>\n",
       "    </tr>\n",
       "    <tr>\n",
       "      <th>White</th>\n",
       "      <td>Police</td>\n",
       "      <td>SENIOR POLICE OFFICER</td>\n",
       "      <td>2006-01-23</td>\n",
       "      <td>69355.26</td>\n",
       "      <td>Male</td>\n",
       "    </tr>\n",
       "  </tbody>\n",
       "</table>\n",
       "</div>"
      ],
      "text/plain": [
       "                          dept                       title   hire_date  \\\n",
       "race                                                                     \n",
       "White                   Police             POLICE SERGEANT  2001-12-03   \n",
       "Hispanic                 Other  ASSISTANT CITY ATTORNEY II  2010-11-15   \n",
       "Black     Houston Public Works     SENIOR SLUDGE PROCESSOR  2006-01-09   \n",
       "Hispanic                Police       SENIOR POLICE OFFICER  1997-05-27   \n",
       "White                   Police       SENIOR POLICE OFFICER  2006-01-23   \n",
       "\n",
       "            salary   sex  \n",
       "race                      \n",
       "White     87545.38  Male  \n",
       "Hispanic  82182.00  Male  \n",
       "Black     49275.00  Male  \n",
       "Hispanic  75942.10  Male  \n",
       "White     69355.26  Male  "
      ]
     },
     "execution_count": 2,
     "metadata": {},
     "output_type": "execute_result"
    }
   ],
   "source": [
    "employee = pd.read_csv('employee.csv', index_col='race')\n",
    "employee.head()"
   ]
  },
  {
   "cell_type": "code",
   "execution_count": 3,
   "id": "7164d706",
   "metadata": {},
   "outputs": [
    {
     "data": {
      "text/plain": [
       "True"
      ]
     },
     "execution_count": 3,
     "metadata": {},
     "output_type": "execute_result"
    }
   ],
   "source": [
    "# 选取salary做成两个series，判断二者是否相同\n",
    "salary1 = employee['salary']\n",
    "salary2 = employee['salary']\n",
    "salary1 is salary2\n"
   ]
  },
  {
   "cell_type": "code",
   "execution_count": 4,
   "id": "c5209e2e",
   "metadata": {},
   "outputs": [
    {
     "data": {
      "text/plain": [
       "False"
      ]
     },
     "execution_count": 4,
     "metadata": {},
     "output_type": "execute_result"
    }
   ],
   "source": [
    "# 二者指向同一个对象，一个改变另一个也会改变，为了收到全新的数据，使用copy方法\n",
    "salary1 = employee['salary'].copy()\n",
    "salary2 = employee['salary'].copy()\n",
    "salary1 is salary2\n"
   ]
  },
  {
   "cell_type": "code",
   "execution_count": 7,
   "id": "ede882fa",
   "metadata": {},
   "outputs": [
    {
     "data": {
      "text/plain": [
       "race\n",
       "Asian    37960.00\n",
       "Asian    68116.62\n",
       "Asian    72200.00\n",
       "Asian    68116.62\n",
       "Asian    42474.00\n",
       "Name: salary, dtype: float64"
      ]
     },
     "execution_count": 7,
     "metadata": {},
     "output_type": "execute_result"
    }
   ],
   "source": [
    "# 对其中一个做索引排序，比较二者是否相同\n",
    "salary1 = salary1.sort_index()\n",
    "salary1.head()"
   ]
  },
  {
   "cell_type": "code",
   "execution_count": 8,
   "id": "eb9e985e",
   "metadata": {},
   "outputs": [
    {
     "data": {
      "text/plain": [
       "race\n",
       "White       87545.38\n",
       "Hispanic    82182.00\n",
       "Black       49275.00\n",
       "Hispanic    75942.10\n",
       "White       69355.26\n",
       "Name: salary, dtype: float64"
      ]
     },
     "execution_count": 8,
     "metadata": {},
     "output_type": "execute_result"
    }
   ],
   "source": [
    "salary2.head()"
   ]
  },
  {
   "cell_type": "code",
   "execution_count": 9,
   "id": "16f03ed8",
   "metadata": {},
   "outputs": [
    {
     "data": {
      "text/plain": [
       "race\n",
       "Asian    106076.62\n",
       "Asian     74506.00\n",
       "Asian     79960.00\n",
       "Asian    154529.00\n",
       "Asian     83751.20\n",
       "Name: salary, dtype: float64"
      ]
     },
     "execution_count": 9,
     "metadata": {},
     "output_type": "execute_result"
    }
   ],
   "source": [
    "# 将两个saries相加\n",
    "salary_add = salary1 + salary2\n",
    "salary_add.head()"
   ]
  },
  {
   "cell_type": "code",
   "execution_count": 10,
   "id": "c1494869",
   "metadata": {},
   "outputs": [
    {
     "data": {
      "text/plain": [
       "(24308, 24308, 175738920, 24308)"
      ]
     },
     "execution_count": 10,
     "metadata": {},
     "output_type": "execute_result"
    }
   ],
   "source": [
    "# 再将sarlary与其自身相加，查看几个所得结果的长度\n",
    "salary_add1 = salary1 + salary1\n",
    "len(salary1), len(salary2), len(salary_add), len(salary_add1)"
   ]
  },
  {
   "cell_type": "code",
   "execution_count": 11,
   "id": "d6864074",
   "metadata": {},
   "outputs": [
    {
     "data": {
      "text/plain": [
       "race\n",
       "Black              8661\n",
       "White              7779\n",
       "Hispanic           6148\n",
       "Asian              1547\n",
       "Native American     146\n",
       "NaN                  27\n",
       "Name: count, dtype: int64"
      ]
     },
     "execution_count": 11,
     "metadata": {},
     "output_type": "execute_result"
    }
   ],
   "source": [
    "# 验证salary_add值得个数，因为笛卡尔积是作用在相同索引元素上的，可以对其平方值求和\n",
    "index_vc = salary1.index.value_counts(dropna=False)\n",
    "index_vc"
   ]
  },
  {
   "cell_type": "code",
   "execution_count": 12,
   "id": "bd2942c1",
   "metadata": {},
   "outputs": [
    {
     "data": {
      "text/plain": [
       "np.int64(175738920)"
      ]
     },
     "execution_count": 12,
     "metadata": {},
     "output_type": "execute_result"
    }
   ],
   "source": [
    "index_vc.pow(2).sum()"
   ]
  },
  {
   "cell_type": "markdown",
   "id": "d044647d",
   "metadata": {},
   "source": [
    "## 用不等索引填充数值"
   ]
  },
  {
   "cell_type": "code",
   "execution_count": 13,
   "id": "4cb54305",
   "metadata": {},
   "outputs": [
    {
     "data": {
      "text/html": [
       "<div>\n",
       "<style scoped>\n",
       "    .dataframe tbody tr th:only-of-type {\n",
       "        vertical-align: middle;\n",
       "    }\n",
       "\n",
       "    .dataframe tbody tr th {\n",
       "        vertical-align: top;\n",
       "    }\n",
       "\n",
       "    .dataframe thead th {\n",
       "        text-align: right;\n",
       "    }\n",
       "</style>\n",
       "<table border=\"1\" class=\"dataframe\">\n",
       "  <thead>\n",
       "    <tr style=\"text-align: right;\">\n",
       "      <th></th>\n",
       "      <th>yearID</th>\n",
       "      <th>stint</th>\n",
       "      <th>teamID</th>\n",
       "      <th>lgID</th>\n",
       "      <th>G</th>\n",
       "      <th>AB</th>\n",
       "      <th>R</th>\n",
       "      <th>H</th>\n",
       "      <th>2B</th>\n",
       "      <th>3B</th>\n",
       "      <th>...</th>\n",
       "      <th>RBI</th>\n",
       "      <th>SB</th>\n",
       "      <th>CS</th>\n",
       "      <th>BB</th>\n",
       "      <th>SO</th>\n",
       "      <th>IBB</th>\n",
       "      <th>HBP</th>\n",
       "      <th>SH</th>\n",
       "      <th>SF</th>\n",
       "      <th>GIDP</th>\n",
       "    </tr>\n",
       "    <tr>\n",
       "      <th>playerID</th>\n",
       "      <th></th>\n",
       "      <th></th>\n",
       "      <th></th>\n",
       "      <th></th>\n",
       "      <th></th>\n",
       "      <th></th>\n",
       "      <th></th>\n",
       "      <th></th>\n",
       "      <th></th>\n",
       "      <th></th>\n",
       "      <th></th>\n",
       "      <th></th>\n",
       "      <th></th>\n",
       "      <th></th>\n",
       "      <th></th>\n",
       "      <th></th>\n",
       "      <th></th>\n",
       "      <th></th>\n",
       "      <th></th>\n",
       "      <th></th>\n",
       "      <th></th>\n",
       "    </tr>\n",
       "  </thead>\n",
       "  <tbody>\n",
       "    <tr>\n",
       "      <th>altuvjo01</th>\n",
       "      <td>2014</td>\n",
       "      <td>1</td>\n",
       "      <td>HOU</td>\n",
       "      <td>AL</td>\n",
       "      <td>158</td>\n",
       "      <td>660</td>\n",
       "      <td>85</td>\n",
       "      <td>225</td>\n",
       "      <td>47</td>\n",
       "      <td>3</td>\n",
       "      <td>...</td>\n",
       "      <td>59.0</td>\n",
       "      <td>56.0</td>\n",
       "      <td>9.0</td>\n",
       "      <td>36</td>\n",
       "      <td>53.0</td>\n",
       "      <td>7.0</td>\n",
       "      <td>5.0</td>\n",
       "      <td>1.0</td>\n",
       "      <td>5.0</td>\n",
       "      <td>20.0</td>\n",
       "    </tr>\n",
       "    <tr>\n",
       "      <th>cartech02</th>\n",
       "      <td>2014</td>\n",
       "      <td>1</td>\n",
       "      <td>HOU</td>\n",
       "      <td>AL</td>\n",
       "      <td>145</td>\n",
       "      <td>507</td>\n",
       "      <td>68</td>\n",
       "      <td>115</td>\n",
       "      <td>21</td>\n",
       "      <td>1</td>\n",
       "      <td>...</td>\n",
       "      <td>88.0</td>\n",
       "      <td>5.0</td>\n",
       "      <td>2.0</td>\n",
       "      <td>56</td>\n",
       "      <td>182.0</td>\n",
       "      <td>6.0</td>\n",
       "      <td>5.0</td>\n",
       "      <td>0.0</td>\n",
       "      <td>4.0</td>\n",
       "      <td>12.0</td>\n",
       "    </tr>\n",
       "    <tr>\n",
       "      <th>castrja01</th>\n",
       "      <td>2014</td>\n",
       "      <td>1</td>\n",
       "      <td>HOU</td>\n",
       "      <td>AL</td>\n",
       "      <td>126</td>\n",
       "      <td>465</td>\n",
       "      <td>43</td>\n",
       "      <td>103</td>\n",
       "      <td>21</td>\n",
       "      <td>2</td>\n",
       "      <td>...</td>\n",
       "      <td>56.0</td>\n",
       "      <td>1.0</td>\n",
       "      <td>0.0</td>\n",
       "      <td>34</td>\n",
       "      <td>151.0</td>\n",
       "      <td>1.0</td>\n",
       "      <td>9.0</td>\n",
       "      <td>1.0</td>\n",
       "      <td>3.0</td>\n",
       "      <td>11.0</td>\n",
       "    </tr>\n",
       "    <tr>\n",
       "      <th>corpoca01</th>\n",
       "      <td>2014</td>\n",
       "      <td>1</td>\n",
       "      <td>HOU</td>\n",
       "      <td>AL</td>\n",
       "      <td>55</td>\n",
       "      <td>170</td>\n",
       "      <td>22</td>\n",
       "      <td>40</td>\n",
       "      <td>6</td>\n",
       "      <td>0</td>\n",
       "      <td>...</td>\n",
       "      <td>19.0</td>\n",
       "      <td>0.0</td>\n",
       "      <td>0.0</td>\n",
       "      <td>14</td>\n",
       "      <td>37.0</td>\n",
       "      <td>0.0</td>\n",
       "      <td>3.0</td>\n",
       "      <td>1.0</td>\n",
       "      <td>2.0</td>\n",
       "      <td>3.0</td>\n",
       "    </tr>\n",
       "    <tr>\n",
       "      <th>dominma01</th>\n",
       "      <td>2014</td>\n",
       "      <td>1</td>\n",
       "      <td>HOU</td>\n",
       "      <td>AL</td>\n",
       "      <td>157</td>\n",
       "      <td>564</td>\n",
       "      <td>51</td>\n",
       "      <td>121</td>\n",
       "      <td>17</td>\n",
       "      <td>0</td>\n",
       "      <td>...</td>\n",
       "      <td>57.0</td>\n",
       "      <td>0.0</td>\n",
       "      <td>1.0</td>\n",
       "      <td>29</td>\n",
       "      <td>125.0</td>\n",
       "      <td>2.0</td>\n",
       "      <td>5.0</td>\n",
       "      <td>2.0</td>\n",
       "      <td>7.0</td>\n",
       "      <td>23.0</td>\n",
       "    </tr>\n",
       "  </tbody>\n",
       "</table>\n",
       "<p>5 rows × 21 columns</p>\n",
       "</div>"
      ],
      "text/plain": [
       "           yearID  stint teamID lgID    G   AB   R    H  2B  3B  ...   RBI  \\\n",
       "playerID                                                         ...         \n",
       "altuvjo01    2014      1    HOU   AL  158  660  85  225  47   3  ...  59.0   \n",
       "cartech02    2014      1    HOU   AL  145  507  68  115  21   1  ...  88.0   \n",
       "castrja01    2014      1    HOU   AL  126  465  43  103  21   2  ...  56.0   \n",
       "corpoca01    2014      1    HOU   AL   55  170  22   40   6   0  ...  19.0   \n",
       "dominma01    2014      1    HOU   AL  157  564  51  121  17   0  ...  57.0   \n",
       "\n",
       "             SB   CS  BB     SO  IBB  HBP   SH   SF  GIDP  \n",
       "playerID                                                   \n",
       "altuvjo01  56.0  9.0  36   53.0  7.0  5.0  1.0  5.0  20.0  \n",
       "cartech02   5.0  2.0  56  182.0  6.0  5.0  0.0  4.0  12.0  \n",
       "castrja01   1.0  0.0  34  151.0  1.0  9.0  1.0  3.0  11.0  \n",
       "corpoca01   0.0  0.0  14   37.0  0.0  3.0  1.0  2.0   3.0  \n",
       "dominma01   0.0  1.0  29  125.0  2.0  5.0  2.0  7.0  23.0  \n",
       "\n",
       "[5 rows x 21 columns]"
      ]
     },
     "execution_count": 13,
     "metadata": {},
     "output_type": "execute_result"
    }
   ],
   "source": [
    "baseball_14 = pd.read_csv('baseball14.csv', index_col='playerID')\n",
    "baseball_15 = pd.read_csv('baseball15.csv', index_col='playerID')\n",
    "baseball_16 = pd.read_csv('baseball16.csv', index_col='playerID')\n",
    "\n",
    "baseball_14.head()"
   ]
  },
  {
   "cell_type": "code",
   "execution_count": 14,
   "id": "c16d7199",
   "metadata": {},
   "outputs": [
    {
     "data": {
      "text/plain": [
       "Index(['corpoca01', 'dominma01', 'fowlede01', 'grossro01', 'guzmaje01',\n",
       "       'hoeslj01', 'krausma01', 'preslal01', 'singljo02'],\n",
       "      dtype='object', name='playerID')"
      ]
     },
     "execution_count": 14,
     "metadata": {},
     "output_type": "execute_result"
    }
   ],
   "source": [
    "# 用索引方法difference，找到那些索引标签在baseball_14中，却不再在baseball_15、baseball_16中\n",
    "baseball_14.index.difference(baseball_15.index)"
   ]
  },
  {
   "cell_type": "code",
   "execution_count": 15,
   "id": "631b60e1",
   "metadata": {},
   "outputs": [
    {
     "data": {
      "text/plain": [
       "Index(['cartech02', 'corpoca01', 'dominma01', 'fowlede01', 'grossro01',\n",
       "       'guzmaje01', 'hoeslj01', 'krausma01', 'preslal01', 'singljo02',\n",
       "       'villajo01'],\n",
       "      dtype='object', name='playerID')"
      ]
     },
     "execution_count": 15,
     "metadata": {},
     "output_type": "execute_result"
    }
   ],
   "source": [
    "baseball_14.index.difference(baseball_16.index)"
   ]
  },
  {
   "cell_type": "code",
   "execution_count": 16,
   "id": "e992705f",
   "metadata": {},
   "outputs": [
    {
     "data": {
      "text/plain": [
       "playerID\n",
       "altuvjo01    225\n",
       "cartech02    115\n",
       "castrja01    103\n",
       "corpoca01     40\n",
       "dominma01    121\n",
       "Name: H, dtype: int64"
      ]
     },
     "execution_count": 16,
     "metadata": {},
     "output_type": "execute_result"
    }
   ],
   "source": [
    "hits_14 = baseball_14['H']\n",
    "hits_15 = baseball_15['H']\n",
    "hits_16 = baseball_16['H']\n",
    "\n",
    "hits_14.head()"
   ]
  },
  {
   "cell_type": "code",
   "execution_count": 18,
   "id": "fb5c080c",
   "metadata": {},
   "outputs": [
    {
     "data": {
      "text/plain": [
       "playerID\n",
       "altuvjo01    200\n",
       "cartech02     78\n",
       "castrja01     71\n",
       "congeha01     46\n",
       "correca01    108\n",
       "Name: H, dtype: int64"
      ]
     },
     "execution_count": 18,
     "metadata": {},
     "output_type": "execute_result"
    }
   ],
   "source": [
    "hits_15.head()"
   ]
  },
  {
   "cell_type": "code",
   "execution_count": 17,
   "id": "8dab5381",
   "metadata": {},
   "outputs": [
    {
     "data": {
      "text/plain": [
       "playerID\n",
       "altuvjo01    425.0\n",
       "cartech02    193.0\n",
       "castrja01    174.0\n",
       "congeha01      NaN\n",
       "corpoca01      NaN\n",
       "Name: H, dtype: float64"
      ]
     },
     "execution_count": 17,
     "metadata": {},
     "output_type": "execute_result"
    }
   ],
   "source": [
    "(hits_14 + hits_15).head()"
   ]
  },
  {
   "cell_type": "code",
   "execution_count": 19,
   "id": "f93df088",
   "metadata": {},
   "outputs": [
    {
     "data": {
      "text/plain": [
       "playerID\n",
       "altuvjo01    425.0\n",
       "cartech02    193.0\n",
       "castrja01    174.0\n",
       "congeha01     46.0\n",
       "corpoca01     40.0\n",
       "Name: H, dtype: float64"
      ]
     },
     "execution_count": 19,
     "metadata": {},
     "output_type": "execute_result"
    }
   ],
   "source": [
    "# 使用add方法 和 参数 fill_value 避免产生缺失值\n",
    "hits_14.add(hits_15, fill_value=0).head()"
   ]
  },
  {
   "cell_type": "code",
   "execution_count": 20,
   "id": "a978ce06",
   "metadata": {},
   "outputs": [
    {
     "data": {
      "text/plain": [
       "playerID\n",
       "altuvjo01    641.0\n",
       "bregmal01     53.0\n",
       "cartech02    193.0\n",
       "castrja01    243.0\n",
       "congeha01     46.0\n",
       "Name: H, dtype: float64"
      ]
     },
     "execution_count": 20,
     "metadata": {},
     "output_type": "execute_result"
    }
   ],
   "source": [
    "hits_total = hits_14.add(hits_15, fill_value=0).add(hits_16, fill_value=0)\n",
    "hits_total.head()"
   ]
  },
  {
   "cell_type": "code",
   "execution_count": 21,
   "id": "b9955251",
   "metadata": {},
   "outputs": [
    {
     "data": {
      "text/plain": [
       "False"
      ]
     },
     "execution_count": 21,
     "metadata": {},
     "output_type": "execute_result"
    }
   ],
   "source": [
    "# 检查结果中是否有缺失值\n",
    "hits_total.hasnans"
   ]
  },
  {
   "cell_type": "code",
   "execution_count": 22,
   "id": "68c847e4",
   "metadata": {},
   "outputs": [
    {
     "data": {
      "text/plain": [
       "a     NaN\n",
       "b     9.0\n",
       "c    15.0\n",
       "d     6.0\n",
       "dtype: float64"
      ]
     },
     "execution_count": 22,
     "metadata": {},
     "output_type": "execute_result"
    }
   ],
   "source": [
    "# 如果一个元素在两个series都是缺失值，即便使用了fill_value，相加结果也仍是缺失值\n",
    "s = pd.Series(index=['a', 'b', 'c', 'd'], data=[np.nan, 3, np.nan, 1])\n",
    "s1 = pd.Series(index=['a', 'b', 'c'], data=[np.nan, 6, 10])\n",
    "s.add(s1, fill_value=5)"
   ]
  },
  {
   "cell_type": "code",
   "execution_count": 23,
   "id": "29497545",
   "metadata": {},
   "outputs": [
    {
     "data": {
      "text/plain": [
       "a     NaN\n",
       "b     9.0\n",
       "c    15.0\n",
       "d     6.0\n",
       "dtype: float64"
      ]
     },
     "execution_count": 23,
     "metadata": {},
     "output_type": "execute_result"
    }
   ],
   "source": [
    "s1.add(s, fill_value=5)"
   ]
  },
  {
   "cell_type": "code",
   "execution_count": 27,
   "id": "9dcf741f",
   "metadata": {},
   "outputs": [],
   "source": [
    "# 只要行或者列不能对齐，就会产生缺失值\n",
    "df_14 = baseball_14[['G','AB', 'R', 'H']]\n",
    "df_15 = baseball_15[['AB', 'R', 'H', 'HR']]"
   ]
  },
  {
   "cell_type": "code",
   "execution_count": 26,
   "id": "c2bef36b",
   "metadata": {},
   "outputs": [
    {
     "data": {
      "text/html": [
       "<div>\n",
       "<style scoped>\n",
       "    .dataframe tbody tr th:only-of-type {\n",
       "        vertical-align: middle;\n",
       "    }\n",
       "\n",
       "    .dataframe tbody tr th {\n",
       "        vertical-align: top;\n",
       "    }\n",
       "\n",
       "    .dataframe thead th {\n",
       "        text-align: right;\n",
       "    }\n",
       "</style>\n",
       "<table border=\"1\" class=\"dataframe\">\n",
       "  <thead>\n",
       "    <tr style=\"text-align: right;\">\n",
       "      <th></th>\n",
       "      <th>G</th>\n",
       "      <th>AB</th>\n",
       "      <th>R</th>\n",
       "      <th>H</th>\n",
       "    </tr>\n",
       "    <tr>\n",
       "      <th>playerID</th>\n",
       "      <th></th>\n",
       "      <th></th>\n",
       "      <th></th>\n",
       "      <th></th>\n",
       "    </tr>\n",
       "  </thead>\n",
       "  <tbody>\n",
       "    <tr>\n",
       "      <th>altuvjo01</th>\n",
       "      <td>158</td>\n",
       "      <td>660</td>\n",
       "      <td>85</td>\n",
       "      <td>225</td>\n",
       "    </tr>\n",
       "    <tr>\n",
       "      <th>cartech02</th>\n",
       "      <td>145</td>\n",
       "      <td>507</td>\n",
       "      <td>68</td>\n",
       "      <td>115</td>\n",
       "    </tr>\n",
       "    <tr>\n",
       "      <th>castrja01</th>\n",
       "      <td>126</td>\n",
       "      <td>465</td>\n",
       "      <td>43</td>\n",
       "      <td>103</td>\n",
       "    </tr>\n",
       "    <tr>\n",
       "      <th>corpoca01</th>\n",
       "      <td>55</td>\n",
       "      <td>170</td>\n",
       "      <td>22</td>\n",
       "      <td>40</td>\n",
       "    </tr>\n",
       "    <tr>\n",
       "      <th>dominma01</th>\n",
       "      <td>157</td>\n",
       "      <td>564</td>\n",
       "      <td>51</td>\n",
       "      <td>121</td>\n",
       "    </tr>\n",
       "  </tbody>\n",
       "</table>\n",
       "</div>"
      ],
      "text/plain": [
       "             G   AB   R    H\n",
       "playerID                    \n",
       "altuvjo01  158  660  85  225\n",
       "cartech02  145  507  68  115\n",
       "castrja01  126  465  43  103\n",
       "corpoca01   55  170  22   40\n",
       "dominma01  157  564  51  121"
      ]
     },
     "execution_count": 26,
     "metadata": {},
     "output_type": "execute_result"
    }
   ],
   "source": [
    "df_14.head()"
   ]
  },
  {
   "cell_type": "code",
   "execution_count": 25,
   "id": "e9b4e039",
   "metadata": {},
   "outputs": [
    {
     "data": {
      "text/html": [
       "<div>\n",
       "<style scoped>\n",
       "    .dataframe tbody tr th:only-of-type {\n",
       "        vertical-align: middle;\n",
       "    }\n",
       "\n",
       "    .dataframe tbody tr th {\n",
       "        vertical-align: top;\n",
       "    }\n",
       "\n",
       "    .dataframe thead th {\n",
       "        text-align: right;\n",
       "    }\n",
       "</style>\n",
       "<table border=\"1\" class=\"dataframe\">\n",
       "  <thead>\n",
       "    <tr style=\"text-align: right;\">\n",
       "      <th></th>\n",
       "      <th>AB</th>\n",
       "      <th>R</th>\n",
       "      <th>H</th>\n",
       "      <th>HR</th>\n",
       "    </tr>\n",
       "    <tr>\n",
       "      <th>playerID</th>\n",
       "      <th></th>\n",
       "      <th></th>\n",
       "      <th></th>\n",
       "      <th></th>\n",
       "    </tr>\n",
       "  </thead>\n",
       "  <tbody>\n",
       "    <tr>\n",
       "      <th>altuvjo01</th>\n",
       "      <td>638</td>\n",
       "      <td>86</td>\n",
       "      <td>200</td>\n",
       "      <td>15</td>\n",
       "    </tr>\n",
       "    <tr>\n",
       "      <th>cartech02</th>\n",
       "      <td>391</td>\n",
       "      <td>50</td>\n",
       "      <td>78</td>\n",
       "      <td>24</td>\n",
       "    </tr>\n",
       "    <tr>\n",
       "      <th>castrja01</th>\n",
       "      <td>337</td>\n",
       "      <td>38</td>\n",
       "      <td>71</td>\n",
       "      <td>11</td>\n",
       "    </tr>\n",
       "    <tr>\n",
       "      <th>congeha01</th>\n",
       "      <td>201</td>\n",
       "      <td>25</td>\n",
       "      <td>46</td>\n",
       "      <td>11</td>\n",
       "    </tr>\n",
       "    <tr>\n",
       "      <th>correca01</th>\n",
       "      <td>387</td>\n",
       "      <td>52</td>\n",
       "      <td>108</td>\n",
       "      <td>22</td>\n",
       "    </tr>\n",
       "  </tbody>\n",
       "</table>\n",
       "</div>"
      ],
      "text/plain": [
       "            AB   R    H  HR\n",
       "playerID                   \n",
       "altuvjo01  638  86  200  15\n",
       "cartech02  391  50   78  24\n",
       "castrja01  337  38   71  11\n",
       "congeha01  201  25   46  11\n",
       "correca01  387  52  108  22"
      ]
     },
     "execution_count": 25,
     "metadata": {},
     "output_type": "execute_result"
    }
   ],
   "source": [
    "df_15.head()"
   ]
  },
  {
   "cell_type": "code",
   "execution_count": 28,
   "id": "1e98fc8d",
   "metadata": {},
   "outputs": [
    {
     "data": {
      "text/html": [
       "<style type=\"text/css\">\n",
       "#T_8d17a_row0_col1, #T_8d17a_row0_col3, #T_8d17a_row1_col1, #T_8d17a_row1_col3, #T_8d17a_row2_col1, #T_8d17a_row2_col3, #T_8d17a_row3_col0, #T_8d17a_row3_col1, #T_8d17a_row3_col2, #T_8d17a_row3_col3, #T_8d17a_row3_col4, #T_8d17a_row4_col0, #T_8d17a_row4_col1, #T_8d17a_row4_col2, #T_8d17a_row4_col3, #T_8d17a_row4_col4, #T_8d17a_row5_col0, #T_8d17a_row5_col1, #T_8d17a_row5_col2, #T_8d17a_row5_col3, #T_8d17a_row5_col4, #T_8d17a_row6_col0, #T_8d17a_row6_col1, #T_8d17a_row6_col2, #T_8d17a_row6_col3, #T_8d17a_row6_col4, #T_8d17a_row7_col0, #T_8d17a_row7_col1, #T_8d17a_row7_col2, #T_8d17a_row7_col3, #T_8d17a_row7_col4, #T_8d17a_row8_col0, #T_8d17a_row8_col1, #T_8d17a_row8_col2, #T_8d17a_row8_col3, #T_8d17a_row8_col4, #T_8d17a_row9_col0, #T_8d17a_row9_col1, #T_8d17a_row9_col2, #T_8d17a_row9_col3, #T_8d17a_row9_col4 {\n",
       "  background-color: yellow;\n",
       "}\n",
       "</style>\n",
       "<table id=\"T_8d17a\">\n",
       "  <thead>\n",
       "    <tr>\n",
       "      <th class=\"blank level0\" >&nbsp;</th>\n",
       "      <th id=\"T_8d17a_level0_col0\" class=\"col_heading level0 col0\" >AB</th>\n",
       "      <th id=\"T_8d17a_level0_col1\" class=\"col_heading level0 col1\" >G</th>\n",
       "      <th id=\"T_8d17a_level0_col2\" class=\"col_heading level0 col2\" >H</th>\n",
       "      <th id=\"T_8d17a_level0_col3\" class=\"col_heading level0 col3\" >HR</th>\n",
       "      <th id=\"T_8d17a_level0_col4\" class=\"col_heading level0 col4\" >R</th>\n",
       "    </tr>\n",
       "    <tr>\n",
       "      <th class=\"index_name level0\" >playerID</th>\n",
       "      <th class=\"blank col0\" >&nbsp;</th>\n",
       "      <th class=\"blank col1\" >&nbsp;</th>\n",
       "      <th class=\"blank col2\" >&nbsp;</th>\n",
       "      <th class=\"blank col3\" >&nbsp;</th>\n",
       "      <th class=\"blank col4\" >&nbsp;</th>\n",
       "    </tr>\n",
       "  </thead>\n",
       "  <tbody>\n",
       "    <tr>\n",
       "      <th id=\"T_8d17a_level0_row0\" class=\"row_heading level0 row0\" >altuvjo01</th>\n",
       "      <td id=\"T_8d17a_row0_col0\" class=\"data row0 col0\" >1298.000000</td>\n",
       "      <td id=\"T_8d17a_row0_col1\" class=\"data row0 col1\" >nan</td>\n",
       "      <td id=\"T_8d17a_row0_col2\" class=\"data row0 col2\" >425.000000</td>\n",
       "      <td id=\"T_8d17a_row0_col3\" class=\"data row0 col3\" >nan</td>\n",
       "      <td id=\"T_8d17a_row0_col4\" class=\"data row0 col4\" >171.000000</td>\n",
       "    </tr>\n",
       "    <tr>\n",
       "      <th id=\"T_8d17a_level0_row1\" class=\"row_heading level0 row1\" >cartech02</th>\n",
       "      <td id=\"T_8d17a_row1_col0\" class=\"data row1 col0\" >898.000000</td>\n",
       "      <td id=\"T_8d17a_row1_col1\" class=\"data row1 col1\" >nan</td>\n",
       "      <td id=\"T_8d17a_row1_col2\" class=\"data row1 col2\" >193.000000</td>\n",
       "      <td id=\"T_8d17a_row1_col3\" class=\"data row1 col3\" >nan</td>\n",
       "      <td id=\"T_8d17a_row1_col4\" class=\"data row1 col4\" >118.000000</td>\n",
       "    </tr>\n",
       "    <tr>\n",
       "      <th id=\"T_8d17a_level0_row2\" class=\"row_heading level0 row2\" >castrja01</th>\n",
       "      <td id=\"T_8d17a_row2_col0\" class=\"data row2 col0\" >802.000000</td>\n",
       "      <td id=\"T_8d17a_row2_col1\" class=\"data row2 col1\" >nan</td>\n",
       "      <td id=\"T_8d17a_row2_col2\" class=\"data row2 col2\" >174.000000</td>\n",
       "      <td id=\"T_8d17a_row2_col3\" class=\"data row2 col3\" >nan</td>\n",
       "      <td id=\"T_8d17a_row2_col4\" class=\"data row2 col4\" >81.000000</td>\n",
       "    </tr>\n",
       "    <tr>\n",
       "      <th id=\"T_8d17a_level0_row3\" class=\"row_heading level0 row3\" >congeha01</th>\n",
       "      <td id=\"T_8d17a_row3_col0\" class=\"data row3 col0\" >nan</td>\n",
       "      <td id=\"T_8d17a_row3_col1\" class=\"data row3 col1\" >nan</td>\n",
       "      <td id=\"T_8d17a_row3_col2\" class=\"data row3 col2\" >nan</td>\n",
       "      <td id=\"T_8d17a_row3_col3\" class=\"data row3 col3\" >nan</td>\n",
       "      <td id=\"T_8d17a_row3_col4\" class=\"data row3 col4\" >nan</td>\n",
       "    </tr>\n",
       "    <tr>\n",
       "      <th id=\"T_8d17a_level0_row4\" class=\"row_heading level0 row4\" >corpoca01</th>\n",
       "      <td id=\"T_8d17a_row4_col0\" class=\"data row4 col0\" >nan</td>\n",
       "      <td id=\"T_8d17a_row4_col1\" class=\"data row4 col1\" >nan</td>\n",
       "      <td id=\"T_8d17a_row4_col2\" class=\"data row4 col2\" >nan</td>\n",
       "      <td id=\"T_8d17a_row4_col3\" class=\"data row4 col3\" >nan</td>\n",
       "      <td id=\"T_8d17a_row4_col4\" class=\"data row4 col4\" >nan</td>\n",
       "    </tr>\n",
       "    <tr>\n",
       "      <th id=\"T_8d17a_level0_row5\" class=\"row_heading level0 row5\" >correca01</th>\n",
       "      <td id=\"T_8d17a_row5_col0\" class=\"data row5 col0\" >nan</td>\n",
       "      <td id=\"T_8d17a_row5_col1\" class=\"data row5 col1\" >nan</td>\n",
       "      <td id=\"T_8d17a_row5_col2\" class=\"data row5 col2\" >nan</td>\n",
       "      <td id=\"T_8d17a_row5_col3\" class=\"data row5 col3\" >nan</td>\n",
       "      <td id=\"T_8d17a_row5_col4\" class=\"data row5 col4\" >nan</td>\n",
       "    </tr>\n",
       "    <tr>\n",
       "      <th id=\"T_8d17a_level0_row6\" class=\"row_heading level0 row6\" >dominma01</th>\n",
       "      <td id=\"T_8d17a_row6_col0\" class=\"data row6 col0\" >nan</td>\n",
       "      <td id=\"T_8d17a_row6_col1\" class=\"data row6 col1\" >nan</td>\n",
       "      <td id=\"T_8d17a_row6_col2\" class=\"data row6 col2\" >nan</td>\n",
       "      <td id=\"T_8d17a_row6_col3\" class=\"data row6 col3\" >nan</td>\n",
       "      <td id=\"T_8d17a_row6_col4\" class=\"data row6 col4\" >nan</td>\n",
       "    </tr>\n",
       "    <tr>\n",
       "      <th id=\"T_8d17a_level0_row7\" class=\"row_heading level0 row7\" >fowlede01</th>\n",
       "      <td id=\"T_8d17a_row7_col0\" class=\"data row7 col0\" >nan</td>\n",
       "      <td id=\"T_8d17a_row7_col1\" class=\"data row7 col1\" >nan</td>\n",
       "      <td id=\"T_8d17a_row7_col2\" class=\"data row7 col2\" >nan</td>\n",
       "      <td id=\"T_8d17a_row7_col3\" class=\"data row7 col3\" >nan</td>\n",
       "      <td id=\"T_8d17a_row7_col4\" class=\"data row7 col4\" >nan</td>\n",
       "    </tr>\n",
       "    <tr>\n",
       "      <th id=\"T_8d17a_level0_row8\" class=\"row_heading level0 row8\" >gattiev01</th>\n",
       "      <td id=\"T_8d17a_row8_col0\" class=\"data row8 col0\" >nan</td>\n",
       "      <td id=\"T_8d17a_row8_col1\" class=\"data row8 col1\" >nan</td>\n",
       "      <td id=\"T_8d17a_row8_col2\" class=\"data row8 col2\" >nan</td>\n",
       "      <td id=\"T_8d17a_row8_col3\" class=\"data row8 col3\" >nan</td>\n",
       "      <td id=\"T_8d17a_row8_col4\" class=\"data row8 col4\" >nan</td>\n",
       "    </tr>\n",
       "    <tr>\n",
       "      <th id=\"T_8d17a_level0_row9\" class=\"row_heading level0 row9\" >gomezca01</th>\n",
       "      <td id=\"T_8d17a_row9_col0\" class=\"data row9 col0\" >nan</td>\n",
       "      <td id=\"T_8d17a_row9_col1\" class=\"data row9 col1\" >nan</td>\n",
       "      <td id=\"T_8d17a_row9_col2\" class=\"data row9 col2\" >nan</td>\n",
       "      <td id=\"T_8d17a_row9_col3\" class=\"data row9 col3\" >nan</td>\n",
       "      <td id=\"T_8d17a_row9_col4\" class=\"data row9 col4\" >nan</td>\n",
       "    </tr>\n",
       "  </tbody>\n",
       "</table>\n"
      ],
      "text/plain": [
       "<pandas.io.formats.style.Styler at 0x1a90a0ad280>"
      ]
     },
     "execution_count": 28,
     "metadata": {},
     "output_type": "execute_result"
    }
   ],
   "source": [
    "(df_14 + df_15).head(10).style.highlight_null('yellow')"
   ]
  },
  {
   "cell_type": "code",
   "execution_count": 29,
   "id": "ae2dcbf0",
   "metadata": {},
   "outputs": [
    {
     "data": {
      "text/html": [
       "<style type=\"text/css\">\n",
       "#T_01a4e_row3_col1, #T_01a4e_row4_col3, #T_01a4e_row5_col1, #T_01a4e_row6_col3, #T_01a4e_row7_col3, #T_01a4e_row8_col1, #T_01a4e_row9_col1 {\n",
       "  background-color: yellow;\n",
       "}\n",
       "</style>\n",
       "<table id=\"T_01a4e\">\n",
       "  <thead>\n",
       "    <tr>\n",
       "      <th class=\"blank level0\" >&nbsp;</th>\n",
       "      <th id=\"T_01a4e_level0_col0\" class=\"col_heading level0 col0\" >AB</th>\n",
       "      <th id=\"T_01a4e_level0_col1\" class=\"col_heading level0 col1\" >G</th>\n",
       "      <th id=\"T_01a4e_level0_col2\" class=\"col_heading level0 col2\" >H</th>\n",
       "      <th id=\"T_01a4e_level0_col3\" class=\"col_heading level0 col3\" >HR</th>\n",
       "      <th id=\"T_01a4e_level0_col4\" class=\"col_heading level0 col4\" >R</th>\n",
       "    </tr>\n",
       "    <tr>\n",
       "      <th class=\"index_name level0\" >playerID</th>\n",
       "      <th class=\"blank col0\" >&nbsp;</th>\n",
       "      <th class=\"blank col1\" >&nbsp;</th>\n",
       "      <th class=\"blank col2\" >&nbsp;</th>\n",
       "      <th class=\"blank col3\" >&nbsp;</th>\n",
       "      <th class=\"blank col4\" >&nbsp;</th>\n",
       "    </tr>\n",
       "  </thead>\n",
       "  <tbody>\n",
       "    <tr>\n",
       "      <th id=\"T_01a4e_level0_row0\" class=\"row_heading level0 row0\" >altuvjo01</th>\n",
       "      <td id=\"T_01a4e_row0_col0\" class=\"data row0 col0\" >1298.000000</td>\n",
       "      <td id=\"T_01a4e_row0_col1\" class=\"data row0 col1\" >158.000000</td>\n",
       "      <td id=\"T_01a4e_row0_col2\" class=\"data row0 col2\" >425.000000</td>\n",
       "      <td id=\"T_01a4e_row0_col3\" class=\"data row0 col3\" >15.000000</td>\n",
       "      <td id=\"T_01a4e_row0_col4\" class=\"data row0 col4\" >171.000000</td>\n",
       "    </tr>\n",
       "    <tr>\n",
       "      <th id=\"T_01a4e_level0_row1\" class=\"row_heading level0 row1\" >cartech02</th>\n",
       "      <td id=\"T_01a4e_row1_col0\" class=\"data row1 col0\" >898.000000</td>\n",
       "      <td id=\"T_01a4e_row1_col1\" class=\"data row1 col1\" >145.000000</td>\n",
       "      <td id=\"T_01a4e_row1_col2\" class=\"data row1 col2\" >193.000000</td>\n",
       "      <td id=\"T_01a4e_row1_col3\" class=\"data row1 col3\" >24.000000</td>\n",
       "      <td id=\"T_01a4e_row1_col4\" class=\"data row1 col4\" >118.000000</td>\n",
       "    </tr>\n",
       "    <tr>\n",
       "      <th id=\"T_01a4e_level0_row2\" class=\"row_heading level0 row2\" >castrja01</th>\n",
       "      <td id=\"T_01a4e_row2_col0\" class=\"data row2 col0\" >802.000000</td>\n",
       "      <td id=\"T_01a4e_row2_col1\" class=\"data row2 col1\" >126.000000</td>\n",
       "      <td id=\"T_01a4e_row2_col2\" class=\"data row2 col2\" >174.000000</td>\n",
       "      <td id=\"T_01a4e_row2_col3\" class=\"data row2 col3\" >11.000000</td>\n",
       "      <td id=\"T_01a4e_row2_col4\" class=\"data row2 col4\" >81.000000</td>\n",
       "    </tr>\n",
       "    <tr>\n",
       "      <th id=\"T_01a4e_level0_row3\" class=\"row_heading level0 row3\" >congeha01</th>\n",
       "      <td id=\"T_01a4e_row3_col0\" class=\"data row3 col0\" >201.000000</td>\n",
       "      <td id=\"T_01a4e_row3_col1\" class=\"data row3 col1\" >nan</td>\n",
       "      <td id=\"T_01a4e_row3_col2\" class=\"data row3 col2\" >46.000000</td>\n",
       "      <td id=\"T_01a4e_row3_col3\" class=\"data row3 col3\" >11.000000</td>\n",
       "      <td id=\"T_01a4e_row3_col4\" class=\"data row3 col4\" >25.000000</td>\n",
       "    </tr>\n",
       "    <tr>\n",
       "      <th id=\"T_01a4e_level0_row4\" class=\"row_heading level0 row4\" >corpoca01</th>\n",
       "      <td id=\"T_01a4e_row4_col0\" class=\"data row4 col0\" >170.000000</td>\n",
       "      <td id=\"T_01a4e_row4_col1\" class=\"data row4 col1\" >55.000000</td>\n",
       "      <td id=\"T_01a4e_row4_col2\" class=\"data row4 col2\" >40.000000</td>\n",
       "      <td id=\"T_01a4e_row4_col3\" class=\"data row4 col3\" >nan</td>\n",
       "      <td id=\"T_01a4e_row4_col4\" class=\"data row4 col4\" >22.000000</td>\n",
       "    </tr>\n",
       "    <tr>\n",
       "      <th id=\"T_01a4e_level0_row5\" class=\"row_heading level0 row5\" >correca01</th>\n",
       "      <td id=\"T_01a4e_row5_col0\" class=\"data row5 col0\" >387.000000</td>\n",
       "      <td id=\"T_01a4e_row5_col1\" class=\"data row5 col1\" >nan</td>\n",
       "      <td id=\"T_01a4e_row5_col2\" class=\"data row5 col2\" >108.000000</td>\n",
       "      <td id=\"T_01a4e_row5_col3\" class=\"data row5 col3\" >22.000000</td>\n",
       "      <td id=\"T_01a4e_row5_col4\" class=\"data row5 col4\" >52.000000</td>\n",
       "    </tr>\n",
       "    <tr>\n",
       "      <th id=\"T_01a4e_level0_row6\" class=\"row_heading level0 row6\" >dominma01</th>\n",
       "      <td id=\"T_01a4e_row6_col0\" class=\"data row6 col0\" >564.000000</td>\n",
       "      <td id=\"T_01a4e_row6_col1\" class=\"data row6 col1\" >157.000000</td>\n",
       "      <td id=\"T_01a4e_row6_col2\" class=\"data row6 col2\" >121.000000</td>\n",
       "      <td id=\"T_01a4e_row6_col3\" class=\"data row6 col3\" >nan</td>\n",
       "      <td id=\"T_01a4e_row6_col4\" class=\"data row6 col4\" >51.000000</td>\n",
       "    </tr>\n",
       "    <tr>\n",
       "      <th id=\"T_01a4e_level0_row7\" class=\"row_heading level0 row7\" >fowlede01</th>\n",
       "      <td id=\"T_01a4e_row7_col0\" class=\"data row7 col0\" >434.000000</td>\n",
       "      <td id=\"T_01a4e_row7_col1\" class=\"data row7 col1\" >116.000000</td>\n",
       "      <td id=\"T_01a4e_row7_col2\" class=\"data row7 col2\" >120.000000</td>\n",
       "      <td id=\"T_01a4e_row7_col3\" class=\"data row7 col3\" >nan</td>\n",
       "      <td id=\"T_01a4e_row7_col4\" class=\"data row7 col4\" >61.000000</td>\n",
       "    </tr>\n",
       "    <tr>\n",
       "      <th id=\"T_01a4e_level0_row8\" class=\"row_heading level0 row8\" >gattiev01</th>\n",
       "      <td id=\"T_01a4e_row8_col0\" class=\"data row8 col0\" >566.000000</td>\n",
       "      <td id=\"T_01a4e_row8_col1\" class=\"data row8 col1\" >nan</td>\n",
       "      <td id=\"T_01a4e_row8_col2\" class=\"data row8 col2\" >139.000000</td>\n",
       "      <td id=\"T_01a4e_row8_col3\" class=\"data row8 col3\" >27.000000</td>\n",
       "      <td id=\"T_01a4e_row8_col4\" class=\"data row8 col4\" >66.000000</td>\n",
       "    </tr>\n",
       "    <tr>\n",
       "      <th id=\"T_01a4e_level0_row9\" class=\"row_heading level0 row9\" >gomezca01</th>\n",
       "      <td id=\"T_01a4e_row9_col0\" class=\"data row9 col0\" >149.000000</td>\n",
       "      <td id=\"T_01a4e_row9_col1\" class=\"data row9 col1\" >nan</td>\n",
       "      <td id=\"T_01a4e_row9_col2\" class=\"data row9 col2\" >36.000000</td>\n",
       "      <td id=\"T_01a4e_row9_col3\" class=\"data row9 col3\" >4.000000</td>\n",
       "      <td id=\"T_01a4e_row9_col4\" class=\"data row9 col4\" >19.000000</td>\n",
       "    </tr>\n",
       "  </tbody>\n",
       "</table>\n"
      ],
      "text/plain": [
       "<pandas.io.formats.style.Styler at 0x1a90a273a40>"
      ]
     },
     "execution_count": 29,
     "metadata": {},
     "output_type": "execute_result"
    }
   ],
   "source": [
    "# 即便使用了fill_value=0,有些值也会是缺失值，这是因为一些行和列的组合根本不存在输入的数据中\n",
    "df_14.add(df_15, fill_value=0).head(10).style.highlight_null('yellow')"
   ]
  },
  {
   "cell_type": "markdown",
   "id": "2ac8f00b",
   "metadata": {},
   "source": [
    "## 从不同的dataframe追加列"
   ]
  },
  {
   "cell_type": "code",
   "execution_count": 30,
   "id": "82a9aa58",
   "metadata": {},
   "outputs": [
    {
     "data": {
      "text/html": [
       "<div>\n",
       "<style scoped>\n",
       "    .dataframe tbody tr th:only-of-type {\n",
       "        vertical-align: middle;\n",
       "    }\n",
       "\n",
       "    .dataframe tbody tr th {\n",
       "        vertical-align: top;\n",
       "    }\n",
       "\n",
       "    .dataframe thead th {\n",
       "        text-align: right;\n",
       "    }\n",
       "</style>\n",
       "<table border=\"1\" class=\"dataframe\">\n",
       "  <thead>\n",
       "    <tr style=\"text-align: right;\">\n",
       "      <th></th>\n",
       "      <th>dept</th>\n",
       "      <th>salary</th>\n",
       "    </tr>\n",
       "  </thead>\n",
       "  <tbody>\n",
       "    <tr>\n",
       "      <th>1732</th>\n",
       "      <td>Fire</td>\n",
       "      <td>342784.0</td>\n",
       "    </tr>\n",
       "    <tr>\n",
       "      <th>8405</th>\n",
       "      <td>Health &amp; Human Services</td>\n",
       "      <td>186685.0</td>\n",
       "    </tr>\n",
       "    <tr>\n",
       "      <th>3897</th>\n",
       "      <td>Houston Airport System</td>\n",
       "      <td>275000.0</td>\n",
       "    </tr>\n",
       "    <tr>\n",
       "      <th>10704</th>\n",
       "      <td>Houston Public Works</td>\n",
       "      <td>275000.0</td>\n",
       "    </tr>\n",
       "    <tr>\n",
       "      <th>7564</th>\n",
       "      <td>Library</td>\n",
       "      <td>170000.0</td>\n",
       "    </tr>\n",
       "  </tbody>\n",
       "</table>\n",
       "</div>"
      ],
      "text/plain": [
       "                          dept    salary\n",
       "1732                      Fire  342784.0\n",
       "8405   Health & Human Services  186685.0\n",
       "3897    Houston Airport System  275000.0\n",
       "10704     Houston Public Works  275000.0\n",
       "7564                   Library  170000.0"
      ]
     },
     "execution_count": 30,
     "metadata": {},
     "output_type": "execute_result"
    }
   ],
   "source": [
    "# 保留每个部门的第一行（即薪资最高的员工）\n",
    "employee = pd.read_csv('employee.csv')\n",
    "dept_sal = employee[['dept', 'salary']]\n",
    "dept_sal = dept_sal.sort_values(['dept', 'salary'], ascending=[True, False])\n",
    "max_dept_sal = dept_sal.drop_duplicates(subset='dept')  # drop_duplicates() - 用于删除重复行  subset='dept' - 指定只考虑 'dept' 列来判断重复\n",
    "max_dept_sal.head()"
   ]
  },
  {
   "cell_type": "code",
   "execution_count": 31,
   "id": "2eabbd04",
   "metadata": {},
   "outputs": [],
   "source": [
    "# 行索引相同，向employee的DataFrame新增一列（如果行索引不同，不能直接使用这种方式新增列）\n",
    "max_dept_sal = max_dept_sal.set_index('dept')\n",
    "employee = employee.set_index('dept')\n",
    "employee['MAX_DEPT_SALARY'.lower()] =max_dept_sal['salary']"
   ]
  },
  {
   "cell_type": "code",
   "execution_count": 32,
   "id": "25a601c9",
   "metadata": {},
   "outputs": [],
   "source": [
    "pd.options.display.max_columns = 6"
   ]
  },
  {
   "cell_type": "code",
   "execution_count": 34,
   "id": "b61db036",
   "metadata": {},
   "outputs": [
    {
     "data": {
      "text/html": [
       "<div>\n",
       "<style scoped>\n",
       "    .dataframe tbody tr th:only-of-type {\n",
       "        vertical-align: middle;\n",
       "    }\n",
       "\n",
       "    .dataframe tbody tr th {\n",
       "        vertical-align: top;\n",
       "    }\n",
       "\n",
       "    .dataframe thead th {\n",
       "        text-align: right;\n",
       "    }\n",
       "</style>\n",
       "<table border=\"1\" class=\"dataframe\">\n",
       "  <thead>\n",
       "    <tr style=\"text-align: right;\">\n",
       "      <th></th>\n",
       "      <th>title</th>\n",
       "      <th>hire_date</th>\n",
       "      <th>salary</th>\n",
       "      <th>sex</th>\n",
       "      <th>race</th>\n",
       "      <th>max_dept_salary</th>\n",
       "    </tr>\n",
       "    <tr>\n",
       "      <th>dept</th>\n",
       "      <th></th>\n",
       "      <th></th>\n",
       "      <th></th>\n",
       "      <th></th>\n",
       "      <th></th>\n",
       "      <th></th>\n",
       "    </tr>\n",
       "  </thead>\n",
       "  <tbody>\n",
       "    <tr>\n",
       "      <th>Police</th>\n",
       "      <td>POLICE SERGEANT</td>\n",
       "      <td>2001-12-03</td>\n",
       "      <td>87545.38</td>\n",
       "      <td>Male</td>\n",
       "      <td>White</td>\n",
       "      <td>280000.0</td>\n",
       "    </tr>\n",
       "    <tr>\n",
       "      <th>Other</th>\n",
       "      <td>ASSISTANT CITY ATTORNEY II</td>\n",
       "      <td>2010-11-15</td>\n",
       "      <td>82182.00</td>\n",
       "      <td>Male</td>\n",
       "      <td>Hispanic</td>\n",
       "      <td>275000.0</td>\n",
       "    </tr>\n",
       "    <tr>\n",
       "      <th>Houston Public Works</th>\n",
       "      <td>SENIOR SLUDGE PROCESSOR</td>\n",
       "      <td>2006-01-09</td>\n",
       "      <td>49275.00</td>\n",
       "      <td>Male</td>\n",
       "      <td>Black</td>\n",
       "      <td>275000.0</td>\n",
       "    </tr>\n",
       "    <tr>\n",
       "      <th>Police</th>\n",
       "      <td>SENIOR POLICE OFFICER</td>\n",
       "      <td>1997-05-27</td>\n",
       "      <td>75942.10</td>\n",
       "      <td>Male</td>\n",
       "      <td>Hispanic</td>\n",
       "      <td>280000.0</td>\n",
       "    </tr>\n",
       "    <tr>\n",
       "      <th>Police</th>\n",
       "      <td>SENIOR POLICE OFFICER</td>\n",
       "      <td>2006-01-23</td>\n",
       "      <td>69355.26</td>\n",
       "      <td>Male</td>\n",
       "      <td>White</td>\n",
       "      <td>280000.0</td>\n",
       "    </tr>\n",
       "  </tbody>\n",
       "</table>\n",
       "</div>"
      ],
      "text/plain": [
       "                                           title   hire_date    salary   sex  \\\n",
       "dept                                                                           \n",
       "Police                           POLICE SERGEANT  2001-12-03  87545.38  Male   \n",
       "Other                 ASSISTANT CITY ATTORNEY II  2010-11-15  82182.00  Male   \n",
       "Houston Public Works     SENIOR SLUDGE PROCESSOR  2006-01-09  49275.00  Male   \n",
       "Police                     SENIOR POLICE OFFICER  1997-05-27  75942.10  Male   \n",
       "Police                     SENIOR POLICE OFFICER  2006-01-23  69355.26  Male   \n",
       "\n",
       "                          race  max_dept_salary  \n",
       "dept                                             \n",
       "Police                   White         280000.0  \n",
       "Other                 Hispanic         275000.0  \n",
       "Houston Public Works     Black         275000.0  \n",
       "Police                Hispanic         280000.0  \n",
       "Police                   White         280000.0  "
      ]
     },
     "execution_count": 34,
     "metadata": {},
     "output_type": "execute_result"
    }
   ],
   "source": [
    "employee.head()"
   ]
  },
  {
   "cell_type": "code",
   "execution_count": 35,
   "id": "01cf0902",
   "metadata": {},
   "outputs": [
    {
     "data": {
      "text/html": [
       "<div>\n",
       "<style scoped>\n",
       "    .dataframe tbody tr th:only-of-type {\n",
       "        vertical-align: middle;\n",
       "    }\n",
       "\n",
       "    .dataframe tbody tr th {\n",
       "        vertical-align: top;\n",
       "    }\n",
       "\n",
       "    .dataframe thead th {\n",
       "        text-align: right;\n",
       "    }\n",
       "</style>\n",
       "<table border=\"1\" class=\"dataframe\">\n",
       "  <thead>\n",
       "    <tr style=\"text-align: right;\">\n",
       "      <th></th>\n",
       "      <th>title</th>\n",
       "      <th>hire_date</th>\n",
       "      <th>salary</th>\n",
       "      <th>sex</th>\n",
       "      <th>race</th>\n",
       "      <th>max_dept_salary</th>\n",
       "    </tr>\n",
       "    <tr>\n",
       "      <th>dept</th>\n",
       "      <th></th>\n",
       "      <th></th>\n",
       "      <th></th>\n",
       "      <th></th>\n",
       "      <th></th>\n",
       "      <th></th>\n",
       "    </tr>\n",
       "  </thead>\n",
       "  <tbody>\n",
       "  </tbody>\n",
       "</table>\n",
       "</div>"
      ],
      "text/plain": [
       "Empty DataFrame\n",
       "Columns: [title, hire_date, salary, sex, race, max_dept_salary]\n",
       "Index: []"
      ]
     },
     "execution_count": 35,
     "metadata": {},
     "output_type": "execute_result"
    }
   ],
   "source": [
    "employee.query('salary > max_dept_salary')"
   ]
  },
  {
   "cell_type": "code",
   "execution_count": 39,
   "id": "f71daddc",
   "metadata": {},
   "outputs": [
    {
     "data": {
      "text/html": [
       "<div>\n",
       "<style scoped>\n",
       "    .dataframe tbody tr th:only-of-type {\n",
       "        vertical-align: middle;\n",
       "    }\n",
       "\n",
       "    .dataframe tbody tr th {\n",
       "        vertical-align: top;\n",
       "    }\n",
       "\n",
       "    .dataframe thead th {\n",
       "        text-align: right;\n",
       "    }\n",
       "</style>\n",
       "<table border=\"1\" class=\"dataframe\">\n",
       "  <thead>\n",
       "    <tr style=\"text-align: right;\">\n",
       "      <th></th>\n",
       "      <th>salary</th>\n",
       "    </tr>\n",
       "    <tr>\n",
       "      <th>dept</th>\n",
       "      <th></th>\n",
       "    </tr>\n",
       "  </thead>\n",
       "  <tbody>\n",
       "    <tr>\n",
       "      <th>Fire</th>\n",
       "      <td>51194.00</td>\n",
       "    </tr>\n",
       "    <tr>\n",
       "      <th>Health &amp; Human Services</th>\n",
       "      <td>44283.00</td>\n",
       "    </tr>\n",
       "    <tr>\n",
       "      <th>Other</th>\n",
       "      <td>37398.00</td>\n",
       "    </tr>\n",
       "    <tr>\n",
       "      <th>Solid Waste Management</th>\n",
       "      <td>39874.00</td>\n",
       "    </tr>\n",
       "    <tr>\n",
       "      <th>Police</th>\n",
       "      <td>98117.24</td>\n",
       "    </tr>\n",
       "    <tr>\n",
       "      <th>Parks &amp; Recreation</th>\n",
       "      <td>40685.00</td>\n",
       "    </tr>\n",
       "    <tr>\n",
       "      <th>Solid Waste Management</th>\n",
       "      <td>32760.00</td>\n",
       "    </tr>\n",
       "    <tr>\n",
       "      <th>Other</th>\n",
       "      <td>59999.94</td>\n",
       "    </tr>\n",
       "    <tr>\n",
       "      <th>Fire</th>\n",
       "      <td>66522.56</td>\n",
       "    </tr>\n",
       "    <tr>\n",
       "      <th>Fire</th>\n",
       "      <td>40170.26</td>\n",
       "    </tr>\n",
       "  </tbody>\n",
       "</table>\n",
       "</div>"
      ],
      "text/plain": [
       "                           salary\n",
       "dept                             \n",
       "Fire                     51194.00\n",
       "Health & Human Services  44283.00\n",
       "Other                    37398.00\n",
       "Solid Waste Management   39874.00\n",
       "Police                   98117.24\n",
       "Parks & Recreation       40685.00\n",
       "Solid Waste Management   32760.00\n",
       "Other                    59999.94\n",
       "Fire                     66522.56\n",
       "Fire                     40170.26"
      ]
     },
     "execution_count": 39,
     "metadata": {},
     "output_type": "execute_result"
    }
   ],
   "source": [
    "# 用random从dept_sal随机取10行，不做替换 \n",
    "np.random.seed(1234)  # 1234 是一个随机种子值，它本身没有特殊含义，只是一个任意选择的整数\n",
    "random_salary = dept_sal.sample(n=10).set_index('dept')  # .sample(n=10)默认采用不放回抽样（即每条记录最多被抽中一次）\n",
    "random_salary"
   ]
  },
  {
   "cell_type": "code",
   "execution_count": 40,
   "id": "9e63c2fe",
   "metadata": {},
   "outputs": [
    {
     "ename": "ValueError",
     "evalue": "cannot reindex on an axis with duplicate labels",
     "output_type": "error",
     "traceback": [
      "\u001b[1;31m---------------------------------------------------------------------------\u001b[0m",
      "\u001b[1;31mValueError\u001b[0m                                Traceback (most recent call last)",
      "Cell \u001b[1;32mIn[40], line 2\u001b[0m\n\u001b[0;32m      1\u001b[0m \u001b[38;5;66;03m# random_salary中是有重复索引的，employee DataFrame的标签要对应random_salary中的多个标签\u001b[39;00m\n\u001b[1;32m----> 2\u001b[0m \u001b[43memployee\u001b[49m\u001b[43m[\u001b[49m\u001b[38;5;124;43m'\u001b[39;49m\u001b[38;5;124;43mRANDOM_SALARY\u001b[39;49m\u001b[38;5;124;43m'\u001b[39;49m\u001b[38;5;241;43m.\u001b[39;49m\u001b[43mlower\u001b[49m\u001b[43m(\u001b[49m\u001b[43m)\u001b[49m\u001b[43m]\u001b[49m \u001b[38;5;241m=\u001b[39m random_salary[\u001b[38;5;124m'\u001b[39m\u001b[38;5;124msalary\u001b[39m\u001b[38;5;124m'\u001b[39m]\n",
      "File \u001b[1;32md:\\miniconda3\\Lib\\site-packages\\pandas\\core\\frame.py:4311\u001b[0m, in \u001b[0;36mDataFrame.__setitem__\u001b[1;34m(self, key, value)\u001b[0m\n\u001b[0;32m   4308\u001b[0m     \u001b[38;5;28mself\u001b[39m\u001b[38;5;241m.\u001b[39m_setitem_array([key], value)\n\u001b[0;32m   4309\u001b[0m \u001b[38;5;28;01melse\u001b[39;00m:\n\u001b[0;32m   4310\u001b[0m     \u001b[38;5;66;03m# set column\u001b[39;00m\n\u001b[1;32m-> 4311\u001b[0m     \u001b[38;5;28;43mself\u001b[39;49m\u001b[38;5;241;43m.\u001b[39;49m\u001b[43m_set_item\u001b[49m\u001b[43m(\u001b[49m\u001b[43mkey\u001b[49m\u001b[43m,\u001b[49m\u001b[43m \u001b[49m\u001b[43mvalue\u001b[49m\u001b[43m)\u001b[49m\n",
      "File \u001b[1;32md:\\miniconda3\\Lib\\site-packages\\pandas\\core\\frame.py:4524\u001b[0m, in \u001b[0;36mDataFrame._set_item\u001b[1;34m(self, key, value)\u001b[0m\n\u001b[0;32m   4514\u001b[0m \u001b[38;5;28;01mdef\u001b[39;00m \u001b[38;5;21m_set_item\u001b[39m(\u001b[38;5;28mself\u001b[39m, key, value) \u001b[38;5;241m-\u001b[39m\u001b[38;5;241m>\u001b[39m \u001b[38;5;28;01mNone\u001b[39;00m:\n\u001b[0;32m   4515\u001b[0m \u001b[38;5;250m    \u001b[39m\u001b[38;5;124;03m\"\"\"\u001b[39;00m\n\u001b[0;32m   4516\u001b[0m \u001b[38;5;124;03m    Add series to DataFrame in specified column.\u001b[39;00m\n\u001b[0;32m   4517\u001b[0m \n\u001b[1;32m   (...)\u001b[0m\n\u001b[0;32m   4522\u001b[0m \u001b[38;5;124;03m    ensure homogeneity.\u001b[39;00m\n\u001b[0;32m   4523\u001b[0m \u001b[38;5;124;03m    \"\"\"\u001b[39;00m\n\u001b[1;32m-> 4524\u001b[0m     value, refs \u001b[38;5;241m=\u001b[39m \u001b[38;5;28;43mself\u001b[39;49m\u001b[38;5;241;43m.\u001b[39;49m\u001b[43m_sanitize_column\u001b[49m\u001b[43m(\u001b[49m\u001b[43mvalue\u001b[49m\u001b[43m)\u001b[49m\n\u001b[0;32m   4526\u001b[0m     \u001b[38;5;28;01mif\u001b[39;00m (\n\u001b[0;32m   4527\u001b[0m         key \u001b[38;5;129;01min\u001b[39;00m \u001b[38;5;28mself\u001b[39m\u001b[38;5;241m.\u001b[39mcolumns\n\u001b[0;32m   4528\u001b[0m         \u001b[38;5;129;01mand\u001b[39;00m value\u001b[38;5;241m.\u001b[39mndim \u001b[38;5;241m==\u001b[39m \u001b[38;5;241m1\u001b[39m\n\u001b[0;32m   4529\u001b[0m         \u001b[38;5;129;01mand\u001b[39;00m \u001b[38;5;129;01mnot\u001b[39;00m \u001b[38;5;28misinstance\u001b[39m(value\u001b[38;5;241m.\u001b[39mdtype, ExtensionDtype)\n\u001b[0;32m   4530\u001b[0m     ):\n\u001b[0;32m   4531\u001b[0m         \u001b[38;5;66;03m# broadcast across multiple columns if necessary\u001b[39;00m\n\u001b[0;32m   4532\u001b[0m         \u001b[38;5;28;01mif\u001b[39;00m \u001b[38;5;129;01mnot\u001b[39;00m \u001b[38;5;28mself\u001b[39m\u001b[38;5;241m.\u001b[39mcolumns\u001b[38;5;241m.\u001b[39mis_unique \u001b[38;5;129;01mor\u001b[39;00m \u001b[38;5;28misinstance\u001b[39m(\u001b[38;5;28mself\u001b[39m\u001b[38;5;241m.\u001b[39mcolumns, MultiIndex):\n",
      "File \u001b[1;32md:\\miniconda3\\Lib\\site-packages\\pandas\\core\\frame.py:5263\u001b[0m, in \u001b[0;36mDataFrame._sanitize_column\u001b[1;34m(self, value)\u001b[0m\n\u001b[0;32m   5261\u001b[0m     \u001b[38;5;28;01mif\u001b[39;00m \u001b[38;5;129;01mnot\u001b[39;00m \u001b[38;5;28misinstance\u001b[39m(value, Series):\n\u001b[0;32m   5262\u001b[0m         value \u001b[38;5;241m=\u001b[39m Series(value)\n\u001b[1;32m-> 5263\u001b[0m     \u001b[38;5;28;01mreturn\u001b[39;00m \u001b[43m_reindex_for_setitem\u001b[49m\u001b[43m(\u001b[49m\u001b[43mvalue\u001b[49m\u001b[43m,\u001b[49m\u001b[43m \u001b[49m\u001b[38;5;28;43mself\u001b[39;49m\u001b[38;5;241;43m.\u001b[39;49m\u001b[43mindex\u001b[49m\u001b[43m)\u001b[49m\n\u001b[0;32m   5265\u001b[0m \u001b[38;5;28;01mif\u001b[39;00m is_list_like(value):\n\u001b[0;32m   5266\u001b[0m     com\u001b[38;5;241m.\u001b[39mrequire_length_match(value, \u001b[38;5;28mself\u001b[39m\u001b[38;5;241m.\u001b[39mindex)\n",
      "File \u001b[1;32md:\\miniconda3\\Lib\\site-packages\\pandas\\core\\frame.py:12692\u001b[0m, in \u001b[0;36m_reindex_for_setitem\u001b[1;34m(value, index)\u001b[0m\n\u001b[0;32m  12688\u001b[0m \u001b[38;5;28;01mexcept\u001b[39;00m \u001b[38;5;167;01mValueError\u001b[39;00m \u001b[38;5;28;01mas\u001b[39;00m err:\n\u001b[0;32m  12689\u001b[0m     \u001b[38;5;66;03m# raised in MultiIndex.from_tuples, see test_insert_error_msmgs\u001b[39;00m\n\u001b[0;32m  12690\u001b[0m     \u001b[38;5;28;01mif\u001b[39;00m \u001b[38;5;129;01mnot\u001b[39;00m value\u001b[38;5;241m.\u001b[39mindex\u001b[38;5;241m.\u001b[39mis_unique:\n\u001b[0;32m  12691\u001b[0m         \u001b[38;5;66;03m# duplicate axis\u001b[39;00m\n\u001b[1;32m> 12692\u001b[0m         \u001b[38;5;28;01mraise\u001b[39;00m err\n\u001b[0;32m  12694\u001b[0m     \u001b[38;5;28;01mraise\u001b[39;00m \u001b[38;5;167;01mTypeError\u001b[39;00m(\n\u001b[0;32m  12695\u001b[0m         \u001b[38;5;124m\"\u001b[39m\u001b[38;5;124mincompatible index of inserted column with frame index\u001b[39m\u001b[38;5;124m\"\u001b[39m\n\u001b[0;32m  12696\u001b[0m     ) \u001b[38;5;28;01mfrom\u001b[39;00m \u001b[38;5;21;01merr\u001b[39;00m\n\u001b[0;32m  12697\u001b[0m \u001b[38;5;28;01mreturn\u001b[39;00m reindexed_value, \u001b[38;5;28;01mNone\u001b[39;00m\n",
      "File \u001b[1;32md:\\miniconda3\\Lib\\site-packages\\pandas\\core\\frame.py:12687\u001b[0m, in \u001b[0;36m_reindex_for_setitem\u001b[1;34m(value, index)\u001b[0m\n\u001b[0;32m  12685\u001b[0m \u001b[38;5;66;03m# GH#4107\u001b[39;00m\n\u001b[0;32m  12686\u001b[0m \u001b[38;5;28;01mtry\u001b[39;00m:\n\u001b[1;32m> 12687\u001b[0m     reindexed_value \u001b[38;5;241m=\u001b[39m \u001b[43mvalue\u001b[49m\u001b[38;5;241;43m.\u001b[39;49m\u001b[43mreindex\u001b[49m\u001b[43m(\u001b[49m\u001b[43mindex\u001b[49m\u001b[43m)\u001b[49m\u001b[38;5;241m.\u001b[39m_values\n\u001b[0;32m  12688\u001b[0m \u001b[38;5;28;01mexcept\u001b[39;00m \u001b[38;5;167;01mValueError\u001b[39;00m \u001b[38;5;28;01mas\u001b[39;00m err:\n\u001b[0;32m  12689\u001b[0m     \u001b[38;5;66;03m# raised in MultiIndex.from_tuples, see test_insert_error_msmgs\u001b[39;00m\n\u001b[0;32m  12690\u001b[0m     \u001b[38;5;28;01mif\u001b[39;00m \u001b[38;5;129;01mnot\u001b[39;00m value\u001b[38;5;241m.\u001b[39mindex\u001b[38;5;241m.\u001b[39mis_unique:\n\u001b[0;32m  12691\u001b[0m         \u001b[38;5;66;03m# duplicate axis\u001b[39;00m\n",
      "File \u001b[1;32md:\\miniconda3\\Lib\\site-packages\\pandas\\core\\series.py:5153\u001b[0m, in \u001b[0;36mSeries.reindex\u001b[1;34m(self, index, axis, method, copy, level, fill_value, limit, tolerance)\u001b[0m\n\u001b[0;32m   5136\u001b[0m \u001b[38;5;129m@doc\u001b[39m(\n\u001b[0;32m   5137\u001b[0m     NDFrame\u001b[38;5;241m.\u001b[39mreindex,  \u001b[38;5;66;03m# type: ignore[has-type]\u001b[39;00m\n\u001b[0;32m   5138\u001b[0m     klass\u001b[38;5;241m=\u001b[39m_shared_doc_kwargs[\u001b[38;5;124m\"\u001b[39m\u001b[38;5;124mklass\u001b[39m\u001b[38;5;124m\"\u001b[39m],\n\u001b[1;32m   (...)\u001b[0m\n\u001b[0;32m   5151\u001b[0m     tolerance\u001b[38;5;241m=\u001b[39m\u001b[38;5;28;01mNone\u001b[39;00m,\n\u001b[0;32m   5152\u001b[0m ) \u001b[38;5;241m-\u001b[39m\u001b[38;5;241m>\u001b[39m Series:\n\u001b[1;32m-> 5153\u001b[0m     \u001b[38;5;28;01mreturn\u001b[39;00m \u001b[38;5;28;43msuper\u001b[39;49m\u001b[43m(\u001b[49m\u001b[43m)\u001b[49m\u001b[38;5;241;43m.\u001b[39;49m\u001b[43mreindex\u001b[49m\u001b[43m(\u001b[49m\n\u001b[0;32m   5154\u001b[0m \u001b[43m        \u001b[49m\u001b[43mindex\u001b[49m\u001b[38;5;241;43m=\u001b[39;49m\u001b[43mindex\u001b[49m\u001b[43m,\u001b[49m\n\u001b[0;32m   5155\u001b[0m \u001b[43m        \u001b[49m\u001b[43mmethod\u001b[49m\u001b[38;5;241;43m=\u001b[39;49m\u001b[43mmethod\u001b[49m\u001b[43m,\u001b[49m\n\u001b[0;32m   5156\u001b[0m \u001b[43m        \u001b[49m\u001b[43mcopy\u001b[49m\u001b[38;5;241;43m=\u001b[39;49m\u001b[43mcopy\u001b[49m\u001b[43m,\u001b[49m\n\u001b[0;32m   5157\u001b[0m \u001b[43m        \u001b[49m\u001b[43mlevel\u001b[49m\u001b[38;5;241;43m=\u001b[39;49m\u001b[43mlevel\u001b[49m\u001b[43m,\u001b[49m\n\u001b[0;32m   5158\u001b[0m \u001b[43m        \u001b[49m\u001b[43mfill_value\u001b[49m\u001b[38;5;241;43m=\u001b[39;49m\u001b[43mfill_value\u001b[49m\u001b[43m,\u001b[49m\n\u001b[0;32m   5159\u001b[0m \u001b[43m        \u001b[49m\u001b[43mlimit\u001b[49m\u001b[38;5;241;43m=\u001b[39;49m\u001b[43mlimit\u001b[49m\u001b[43m,\u001b[49m\n\u001b[0;32m   5160\u001b[0m \u001b[43m        \u001b[49m\u001b[43mtolerance\u001b[49m\u001b[38;5;241;43m=\u001b[39;49m\u001b[43mtolerance\u001b[49m\u001b[43m,\u001b[49m\n\u001b[0;32m   5161\u001b[0m \u001b[43m    \u001b[49m\u001b[43m)\u001b[49m\n",
      "File \u001b[1;32md:\\miniconda3\\Lib\\site-packages\\pandas\\core\\generic.py:5610\u001b[0m, in \u001b[0;36mNDFrame.reindex\u001b[1;34m(self, labels, index, columns, axis, method, copy, level, fill_value, limit, tolerance)\u001b[0m\n\u001b[0;32m   5607\u001b[0m     \u001b[38;5;28;01mreturn\u001b[39;00m \u001b[38;5;28mself\u001b[39m\u001b[38;5;241m.\u001b[39m_reindex_multi(axes, copy, fill_value)\n\u001b[0;32m   5609\u001b[0m \u001b[38;5;66;03m# perform the reindex on the axes\u001b[39;00m\n\u001b[1;32m-> 5610\u001b[0m \u001b[38;5;28;01mreturn\u001b[39;00m \u001b[38;5;28;43mself\u001b[39;49m\u001b[38;5;241;43m.\u001b[39;49m\u001b[43m_reindex_axes\u001b[49m\u001b[43m(\u001b[49m\n\u001b[0;32m   5611\u001b[0m \u001b[43m    \u001b[49m\u001b[43maxes\u001b[49m\u001b[43m,\u001b[49m\u001b[43m \u001b[49m\u001b[43mlevel\u001b[49m\u001b[43m,\u001b[49m\u001b[43m \u001b[49m\u001b[43mlimit\u001b[49m\u001b[43m,\u001b[49m\u001b[43m \u001b[49m\u001b[43mtolerance\u001b[49m\u001b[43m,\u001b[49m\u001b[43m \u001b[49m\u001b[43mmethod\u001b[49m\u001b[43m,\u001b[49m\u001b[43m \u001b[49m\u001b[43mfill_value\u001b[49m\u001b[43m,\u001b[49m\u001b[43m \u001b[49m\u001b[43mcopy\u001b[49m\n\u001b[0;32m   5612\u001b[0m \u001b[43m\u001b[49m\u001b[43m)\u001b[49m\u001b[38;5;241m.\u001b[39m__finalize__(\u001b[38;5;28mself\u001b[39m, method\u001b[38;5;241m=\u001b[39m\u001b[38;5;124m\"\u001b[39m\u001b[38;5;124mreindex\u001b[39m\u001b[38;5;124m\"\u001b[39m)\n",
      "File \u001b[1;32md:\\miniconda3\\Lib\\site-packages\\pandas\\core\\generic.py:5633\u001b[0m, in \u001b[0;36mNDFrame._reindex_axes\u001b[1;34m(self, axes, level, limit, tolerance, method, fill_value, copy)\u001b[0m\n\u001b[0;32m   5630\u001b[0m     \u001b[38;5;28;01mcontinue\u001b[39;00m\n\u001b[0;32m   5632\u001b[0m ax \u001b[38;5;241m=\u001b[39m \u001b[38;5;28mself\u001b[39m\u001b[38;5;241m.\u001b[39m_get_axis(a)\n\u001b[1;32m-> 5633\u001b[0m new_index, indexer \u001b[38;5;241m=\u001b[39m \u001b[43max\u001b[49m\u001b[38;5;241;43m.\u001b[39;49m\u001b[43mreindex\u001b[49m\u001b[43m(\u001b[49m\n\u001b[0;32m   5634\u001b[0m \u001b[43m    \u001b[49m\u001b[43mlabels\u001b[49m\u001b[43m,\u001b[49m\u001b[43m \u001b[49m\u001b[43mlevel\u001b[49m\u001b[38;5;241;43m=\u001b[39;49m\u001b[43mlevel\u001b[49m\u001b[43m,\u001b[49m\u001b[43m \u001b[49m\u001b[43mlimit\u001b[49m\u001b[38;5;241;43m=\u001b[39;49m\u001b[43mlimit\u001b[49m\u001b[43m,\u001b[49m\u001b[43m \u001b[49m\u001b[43mtolerance\u001b[49m\u001b[38;5;241;43m=\u001b[39;49m\u001b[43mtolerance\u001b[49m\u001b[43m,\u001b[49m\u001b[43m \u001b[49m\u001b[43mmethod\u001b[49m\u001b[38;5;241;43m=\u001b[39;49m\u001b[43mmethod\u001b[49m\n\u001b[0;32m   5635\u001b[0m \u001b[43m\u001b[49m\u001b[43m)\u001b[49m\n\u001b[0;32m   5637\u001b[0m axis \u001b[38;5;241m=\u001b[39m \u001b[38;5;28mself\u001b[39m\u001b[38;5;241m.\u001b[39m_get_axis_number(a)\n\u001b[0;32m   5638\u001b[0m obj \u001b[38;5;241m=\u001b[39m obj\u001b[38;5;241m.\u001b[39m_reindex_with_indexers(\n\u001b[0;32m   5639\u001b[0m     {axis: [new_index, indexer]},\n\u001b[0;32m   5640\u001b[0m     fill_value\u001b[38;5;241m=\u001b[39mfill_value,\n\u001b[0;32m   5641\u001b[0m     copy\u001b[38;5;241m=\u001b[39mcopy,\n\u001b[0;32m   5642\u001b[0m     allow_dups\u001b[38;5;241m=\u001b[39m\u001b[38;5;28;01mFalse\u001b[39;00m,\n\u001b[0;32m   5643\u001b[0m )\n",
      "File \u001b[1;32md:\\miniconda3\\Lib\\site-packages\\pandas\\core\\indexes\\base.py:4429\u001b[0m, in \u001b[0;36mIndex.reindex\u001b[1;34m(self, target, method, level, limit, tolerance)\u001b[0m\n\u001b[0;32m   4426\u001b[0m     \u001b[38;5;28;01mraise\u001b[39;00m \u001b[38;5;167;01mValueError\u001b[39;00m(\u001b[38;5;124m\"\u001b[39m\u001b[38;5;124mcannot handle a non-unique multi-index!\u001b[39m\u001b[38;5;124m\"\u001b[39m)\n\u001b[0;32m   4427\u001b[0m \u001b[38;5;28;01melif\u001b[39;00m \u001b[38;5;129;01mnot\u001b[39;00m \u001b[38;5;28mself\u001b[39m\u001b[38;5;241m.\u001b[39mis_unique:\n\u001b[0;32m   4428\u001b[0m     \u001b[38;5;66;03m# GH#42568\u001b[39;00m\n\u001b[1;32m-> 4429\u001b[0m     \u001b[38;5;28;01mraise\u001b[39;00m \u001b[38;5;167;01mValueError\u001b[39;00m(\u001b[38;5;124m\"\u001b[39m\u001b[38;5;124mcannot reindex on an axis with duplicate labels\u001b[39m\u001b[38;5;124m\"\u001b[39m)\n\u001b[0;32m   4430\u001b[0m \u001b[38;5;28;01melse\u001b[39;00m:\n\u001b[0;32m   4431\u001b[0m     indexer, _ \u001b[38;5;241m=\u001b[39m \u001b[38;5;28mself\u001b[39m\u001b[38;5;241m.\u001b[39mget_indexer_non_unique(target)\n",
      "\u001b[1;31mValueError\u001b[0m: cannot reindex on an axis with duplicate labels"
     ]
    }
   ],
   "source": [
    "# random_salary中是有重复索引的，employee DataFrame的标签要对应random_salary中的多个标签\n",
    "employee['RANDOM_SALARY'.lower()] = random_salary['salary']"
   ]
  },
  {
   "cell_type": "code",
   "execution_count": 41,
   "id": "c6853d2c",
   "metadata": {},
   "outputs": [],
   "source": [
    "# 选取max_dept_sal['salary'].head(3)赋值给employee['MAX_SALARY2'.lower()]\n",
    "employee['MAX_SALARY2'.lower()] = max_dept_sal['salary'].head(3)"
   ]
  },
  {
   "cell_type": "code",
   "execution_count": 43,
   "id": "4bb12a76",
   "metadata": {},
   "outputs": [
    {
     "data": {
      "text/plain": [
       "max_salary2\n",
       "342784.0    4376\n",
       "186685.0    1353\n",
       "275000.0    1216\n",
       "Name: count, dtype: int64"
      ]
     },
     "execution_count": 43,
     "metadata": {},
     "output_type": "execute_result"
    }
   ],
   "source": [
    "employee.max_salary2.value_counts()"
   ]
  },
  {
   "cell_type": "code",
   "execution_count": 45,
   "id": "2dadfe97",
   "metadata": {},
   "outputs": [
    {
     "data": {
      "text/plain": [
       "np.float64(0.7142915912456804)"
      ]
     },
     "execution_count": 45,
     "metadata": {},
     "output_type": "execute_result"
    }
   ],
   "source": [
    "# 因为只填充了三个部门值，所以其他部门在结果中都是缺失值\n",
    "employee.max_salary2.isnull().mean()"
   ]
  },
  {
   "cell_type": "markdown",
   "id": "72eb269b",
   "metadata": {},
   "source": [
    "## 高亮每列的最大值"
   ]
  },
  {
   "cell_type": "code",
   "execution_count": 49,
   "id": "26e41c1b",
   "metadata": {},
   "outputs": [],
   "source": [
    "pd.options.display.max_rows = 8"
   ]
  },
  {
   "cell_type": "code",
   "execution_count": 51,
   "id": "2089bce5",
   "metadata": {},
   "outputs": [
    {
     "data": {
      "text/plain": [
       "city                   object\n",
       "stabbr                 object\n",
       "hbcu                  float64\n",
       "menonly               float64\n",
       "                       ...   \n",
       "pctfloan              float64\n",
       "ug25abv               float64\n",
       "md_earn_wne_p10        object\n",
       "grad_debt_mdn_supp     object\n",
       "Length: 26, dtype: object"
      ]
     },
     "execution_count": 51,
     "metadata": {},
     "output_type": "execute_result"
    }
   ],
   "source": [
    "college = pd.read_csv('college.csv', index_col='instnm')\n",
    "college.dtypes"
   ]
  },
  {
   "cell_type": "code",
   "execution_count": 56,
   "id": "35da7d71",
   "metadata": {},
   "outputs": [
    {
     "data": {
      "text/plain": [
       "'30300'"
      ]
     },
     "execution_count": 56,
     "metadata": {},
     "output_type": "execute_result"
    }
   ],
   "source": [
    "# grad_debt_mdn_supp, md_earn_wne_p10是对象类型，对其进行检查，发现含有字符串\n",
    "college.md_earn_wne_p10.iloc[0]"
   ]
  },
  {
   "cell_type": "code",
   "execution_count": 55,
   "id": "b6d8cb05",
   "metadata": {},
   "outputs": [
    {
     "data": {
      "text/plain": [
       "'33888'"
      ]
     },
     "execution_count": 55,
     "metadata": {},
     "output_type": "execute_result"
    }
   ],
   "source": [
    "college.grad_debt_mdn_supp.iloc[0]"
   ]
  },
  {
   "cell_type": "code",
   "execution_count": 57,
   "id": "3b4648c4",
   "metadata": {},
   "outputs": [
    {
     "data": {
      "text/plain": [
       "instnm\n",
       "Sharon Regional Health System School of Nursing          PrivacySuppressed\n",
       "P&A Scholars Beauty School                               PrivacySuppressed\n",
       "Fairview Beauty Academy                                  PrivacySuppressed\n",
       "Rabbi Jacob Joseph School                                PrivacySuppressed\n",
       "Acupuncture and Integrative Medicine College-Berkeley    PrivacySuppressed\n",
       "Name: md_earn_wne_p10, dtype: object"
      ]
     },
     "execution_count": 57,
     "metadata": {},
     "output_type": "execute_result"
    }
   ],
   "source": [
    "# 降序检查\n",
    "college.md_earn_wne_p10.sort_values(ascending=False).head()"
   ]
  },
  {
   "cell_type": "code",
   "execution_count": 58,
   "id": "0fe82b32",
   "metadata": {},
   "outputs": [
    {
     "data": {
      "text/plain": [
       "md_earn_wne_p10       float64\n",
       "grad_debt_mdn_supp    float64\n",
       "dtype: object"
      ]
     },
     "execution_count": 58,
     "metadata": {},
     "output_type": "execute_result"
    }
   ],
   "source": [
    "# 可以用 to_numeric() 函数，将某列的值做强制转换\n",
    "cols = ['md_earn_wne_p10', 'grad_debt_mdn_supp']\n",
    "for col in cols:\n",
    "    college[col] = pd.to_numeric(college[col], errors='coerce')  # errors='coerce'：遇到无法转换的内容时设为NaN\n",
    "\n",
    "college.dtypes.loc[cols]"
   ]
  },
  {
   "cell_type": "code",
   "execution_count": 59,
   "id": "1cd2bc0e",
   "metadata": {},
   "outputs": [
    {
     "data": {
      "text/html": [
       "<div>\n",
       "<style scoped>\n",
       "    .dataframe tbody tr th:only-of-type {\n",
       "        vertical-align: middle;\n",
       "    }\n",
       "\n",
       "    .dataframe tbody tr th {\n",
       "        vertical-align: top;\n",
       "    }\n",
       "\n",
       "    .dataframe thead th {\n",
       "        text-align: right;\n",
       "    }\n",
       "</style>\n",
       "<table border=\"1\" class=\"dataframe\">\n",
       "  <thead>\n",
       "    <tr style=\"text-align: right;\">\n",
       "      <th></th>\n",
       "      <th>hbcu</th>\n",
       "      <th>menonly</th>\n",
       "      <th>womenonly</th>\n",
       "      <th>...</th>\n",
       "      <th>ug25abv</th>\n",
       "      <th>md_earn_wne_p10</th>\n",
       "      <th>grad_debt_mdn_supp</th>\n",
       "    </tr>\n",
       "    <tr>\n",
       "      <th>instnm</th>\n",
       "      <th></th>\n",
       "      <th></th>\n",
       "      <th></th>\n",
       "      <th></th>\n",
       "      <th></th>\n",
       "      <th></th>\n",
       "      <th></th>\n",
       "    </tr>\n",
       "  </thead>\n",
       "  <tbody>\n",
       "    <tr>\n",
       "      <th>Alabama A &amp; M University</th>\n",
       "      <td>1.0</td>\n",
       "      <td>0.0</td>\n",
       "      <td>0.0</td>\n",
       "      <td>...</td>\n",
       "      <td>0.1049</td>\n",
       "      <td>30300.0</td>\n",
       "      <td>33888.0</td>\n",
       "    </tr>\n",
       "    <tr>\n",
       "      <th>University of Alabama at Birmingham</th>\n",
       "      <td>0.0</td>\n",
       "      <td>0.0</td>\n",
       "      <td>0.0</td>\n",
       "      <td>...</td>\n",
       "      <td>0.2422</td>\n",
       "      <td>39700.0</td>\n",
       "      <td>21941.5</td>\n",
       "    </tr>\n",
       "    <tr>\n",
       "      <th>Amridge University</th>\n",
       "      <td>0.0</td>\n",
       "      <td>0.0</td>\n",
       "      <td>0.0</td>\n",
       "      <td>...</td>\n",
       "      <td>0.8540</td>\n",
       "      <td>40100.0</td>\n",
       "      <td>23370.0</td>\n",
       "    </tr>\n",
       "    <tr>\n",
       "      <th>University of Alabama in Huntsville</th>\n",
       "      <td>0.0</td>\n",
       "      <td>0.0</td>\n",
       "      <td>0.0</td>\n",
       "      <td>...</td>\n",
       "      <td>0.2640</td>\n",
       "      <td>45500.0</td>\n",
       "      <td>24097.0</td>\n",
       "    </tr>\n",
       "    <tr>\n",
       "      <th>Alabama State University</th>\n",
       "      <td>1.0</td>\n",
       "      <td>0.0</td>\n",
       "      <td>0.0</td>\n",
       "      <td>...</td>\n",
       "      <td>0.1270</td>\n",
       "      <td>26600.0</td>\n",
       "      <td>33118.5</td>\n",
       "    </tr>\n",
       "  </tbody>\n",
       "</table>\n",
       "<p>5 rows × 24 columns</p>\n",
       "</div>"
      ],
      "text/plain": [
       "                                     hbcu  menonly  womenonly  ...  ug25abv  \\\n",
       "instnm                                                         ...            \n",
       "Alabama A & M University              1.0      0.0        0.0  ...   0.1049   \n",
       "University of Alabama at Birmingham   0.0      0.0        0.0  ...   0.2422   \n",
       "Amridge University                    0.0      0.0        0.0  ...   0.8540   \n",
       "University of Alabama in Huntsville   0.0      0.0        0.0  ...   0.2640   \n",
       "Alabama State University              1.0      0.0        0.0  ...   0.1270   \n",
       "\n",
       "                                     md_earn_wne_p10  grad_debt_mdn_supp  \n",
       "instnm                                                                    \n",
       "Alabama A & M University                     30300.0             33888.0  \n",
       "University of Alabama at Birmingham          39700.0             21941.5  \n",
       "Amridge University                           40100.0             23370.0  \n",
       "University of Alabama in Huntsville          45500.0             24097.0  \n",
       "Alabama State University                     26600.0             33118.5  \n",
       "\n",
       "[5 rows x 24 columns]"
      ]
     },
     "execution_count": 59,
     "metadata": {},
     "output_type": "execute_result"
    }
   ],
   "source": [
    "# 用 select_dtypes 方法过滤出数值列\n",
    "college_n = college.select_dtypes(include=[np.number])\n",
    "college_n.head()"
   ]
  },
  {
   "cell_type": "code",
   "execution_count": 60,
   "id": "04f14f4a",
   "metadata": {},
   "outputs": [
    {
     "data": {
      "text/plain": [
       "hbcu          True\n",
       "menonly       True\n",
       "womenonly     True\n",
       "relaffil      True\n",
       "satvrmid     False\n",
       "dtype: bool"
      ]
     },
     "execution_count": 60,
     "metadata": {},
     "output_type": "execute_result"
    }
   ],
   "source": [
    "# 有的列只含有两个值，用ninuqie()方法挑出这些列\n",
    "criteria = college_n.nunique() == 2\n",
    "criteria.head()"
   ]
  },
  {
   "cell_type": "code",
   "execution_count": 61,
   "id": "a5ce20b6",
   "metadata": {},
   "outputs": [
    {
     "data": {
      "text/plain": [
       "['hbcu', 'menonly', 'womenonly', 'relaffil', 'distanceonly', 'curroper']"
      ]
     },
     "execution_count": 61,
     "metadata": {},
     "output_type": "execute_result"
    }
   ],
   "source": [
    "# 将布尔series传给索引运算符，生成二元列的列表\n",
    "binary_cols = college_n.columns[criteria].tolist()\n",
    "binary_cols"
   ]
  },
  {
   "cell_type": "code",
   "execution_count": null,
   "id": "e745da3f",
   "metadata": {},
   "outputs": [],
   "source": [
    "# 用 drop 方法删除这些列\n",
    "college_n2 = college_n.drop(labels=binary_cols, axis='columns')\n",
    "college_n2.head()"
   ]
  }
 ],
 "metadata": {
  "kernelspec": {
   "display_name": "base",
   "language": "python",
   "name": "python3"
  },
  "language_info": {
   "codemirror_mode": {
    "name": "ipython",
    "version": 3
   },
   "file_extension": ".py",
   "mimetype": "text/x-python",
   "name": "python",
   "nbconvert_exporter": "python",
   "pygments_lexer": "ipython3",
   "version": "3.12.3"
  }
 },
 "nbformat": 4,
 "nbformat_minor": 5
}
