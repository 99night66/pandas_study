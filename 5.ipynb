{
 "cells": [
  {
   "cell_type": "markdown",
   "metadata": {},
   "source": [
    "# 布尔索引"
   ]
  },
  {
   "cell_type": "code",
   "execution_count": 3,
   "metadata": {},
   "outputs": [],
   "source": [
    "import pandas as pd\n",
    "import numpy as np\n",
    "import matplotlib.pyplot as plt\n",
    "\n",
    "#  是一个 Jupyter Notebook 的魔法命令(让 matplotlib 绘制的图形直接嵌入显示在 Notebook 单元格输出中，而不是弹出单独的窗口显示)\n",
    "%matplotlib inline  "
   ]
  },
  {
   "cell_type": "markdown",
   "metadata": {},
   "source": [
    "## 计算布尔值统计信息\n"
   ]
  },
  {
   "cell_type": "code",
   "execution_count": 5,
   "metadata": {},
   "outputs": [
    {
     "data": {
      "text/html": [
       "<div>\n",
       "<style scoped>\n",
       "    .dataframe tbody tr th:only-of-type {\n",
       "        vertical-align: middle;\n",
       "    }\n",
       "\n",
       "    .dataframe tbody tr th {\n",
       "        vertical-align: top;\n",
       "    }\n",
       "\n",
       "    .dataframe thead th {\n",
       "        text-align: right;\n",
       "    }\n",
       "</style>\n",
       "<table border=\"1\" class=\"dataframe\">\n",
       "  <thead>\n",
       "    <tr style=\"text-align: right;\">\n",
       "      <th></th>\n",
       "      <th>year</th>\n",
       "      <th>color</th>\n",
       "      <th>content_rating</th>\n",
       "      <th>duration</th>\n",
       "      <th>director_name</th>\n",
       "      <th>director_fb</th>\n",
       "      <th>actor1</th>\n",
       "      <th>actor1_fb</th>\n",
       "      <th>actor2</th>\n",
       "      <th>actor2_fb</th>\n",
       "      <th>actor3</th>\n",
       "      <th>actor3_fb</th>\n",
       "      <th>gross</th>\n",
       "      <th>genres</th>\n",
       "      <th>num_reviews</th>\n",
       "      <th>num_voted_users</th>\n",
       "      <th>plot_keywords</th>\n",
       "      <th>language</th>\n",
       "      <th>country</th>\n",
       "      <th>budget</th>\n",
       "      <th>imdb_score</th>\n",
       "    </tr>\n",
       "    <tr>\n",
       "      <th>title</th>\n",
       "      <th></th>\n",
       "      <th></th>\n",
       "      <th></th>\n",
       "      <th></th>\n",
       "      <th></th>\n",
       "      <th></th>\n",
       "      <th></th>\n",
       "      <th></th>\n",
       "      <th></th>\n",
       "      <th></th>\n",
       "      <th></th>\n",
       "      <th></th>\n",
       "      <th></th>\n",
       "      <th></th>\n",
       "      <th></th>\n",
       "      <th></th>\n",
       "      <th></th>\n",
       "      <th></th>\n",
       "      <th></th>\n",
       "      <th></th>\n",
       "      <th></th>\n",
       "    </tr>\n",
       "  </thead>\n",
       "  <tbody>\n",
       "    <tr>\n",
       "      <th>Avatar</th>\n",
       "      <td>2009.0</td>\n",
       "      <td>Color</td>\n",
       "      <td>PG-13</td>\n",
       "      <td>178.0</td>\n",
       "      <td>James Cameron</td>\n",
       "      <td>0.0</td>\n",
       "      <td>CCH Pounder</td>\n",
       "      <td>1000.0</td>\n",
       "      <td>Joel David Moore</td>\n",
       "      <td>936.0</td>\n",
       "      <td>Wes Studi</td>\n",
       "      <td>855.0</td>\n",
       "      <td>760505847.0</td>\n",
       "      <td>Action|Adventure|Fantasy|Sci-Fi</td>\n",
       "      <td>723.0</td>\n",
       "      <td>886204</td>\n",
       "      <td>avatar|future|marine|native|paraplegic</td>\n",
       "      <td>English</td>\n",
       "      <td>USA</td>\n",
       "      <td>237000000.0</td>\n",
       "      <td>7.9</td>\n",
       "    </tr>\n",
       "    <tr>\n",
       "      <th>Pirates of the Caribbean: At World's End</th>\n",
       "      <td>2007.0</td>\n",
       "      <td>Color</td>\n",
       "      <td>PG-13</td>\n",
       "      <td>169.0</td>\n",
       "      <td>Gore Verbinski</td>\n",
       "      <td>563.0</td>\n",
       "      <td>Johnny Depp</td>\n",
       "      <td>40000.0</td>\n",
       "      <td>Orlando Bloom</td>\n",
       "      <td>5000.0</td>\n",
       "      <td>Jack Davenport</td>\n",
       "      <td>1000.0</td>\n",
       "      <td>309404152.0</td>\n",
       "      <td>Action|Adventure|Fantasy</td>\n",
       "      <td>302.0</td>\n",
       "      <td>471220</td>\n",
       "      <td>goddess|marriage ceremony|marriage proposal|pi...</td>\n",
       "      <td>English</td>\n",
       "      <td>USA</td>\n",
       "      <td>300000000.0</td>\n",
       "      <td>7.1</td>\n",
       "    </tr>\n",
       "    <tr>\n",
       "      <th>Spectre</th>\n",
       "      <td>2015.0</td>\n",
       "      <td>Color</td>\n",
       "      <td>PG-13</td>\n",
       "      <td>148.0</td>\n",
       "      <td>Sam Mendes</td>\n",
       "      <td>0.0</td>\n",
       "      <td>Christoph Waltz</td>\n",
       "      <td>11000.0</td>\n",
       "      <td>Rory Kinnear</td>\n",
       "      <td>393.0</td>\n",
       "      <td>Stephanie Sigman</td>\n",
       "      <td>161.0</td>\n",
       "      <td>200074175.0</td>\n",
       "      <td>Action|Adventure|Thriller</td>\n",
       "      <td>602.0</td>\n",
       "      <td>275868</td>\n",
       "      <td>bomb|espionage|sequel|spy|terrorist</td>\n",
       "      <td>English</td>\n",
       "      <td>UK</td>\n",
       "      <td>245000000.0</td>\n",
       "      <td>6.8</td>\n",
       "    </tr>\n",
       "    <tr>\n",
       "      <th>The Dark Knight Rises</th>\n",
       "      <td>2012.0</td>\n",
       "      <td>Color</td>\n",
       "      <td>PG-13</td>\n",
       "      <td>164.0</td>\n",
       "      <td>Christopher Nolan</td>\n",
       "      <td>22000.0</td>\n",
       "      <td>Tom Hardy</td>\n",
       "      <td>27000.0</td>\n",
       "      <td>Christian Bale</td>\n",
       "      <td>23000.0</td>\n",
       "      <td>Joseph Gordon-Levitt</td>\n",
       "      <td>23000.0</td>\n",
       "      <td>448130642.0</td>\n",
       "      <td>Action|Thriller</td>\n",
       "      <td>813.0</td>\n",
       "      <td>1144337</td>\n",
       "      <td>deception|imprisonment|lawlessness|police offi...</td>\n",
       "      <td>English</td>\n",
       "      <td>USA</td>\n",
       "      <td>250000000.0</td>\n",
       "      <td>8.5</td>\n",
       "    </tr>\n",
       "    <tr>\n",
       "      <th>Star Wars: Episode VII - The Force Awakens</th>\n",
       "      <td>NaN</td>\n",
       "      <td>NaN</td>\n",
       "      <td>NaN</td>\n",
       "      <td>NaN</td>\n",
       "      <td>Doug Walker</td>\n",
       "      <td>131.0</td>\n",
       "      <td>Doug Walker</td>\n",
       "      <td>131.0</td>\n",
       "      <td>Rob Walker</td>\n",
       "      <td>12.0</td>\n",
       "      <td>NaN</td>\n",
       "      <td>NaN</td>\n",
       "      <td>NaN</td>\n",
       "      <td>Documentary</td>\n",
       "      <td>NaN</td>\n",
       "      <td>8</td>\n",
       "      <td>NaN</td>\n",
       "      <td>NaN</td>\n",
       "      <td>NaN</td>\n",
       "      <td>NaN</td>\n",
       "      <td>7.1</td>\n",
       "    </tr>\n",
       "  </tbody>\n",
       "</table>\n",
       "</div>"
      ],
      "text/plain": [
       "                                              year  color content_rating  \\\n",
       "title                                                                      \n",
       "Avatar                                      2009.0  Color          PG-13   \n",
       "Pirates of the Caribbean: At World's End    2007.0  Color          PG-13   \n",
       "Spectre                                     2015.0  Color          PG-13   \n",
       "The Dark Knight Rises                       2012.0  Color          PG-13   \n",
       "Star Wars: Episode VII - The Force Awakens     NaN    NaN            NaN   \n",
       "\n",
       "                                            duration      director_name  \\\n",
       "title                                                                     \n",
       "Avatar                                         178.0      James Cameron   \n",
       "Pirates of the Caribbean: At World's End       169.0     Gore Verbinski   \n",
       "Spectre                                        148.0         Sam Mendes   \n",
       "The Dark Knight Rises                          164.0  Christopher Nolan   \n",
       "Star Wars: Episode VII - The Force Awakens       NaN        Doug Walker   \n",
       "\n",
       "                                            director_fb           actor1  \\\n",
       "title                                                                      \n",
       "Avatar                                              0.0      CCH Pounder   \n",
       "Pirates of the Caribbean: At World's End          563.0      Johnny Depp   \n",
       "Spectre                                             0.0  Christoph Waltz   \n",
       "The Dark Knight Rises                           22000.0        Tom Hardy   \n",
       "Star Wars: Episode VII - The Force Awakens        131.0      Doug Walker   \n",
       "\n",
       "                                            actor1_fb            actor2  \\\n",
       "title                                                                     \n",
       "Avatar                                         1000.0  Joel David Moore   \n",
       "Pirates of the Caribbean: At World's End      40000.0     Orlando Bloom   \n",
       "Spectre                                       11000.0      Rory Kinnear   \n",
       "The Dark Knight Rises                         27000.0    Christian Bale   \n",
       "Star Wars: Episode VII - The Force Awakens      131.0        Rob Walker   \n",
       "\n",
       "                                            actor2_fb                actor3  \\\n",
       "title                                                                         \n",
       "Avatar                                          936.0             Wes Studi   \n",
       "Pirates of the Caribbean: At World's End       5000.0        Jack Davenport   \n",
       "Spectre                                         393.0      Stephanie Sigman   \n",
       "The Dark Knight Rises                         23000.0  Joseph Gordon-Levitt   \n",
       "Star Wars: Episode VII - The Force Awakens       12.0                   NaN   \n",
       "\n",
       "                                            actor3_fb        gross  \\\n",
       "title                                                                \n",
       "Avatar                                          855.0  760505847.0   \n",
       "Pirates of the Caribbean: At World's End       1000.0  309404152.0   \n",
       "Spectre                                         161.0  200074175.0   \n",
       "The Dark Knight Rises                         23000.0  448130642.0   \n",
       "Star Wars: Episode VII - The Force Awakens        NaN          NaN   \n",
       "\n",
       "                                                                     genres  \\\n",
       "title                                                                         \n",
       "Avatar                                      Action|Adventure|Fantasy|Sci-Fi   \n",
       "Pirates of the Caribbean: At World's End           Action|Adventure|Fantasy   \n",
       "Spectre                                           Action|Adventure|Thriller   \n",
       "The Dark Knight Rises                                       Action|Thriller   \n",
       "Star Wars: Episode VII - The Force Awakens                      Documentary   \n",
       "\n",
       "                                            num_reviews  num_voted_users  \\\n",
       "title                                                                      \n",
       "Avatar                                            723.0           886204   \n",
       "Pirates of the Caribbean: At World's End          302.0           471220   \n",
       "Spectre                                           602.0           275868   \n",
       "The Dark Knight Rises                             813.0          1144337   \n",
       "Star Wars: Episode VII - The Force Awakens          NaN                8   \n",
       "\n",
       "                                                                                plot_keywords  \\\n",
       "title                                                                                           \n",
       "Avatar                                                 avatar|future|marine|native|paraplegic   \n",
       "Pirates of the Caribbean: At World's End    goddess|marriage ceremony|marriage proposal|pi...   \n",
       "Spectre                                                   bomb|espionage|sequel|spy|terrorist   \n",
       "The Dark Knight Rises                       deception|imprisonment|lawlessness|police offi...   \n",
       "Star Wars: Episode VII - The Force Awakens                                                NaN   \n",
       "\n",
       "                                           language country       budget  \\\n",
       "title                                                                      \n",
       "Avatar                                      English     USA  237000000.0   \n",
       "Pirates of the Caribbean: At World's End    English     USA  300000000.0   \n",
       "Spectre                                     English      UK  245000000.0   \n",
       "The Dark Knight Rises                       English     USA  250000000.0   \n",
       "Star Wars: Episode VII - The Force Awakens      NaN     NaN          NaN   \n",
       "\n",
       "                                            imdb_score  \n",
       "title                                                   \n",
       "Avatar                                             7.9  \n",
       "Pirates of the Caribbean: At World's End           7.1  \n",
       "Spectre                                            6.8  \n",
       "The Dark Knight Rises                              8.5  \n",
       "Star Wars: Episode VII - The Force Awakens         7.1  "
      ]
     },
     "execution_count": 5,
     "metadata": {},
     "output_type": "execute_result"
    }
   ],
   "source": [
    "pd.options.display.max_columns = 50\n",
    "\n",
    "movie = pd.read_csv('movie.csv', index_col='title')\n",
    "movie.head()"
   ]
  },
  {
   "cell_type": "code",
   "execution_count": 6,
   "metadata": {},
   "outputs": [
    {
     "data": {
      "text/plain": [
       "title\n",
       "Avatar                                         True\n",
       "Pirates of the Caribbean: At World's End       True\n",
       "Spectre                                        True\n",
       "The Dark Knight Rises                          True\n",
       "Star Wars: Episode VII - The Force Awakens    False\n",
       "John Carter                                    True\n",
       "Spider-Man 3                                   True\n",
       "Tangled                                       False\n",
       "Avengers: Age of Ultron                        True\n",
       "Harry Potter and the Half-Blood Prince         True\n",
       "Name: duration, dtype: bool"
      ]
     },
     "execution_count": 6,
     "metadata": {},
     "output_type": "execute_result"
    }
   ],
   "source": [
    "# 判断电影时长是否超过2小时\n",
    "movie_2_hours = movie['duration'] > 120\n",
    "movie_2_hours.head(10)"
   ]
  },
  {
   "cell_type": "code",
   "execution_count": 7,
   "metadata": {},
   "outputs": [
    {
     "data": {
      "text/plain": [
       "np.int64(1039)"
      ]
     },
     "execution_count": 7,
     "metadata": {},
     "output_type": "execute_result"
    }
   ],
   "source": [
    "# 有多少时长超过2小时的电影\n",
    "movie_2_hours.sum()"
   ]
  },
  {
   "cell_type": "code",
   "execution_count": 8,
   "metadata": {},
   "outputs": [
    {
     "data": {
      "text/plain": [
       "np.float64(0.2113506916192026)"
      ]
     },
     "execution_count": 8,
     "metadata": {},
     "output_type": "execute_result"
    }
   ],
   "source": [
    "# 超过2小时的电影的比例\n",
    "movie_2_hours.mean()"
   ]
  },
  {
   "cell_type": "code",
   "execution_count": 9,
   "metadata": {},
   "outputs": [
    {
     "data": {
      "text/plain": [
       "count      4916\n",
       "unique        2\n",
       "top       False\n",
       "freq       3877\n",
       "Name: duration, dtype: object"
      ]
     },
     "execution_count": 9,
     "metadata": {},
     "output_type": "execute_result"
    }
   ],
   "source": [
    "# 用 describe 输出一些该布尔series信息\n",
    "movie_2_hours.describe()"
   ]
  },
  {
   "cell_type": "code",
   "execution_count": 10,
   "metadata": {},
   "outputs": [
    {
     "data": {
      "text/plain": [
       "np.float64(0.21199755152009794)"
      ]
     },
     "execution_count": 10,
     "metadata": {},
     "output_type": "execute_result"
    }
   ],
   "source": [
    "# 实际上，dureation 这列是有缺失值的，要想获得真正的超过两小时的电影的比例，需要先删掉缺失值\n",
    "movie['duration'].dropna().gt(120).mean()  # .gt(120) - 判断每个值是否大于 120（返回布尔值 True/False）"
   ]
  },
  {
   "cell_type": "code",
   "execution_count": 11,
   "metadata": {},
   "outputs": [
    {
     "data": {
      "text/plain": [
       "duration\n",
       "False    0.788649\n",
       "True     0.211351\n",
       "Name: proportion, dtype: float64"
      ]
     },
     "execution_count": 11,
     "metadata": {},
     "output_type": "execute_result"
    }
   ],
   "source": [
    "# 统计fase和true值的比例\n",
    "movie_2_hours.value_counts(normalize=True)  # normalize=True 参数表示返回比例而非绝对计数"
   ]
  },
  {
   "cell_type": "code",
   "execution_count": 12,
   "metadata": {},
   "outputs": [
    {
     "data": {
      "text/plain": [
       "np.float64(0.9777687130328371)"
      ]
     },
     "execution_count": 12,
     "metadata": {},
     "output_type": "execute_result"
    }
   ],
   "source": [
    "# 比较同一个dataframe中的两列\n",
    "actors = movie[['actor1_fb', 'actor2_fb']].dropna()\n",
    "\n",
    "(actors['actor1_fb'] > actors['actor2_fb']).mean()"
   ]
  },
  {
   "cell_type": "markdown",
   "metadata": {},
   "source": [
    "# 构建多个布尔条件"
   ]
  },
  {
   "cell_type": "code",
   "execution_count": 14,
   "metadata": {},
   "outputs": [
    {
     "data": {
      "text/plain": [
       "title\n",
       "Avatar                                         True\n",
       "Pirates of the Caribbean: At World's End       True\n",
       "Spectre                                        True\n",
       "The Dark Knight Rises                          True\n",
       "Star Wars: Episode VII - The Force Awakens    False\n",
       "Name: content_rating, dtype: bool"
      ]
     },
     "execution_count": 14,
     "metadata": {},
     "output_type": "execute_result"
    }
   ],
   "source": [
    "# 创建多个布尔条件\n",
    "criteria1 = movie.imdb_score > 8\n",
    "criteria2 = movie.content_rating == 'PG-13'\n",
    "criteria3 = (movie.year < 2000) | (movie.year >= 2010)\n",
    "\n",
    "criteria2.head()"
   ]
  },
  {
   "cell_type": "code",
   "execution_count": 15,
   "metadata": {},
   "outputs": [
    {
     "data": {
      "text/plain": [
       "title\n",
       "Avatar                                        False\n",
       "Pirates of the Caribbean: At World's End      False\n",
       "Spectre                                       False\n",
       "The Dark Knight Rises                          True\n",
       "Star Wars: Episode VII - The Force Awakens    False\n",
       "dtype: bool"
      ]
     },
     "execution_count": 15,
     "metadata": {},
     "output_type": "execute_result"
    }
   ],
   "source": [
    "# 将这些布尔条件合成一个\n",
    "criteria_final = criteria1 & criteria2 & criteria3\n",
    "criteria_final.head()"
   ]
  },
  {
   "cell_type": "code",
   "execution_count": 16,
   "metadata": {},
   "outputs": [
    {
     "ename": "TypeError",
     "evalue": "Cannot perform 'ror_' with a dtyped [float64] array and scalar of type [bool]",
     "output_type": "error",
     "traceback": [
      "\u001b[1;31m---------------------------------------------------------------------------\u001b[0m",
      "\u001b[1;31mTypeError\u001b[0m                                 Traceback (most recent call last)",
      "File \u001b[1;32md:\\miniconda3\\Lib\\site-packages\\pandas\\core\\ops\\array_ops.py:362\u001b[0m, in \u001b[0;36mna_logical_op\u001b[1;34m(x, y, op)\u001b[0m\n\u001b[0;32m    353\u001b[0m \u001b[38;5;28;01mtry\u001b[39;00m:\n\u001b[0;32m    354\u001b[0m     \u001b[38;5;66;03m# For exposition, write:\u001b[39;00m\n\u001b[0;32m    355\u001b[0m     \u001b[38;5;66;03m#  yarr = isinstance(y, np.ndarray)\u001b[39;00m\n\u001b[1;32m   (...)\u001b[0m\n\u001b[0;32m    360\u001b[0m     \u001b[38;5;66;03m# Then Cases where this goes through without raising include:\u001b[39;00m\n\u001b[0;32m    361\u001b[0m     \u001b[38;5;66;03m#  (xint or xbool) and (yint or bool)\u001b[39;00m\n\u001b[1;32m--> 362\u001b[0m     result \u001b[38;5;241m=\u001b[39m \u001b[43mop\u001b[49m\u001b[43m(\u001b[49m\u001b[43mx\u001b[49m\u001b[43m,\u001b[49m\u001b[43m \u001b[49m\u001b[43my\u001b[49m\u001b[43m)\u001b[49m\n\u001b[0;32m    363\u001b[0m \u001b[38;5;28;01mexcept\u001b[39;00m \u001b[38;5;167;01mTypeError\u001b[39;00m:\n",
      "File \u001b[1;32md:\\miniconda3\\Lib\\site-packages\\pandas\\core\\roperator.py:58\u001b[0m, in \u001b[0;36mror_\u001b[1;34m(left, right)\u001b[0m\n\u001b[0;32m     57\u001b[0m \u001b[38;5;28;01mdef\u001b[39;00m \u001b[38;5;21mror_\u001b[39m(left, right):\n\u001b[1;32m---> 58\u001b[0m     \u001b[38;5;28;01mreturn\u001b[39;00m \u001b[43moperator\u001b[49m\u001b[38;5;241;43m.\u001b[39;49m\u001b[43mor_\u001b[49m\u001b[43m(\u001b[49m\u001b[43mright\u001b[49m\u001b[43m,\u001b[49m\u001b[43m \u001b[49m\u001b[43mleft\u001b[49m\u001b[43m)\u001b[49m\n",
      "\u001b[1;31mTypeError\u001b[0m: ufunc 'bitwise_or' not supported for the input types, and the inputs could not be safely coerced to any supported types according to the casting rule ''safe''",
      "\nDuring handling of the above exception, another exception occurred:\n",
      "\u001b[1;31mValueError\u001b[0m                                Traceback (most recent call last)",
      "File \u001b[1;32md:\\miniconda3\\Lib\\site-packages\\pandas\\core\\ops\\array_ops.py:376\u001b[0m, in \u001b[0;36mna_logical_op\u001b[1;34m(x, y, op)\u001b[0m\n\u001b[0;32m    375\u001b[0m \u001b[38;5;28;01mtry\u001b[39;00m:\n\u001b[1;32m--> 376\u001b[0m     result \u001b[38;5;241m=\u001b[39m \u001b[43mlibops\u001b[49m\u001b[38;5;241;43m.\u001b[39;49m\u001b[43mscalar_binop\u001b[49m\u001b[43m(\u001b[49m\u001b[43mx\u001b[49m\u001b[43m,\u001b[49m\u001b[43m \u001b[49m\u001b[43my\u001b[49m\u001b[43m,\u001b[49m\u001b[43m \u001b[49m\u001b[43mop\u001b[49m\u001b[43m)\u001b[49m\n\u001b[0;32m    377\u001b[0m \u001b[38;5;28;01mexcept\u001b[39;00m (\n\u001b[0;32m    378\u001b[0m     \u001b[38;5;167;01mTypeError\u001b[39;00m,\n\u001b[0;32m    379\u001b[0m     \u001b[38;5;167;01mValueError\u001b[39;00m,\n\u001b[1;32m   (...)\u001b[0m\n\u001b[0;32m    382\u001b[0m     \u001b[38;5;167;01mNotImplementedError\u001b[39;00m,\n\u001b[0;32m    383\u001b[0m ) \u001b[38;5;28;01mas\u001b[39;00m err:\n",
      "File \u001b[1;32mops.pyx:180\u001b[0m, in \u001b[0;36mpandas._libs.ops.scalar_binop\u001b[1;34m()\u001b[0m\n",
      "\u001b[1;31mValueError\u001b[0m: Buffer dtype mismatch, expected 'Python object' but got 'double'",
      "\nThe above exception was the direct cause of the following exception:\n",
      "\u001b[1;31mTypeError\u001b[0m                                 Traceback (most recent call last)",
      "Cell \u001b[1;32mIn[16], line 2\u001b[0m\n\u001b[0;32m      1\u001b[0m \u001b[38;5;66;03m# 在 pandas 中，位运算符 （& | ~）的优先级高于比较运算符，因此如果前面的条件3不加括号，就会报错\u001b[39;00m\n\u001b[1;32m----> 2\u001b[0m criteria3 \u001b[38;5;241m=\u001b[39m movie\u001b[38;5;241m.\u001b[39myear \u001b[38;5;241m<\u001b[39m \u001b[38;5;241;43m2000\u001b[39;49m\u001b[43m \u001b[49m\u001b[38;5;241;43m|\u001b[39;49m\u001b[43m \u001b[49m\u001b[43mmovie\u001b[49m\u001b[38;5;241;43m.\u001b[39;49m\u001b[43myear\u001b[49m \u001b[38;5;241m>\u001b[39m\u001b[38;5;241m=\u001b[39m \u001b[38;5;241m2010\u001b[39m\n",
      "File \u001b[1;32md:\\miniconda3\\Lib\\site-packages\\pandas\\core\\ops\\common.py:76\u001b[0m, in \u001b[0;36m_unpack_zerodim_and_defer.<locals>.new_method\u001b[1;34m(self, other)\u001b[0m\n\u001b[0;32m     72\u001b[0m             \u001b[38;5;28;01mreturn\u001b[39;00m \u001b[38;5;28mNotImplemented\u001b[39m\n\u001b[0;32m     74\u001b[0m other \u001b[38;5;241m=\u001b[39m item_from_zerodim(other)\n\u001b[1;32m---> 76\u001b[0m \u001b[38;5;28;01mreturn\u001b[39;00m \u001b[43mmethod\u001b[49m\u001b[43m(\u001b[49m\u001b[38;5;28;43mself\u001b[39;49m\u001b[43m,\u001b[49m\u001b[43m \u001b[49m\u001b[43mother\u001b[49m\u001b[43m)\u001b[49m\n",
      "File \u001b[1;32md:\\miniconda3\\Lib\\site-packages\\pandas\\core\\arraylike.py:82\u001b[0m, in \u001b[0;36mOpsMixin.__ror__\u001b[1;34m(self, other)\u001b[0m\n\u001b[0;32m     80\u001b[0m \u001b[38;5;129m@unpack_zerodim_and_defer\u001b[39m(\u001b[38;5;124m\"\u001b[39m\u001b[38;5;124m__ror__\u001b[39m\u001b[38;5;124m\"\u001b[39m)\n\u001b[0;32m     81\u001b[0m \u001b[38;5;28;01mdef\u001b[39;00m \u001b[38;5;21m__ror__\u001b[39m(\u001b[38;5;28mself\u001b[39m, other):\n\u001b[1;32m---> 82\u001b[0m     \u001b[38;5;28;01mreturn\u001b[39;00m \u001b[38;5;28;43mself\u001b[39;49m\u001b[38;5;241;43m.\u001b[39;49m\u001b[43m_logical_method\u001b[49m\u001b[43m(\u001b[49m\u001b[43mother\u001b[49m\u001b[43m,\u001b[49m\u001b[43m \u001b[49m\u001b[43mroperator\u001b[49m\u001b[38;5;241;43m.\u001b[39;49m\u001b[43mror_\u001b[49m\u001b[43m)\u001b[49m\n",
      "File \u001b[1;32md:\\miniconda3\\Lib\\site-packages\\pandas\\core\\series.py:6130\u001b[0m, in \u001b[0;36mSeries._logical_method\u001b[1;34m(self, other, op)\u001b[0m\n\u001b[0;32m   6127\u001b[0m lvalues \u001b[38;5;241m=\u001b[39m \u001b[38;5;28mself\u001b[39m\u001b[38;5;241m.\u001b[39m_values\n\u001b[0;32m   6128\u001b[0m rvalues \u001b[38;5;241m=\u001b[39m extract_array(other, extract_numpy\u001b[38;5;241m=\u001b[39m\u001b[38;5;28;01mTrue\u001b[39;00m, extract_range\u001b[38;5;241m=\u001b[39m\u001b[38;5;28;01mTrue\u001b[39;00m)\n\u001b[1;32m-> 6130\u001b[0m res_values \u001b[38;5;241m=\u001b[39m \u001b[43mops\u001b[49m\u001b[38;5;241;43m.\u001b[39;49m\u001b[43mlogical_op\u001b[49m\u001b[43m(\u001b[49m\u001b[43mlvalues\u001b[49m\u001b[43m,\u001b[49m\u001b[43m \u001b[49m\u001b[43mrvalues\u001b[49m\u001b[43m,\u001b[49m\u001b[43m \u001b[49m\u001b[43mop\u001b[49m\u001b[43m)\u001b[49m\n\u001b[0;32m   6131\u001b[0m \u001b[38;5;28;01mreturn\u001b[39;00m \u001b[38;5;28mself\u001b[39m\u001b[38;5;241m.\u001b[39m_construct_result(res_values, name\u001b[38;5;241m=\u001b[39mres_name)\n",
      "File \u001b[1;32md:\\miniconda3\\Lib\\site-packages\\pandas\\core\\ops\\array_ops.py:454\u001b[0m, in \u001b[0;36mlogical_op\u001b[1;34m(left, right, op)\u001b[0m\n\u001b[0;32m    450\u001b[0m \u001b[38;5;28;01melse\u001b[39;00m:\n\u001b[0;32m    451\u001b[0m     \u001b[38;5;66;03m# i.e. scalar\u001b[39;00m\n\u001b[0;32m    452\u001b[0m     is_other_int_dtype \u001b[38;5;241m=\u001b[39m lib\u001b[38;5;241m.\u001b[39mis_integer(rvalues)\n\u001b[1;32m--> 454\u001b[0m res_values \u001b[38;5;241m=\u001b[39m \u001b[43mna_logical_op\u001b[49m\u001b[43m(\u001b[49m\u001b[43mlvalues\u001b[49m\u001b[43m,\u001b[49m\u001b[43m \u001b[49m\u001b[43mrvalues\u001b[49m\u001b[43m,\u001b[49m\u001b[43m \u001b[49m\u001b[43mop\u001b[49m\u001b[43m)\u001b[49m\n\u001b[0;32m    456\u001b[0m \u001b[38;5;66;03m# For int vs int `^`, `|`, `&` are bitwise operators and return\u001b[39;00m\n\u001b[0;32m    457\u001b[0m \u001b[38;5;66;03m#   integer dtypes.  Otherwise these are boolean ops\u001b[39;00m\n\u001b[0;32m    458\u001b[0m \u001b[38;5;28;01mif\u001b[39;00m \u001b[38;5;129;01mnot\u001b[39;00m (left\u001b[38;5;241m.\u001b[39mdtype\u001b[38;5;241m.\u001b[39mkind \u001b[38;5;129;01min\u001b[39;00m \u001b[38;5;124m\"\u001b[39m\u001b[38;5;124miu\u001b[39m\u001b[38;5;124m\"\u001b[39m \u001b[38;5;129;01mand\u001b[39;00m is_other_int_dtype):\n",
      "File \u001b[1;32md:\\miniconda3\\Lib\\site-packages\\pandas\\core\\ops\\array_ops.py:385\u001b[0m, in \u001b[0;36mna_logical_op\u001b[1;34m(x, y, op)\u001b[0m\n\u001b[0;32m    377\u001b[0m         \u001b[38;5;28;01mexcept\u001b[39;00m (\n\u001b[0;32m    378\u001b[0m             \u001b[38;5;167;01mTypeError\u001b[39;00m,\n\u001b[0;32m    379\u001b[0m             \u001b[38;5;167;01mValueError\u001b[39;00m,\n\u001b[1;32m   (...)\u001b[0m\n\u001b[0;32m    382\u001b[0m             \u001b[38;5;167;01mNotImplementedError\u001b[39;00m,\n\u001b[0;32m    383\u001b[0m         ) \u001b[38;5;28;01mas\u001b[39;00m err:\n\u001b[0;32m    384\u001b[0m             typ \u001b[38;5;241m=\u001b[39m \u001b[38;5;28mtype\u001b[39m(y)\u001b[38;5;241m.\u001b[39m\u001b[38;5;18m__name__\u001b[39m\n\u001b[1;32m--> 385\u001b[0m             \u001b[38;5;28;01mraise\u001b[39;00m \u001b[38;5;167;01mTypeError\u001b[39;00m(\n\u001b[0;32m    386\u001b[0m                 \u001b[38;5;124mf\u001b[39m\u001b[38;5;124m\"\u001b[39m\u001b[38;5;124mCannot perform \u001b[39m\u001b[38;5;124m'\u001b[39m\u001b[38;5;132;01m{\u001b[39;00mop\u001b[38;5;241m.\u001b[39m\u001b[38;5;18m__name__\u001b[39m\u001b[38;5;132;01m}\u001b[39;00m\u001b[38;5;124m'\u001b[39m\u001b[38;5;124m with a dtyped [\u001b[39m\u001b[38;5;132;01m{\u001b[39;00mx\u001b[38;5;241m.\u001b[39mdtype\u001b[38;5;132;01m}\u001b[39;00m\u001b[38;5;124m] array \u001b[39m\u001b[38;5;124m\"\u001b[39m\n\u001b[0;32m    387\u001b[0m                 \u001b[38;5;124mf\u001b[39m\u001b[38;5;124m\"\u001b[39m\u001b[38;5;124mand scalar of type [\u001b[39m\u001b[38;5;132;01m{\u001b[39;00mtyp\u001b[38;5;132;01m}\u001b[39;00m\u001b[38;5;124m]\u001b[39m\u001b[38;5;124m\"\u001b[39m\n\u001b[0;32m    388\u001b[0m             ) \u001b[38;5;28;01mfrom\u001b[39;00m \u001b[38;5;21;01merr\u001b[39;00m\n\u001b[0;32m    390\u001b[0m \u001b[38;5;28;01mreturn\u001b[39;00m result\u001b[38;5;241m.\u001b[39mreshape(x\u001b[38;5;241m.\u001b[39mshape)\n",
      "\u001b[1;31mTypeError\u001b[0m: Cannot perform 'ror_' with a dtyped [float64] array and scalar of type [bool]"
     ]
    }
   ],
   "source": [
    "# 在 pandas 中，位运算符 （& | ~）的优先级高于比较运算符，因此如果前面的条件3不加括号，就会报错\n",
    "criteria3 = movie.year < 2000 | movie.year >= 2010  # （movie.year < (2000 | movie.year) >= 2010）"
   ]
  },
  {
   "cell_type": "markdown",
   "metadata": {},
   "source": [
    "## 用布尔索引过滤"
   ]
  },
  {
   "cell_type": "code",
   "execution_count": 18,
   "metadata": {},
   "outputs": [],
   "source": [
    "# 创建布尔条件\n",
    "crit_a1 = movie.imdb_score > 8\n",
    "crit_a2 = movie.content_rating == 'PG-13'\n",
    "crit_a3 = (movie.year < 2000) | (movie.year > 2009)\n",
    "final_crit_a = crit_a1 & crit_a2 & crit_a3"
   ]
  },
  {
   "cell_type": "code",
   "execution_count": 19,
   "metadata": {},
   "outputs": [],
   "source": [
    "# 创建第二个布尔条件\n",
    "crit_b1 = movie.imdb_score < 5\n",
    "crit_b2 = movie.content_rating == 'R'\n",
    "crit_b3 = (movie.year >= 2000) & (movie.year <= 2010)\n",
    "final_crit_b = crit_b1 & crit_b2 & crit_b3"
   ]
  },
  {
   "cell_type": "code",
   "execution_count": 20,
   "metadata": {},
   "outputs": [
    {
     "data": {
      "text/plain": [
       "title\n",
       "Avatar                                        False\n",
       "Pirates of the Caribbean: At World's End      False\n",
       "Spectre                                       False\n",
       "The Dark Knight Rises                          True\n",
       "Star Wars: Episode VII - The Force Awakens    False\n",
       "dtype: bool"
      ]
     },
     "execution_count": 20,
     "metadata": {},
     "output_type": "execute_result"
    }
   ],
   "source": [
    "# 将两个条件用 | 运算符连接起来\n",
    "final_crit_all = final_crit_a | final_crit_b\n",
    "final_crit_all.head()"
   ]
  },
  {
   "cell_type": "code",
   "execution_count": 21,
   "metadata": {},
   "outputs": [
    {
     "data": {
      "text/html": [
       "<div>\n",
       "<style scoped>\n",
       "    .dataframe tbody tr th:only-of-type {\n",
       "        vertical-align: middle;\n",
       "    }\n",
       "\n",
       "    .dataframe tbody tr th {\n",
       "        vertical-align: top;\n",
       "    }\n",
       "\n",
       "    .dataframe thead th {\n",
       "        text-align: right;\n",
       "    }\n",
       "</style>\n",
       "<table border=\"1\" class=\"dataframe\">\n",
       "  <thead>\n",
       "    <tr style=\"text-align: right;\">\n",
       "      <th></th>\n",
       "      <th>year</th>\n",
       "      <th>color</th>\n",
       "      <th>content_rating</th>\n",
       "      <th>duration</th>\n",
       "      <th>director_name</th>\n",
       "      <th>director_fb</th>\n",
       "      <th>actor1</th>\n",
       "      <th>actor1_fb</th>\n",
       "      <th>actor2</th>\n",
       "      <th>actor2_fb</th>\n",
       "      <th>actor3</th>\n",
       "      <th>actor3_fb</th>\n",
       "      <th>gross</th>\n",
       "      <th>genres</th>\n",
       "      <th>num_reviews</th>\n",
       "      <th>num_voted_users</th>\n",
       "      <th>plot_keywords</th>\n",
       "      <th>language</th>\n",
       "      <th>country</th>\n",
       "      <th>budget</th>\n",
       "      <th>imdb_score</th>\n",
       "    </tr>\n",
       "    <tr>\n",
       "      <th>title</th>\n",
       "      <th></th>\n",
       "      <th></th>\n",
       "      <th></th>\n",
       "      <th></th>\n",
       "      <th></th>\n",
       "      <th></th>\n",
       "      <th></th>\n",
       "      <th></th>\n",
       "      <th></th>\n",
       "      <th></th>\n",
       "      <th></th>\n",
       "      <th></th>\n",
       "      <th></th>\n",
       "      <th></th>\n",
       "      <th></th>\n",
       "      <th></th>\n",
       "      <th></th>\n",
       "      <th></th>\n",
       "      <th></th>\n",
       "      <th></th>\n",
       "      <th></th>\n",
       "    </tr>\n",
       "  </thead>\n",
       "  <tbody>\n",
       "    <tr>\n",
       "      <th>The Dark Knight Rises</th>\n",
       "      <td>2012.0</td>\n",
       "      <td>Color</td>\n",
       "      <td>PG-13</td>\n",
       "      <td>164.0</td>\n",
       "      <td>Christopher Nolan</td>\n",
       "      <td>22000.0</td>\n",
       "      <td>Tom Hardy</td>\n",
       "      <td>27000.0</td>\n",
       "      <td>Christian Bale</td>\n",
       "      <td>23000.0</td>\n",
       "      <td>Joseph Gordon-Levitt</td>\n",
       "      <td>23000.0</td>\n",
       "      <td>448130642.0</td>\n",
       "      <td>Action|Thriller</td>\n",
       "      <td>813.0</td>\n",
       "      <td>1144337</td>\n",
       "      <td>deception|imprisonment|lawlessness|police offi...</td>\n",
       "      <td>English</td>\n",
       "      <td>USA</td>\n",
       "      <td>250000000.0</td>\n",
       "      <td>8.5</td>\n",
       "    </tr>\n",
       "    <tr>\n",
       "      <th>The Avengers</th>\n",
       "      <td>2012.0</td>\n",
       "      <td>Color</td>\n",
       "      <td>PG-13</td>\n",
       "      <td>173.0</td>\n",
       "      <td>Joss Whedon</td>\n",
       "      <td>0.0</td>\n",
       "      <td>Chris Hemsworth</td>\n",
       "      <td>26000.0</td>\n",
       "      <td>Robert Downey Jr.</td>\n",
       "      <td>21000.0</td>\n",
       "      <td>Scarlett Johansson</td>\n",
       "      <td>19000.0</td>\n",
       "      <td>623279547.0</td>\n",
       "      <td>Action|Adventure|Sci-Fi</td>\n",
       "      <td>703.0</td>\n",
       "      <td>995415</td>\n",
       "      <td>alien invasion|assassin|battle|iron man|soldier</td>\n",
       "      <td>English</td>\n",
       "      <td>USA</td>\n",
       "      <td>220000000.0</td>\n",
       "      <td>8.1</td>\n",
       "    </tr>\n",
       "    <tr>\n",
       "      <th>Captain America: Civil War</th>\n",
       "      <td>2016.0</td>\n",
       "      <td>Color</td>\n",
       "      <td>PG-13</td>\n",
       "      <td>147.0</td>\n",
       "      <td>Anthony Russo</td>\n",
       "      <td>94.0</td>\n",
       "      <td>Robert Downey Jr.</td>\n",
       "      <td>21000.0</td>\n",
       "      <td>Scarlett Johansson</td>\n",
       "      <td>19000.0</td>\n",
       "      <td>Chris Evans</td>\n",
       "      <td>11000.0</td>\n",
       "      <td>407197282.0</td>\n",
       "      <td>Action|Adventure|Sci-Fi</td>\n",
       "      <td>516.0</td>\n",
       "      <td>272670</td>\n",
       "      <td>based on comic book|knife|marvel cinematic uni...</td>\n",
       "      <td>English</td>\n",
       "      <td>USA</td>\n",
       "      <td>250000000.0</td>\n",
       "      <td>8.2</td>\n",
       "    </tr>\n",
       "    <tr>\n",
       "      <th>Guardians of the Galaxy</th>\n",
       "      <td>2014.0</td>\n",
       "      <td>Color</td>\n",
       "      <td>PG-13</td>\n",
       "      <td>121.0</td>\n",
       "      <td>James Gunn</td>\n",
       "      <td>571.0</td>\n",
       "      <td>Bradley Cooper</td>\n",
       "      <td>14000.0</td>\n",
       "      <td>Vin Diesel</td>\n",
       "      <td>14000.0</td>\n",
       "      <td>Djimon Hounsou</td>\n",
       "      <td>3000.0</td>\n",
       "      <td>333130696.0</td>\n",
       "      <td>Action|Adventure|Sci-Fi</td>\n",
       "      <td>653.0</td>\n",
       "      <td>682155</td>\n",
       "      <td>bounty hunter|outer space|raccoon|talking anim...</td>\n",
       "      <td>English</td>\n",
       "      <td>USA</td>\n",
       "      <td>170000000.0</td>\n",
       "      <td>8.1</td>\n",
       "    </tr>\n",
       "    <tr>\n",
       "      <th>Interstellar</th>\n",
       "      <td>2014.0</td>\n",
       "      <td>Color</td>\n",
       "      <td>PG-13</td>\n",
       "      <td>169.0</td>\n",
       "      <td>Christopher Nolan</td>\n",
       "      <td>22000.0</td>\n",
       "      <td>Matthew McConaughey</td>\n",
       "      <td>11000.0</td>\n",
       "      <td>Anne Hathaway</td>\n",
       "      <td>11000.0</td>\n",
       "      <td>Mackenzie Foy</td>\n",
       "      <td>6000.0</td>\n",
       "      <td>187991439.0</td>\n",
       "      <td>Adventure|Drama|Sci-Fi</td>\n",
       "      <td>712.0</td>\n",
       "      <td>928227</td>\n",
       "      <td>black hole|father daughter relationship|saving...</td>\n",
       "      <td>English</td>\n",
       "      <td>USA</td>\n",
       "      <td>165000000.0</td>\n",
       "      <td>8.6</td>\n",
       "    </tr>\n",
       "  </tbody>\n",
       "</table>\n",
       "</div>"
      ],
      "text/plain": [
       "                              year  color content_rating  duration  \\\n",
       "title                                                                \n",
       "The Dark Knight Rises       2012.0  Color          PG-13     164.0   \n",
       "The Avengers                2012.0  Color          PG-13     173.0   \n",
       "Captain America: Civil War  2016.0  Color          PG-13     147.0   \n",
       "Guardians of the Galaxy     2014.0  Color          PG-13     121.0   \n",
       "Interstellar                2014.0  Color          PG-13     169.0   \n",
       "\n",
       "                                director_name  director_fb  \\\n",
       "title                                                        \n",
       "The Dark Knight Rises       Christopher Nolan      22000.0   \n",
       "The Avengers                      Joss Whedon          0.0   \n",
       "Captain America: Civil War      Anthony Russo         94.0   \n",
       "Guardians of the Galaxy            James Gunn        571.0   \n",
       "Interstellar                Christopher Nolan      22000.0   \n",
       "\n",
       "                                         actor1  actor1_fb  \\\n",
       "title                                                        \n",
       "The Dark Knight Rises                 Tom Hardy    27000.0   \n",
       "The Avengers                    Chris Hemsworth    26000.0   \n",
       "Captain America: Civil War    Robert Downey Jr.    21000.0   \n",
       "Guardians of the Galaxy          Bradley Cooper    14000.0   \n",
       "Interstellar                Matthew McConaughey    11000.0   \n",
       "\n",
       "                                        actor2  actor2_fb  \\\n",
       "title                                                       \n",
       "The Dark Knight Rises           Christian Bale    23000.0   \n",
       "The Avengers                 Robert Downey Jr.    21000.0   \n",
       "Captain America: Civil War  Scarlett Johansson    19000.0   \n",
       "Guardians of the Galaxy             Vin Diesel    14000.0   \n",
       "Interstellar                     Anne Hathaway    11000.0   \n",
       "\n",
       "                                          actor3  actor3_fb        gross  \\\n",
       "title                                                                      \n",
       "The Dark Knight Rises       Joseph Gordon-Levitt    23000.0  448130642.0   \n",
       "The Avengers                  Scarlett Johansson    19000.0  623279547.0   \n",
       "Captain America: Civil War           Chris Evans    11000.0  407197282.0   \n",
       "Guardians of the Galaxy           Djimon Hounsou     3000.0  333130696.0   \n",
       "Interstellar                       Mackenzie Foy     6000.0  187991439.0   \n",
       "\n",
       "                                             genres  num_reviews  \\\n",
       "title                                                              \n",
       "The Dark Knight Rises               Action|Thriller        813.0   \n",
       "The Avengers                Action|Adventure|Sci-Fi        703.0   \n",
       "Captain America: Civil War  Action|Adventure|Sci-Fi        516.0   \n",
       "Guardians of the Galaxy     Action|Adventure|Sci-Fi        653.0   \n",
       "Interstellar                 Adventure|Drama|Sci-Fi        712.0   \n",
       "\n",
       "                            num_voted_users  \\\n",
       "title                                         \n",
       "The Dark Knight Rises               1144337   \n",
       "The Avengers                         995415   \n",
       "Captain America: Civil War           272670   \n",
       "Guardians of the Galaxy              682155   \n",
       "Interstellar                         928227   \n",
       "\n",
       "                                                                plot_keywords  \\\n",
       "title                                                                           \n",
       "The Dark Knight Rises       deception|imprisonment|lawlessness|police offi...   \n",
       "The Avengers                  alien invasion|assassin|battle|iron man|soldier   \n",
       "Captain America: Civil War  based on comic book|knife|marvel cinematic uni...   \n",
       "Guardians of the Galaxy     bounty hunter|outer space|raccoon|talking anim...   \n",
       "Interstellar                black hole|father daughter relationship|saving...   \n",
       "\n",
       "                           language country       budget  imdb_score  \n",
       "title                                                                 \n",
       "The Dark Knight Rises       English     USA  250000000.0         8.5  \n",
       "The Avengers                English     USA  220000000.0         8.1  \n",
       "Captain America: Civil War  English     USA  250000000.0         8.2  \n",
       "Guardians of the Galaxy     English     USA  170000000.0         8.1  \n",
       "Interstellar                English     USA  165000000.0         8.6  "
      ]
     },
     "execution_count": 21,
     "metadata": {},
     "output_type": "execute_result"
    }
   ],
   "source": [
    "# 用最终的布尔条件过滤数据\n",
    "movie[final_crit_all].head()"
   ]
  },
  {
   "cell_type": "code",
   "execution_count": 22,
   "metadata": {},
   "outputs": [
    {
     "data": {
      "text/html": [
       "<div>\n",
       "<style scoped>\n",
       "    .dataframe tbody tr th:only-of-type {\n",
       "        vertical-align: middle;\n",
       "    }\n",
       "\n",
       "    .dataframe tbody tr th {\n",
       "        vertical-align: top;\n",
       "    }\n",
       "\n",
       "    .dataframe thead th {\n",
       "        text-align: right;\n",
       "    }\n",
       "</style>\n",
       "<table border=\"1\" class=\"dataframe\">\n",
       "  <thead>\n",
       "    <tr style=\"text-align: right;\">\n",
       "      <th></th>\n",
       "      <th>imdb_score</th>\n",
       "      <th>content_rating</th>\n",
       "      <th>year</th>\n",
       "    </tr>\n",
       "    <tr>\n",
       "      <th>title</th>\n",
       "      <th></th>\n",
       "      <th></th>\n",
       "      <th></th>\n",
       "    </tr>\n",
       "  </thead>\n",
       "  <tbody>\n",
       "    <tr>\n",
       "      <th>The Dark Knight Rises</th>\n",
       "      <td>8.5</td>\n",
       "      <td>PG-13</td>\n",
       "      <td>2012.0</td>\n",
       "    </tr>\n",
       "    <tr>\n",
       "      <th>The Avengers</th>\n",
       "      <td>8.1</td>\n",
       "      <td>PG-13</td>\n",
       "      <td>2012.0</td>\n",
       "    </tr>\n",
       "    <tr>\n",
       "      <th>Captain America: Civil War</th>\n",
       "      <td>8.2</td>\n",
       "      <td>PG-13</td>\n",
       "      <td>2016.0</td>\n",
       "    </tr>\n",
       "    <tr>\n",
       "      <th>Guardians of the Galaxy</th>\n",
       "      <td>8.1</td>\n",
       "      <td>PG-13</td>\n",
       "      <td>2014.0</td>\n",
       "    </tr>\n",
       "    <tr>\n",
       "      <th>Interstellar</th>\n",
       "      <td>8.6</td>\n",
       "      <td>PG-13</td>\n",
       "      <td>2014.0</td>\n",
       "    </tr>\n",
       "  </tbody>\n",
       "</table>\n",
       "</div>"
      ],
      "text/plain": [
       "                            imdb_score content_rating    year\n",
       "title                                                        \n",
       "The Dark Knight Rises              8.5          PG-13  2012.0\n",
       "The Avengers                       8.1          PG-13  2012.0\n",
       "Captain America: Civil War         8.2          PG-13  2016.0\n",
       "Guardians of the Galaxy            8.1          PG-13  2014.0\n",
       "Interstellar                       8.6          PG-13  2014.0"
      ]
     },
     "execution_count": 22,
     "metadata": {},
     "output_type": "execute_result"
    }
   ],
   "source": [
    "# 使用 loc，对指定的列做过滤操作，可以清楚的看到过滤是否起作用\n",
    "cols = ['imdb_score', 'content_rating', 'year']\n",
    "movie_filtered = movie.loc[final_crit_all, cols]\n",
    "movie_filtered.head()"
   ]
  },
  {
   "cell_type": "code",
   "execution_count": 26,
   "metadata": {},
   "outputs": [
    {
     "data": {
      "text/plain": [
       "True"
      ]
     },
     "execution_count": 26,
     "metadata": {},
     "output_type": "execute_result"
    }
   ],
   "source": [
    "# 用一个场部二表达式代替前面由短布尔表达式生成的布尔条件\n",
    "final_crit_a2 = (movie.imdb_score > 8) & \\\n",
    "      (movie.content_rating == 'PG-13') & \\\n",
    "      ((movie.year < 2000) | (movie.year > 2009))\n",
    "final_crit_a2.equals(final_crit_a)\n"
   ]
  }
 ],
 "metadata": {
  "kernelspec": {
   "display_name": "base",
   "language": "python",
   "name": "python3"
  },
  "language_info": {
   "codemirror_mode": {
    "name": "ipython",
    "version": 3
   },
   "file_extension": ".py",
   "mimetype": "text/x-python",
   "name": "python",
   "nbconvert_exporter": "python",
   "pygments_lexer": "ipython3",
   "version": "3.12.3"
  }
 },
 "nbformat": 4,
 "nbformat_minor": 2
}
